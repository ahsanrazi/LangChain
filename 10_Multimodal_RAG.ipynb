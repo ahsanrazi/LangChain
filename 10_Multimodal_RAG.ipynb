{
  "nbformat": 4,
  "nbformat_minor": 0,
  "metadata": {
    "colab": {
      "provenance": [],
      "gpuType": "T4",
      "authorship_tag": "ABX9TyO+/honvHxvWODTOppZ3ihT",
      "include_colab_link": true
    },
    "kernelspec": {
      "name": "python3",
      "display_name": "Python 3"
    },
    "language_info": {
      "name": "python"
    },
    "accelerator": "GPU",
    "widgets": {
      "application/vnd.jupyter.widget-state+json": {
        "a9319a4aeb8a4ef98ee10087da14b670": {
          "model_module": "@jupyter-widgets/controls",
          "model_name": "HBoxModel",
          "model_module_version": "1.5.0",
          "state": {
            "_dom_classes": [],
            "_model_module": "@jupyter-widgets/controls",
            "_model_module_version": "1.5.0",
            "_model_name": "HBoxModel",
            "_view_count": null,
            "_view_module": "@jupyter-widgets/controls",
            "_view_module_version": "1.5.0",
            "_view_name": "HBoxView",
            "box_style": "",
            "children": [
              "IPY_MODEL_8272dc5150934da4bc793d175fca2ee1",
              "IPY_MODEL_f86ce60e05cd4943941fbc94767a771c",
              "IPY_MODEL_a13383313c60486d87465ce187785026"
            ],
            "layout": "IPY_MODEL_3feddf849d0048b3ab80bf7a6f4fee18"
          }
        },
        "8272dc5150934da4bc793d175fca2ee1": {
          "model_module": "@jupyter-widgets/controls",
          "model_name": "HTMLModel",
          "model_module_version": "1.5.0",
          "state": {
            "_dom_classes": [],
            "_model_module": "@jupyter-widgets/controls",
            "_model_module_version": "1.5.0",
            "_model_name": "HTMLModel",
            "_view_count": null,
            "_view_module": "@jupyter-widgets/controls",
            "_view_module_version": "1.5.0",
            "_view_name": "HTMLView",
            "description": "",
            "description_tooltip": null,
            "layout": "IPY_MODEL_8f8f8df5845647d0a913bb23981074db",
            "placeholder": "​",
            "style": "IPY_MODEL_943f600d21004bf4b0c69063b0f6a7df",
            "value": ""
          }
        },
        "f86ce60e05cd4943941fbc94767a771c": {
          "model_module": "@jupyter-widgets/controls",
          "model_name": "FloatProgressModel",
          "model_module_version": "1.5.0",
          "state": {
            "_dom_classes": [],
            "_model_module": "@jupyter-widgets/controls",
            "_model_module_version": "1.5.0",
            "_model_name": "FloatProgressModel",
            "_view_count": null,
            "_view_module": "@jupyter-widgets/controls",
            "_view_module_version": "1.5.0",
            "_view_name": "ProgressView",
            "bar_style": "success",
            "description": "",
            "description_tooltip": null,
            "layout": "IPY_MODEL_433987d3866c48ce811f6cc4351a6515",
            "max": 1,
            "min": 0,
            "orientation": "horizontal",
            "style": "IPY_MODEL_4acf058e2d0c4e49b5dc7e279157a279",
            "value": 0
          }
        },
        "a13383313c60486d87465ce187785026": {
          "model_module": "@jupyter-widgets/controls",
          "model_name": "HTMLModel",
          "model_module_version": "1.5.0",
          "state": {
            "_dom_classes": [],
            "_model_module": "@jupyter-widgets/controls",
            "_model_module_version": "1.5.0",
            "_model_name": "HTMLModel",
            "_view_count": null,
            "_view_module": "@jupyter-widgets/controls",
            "_view_module_version": "1.5.0",
            "_view_name": "HTMLView",
            "description": "",
            "description_tooltip": null,
            "layout": "IPY_MODEL_ecc6bf34c1eb4e4bb2fedac3a517d79f",
            "placeholder": "​",
            "style": "IPY_MODEL_1a2757b0c99f42bd98b73868e5bc46a7",
            "value": " 0/0 [00:00&lt;?, ?it/s]"
          }
        },
        "3feddf849d0048b3ab80bf7a6f4fee18": {
          "model_module": "@jupyter-widgets/base",
          "model_name": "LayoutModel",
          "model_module_version": "1.2.0",
          "state": {
            "_model_module": "@jupyter-widgets/base",
            "_model_module_version": "1.2.0",
            "_model_name": "LayoutModel",
            "_view_count": null,
            "_view_module": "@jupyter-widgets/base",
            "_view_module_version": "1.2.0",
            "_view_name": "LayoutView",
            "align_content": null,
            "align_items": null,
            "align_self": null,
            "border": null,
            "bottom": null,
            "display": null,
            "flex": null,
            "flex_flow": null,
            "grid_area": null,
            "grid_auto_columns": null,
            "grid_auto_flow": null,
            "grid_auto_rows": null,
            "grid_column": null,
            "grid_gap": null,
            "grid_row": null,
            "grid_template_areas": null,
            "grid_template_columns": null,
            "grid_template_rows": null,
            "height": null,
            "justify_content": null,
            "justify_items": null,
            "left": null,
            "margin": null,
            "max_height": null,
            "max_width": null,
            "min_height": null,
            "min_width": null,
            "object_fit": null,
            "object_position": null,
            "order": null,
            "overflow": null,
            "overflow_x": null,
            "overflow_y": null,
            "padding": null,
            "right": null,
            "top": null,
            "visibility": null,
            "width": null
          }
        },
        "8f8f8df5845647d0a913bb23981074db": {
          "model_module": "@jupyter-widgets/base",
          "model_name": "LayoutModel",
          "model_module_version": "1.2.0",
          "state": {
            "_model_module": "@jupyter-widgets/base",
            "_model_module_version": "1.2.0",
            "_model_name": "LayoutModel",
            "_view_count": null,
            "_view_module": "@jupyter-widgets/base",
            "_view_module_version": "1.2.0",
            "_view_name": "LayoutView",
            "align_content": null,
            "align_items": null,
            "align_self": null,
            "border": null,
            "bottom": null,
            "display": null,
            "flex": null,
            "flex_flow": null,
            "grid_area": null,
            "grid_auto_columns": null,
            "grid_auto_flow": null,
            "grid_auto_rows": null,
            "grid_column": null,
            "grid_gap": null,
            "grid_row": null,
            "grid_template_areas": null,
            "grid_template_columns": null,
            "grid_template_rows": null,
            "height": null,
            "justify_content": null,
            "justify_items": null,
            "left": null,
            "margin": null,
            "max_height": null,
            "max_width": null,
            "min_height": null,
            "min_width": null,
            "object_fit": null,
            "object_position": null,
            "order": null,
            "overflow": null,
            "overflow_x": null,
            "overflow_y": null,
            "padding": null,
            "right": null,
            "top": null,
            "visibility": null,
            "width": null
          }
        },
        "943f600d21004bf4b0c69063b0f6a7df": {
          "model_module": "@jupyter-widgets/controls",
          "model_name": "DescriptionStyleModel",
          "model_module_version": "1.5.0",
          "state": {
            "_model_module": "@jupyter-widgets/controls",
            "_model_module_version": "1.5.0",
            "_model_name": "DescriptionStyleModel",
            "_view_count": null,
            "_view_module": "@jupyter-widgets/base",
            "_view_module_version": "1.2.0",
            "_view_name": "StyleView",
            "description_width": ""
          }
        },
        "433987d3866c48ce811f6cc4351a6515": {
          "model_module": "@jupyter-widgets/base",
          "model_name": "LayoutModel",
          "model_module_version": "1.2.0",
          "state": {
            "_model_module": "@jupyter-widgets/base",
            "_model_module_version": "1.2.0",
            "_model_name": "LayoutModel",
            "_view_count": null,
            "_view_module": "@jupyter-widgets/base",
            "_view_module_version": "1.2.0",
            "_view_name": "LayoutView",
            "align_content": null,
            "align_items": null,
            "align_self": null,
            "border": null,
            "bottom": null,
            "display": null,
            "flex": null,
            "flex_flow": null,
            "grid_area": null,
            "grid_auto_columns": null,
            "grid_auto_flow": null,
            "grid_auto_rows": null,
            "grid_column": null,
            "grid_gap": null,
            "grid_row": null,
            "grid_template_areas": null,
            "grid_template_columns": null,
            "grid_template_rows": null,
            "height": null,
            "justify_content": null,
            "justify_items": null,
            "left": null,
            "margin": null,
            "max_height": null,
            "max_width": null,
            "min_height": null,
            "min_width": null,
            "object_fit": null,
            "object_position": null,
            "order": null,
            "overflow": null,
            "overflow_x": null,
            "overflow_y": null,
            "padding": null,
            "right": null,
            "top": null,
            "visibility": null,
            "width": "20px"
          }
        },
        "4acf058e2d0c4e49b5dc7e279157a279": {
          "model_module": "@jupyter-widgets/controls",
          "model_name": "ProgressStyleModel",
          "model_module_version": "1.5.0",
          "state": {
            "_model_module": "@jupyter-widgets/controls",
            "_model_module_version": "1.5.0",
            "_model_name": "ProgressStyleModel",
            "_view_count": null,
            "_view_module": "@jupyter-widgets/base",
            "_view_module_version": "1.2.0",
            "_view_name": "StyleView",
            "bar_color": null,
            "description_width": ""
          }
        },
        "ecc6bf34c1eb4e4bb2fedac3a517d79f": {
          "model_module": "@jupyter-widgets/base",
          "model_name": "LayoutModel",
          "model_module_version": "1.2.0",
          "state": {
            "_model_module": "@jupyter-widgets/base",
            "_model_module_version": "1.2.0",
            "_model_name": "LayoutModel",
            "_view_count": null,
            "_view_module": "@jupyter-widgets/base",
            "_view_module_version": "1.2.0",
            "_view_name": "LayoutView",
            "align_content": null,
            "align_items": null,
            "align_self": null,
            "border": null,
            "bottom": null,
            "display": null,
            "flex": null,
            "flex_flow": null,
            "grid_area": null,
            "grid_auto_columns": null,
            "grid_auto_flow": null,
            "grid_auto_rows": null,
            "grid_column": null,
            "grid_gap": null,
            "grid_row": null,
            "grid_template_areas": null,
            "grid_template_columns": null,
            "grid_template_rows": null,
            "height": null,
            "justify_content": null,
            "justify_items": null,
            "left": null,
            "margin": null,
            "max_height": null,
            "max_width": null,
            "min_height": null,
            "min_width": null,
            "object_fit": null,
            "object_position": null,
            "order": null,
            "overflow": null,
            "overflow_x": null,
            "overflow_y": null,
            "padding": null,
            "right": null,
            "top": null,
            "visibility": null,
            "width": null
          }
        },
        "1a2757b0c99f42bd98b73868e5bc46a7": {
          "model_module": "@jupyter-widgets/controls",
          "model_name": "DescriptionStyleModel",
          "model_module_version": "1.5.0",
          "state": {
            "_model_module": "@jupyter-widgets/controls",
            "_model_module_version": "1.5.0",
            "_model_name": "DescriptionStyleModel",
            "_view_count": null,
            "_view_module": "@jupyter-widgets/base",
            "_view_module_version": "1.2.0",
            "_view_name": "StyleView",
            "description_width": ""
          }
        },
        "9729470229364d29a658265a6ea579d6": {
          "model_module": "@jupyter-widgets/controls",
          "model_name": "HBoxModel",
          "model_module_version": "1.5.0",
          "state": {
            "_dom_classes": [],
            "_model_module": "@jupyter-widgets/controls",
            "_model_module_version": "1.5.0",
            "_model_name": "HBoxModel",
            "_view_count": null,
            "_view_module": "@jupyter-widgets/controls",
            "_view_module_version": "1.5.0",
            "_view_name": "HBoxView",
            "box_style": "",
            "children": [
              "IPY_MODEL_a37a37800fcf4cec814a16cccf180856",
              "IPY_MODEL_1f8599d7c7f64bb2aa43754ca390c567",
              "IPY_MODEL_324ac76838db426a8d37b58d3584ed45"
            ],
            "layout": "IPY_MODEL_8da59e24c9054159a6b0b26ccb36c430"
          }
        },
        "a37a37800fcf4cec814a16cccf180856": {
          "model_module": "@jupyter-widgets/controls",
          "model_name": "HTMLModel",
          "model_module_version": "1.5.0",
          "state": {
            "_dom_classes": [],
            "_model_module": "@jupyter-widgets/controls",
            "_model_module_version": "1.5.0",
            "_model_name": "HTMLModel",
            "_view_count": null,
            "_view_module": "@jupyter-widgets/controls",
            "_view_module_version": "1.5.0",
            "_view_name": "HTMLView",
            "description": "",
            "description_tooltip": null,
            "layout": "IPY_MODEL_944e8d180a6e45b2944ef882d979178f",
            "placeholder": "​",
            "style": "IPY_MODEL_cdfff73dd1264f59a77dd1e98f7b6655",
            "value": "config.json: 100%"
          }
        },
        "1f8599d7c7f64bb2aa43754ca390c567": {
          "model_module": "@jupyter-widgets/controls",
          "model_name": "FloatProgressModel",
          "model_module_version": "1.5.0",
          "state": {
            "_dom_classes": [],
            "_model_module": "@jupyter-widgets/controls",
            "_model_module_version": "1.5.0",
            "_model_name": "FloatProgressModel",
            "_view_count": null,
            "_view_module": "@jupyter-widgets/controls",
            "_view_module_version": "1.5.0",
            "_view_name": "ProgressView",
            "bar_style": "success",
            "description": "",
            "description_tooltip": null,
            "layout": "IPY_MODEL_3cfedff5029543cbb7fc5ad4c65364ae",
            "max": 1469,
            "min": 0,
            "orientation": "horizontal",
            "style": "IPY_MODEL_f8998eb5e3be40b5b805796d53da81b1",
            "value": 1469
          }
        },
        "324ac76838db426a8d37b58d3584ed45": {
          "model_module": "@jupyter-widgets/controls",
          "model_name": "HTMLModel",
          "model_module_version": "1.5.0",
          "state": {
            "_dom_classes": [],
            "_model_module": "@jupyter-widgets/controls",
            "_model_module_version": "1.5.0",
            "_model_name": "HTMLModel",
            "_view_count": null,
            "_view_module": "@jupyter-widgets/controls",
            "_view_module_version": "1.5.0",
            "_view_name": "HTMLView",
            "description": "",
            "description_tooltip": null,
            "layout": "IPY_MODEL_5114fb97975e47ba8b509f57b1c72c16",
            "placeholder": "​",
            "style": "IPY_MODEL_360c52ab588643ffb5a66b7df608d7bc",
            "value": " 1.47k/1.47k [00:00&lt;00:00, 122kB/s]"
          }
        },
        "8da59e24c9054159a6b0b26ccb36c430": {
          "model_module": "@jupyter-widgets/base",
          "model_name": "LayoutModel",
          "model_module_version": "1.2.0",
          "state": {
            "_model_module": "@jupyter-widgets/base",
            "_model_module_version": "1.2.0",
            "_model_name": "LayoutModel",
            "_view_count": null,
            "_view_module": "@jupyter-widgets/base",
            "_view_module_version": "1.2.0",
            "_view_name": "LayoutView",
            "align_content": null,
            "align_items": null,
            "align_self": null,
            "border": null,
            "bottom": null,
            "display": null,
            "flex": null,
            "flex_flow": null,
            "grid_area": null,
            "grid_auto_columns": null,
            "grid_auto_flow": null,
            "grid_auto_rows": null,
            "grid_column": null,
            "grid_gap": null,
            "grid_row": null,
            "grid_template_areas": null,
            "grid_template_columns": null,
            "grid_template_rows": null,
            "height": null,
            "justify_content": null,
            "justify_items": null,
            "left": null,
            "margin": null,
            "max_height": null,
            "max_width": null,
            "min_height": null,
            "min_width": null,
            "object_fit": null,
            "object_position": null,
            "order": null,
            "overflow": null,
            "overflow_x": null,
            "overflow_y": null,
            "padding": null,
            "right": null,
            "top": null,
            "visibility": null,
            "width": null
          }
        },
        "944e8d180a6e45b2944ef882d979178f": {
          "model_module": "@jupyter-widgets/base",
          "model_name": "LayoutModel",
          "model_module_version": "1.2.0",
          "state": {
            "_model_module": "@jupyter-widgets/base",
            "_model_module_version": "1.2.0",
            "_model_name": "LayoutModel",
            "_view_count": null,
            "_view_module": "@jupyter-widgets/base",
            "_view_module_version": "1.2.0",
            "_view_name": "LayoutView",
            "align_content": null,
            "align_items": null,
            "align_self": null,
            "border": null,
            "bottom": null,
            "display": null,
            "flex": null,
            "flex_flow": null,
            "grid_area": null,
            "grid_auto_columns": null,
            "grid_auto_flow": null,
            "grid_auto_rows": null,
            "grid_column": null,
            "grid_gap": null,
            "grid_row": null,
            "grid_template_areas": null,
            "grid_template_columns": null,
            "grid_template_rows": null,
            "height": null,
            "justify_content": null,
            "justify_items": null,
            "left": null,
            "margin": null,
            "max_height": null,
            "max_width": null,
            "min_height": null,
            "min_width": null,
            "object_fit": null,
            "object_position": null,
            "order": null,
            "overflow": null,
            "overflow_x": null,
            "overflow_y": null,
            "padding": null,
            "right": null,
            "top": null,
            "visibility": null,
            "width": null
          }
        },
        "cdfff73dd1264f59a77dd1e98f7b6655": {
          "model_module": "@jupyter-widgets/controls",
          "model_name": "DescriptionStyleModel",
          "model_module_version": "1.5.0",
          "state": {
            "_model_module": "@jupyter-widgets/controls",
            "_model_module_version": "1.5.0",
            "_model_name": "DescriptionStyleModel",
            "_view_count": null,
            "_view_module": "@jupyter-widgets/base",
            "_view_module_version": "1.2.0",
            "_view_name": "StyleView",
            "description_width": ""
          }
        },
        "3cfedff5029543cbb7fc5ad4c65364ae": {
          "model_module": "@jupyter-widgets/base",
          "model_name": "LayoutModel",
          "model_module_version": "1.2.0",
          "state": {
            "_model_module": "@jupyter-widgets/base",
            "_model_module_version": "1.2.0",
            "_model_name": "LayoutModel",
            "_view_count": null,
            "_view_module": "@jupyter-widgets/base",
            "_view_module_version": "1.2.0",
            "_view_name": "LayoutView",
            "align_content": null,
            "align_items": null,
            "align_self": null,
            "border": null,
            "bottom": null,
            "display": null,
            "flex": null,
            "flex_flow": null,
            "grid_area": null,
            "grid_auto_columns": null,
            "grid_auto_flow": null,
            "grid_auto_rows": null,
            "grid_column": null,
            "grid_gap": null,
            "grid_row": null,
            "grid_template_areas": null,
            "grid_template_columns": null,
            "grid_template_rows": null,
            "height": null,
            "justify_content": null,
            "justify_items": null,
            "left": null,
            "margin": null,
            "max_height": null,
            "max_width": null,
            "min_height": null,
            "min_width": null,
            "object_fit": null,
            "object_position": null,
            "order": null,
            "overflow": null,
            "overflow_x": null,
            "overflow_y": null,
            "padding": null,
            "right": null,
            "top": null,
            "visibility": null,
            "width": null
          }
        },
        "f8998eb5e3be40b5b805796d53da81b1": {
          "model_module": "@jupyter-widgets/controls",
          "model_name": "ProgressStyleModel",
          "model_module_version": "1.5.0",
          "state": {
            "_model_module": "@jupyter-widgets/controls",
            "_model_module_version": "1.5.0",
            "_model_name": "ProgressStyleModel",
            "_view_count": null,
            "_view_module": "@jupyter-widgets/base",
            "_view_module_version": "1.2.0",
            "_view_name": "StyleView",
            "bar_color": null,
            "description_width": ""
          }
        },
        "5114fb97975e47ba8b509f57b1c72c16": {
          "model_module": "@jupyter-widgets/base",
          "model_name": "LayoutModel",
          "model_module_version": "1.2.0",
          "state": {
            "_model_module": "@jupyter-widgets/base",
            "_model_module_version": "1.2.0",
            "_model_name": "LayoutModel",
            "_view_count": null,
            "_view_module": "@jupyter-widgets/base",
            "_view_module_version": "1.2.0",
            "_view_name": "LayoutView",
            "align_content": null,
            "align_items": null,
            "align_self": null,
            "border": null,
            "bottom": null,
            "display": null,
            "flex": null,
            "flex_flow": null,
            "grid_area": null,
            "grid_auto_columns": null,
            "grid_auto_flow": null,
            "grid_auto_rows": null,
            "grid_column": null,
            "grid_gap": null,
            "grid_row": null,
            "grid_template_areas": null,
            "grid_template_columns": null,
            "grid_template_rows": null,
            "height": null,
            "justify_content": null,
            "justify_items": null,
            "left": null,
            "margin": null,
            "max_height": null,
            "max_width": null,
            "min_height": null,
            "min_width": null,
            "object_fit": null,
            "object_position": null,
            "order": null,
            "overflow": null,
            "overflow_x": null,
            "overflow_y": null,
            "padding": null,
            "right": null,
            "top": null,
            "visibility": null,
            "width": null
          }
        },
        "360c52ab588643ffb5a66b7df608d7bc": {
          "model_module": "@jupyter-widgets/controls",
          "model_name": "DescriptionStyleModel",
          "model_module_version": "1.5.0",
          "state": {
            "_model_module": "@jupyter-widgets/controls",
            "_model_module_version": "1.5.0",
            "_model_name": "DescriptionStyleModel",
            "_view_count": null,
            "_view_module": "@jupyter-widgets/base",
            "_view_module_version": "1.2.0",
            "_view_name": "StyleView",
            "description_width": ""
          }
        },
        "def7d7893cf7472dadd30f4d14527490": {
          "model_module": "@jupyter-widgets/controls",
          "model_name": "HBoxModel",
          "model_module_version": "1.5.0",
          "state": {
            "_dom_classes": [],
            "_model_module": "@jupyter-widgets/controls",
            "_model_module_version": "1.5.0",
            "_model_name": "HBoxModel",
            "_view_count": null,
            "_view_module": "@jupyter-widgets/controls",
            "_view_module_version": "1.5.0",
            "_view_name": "HBoxView",
            "box_style": "",
            "children": [
              "IPY_MODEL_ca290f329e1644cf87a67e1d9d63aec3",
              "IPY_MODEL_a95c77df41ce42498291303ad29da258",
              "IPY_MODEL_9a38c69e51ec49ce8b40220fd8881be2"
            ],
            "layout": "IPY_MODEL_0f12bd98c0a54ff4817367fea8bd8348"
          }
        },
        "ca290f329e1644cf87a67e1d9d63aec3": {
          "model_module": "@jupyter-widgets/controls",
          "model_name": "HTMLModel",
          "model_module_version": "1.5.0",
          "state": {
            "_dom_classes": [],
            "_model_module": "@jupyter-widgets/controls",
            "_model_module_version": "1.5.0",
            "_model_name": "HTMLModel",
            "_view_count": null,
            "_view_module": "@jupyter-widgets/controls",
            "_view_module_version": "1.5.0",
            "_view_name": "HTMLView",
            "description": "",
            "description_tooltip": null,
            "layout": "IPY_MODEL_a370e1598515471ea70246d6d46cda9c",
            "placeholder": "​",
            "style": "IPY_MODEL_bf1902e4977047e6bb0256a466ad190b",
            "value": "model.safetensors: 100%"
          }
        },
        "a95c77df41ce42498291303ad29da258": {
          "model_module": "@jupyter-widgets/controls",
          "model_name": "FloatProgressModel",
          "model_module_version": "1.5.0",
          "state": {
            "_dom_classes": [],
            "_model_module": "@jupyter-widgets/controls",
            "_model_module_version": "1.5.0",
            "_model_name": "FloatProgressModel",
            "_view_count": null,
            "_view_module": "@jupyter-widgets/controls",
            "_view_module_version": "1.5.0",
            "_view_name": "ProgressView",
            "bar_style": "success",
            "description": "",
            "description_tooltip": null,
            "layout": "IPY_MODEL_cb5148bf522c49489ec0c6895da20788",
            "max": 115434268,
            "min": 0,
            "orientation": "horizontal",
            "style": "IPY_MODEL_7f04b3e0f47441bb95dbb4a1fe1dd771",
            "value": 115434268
          }
        },
        "9a38c69e51ec49ce8b40220fd8881be2": {
          "model_module": "@jupyter-widgets/controls",
          "model_name": "HTMLModel",
          "model_module_version": "1.5.0",
          "state": {
            "_dom_classes": [],
            "_model_module": "@jupyter-widgets/controls",
            "_model_module_version": "1.5.0",
            "_model_name": "HTMLModel",
            "_view_count": null,
            "_view_module": "@jupyter-widgets/controls",
            "_view_module_version": "1.5.0",
            "_view_name": "HTMLView",
            "description": "",
            "description_tooltip": null,
            "layout": "IPY_MODEL_54b2fa3545854421af40250f8e102d73",
            "placeholder": "​",
            "style": "IPY_MODEL_790c799ca4f04bb3aedc926ca45bcddd",
            "value": " 115M/115M [00:00&lt;00:00, 203MB/s]"
          }
        },
        "0f12bd98c0a54ff4817367fea8bd8348": {
          "model_module": "@jupyter-widgets/base",
          "model_name": "LayoutModel",
          "model_module_version": "1.2.0",
          "state": {
            "_model_module": "@jupyter-widgets/base",
            "_model_module_version": "1.2.0",
            "_model_name": "LayoutModel",
            "_view_count": null,
            "_view_module": "@jupyter-widgets/base",
            "_view_module_version": "1.2.0",
            "_view_name": "LayoutView",
            "align_content": null,
            "align_items": null,
            "align_self": null,
            "border": null,
            "bottom": null,
            "display": null,
            "flex": null,
            "flex_flow": null,
            "grid_area": null,
            "grid_auto_columns": null,
            "grid_auto_flow": null,
            "grid_auto_rows": null,
            "grid_column": null,
            "grid_gap": null,
            "grid_row": null,
            "grid_template_areas": null,
            "grid_template_columns": null,
            "grid_template_rows": null,
            "height": null,
            "justify_content": null,
            "justify_items": null,
            "left": null,
            "margin": null,
            "max_height": null,
            "max_width": null,
            "min_height": null,
            "min_width": null,
            "object_fit": null,
            "object_position": null,
            "order": null,
            "overflow": null,
            "overflow_x": null,
            "overflow_y": null,
            "padding": null,
            "right": null,
            "top": null,
            "visibility": null,
            "width": null
          }
        },
        "a370e1598515471ea70246d6d46cda9c": {
          "model_module": "@jupyter-widgets/base",
          "model_name": "LayoutModel",
          "model_module_version": "1.2.0",
          "state": {
            "_model_module": "@jupyter-widgets/base",
            "_model_module_version": "1.2.0",
            "_model_name": "LayoutModel",
            "_view_count": null,
            "_view_module": "@jupyter-widgets/base",
            "_view_module_version": "1.2.0",
            "_view_name": "LayoutView",
            "align_content": null,
            "align_items": null,
            "align_self": null,
            "border": null,
            "bottom": null,
            "display": null,
            "flex": null,
            "flex_flow": null,
            "grid_area": null,
            "grid_auto_columns": null,
            "grid_auto_flow": null,
            "grid_auto_rows": null,
            "grid_column": null,
            "grid_gap": null,
            "grid_row": null,
            "grid_template_areas": null,
            "grid_template_columns": null,
            "grid_template_rows": null,
            "height": null,
            "justify_content": null,
            "justify_items": null,
            "left": null,
            "margin": null,
            "max_height": null,
            "max_width": null,
            "min_height": null,
            "min_width": null,
            "object_fit": null,
            "object_position": null,
            "order": null,
            "overflow": null,
            "overflow_x": null,
            "overflow_y": null,
            "padding": null,
            "right": null,
            "top": null,
            "visibility": null,
            "width": null
          }
        },
        "bf1902e4977047e6bb0256a466ad190b": {
          "model_module": "@jupyter-widgets/controls",
          "model_name": "DescriptionStyleModel",
          "model_module_version": "1.5.0",
          "state": {
            "_model_module": "@jupyter-widgets/controls",
            "_model_module_version": "1.5.0",
            "_model_name": "DescriptionStyleModel",
            "_view_count": null,
            "_view_module": "@jupyter-widgets/base",
            "_view_module_version": "1.2.0",
            "_view_name": "StyleView",
            "description_width": ""
          }
        },
        "cb5148bf522c49489ec0c6895da20788": {
          "model_module": "@jupyter-widgets/base",
          "model_name": "LayoutModel",
          "model_module_version": "1.2.0",
          "state": {
            "_model_module": "@jupyter-widgets/base",
            "_model_module_version": "1.2.0",
            "_model_name": "LayoutModel",
            "_view_count": null,
            "_view_module": "@jupyter-widgets/base",
            "_view_module_version": "1.2.0",
            "_view_name": "LayoutView",
            "align_content": null,
            "align_items": null,
            "align_self": null,
            "border": null,
            "bottom": null,
            "display": null,
            "flex": null,
            "flex_flow": null,
            "grid_area": null,
            "grid_auto_columns": null,
            "grid_auto_flow": null,
            "grid_auto_rows": null,
            "grid_column": null,
            "grid_gap": null,
            "grid_row": null,
            "grid_template_areas": null,
            "grid_template_columns": null,
            "grid_template_rows": null,
            "height": null,
            "justify_content": null,
            "justify_items": null,
            "left": null,
            "margin": null,
            "max_height": null,
            "max_width": null,
            "min_height": null,
            "min_width": null,
            "object_fit": null,
            "object_position": null,
            "order": null,
            "overflow": null,
            "overflow_x": null,
            "overflow_y": null,
            "padding": null,
            "right": null,
            "top": null,
            "visibility": null,
            "width": null
          }
        },
        "7f04b3e0f47441bb95dbb4a1fe1dd771": {
          "model_module": "@jupyter-widgets/controls",
          "model_name": "ProgressStyleModel",
          "model_module_version": "1.5.0",
          "state": {
            "_model_module": "@jupyter-widgets/controls",
            "_model_module_version": "1.5.0",
            "_model_name": "ProgressStyleModel",
            "_view_count": null,
            "_view_module": "@jupyter-widgets/base",
            "_view_module_version": "1.2.0",
            "_view_name": "StyleView",
            "bar_color": null,
            "description_width": ""
          }
        },
        "54b2fa3545854421af40250f8e102d73": {
          "model_module": "@jupyter-widgets/base",
          "model_name": "LayoutModel",
          "model_module_version": "1.2.0",
          "state": {
            "_model_module": "@jupyter-widgets/base",
            "_model_module_version": "1.2.0",
            "_model_name": "LayoutModel",
            "_view_count": null,
            "_view_module": "@jupyter-widgets/base",
            "_view_module_version": "1.2.0",
            "_view_name": "LayoutView",
            "align_content": null,
            "align_items": null,
            "align_self": null,
            "border": null,
            "bottom": null,
            "display": null,
            "flex": null,
            "flex_flow": null,
            "grid_area": null,
            "grid_auto_columns": null,
            "grid_auto_flow": null,
            "grid_auto_rows": null,
            "grid_column": null,
            "grid_gap": null,
            "grid_row": null,
            "grid_template_areas": null,
            "grid_template_columns": null,
            "grid_template_rows": null,
            "height": null,
            "justify_content": null,
            "justify_items": null,
            "left": null,
            "margin": null,
            "max_height": null,
            "max_width": null,
            "min_height": null,
            "min_width": null,
            "object_fit": null,
            "object_position": null,
            "order": null,
            "overflow": null,
            "overflow_x": null,
            "overflow_y": null,
            "padding": null,
            "right": null,
            "top": null,
            "visibility": null,
            "width": null
          }
        },
        "790c799ca4f04bb3aedc926ca45bcddd": {
          "model_module": "@jupyter-widgets/controls",
          "model_name": "DescriptionStyleModel",
          "model_module_version": "1.5.0",
          "state": {
            "_model_module": "@jupyter-widgets/controls",
            "_model_module_version": "1.5.0",
            "_model_name": "DescriptionStyleModel",
            "_view_count": null,
            "_view_module": "@jupyter-widgets/base",
            "_view_module_version": "1.2.0",
            "_view_name": "StyleView",
            "description_width": ""
          }
        },
        "a7f55e7d65d643b39812fc21f0740ff8": {
          "model_module": "@jupyter-widgets/controls",
          "model_name": "HBoxModel",
          "model_module_version": "1.5.0",
          "state": {
            "_dom_classes": [],
            "_model_module": "@jupyter-widgets/controls",
            "_model_module_version": "1.5.0",
            "_model_name": "HBoxModel",
            "_view_count": null,
            "_view_module": "@jupyter-widgets/controls",
            "_view_module_version": "1.5.0",
            "_view_name": "HBoxView",
            "box_style": "",
            "children": [
              "IPY_MODEL_ed851cb5e86445c2af05afff5d2e0420",
              "IPY_MODEL_d5ee6c0c9c5d4bed9472df9dd00ea204",
              "IPY_MODEL_2e6bd2b67ba74dc1a4fb66277a0cf1f4"
            ],
            "layout": "IPY_MODEL_570ab37740234342ba2ee936cb0493b4"
          }
        },
        "ed851cb5e86445c2af05afff5d2e0420": {
          "model_module": "@jupyter-widgets/controls",
          "model_name": "HTMLModel",
          "model_module_version": "1.5.0",
          "state": {
            "_dom_classes": [],
            "_model_module": "@jupyter-widgets/controls",
            "_model_module_version": "1.5.0",
            "_model_name": "HTMLModel",
            "_view_count": null,
            "_view_module": "@jupyter-widgets/controls",
            "_view_module_version": "1.5.0",
            "_view_name": "HTMLView",
            "description": "",
            "description_tooltip": null,
            "layout": "IPY_MODEL_1a346225af82431b8b2a88a27d7fabd2",
            "placeholder": "​",
            "style": "IPY_MODEL_92c2860bbbdb4837819c23f0646619bd",
            "value": "model.safetensors: 100%"
          }
        },
        "d5ee6c0c9c5d4bed9472df9dd00ea204": {
          "model_module": "@jupyter-widgets/controls",
          "model_name": "FloatProgressModel",
          "model_module_version": "1.5.0",
          "state": {
            "_dom_classes": [],
            "_model_module": "@jupyter-widgets/controls",
            "_model_module_version": "1.5.0",
            "_model_name": "FloatProgressModel",
            "_view_count": null,
            "_view_module": "@jupyter-widgets/controls",
            "_view_module_version": "1.5.0",
            "_view_name": "ProgressView",
            "bar_style": "success",
            "description": "",
            "description_tooltip": null,
            "layout": "IPY_MODEL_3a1c4d130ee1442c87183eba7388055a",
            "max": 46807446,
            "min": 0,
            "orientation": "horizontal",
            "style": "IPY_MODEL_d740629cc2cd4577bc89ba9c62a892e4",
            "value": 46807446
          }
        },
        "2e6bd2b67ba74dc1a4fb66277a0cf1f4": {
          "model_module": "@jupyter-widgets/controls",
          "model_name": "HTMLModel",
          "model_module_version": "1.5.0",
          "state": {
            "_dom_classes": [],
            "_model_module": "@jupyter-widgets/controls",
            "_model_module_version": "1.5.0",
            "_model_name": "HTMLModel",
            "_view_count": null,
            "_view_module": "@jupyter-widgets/controls",
            "_view_module_version": "1.5.0",
            "_view_name": "HTMLView",
            "description": "",
            "description_tooltip": null,
            "layout": "IPY_MODEL_7fd2bb6fd4d34d348132e3ab9e02a39c",
            "placeholder": "​",
            "style": "IPY_MODEL_b3f5c685d232467692ca9a840fb806f1",
            "value": " 46.8M/46.8M [00:00&lt;00:00, 272MB/s]"
          }
        },
        "570ab37740234342ba2ee936cb0493b4": {
          "model_module": "@jupyter-widgets/base",
          "model_name": "LayoutModel",
          "model_module_version": "1.2.0",
          "state": {
            "_model_module": "@jupyter-widgets/base",
            "_model_module_version": "1.2.0",
            "_model_name": "LayoutModel",
            "_view_count": null,
            "_view_module": "@jupyter-widgets/base",
            "_view_module_version": "1.2.0",
            "_view_name": "LayoutView",
            "align_content": null,
            "align_items": null,
            "align_self": null,
            "border": null,
            "bottom": null,
            "display": null,
            "flex": null,
            "flex_flow": null,
            "grid_area": null,
            "grid_auto_columns": null,
            "grid_auto_flow": null,
            "grid_auto_rows": null,
            "grid_column": null,
            "grid_gap": null,
            "grid_row": null,
            "grid_template_areas": null,
            "grid_template_columns": null,
            "grid_template_rows": null,
            "height": null,
            "justify_content": null,
            "justify_items": null,
            "left": null,
            "margin": null,
            "max_height": null,
            "max_width": null,
            "min_height": null,
            "min_width": null,
            "object_fit": null,
            "object_position": null,
            "order": null,
            "overflow": null,
            "overflow_x": null,
            "overflow_y": null,
            "padding": null,
            "right": null,
            "top": null,
            "visibility": null,
            "width": null
          }
        },
        "1a346225af82431b8b2a88a27d7fabd2": {
          "model_module": "@jupyter-widgets/base",
          "model_name": "LayoutModel",
          "model_module_version": "1.2.0",
          "state": {
            "_model_module": "@jupyter-widgets/base",
            "_model_module_version": "1.2.0",
            "_model_name": "LayoutModel",
            "_view_count": null,
            "_view_module": "@jupyter-widgets/base",
            "_view_module_version": "1.2.0",
            "_view_name": "LayoutView",
            "align_content": null,
            "align_items": null,
            "align_self": null,
            "border": null,
            "bottom": null,
            "display": null,
            "flex": null,
            "flex_flow": null,
            "grid_area": null,
            "grid_auto_columns": null,
            "grid_auto_flow": null,
            "grid_auto_rows": null,
            "grid_column": null,
            "grid_gap": null,
            "grid_row": null,
            "grid_template_areas": null,
            "grid_template_columns": null,
            "grid_template_rows": null,
            "height": null,
            "justify_content": null,
            "justify_items": null,
            "left": null,
            "margin": null,
            "max_height": null,
            "max_width": null,
            "min_height": null,
            "min_width": null,
            "object_fit": null,
            "object_position": null,
            "order": null,
            "overflow": null,
            "overflow_x": null,
            "overflow_y": null,
            "padding": null,
            "right": null,
            "top": null,
            "visibility": null,
            "width": null
          }
        },
        "92c2860bbbdb4837819c23f0646619bd": {
          "model_module": "@jupyter-widgets/controls",
          "model_name": "DescriptionStyleModel",
          "model_module_version": "1.5.0",
          "state": {
            "_model_module": "@jupyter-widgets/controls",
            "_model_module_version": "1.5.0",
            "_model_name": "DescriptionStyleModel",
            "_view_count": null,
            "_view_module": "@jupyter-widgets/base",
            "_view_module_version": "1.2.0",
            "_view_name": "StyleView",
            "description_width": ""
          }
        },
        "3a1c4d130ee1442c87183eba7388055a": {
          "model_module": "@jupyter-widgets/base",
          "model_name": "LayoutModel",
          "model_module_version": "1.2.0",
          "state": {
            "_model_module": "@jupyter-widgets/base",
            "_model_module_version": "1.2.0",
            "_model_name": "LayoutModel",
            "_view_count": null,
            "_view_module": "@jupyter-widgets/base",
            "_view_module_version": "1.2.0",
            "_view_name": "LayoutView",
            "align_content": null,
            "align_items": null,
            "align_self": null,
            "border": null,
            "bottom": null,
            "display": null,
            "flex": null,
            "flex_flow": null,
            "grid_area": null,
            "grid_auto_columns": null,
            "grid_auto_flow": null,
            "grid_auto_rows": null,
            "grid_column": null,
            "grid_gap": null,
            "grid_row": null,
            "grid_template_areas": null,
            "grid_template_columns": null,
            "grid_template_rows": null,
            "height": null,
            "justify_content": null,
            "justify_items": null,
            "left": null,
            "margin": null,
            "max_height": null,
            "max_width": null,
            "min_height": null,
            "min_width": null,
            "object_fit": null,
            "object_position": null,
            "order": null,
            "overflow": null,
            "overflow_x": null,
            "overflow_y": null,
            "padding": null,
            "right": null,
            "top": null,
            "visibility": null,
            "width": null
          }
        },
        "d740629cc2cd4577bc89ba9c62a892e4": {
          "model_module": "@jupyter-widgets/controls",
          "model_name": "ProgressStyleModel",
          "model_module_version": "1.5.0",
          "state": {
            "_model_module": "@jupyter-widgets/controls",
            "_model_module_version": "1.5.0",
            "_model_name": "ProgressStyleModel",
            "_view_count": null,
            "_view_module": "@jupyter-widgets/base",
            "_view_module_version": "1.2.0",
            "_view_name": "StyleView",
            "bar_color": null,
            "description_width": ""
          }
        },
        "7fd2bb6fd4d34d348132e3ab9e02a39c": {
          "model_module": "@jupyter-widgets/base",
          "model_name": "LayoutModel",
          "model_module_version": "1.2.0",
          "state": {
            "_model_module": "@jupyter-widgets/base",
            "_model_module_version": "1.2.0",
            "_model_name": "LayoutModel",
            "_view_count": null,
            "_view_module": "@jupyter-widgets/base",
            "_view_module_version": "1.2.0",
            "_view_name": "LayoutView",
            "align_content": null,
            "align_items": null,
            "align_self": null,
            "border": null,
            "bottom": null,
            "display": null,
            "flex": null,
            "flex_flow": null,
            "grid_area": null,
            "grid_auto_columns": null,
            "grid_auto_flow": null,
            "grid_auto_rows": null,
            "grid_column": null,
            "grid_gap": null,
            "grid_row": null,
            "grid_template_areas": null,
            "grid_template_columns": null,
            "grid_template_rows": null,
            "height": null,
            "justify_content": null,
            "justify_items": null,
            "left": null,
            "margin": null,
            "max_height": null,
            "max_width": null,
            "min_height": null,
            "min_width": null,
            "object_fit": null,
            "object_position": null,
            "order": null,
            "overflow": null,
            "overflow_x": null,
            "overflow_y": null,
            "padding": null,
            "right": null,
            "top": null,
            "visibility": null,
            "width": null
          }
        },
        "b3f5c685d232467692ca9a840fb806f1": {
          "model_module": "@jupyter-widgets/controls",
          "model_name": "DescriptionStyleModel",
          "model_module_version": "1.5.0",
          "state": {
            "_model_module": "@jupyter-widgets/controls",
            "_model_module_version": "1.5.0",
            "_model_name": "DescriptionStyleModel",
            "_view_count": null,
            "_view_module": "@jupyter-widgets/base",
            "_view_module_version": "1.2.0",
            "_view_name": "StyleView",
            "description_width": ""
          }
        }
      }
    }
  },
  "cells": [
    {
      "cell_type": "markdown",
      "metadata": {
        "id": "view-in-github",
        "colab_type": "text"
      },
      "source": [
        "<a href=\"https://colab.research.google.com/github/ahsanrazi/LangChain/blob/main/10_Multimodal_RAG.ipynb\" target=\"_parent\"><img src=\"https://colab.research.google.com/assets/colab-badge.svg\" alt=\"Open In Colab\"/></a>"
      ]
    },
    {
      "cell_type": "markdown",
      "source": [
        "# Multimodal RAG"
      ],
      "metadata": {
        "id": "Z6l6LYLxvOXY"
      }
    },
    {
      "cell_type": "code",
      "source": [
        "# There are three ways to make the Multimodal RAG System.\n",
        "\n",
        "# Option 1: Use Multimodal Embeddings (Like CLIP)\n",
        "# Option 2: Convert Images to Text Summaries First\n",
        "# Option 3: Store Image Summaries + Link to Images\n",
        "\n",
        "# Doc Link: https://blog.langchain.dev/semi-structured-multi-modal-rag/\n",
        "\n",
        "# Simple, powerful idea for RAG: decouple documents, which we want to use for answer synthesis, from a reference, which we want to use for retriever.\n",
        "# As a simple example, we can create a summary of a verbose document optimized to vector-based similarity search,\n",
        "# but still pass the full document into the LLM to ensure no context is lost during answer synthesis.\n",
        "\n",
        "\n",
        "# Unstructured processes PDF files by breaking them into meaningful text sections. Here's how it works in a simple way:\n",
        "\n",
        "# Removes images → First, it removes all pictures from the PDF to focus only on the text.\n",
        "# Detects sections using AI → It uses a model called YOLOX to identify important parts of the document, like: Titles (e.g., \"Introduction,\" \"Conclusion\")\n",
        "# Tables (by recognizing their position and layout)\n",
        "# Groups text under titles → Once titles are detected, it collects all the text that belongs to each section.\n",
        "# Breaks text into chunks → It further divides the text into smaller parts based on user preferences, such as: Minimum chunk size\n",
        "\n",
        "\n",
        "# Unstructured file parsing and multi-vector retrieval work together to improve RAG for semi-structured data (like PDFs with text and tables).\n",
        "\n",
        "# Here’s a simple breakdown:\n",
        "# Problem with basic chunking → Regular chunking methods may split tables incorrectly, making it hard for the LLM to understand them.\n",
        "# How Unstructured helps → It processes files intelligently, recognizing tables and generating summaries of their contents instead of breaking them randomly.\n",
        "# How multi-vector retrieval helps → Instead of searching full documents, it retrieves both text chunks and table summaries based on semantic similarity.\n",
        "# Better retrieval process:\n",
        "# If a table summary matches the user’s question, the system retrieves it.\n",
        "# The full/raw table is then sent to the LLM for a more accurate and complete answer."
      ],
      "metadata": {
        "id": "H-V5Zj5MvMtn"
      },
      "execution_count": null,
      "outputs": []
    },
    {
      "cell_type": "code",
      "source": [
        "# https://github.com/sunnysavita10/Generative-AI-Indepth-Basic-to-Advance/blob/main/MultiModal%20RAG/Extract_Image%2CTable%2CText_from_Document_MultiModal_Summrizer_AAG_App_YT.ipynb"
      ],
      "metadata": {
        "id": "RKe30EtP-_aV"
      },
      "execution_count": null,
      "outputs": []
    },
    {
      "cell_type": "code",
      "source": [
        "# https://colab.research.google.com/gist/alejandro-ao/47db0b8b9d00b10a96ab42dd59d90b86/langchain-multimodal.ipynb#scrollTo=4b45fb81-46b1-426e-aa2c-01aed4eac700"
      ],
      "metadata": {
        "id": "9CsxdJN8Ydsk"
      },
      "execution_count": null,
      "outputs": []
    },
    {
      "cell_type": "markdown",
      "source": [
        "# Extract Images, Tables, Text from Documents"
      ],
      "metadata": {
        "id": "lJfIP4ltuIow"
      }
    },
    {
      "cell_type": "code",
      "execution_count": 1,
      "metadata": {
        "colab": {
          "base_uri": "https://localhost:8080/",
          "height": 1000
        },
        "id": "Dkn8zk6gt8cs",
        "outputId": "c50d7cc2-3a01-4de7-8651-bf369c8269b9"
      },
      "outputs": [
        {
          "output_type": "stream",
          "name": "stdout",
          "text": [
            "Requirement already satisfied: langchain in /usr/local/lib/python3.11/dist-packages (0.3.17)\n",
            "Collecting langchain-chroma\n",
            "  Downloading langchain_chroma-0.2.1-py3-none-any.whl.metadata (1.7 kB)\n",
            "Requirement already satisfied: pillow in /usr/local/lib/python3.11/dist-packages (11.1.0)\n",
            "Requirement already satisfied: lxml in /usr/local/lib/python3.11/dist-packages (5.3.0)\n",
            "Collecting unstructured[all-docs]\n",
            "  Downloading unstructured-0.16.20-py3-none-any.whl.metadata (24 kB)\n",
            "Requirement already satisfied: PyYAML>=5.3 in /usr/local/lib/python3.11/dist-packages (from langchain) (6.0.2)\n",
            "Requirement already satisfied: SQLAlchemy<3,>=1.4 in /usr/local/lib/python3.11/dist-packages (from langchain) (2.0.37)\n",
            "Requirement already satisfied: aiohttp<4.0.0,>=3.8.3 in /usr/local/lib/python3.11/dist-packages (from langchain) (3.11.12)\n",
            "Requirement already satisfied: langchain-core<0.4.0,>=0.3.33 in /usr/local/lib/python3.11/dist-packages (from langchain) (0.3.33)\n",
            "Requirement already satisfied: langchain-text-splitters<0.4.0,>=0.3.3 in /usr/local/lib/python3.11/dist-packages (from langchain) (0.3.5)\n",
            "Requirement already satisfied: langsmith<0.4,>=0.1.17 in /usr/local/lib/python3.11/dist-packages (from langchain) (0.3.6)\n",
            "Requirement already satisfied: numpy<2,>=1.22.4 in /usr/local/lib/python3.11/dist-packages (from langchain) (1.26.4)\n",
            "Requirement already satisfied: pydantic<3.0.0,>=2.7.4 in /usr/local/lib/python3.11/dist-packages (from langchain) (2.10.6)\n",
            "Requirement already satisfied: requests<3,>=2 in /usr/local/lib/python3.11/dist-packages (from langchain) (2.32.3)\n",
            "Requirement already satisfied: tenacity!=8.4.0,<10,>=8.1.0 in /usr/local/lib/python3.11/dist-packages (from langchain) (9.0.0)\n",
            "Collecting chromadb!=0.5.10,!=0.5.11,!=0.5.12,!=0.5.4,!=0.5.5,!=0.5.7,!=0.5.9,<0.7.0,>=0.4.0 (from langchain-chroma)\n",
            "  Downloading chromadb-0.6.3-py3-none-any.whl.metadata (6.8 kB)\n",
            "Collecting fastapi<1,>=0.95.2 (from langchain-chroma)\n",
            "  Downloading fastapi-0.115.8-py3-none-any.whl.metadata (27 kB)\n",
            "Requirement already satisfied: chardet in /usr/local/lib/python3.11/dist-packages (from unstructured[all-docs]) (5.2.0)\n",
            "Collecting filetype (from unstructured[all-docs])\n",
            "  Downloading filetype-1.2.0-py2.py3-none-any.whl.metadata (6.5 kB)\n",
            "Collecting python-magic (from unstructured[all-docs])\n",
            "  Downloading python_magic-0.4.27-py2.py3-none-any.whl.metadata (5.8 kB)\n",
            "Requirement already satisfied: nltk in /usr/local/lib/python3.11/dist-packages (from unstructured[all-docs]) (3.9.1)\n",
            "Requirement already satisfied: beautifulsoup4 in /usr/local/lib/python3.11/dist-packages (from unstructured[all-docs]) (4.13.3)\n",
            "Collecting emoji (from unstructured[all-docs])\n",
            "  Downloading emoji-2.14.1-py3-none-any.whl.metadata (5.7 kB)\n",
            "Collecting dataclasses-json (from unstructured[all-docs])\n",
            "  Downloading dataclasses_json-0.6.7-py3-none-any.whl.metadata (25 kB)\n",
            "Collecting python-iso639 (from unstructured[all-docs])\n",
            "  Downloading python_iso639-2025.2.8-py3-none-any.whl.metadata (14 kB)\n",
            "Collecting langdetect (from unstructured[all-docs])\n",
            "  Downloading langdetect-1.0.9.tar.gz (981 kB)\n",
            "\u001b[2K     \u001b[90m━━━━━━━━━━━━━━━━━━━━━━━━━━━━━━━━━━━━━━━━\u001b[0m \u001b[32m981.5/981.5 kB\u001b[0m \u001b[31m51.2 MB/s\u001b[0m eta \u001b[36m0:00:00\u001b[0m\n",
            "\u001b[?25h  Preparing metadata (setup.py) ... \u001b[?25l\u001b[?25hdone\n",
            "Collecting rapidfuzz (from unstructured[all-docs])\n",
            "  Downloading rapidfuzz-3.12.1-cp311-cp311-manylinux_2_17_x86_64.manylinux2014_x86_64.whl.metadata (11 kB)\n",
            "Collecting backoff (from unstructured[all-docs])\n",
            "  Downloading backoff-2.2.1-py3-none-any.whl.metadata (14 kB)\n",
            "Requirement already satisfied: typing-extensions in /usr/local/lib/python3.11/dist-packages (from unstructured[all-docs]) (4.12.2)\n",
            "Collecting unstructured-client (from unstructured[all-docs])\n",
            "  Downloading unstructured_client-0.29.0-py3-none-any.whl.metadata (20 kB)\n",
            "Requirement already satisfied: wrapt in /usr/local/lib/python3.11/dist-packages (from unstructured[all-docs]) (1.17.2)\n",
            "Requirement already satisfied: tqdm in /usr/local/lib/python3.11/dist-packages (from unstructured[all-docs]) (4.67.1)\n",
            "Requirement already satisfied: psutil in /usr/local/lib/python3.11/dist-packages (from unstructured[all-docs]) (5.9.5)\n",
            "Collecting python-oxmsg (from unstructured[all-docs])\n",
            "  Downloading python_oxmsg-0.0.2-py3-none-any.whl.metadata (5.0 kB)\n",
            "Requirement already satisfied: html5lib in /usr/local/lib/python3.11/dist-packages (from unstructured[all-docs]) (1.1)\n",
            "Requirement already satisfied: pandas in /usr/local/lib/python3.11/dist-packages (from unstructured[all-docs]) (2.2.2)\n",
            "Collecting unstructured-inference>=0.8.6 (from unstructured[all-docs])\n",
            "  Downloading unstructured_inference-0.8.7-py3-none-any.whl.metadata (5.3 kB)\n",
            "Collecting python-docx>=1.1.2 (from unstructured[all-docs])\n",
            "  Downloading python_docx-1.1.2-py3-none-any.whl.metadata (2.0 kB)\n",
            "Collecting onnx (from unstructured[all-docs])\n",
            "  Downloading onnx-1.17.0-cp311-cp311-manylinux_2_17_x86_64.manylinux2014_x86_64.whl.metadata (16 kB)\n",
            "Collecting python-pptx>=1.0.1 (from unstructured[all-docs])\n",
            "  Downloading python_pptx-1.0.2-py3-none-any.whl.metadata (2.5 kB)\n",
            "Requirement already satisfied: xlrd in /usr/local/lib/python3.11/dist-packages (from unstructured[all-docs]) (2.0.1)\n",
            "Requirement already satisfied: markdown in /usr/local/lib/python3.11/dist-packages (from unstructured[all-docs]) (3.7)\n",
            "Requirement already satisfied: openpyxl in /usr/local/lib/python3.11/dist-packages (from unstructured[all-docs]) (3.1.5)\n",
            "Collecting effdet (from unstructured[all-docs])\n",
            "  Downloading effdet-0.4.1-py3-none-any.whl.metadata (33 kB)\n",
            "Requirement already satisfied: networkx in /usr/local/lib/python3.11/dist-packages (from unstructured[all-docs]) (3.4.2)\n",
            "Collecting google-cloud-vision (from unstructured[all-docs])\n",
            "  Downloading google_cloud_vision-3.9.0-py2.py3-none-any.whl.metadata (5.3 kB)\n",
            "Collecting pi-heif (from unstructured[all-docs])\n",
            "  Downloading pi_heif-0.21.0-cp311-cp311-manylinux_2_17_x86_64.manylinux2014_x86_64.whl.metadata (6.5 kB)\n",
            "Collecting pypandoc (from unstructured[all-docs])\n",
            "  Downloading pypandoc-1.15-py3-none-any.whl.metadata (16 kB)\n",
            "Collecting pdfminer.six (from unstructured[all-docs])\n",
            "  Downloading pdfminer.six-20240706-py3-none-any.whl.metadata (4.1 kB)\n",
            "Collecting unstructured.pytesseract>=0.3.12 (from unstructured[all-docs])\n",
            "  Downloading unstructured.pytesseract-0.3.13-py3-none-any.whl.metadata (11 kB)\n",
            "Collecting pikepdf (from unstructured[all-docs])\n",
            "  Downloading pikepdf-9.5.2-cp311-cp311-manylinux_2_17_x86_64.manylinux2014_x86_64.whl.metadata (8.1 kB)\n",
            "Collecting pdf2image (from unstructured[all-docs])\n",
            "  Downloading pdf2image-1.17.0-py3-none-any.whl.metadata (6.2 kB)\n",
            "Collecting pypdf (from unstructured[all-docs])\n",
            "  Downloading pypdf-5.3.0-py3-none-any.whl.metadata (7.2 kB)\n",
            "Requirement already satisfied: aiohappyeyeballs>=2.3.0 in /usr/local/lib/python3.11/dist-packages (from aiohttp<4.0.0,>=3.8.3->langchain) (2.4.4)\n",
            "Requirement already satisfied: aiosignal>=1.1.2 in /usr/local/lib/python3.11/dist-packages (from aiohttp<4.0.0,>=3.8.3->langchain) (1.3.2)\n",
            "Requirement already satisfied: attrs>=17.3.0 in /usr/local/lib/python3.11/dist-packages (from aiohttp<4.0.0,>=3.8.3->langchain) (25.1.0)\n",
            "Requirement already satisfied: frozenlist>=1.1.1 in /usr/local/lib/python3.11/dist-packages (from aiohttp<4.0.0,>=3.8.3->langchain) (1.5.0)\n",
            "Requirement already satisfied: multidict<7.0,>=4.5 in /usr/local/lib/python3.11/dist-packages (from aiohttp<4.0.0,>=3.8.3->langchain) (6.1.0)\n",
            "Requirement already satisfied: propcache>=0.2.0 in /usr/local/lib/python3.11/dist-packages (from aiohttp<4.0.0,>=3.8.3->langchain) (0.2.1)\n",
            "Requirement already satisfied: yarl<2.0,>=1.17.0 in /usr/local/lib/python3.11/dist-packages (from aiohttp<4.0.0,>=3.8.3->langchain) (1.18.3)\n",
            "Collecting build>=1.0.3 (from chromadb!=0.5.10,!=0.5.11,!=0.5.12,!=0.5.4,!=0.5.5,!=0.5.7,!=0.5.9,<0.7.0,>=0.4.0->langchain-chroma)\n",
            "  Downloading build-1.2.2.post1-py3-none-any.whl.metadata (6.5 kB)\n",
            "Collecting chroma-hnswlib==0.7.6 (from chromadb!=0.5.10,!=0.5.11,!=0.5.12,!=0.5.4,!=0.5.5,!=0.5.7,!=0.5.9,<0.7.0,>=0.4.0->langchain-chroma)\n",
            "  Downloading chroma_hnswlib-0.7.6-cp311-cp311-manylinux_2_17_x86_64.manylinux2014_x86_64.whl.metadata (252 bytes)\n",
            "Collecting uvicorn>=0.18.3 (from uvicorn[standard]>=0.18.3->chromadb!=0.5.10,!=0.5.11,!=0.5.12,!=0.5.4,!=0.5.5,!=0.5.7,!=0.5.9,<0.7.0,>=0.4.0->langchain-chroma)\n",
            "  Downloading uvicorn-0.34.0-py3-none-any.whl.metadata (6.5 kB)\n",
            "Collecting posthog>=2.4.0 (from chromadb!=0.5.10,!=0.5.11,!=0.5.12,!=0.5.4,!=0.5.5,!=0.5.7,!=0.5.9,<0.7.0,>=0.4.0->langchain-chroma)\n",
            "  Downloading posthog-3.12.0-py2.py3-none-any.whl.metadata (2.9 kB)\n",
            "Collecting onnxruntime>=1.14.1 (from chromadb!=0.5.10,!=0.5.11,!=0.5.12,!=0.5.4,!=0.5.5,!=0.5.7,!=0.5.9,<0.7.0,>=0.4.0->langchain-chroma)\n",
            "  Downloading onnxruntime-1.20.1-cp311-cp311-manylinux_2_27_x86_64.manylinux_2_28_x86_64.whl.metadata (4.5 kB)\n",
            "Requirement already satisfied: opentelemetry-api>=1.2.0 in /usr/local/lib/python3.11/dist-packages (from chromadb!=0.5.10,!=0.5.11,!=0.5.12,!=0.5.4,!=0.5.5,!=0.5.7,!=0.5.9,<0.7.0,>=0.4.0->langchain-chroma) (1.16.0)\n",
            "Collecting opentelemetry-exporter-otlp-proto-grpc>=1.2.0 (from chromadb!=0.5.10,!=0.5.11,!=0.5.12,!=0.5.4,!=0.5.5,!=0.5.7,!=0.5.9,<0.7.0,>=0.4.0->langchain-chroma)\n",
            "  Downloading opentelemetry_exporter_otlp_proto_grpc-1.30.0-py3-none-any.whl.metadata (2.4 kB)\n",
            "Collecting opentelemetry-instrumentation-fastapi>=0.41b0 (from chromadb!=0.5.10,!=0.5.11,!=0.5.12,!=0.5.4,!=0.5.5,!=0.5.7,!=0.5.9,<0.7.0,>=0.4.0->langchain-chroma)\n",
            "  Downloading opentelemetry_instrumentation_fastapi-0.51b0-py3-none-any.whl.metadata (2.2 kB)\n",
            "Requirement already satisfied: opentelemetry-sdk>=1.2.0 in /usr/local/lib/python3.11/dist-packages (from chromadb!=0.5.10,!=0.5.11,!=0.5.12,!=0.5.4,!=0.5.5,!=0.5.7,!=0.5.9,<0.7.0,>=0.4.0->langchain-chroma) (1.16.0)\n",
            "Requirement already satisfied: tokenizers>=0.13.2 in /usr/local/lib/python3.11/dist-packages (from chromadb!=0.5.10,!=0.5.11,!=0.5.12,!=0.5.4,!=0.5.5,!=0.5.7,!=0.5.9,<0.7.0,>=0.4.0->langchain-chroma) (0.21.0)\n",
            "Collecting pypika>=0.48.9 (from chromadb!=0.5.10,!=0.5.11,!=0.5.12,!=0.5.4,!=0.5.5,!=0.5.7,!=0.5.9,<0.7.0,>=0.4.0->langchain-chroma)\n",
            "  Downloading PyPika-0.48.9.tar.gz (67 kB)\n",
            "\u001b[2K     \u001b[90m━━━━━━━━━━━━━━━━━━━━━━━━━━━━━━━━━━━━━━━━\u001b[0m \u001b[32m67.3/67.3 kB\u001b[0m \u001b[31m5.4 MB/s\u001b[0m eta \u001b[36m0:00:00\u001b[0m\n",
            "\u001b[?25h  Installing build dependencies ... \u001b[?25l\u001b[?25hdone\n",
            "  Getting requirements to build wheel ... \u001b[?25l\u001b[?25hdone\n",
            "  Preparing metadata (pyproject.toml) ... \u001b[?25l\u001b[?25hdone\n",
            "Collecting overrides>=7.3.1 (from chromadb!=0.5.10,!=0.5.11,!=0.5.12,!=0.5.4,!=0.5.5,!=0.5.7,!=0.5.9,<0.7.0,>=0.4.0->langchain-chroma)\n",
            "  Downloading overrides-7.7.0-py3-none-any.whl.metadata (5.8 kB)\n",
            "Requirement already satisfied: importlib-resources in /usr/local/lib/python3.11/dist-packages (from chromadb!=0.5.10,!=0.5.11,!=0.5.12,!=0.5.4,!=0.5.5,!=0.5.7,!=0.5.9,<0.7.0,>=0.4.0->langchain-chroma) (6.5.2)\n",
            "Requirement already satisfied: grpcio>=1.58.0 in /usr/local/lib/python3.11/dist-packages (from chromadb!=0.5.10,!=0.5.11,!=0.5.12,!=0.5.4,!=0.5.5,!=0.5.7,!=0.5.9,<0.7.0,>=0.4.0->langchain-chroma) (1.70.0)\n",
            "Collecting bcrypt>=4.0.1 (from chromadb!=0.5.10,!=0.5.11,!=0.5.12,!=0.5.4,!=0.5.5,!=0.5.7,!=0.5.9,<0.7.0,>=0.4.0->langchain-chroma)\n",
            "  Downloading bcrypt-4.2.1-cp39-abi3-manylinux_2_28_x86_64.whl.metadata (9.8 kB)\n",
            "Requirement already satisfied: typer>=0.9.0 in /usr/local/lib/python3.11/dist-packages (from chromadb!=0.5.10,!=0.5.11,!=0.5.12,!=0.5.4,!=0.5.5,!=0.5.7,!=0.5.9,<0.7.0,>=0.4.0->langchain-chroma) (0.15.1)\n",
            "Collecting kubernetes>=28.1.0 (from chromadb!=0.5.10,!=0.5.11,!=0.5.12,!=0.5.4,!=0.5.5,!=0.5.7,!=0.5.9,<0.7.0,>=0.4.0->langchain-chroma)\n",
            "  Downloading kubernetes-32.0.0-py2.py3-none-any.whl.metadata (1.5 kB)\n",
            "Collecting mmh3>=4.0.1 (from chromadb!=0.5.10,!=0.5.11,!=0.5.12,!=0.5.4,!=0.5.5,!=0.5.7,!=0.5.9,<0.7.0,>=0.4.0->langchain-chroma)\n",
            "  Downloading mmh3-5.1.0-cp311-cp311-manylinux_2_5_x86_64.manylinux1_x86_64.manylinux_2_17_x86_64.manylinux2014_x86_64.whl.metadata (16 kB)\n",
            "Requirement already satisfied: orjson>=3.9.12 in /usr/local/lib/python3.11/dist-packages (from chromadb!=0.5.10,!=0.5.11,!=0.5.12,!=0.5.4,!=0.5.5,!=0.5.7,!=0.5.9,<0.7.0,>=0.4.0->langchain-chroma) (3.10.15)\n",
            "Requirement already satisfied: httpx>=0.27.0 in /usr/local/lib/python3.11/dist-packages (from chromadb!=0.5.10,!=0.5.11,!=0.5.12,!=0.5.4,!=0.5.5,!=0.5.7,!=0.5.9,<0.7.0,>=0.4.0->langchain-chroma) (0.28.1)\n",
            "Requirement already satisfied: rich>=10.11.0 in /usr/local/lib/python3.11/dist-packages (from chromadb!=0.5.10,!=0.5.11,!=0.5.12,!=0.5.4,!=0.5.5,!=0.5.7,!=0.5.9,<0.7.0,>=0.4.0->langchain-chroma) (13.9.4)\n",
            "Collecting starlette<0.46.0,>=0.40.0 (from fastapi<1,>=0.95.2->langchain-chroma)\n",
            "  Downloading starlette-0.45.3-py3-none-any.whl.metadata (6.3 kB)\n",
            "Requirement already satisfied: jsonpatch<2.0,>=1.33 in /usr/local/lib/python3.11/dist-packages (from langchain-core<0.4.0,>=0.3.33->langchain) (1.33)\n",
            "Requirement already satisfied: packaging<25,>=23.2 in /usr/local/lib/python3.11/dist-packages (from langchain-core<0.4.0,>=0.3.33->langchain) (24.2)\n",
            "Requirement already satisfied: requests-toolbelt<2.0.0,>=1.0.0 in /usr/local/lib/python3.11/dist-packages (from langsmith<0.4,>=0.1.17->langchain) (1.0.0)\n",
            "Requirement already satisfied: zstandard<0.24.0,>=0.23.0 in /usr/local/lib/python3.11/dist-packages (from langsmith<0.4,>=0.1.17->langchain) (0.23.0)\n",
            "Requirement already satisfied: annotated-types>=0.6.0 in /usr/local/lib/python3.11/dist-packages (from pydantic<3.0.0,>=2.7.4->langchain) (0.7.0)\n",
            "Requirement already satisfied: pydantic-core==2.27.2 in /usr/local/lib/python3.11/dist-packages (from pydantic<3.0.0,>=2.7.4->langchain) (2.27.2)\n",
            "Collecting XlsxWriter>=0.5.7 (from python-pptx>=1.0.1->unstructured[all-docs])\n",
            "  Downloading XlsxWriter-3.2.2-py3-none-any.whl.metadata (2.8 kB)\n",
            "Requirement already satisfied: charset-normalizer<4,>=2 in /usr/local/lib/python3.11/dist-packages (from requests<3,>=2->langchain) (3.4.1)\n",
            "Requirement already satisfied: idna<4,>=2.5 in /usr/local/lib/python3.11/dist-packages (from requests<3,>=2->langchain) (3.10)\n",
            "Requirement already satisfied: urllib3<3,>=1.21.1 in /usr/local/lib/python3.11/dist-packages (from requests<3,>=2->langchain) (2.3.0)\n",
            "Requirement already satisfied: certifi>=2017.4.17 in /usr/local/lib/python3.11/dist-packages (from requests<3,>=2->langchain) (2025.1.31)\n",
            "Requirement already satisfied: greenlet!=0.4.17 in /usr/local/lib/python3.11/dist-packages (from SQLAlchemy<3,>=1.4->langchain) (3.1.1)\n",
            "Collecting python-multipart (from unstructured-inference>=0.8.6->unstructured[all-docs])\n",
            "  Downloading python_multipart-0.0.20-py3-none-any.whl.metadata (1.8 kB)\n",
            "Requirement already satisfied: huggingface-hub in /usr/local/lib/python3.11/dist-packages (from unstructured-inference>=0.8.6->unstructured[all-docs]) (0.28.1)\n",
            "Requirement already satisfied: opencv-python!=4.7.0.68 in /usr/local/lib/python3.11/dist-packages (from unstructured-inference>=0.8.6->unstructured[all-docs]) (4.11.0.86)\n",
            "Requirement already satisfied: matplotlib in /usr/local/lib/python3.11/dist-packages (from unstructured-inference>=0.8.6->unstructured[all-docs]) (3.10.0)\n",
            "Requirement already satisfied: torch in /usr/local/lib/python3.11/dist-packages (from unstructured-inference>=0.8.6->unstructured[all-docs]) (2.5.1+cu124)\n",
            "Requirement already satisfied: timm in /usr/local/lib/python3.11/dist-packages (from unstructured-inference>=0.8.6->unstructured[all-docs]) (1.0.14)\n",
            "Requirement already satisfied: transformers>=4.25.1 in /usr/local/lib/python3.11/dist-packages (from unstructured-inference>=0.8.6->unstructured[all-docs]) (4.48.2)\n",
            "Requirement already satisfied: scipy in /usr/local/lib/python3.11/dist-packages (from unstructured-inference>=0.8.6->unstructured[all-docs]) (1.13.1)\n",
            "Collecting pypdfium2 (from unstructured-inference>=0.8.6->unstructured[all-docs])\n",
            "  Downloading pypdfium2-4.30.1-py3-none-manylinux_2_17_x86_64.manylinux2014_x86_64.whl.metadata (48 kB)\n",
            "\u001b[2K     \u001b[90m━━━━━━━━━━━━━━━━━━━━━━━━━━━━━━━━━━━━━━━━\u001b[0m \u001b[32m48.2/48.2 kB\u001b[0m \u001b[31m4.7 MB/s\u001b[0m eta \u001b[36m0:00:00\u001b[0m\n",
            "\u001b[?25hRequirement already satisfied: cryptography>=36.0.0 in /usr/local/lib/python3.11/dist-packages (from pdfminer.six->unstructured[all-docs]) (43.0.3)\n",
            "Requirement already satisfied: soupsieve>1.2 in /usr/local/lib/python3.11/dist-packages (from beautifulsoup4->unstructured[all-docs]) (2.6)\n",
            "Collecting marshmallow<4.0.0,>=3.18.0 (from dataclasses-json->unstructured[all-docs])\n",
            "  Downloading marshmallow-3.26.1-py3-none-any.whl.metadata (7.3 kB)\n",
            "Collecting typing-inspect<1,>=0.4.0 (from dataclasses-json->unstructured[all-docs])\n",
            "  Downloading typing_inspect-0.9.0-py3-none-any.whl.metadata (1.5 kB)\n",
            "Requirement already satisfied: torchvision in /usr/local/lib/python3.11/dist-packages (from effdet->unstructured[all-docs]) (0.20.1+cu124)\n",
            "Requirement already satisfied: pycocotools>=2.0.2 in /usr/local/lib/python3.11/dist-packages (from effdet->unstructured[all-docs]) (2.0.8)\n",
            "Collecting omegaconf>=2.0 (from effdet->unstructured[all-docs])\n",
            "  Downloading omegaconf-2.3.0-py3-none-any.whl.metadata (3.9 kB)\n",
            "Requirement already satisfied: google-api-core!=2.0.*,!=2.1.*,!=2.10.*,!=2.2.*,!=2.3.*,!=2.4.*,!=2.5.*,!=2.6.*,!=2.7.*,!=2.8.*,!=2.9.*,<3.0.0dev,>=1.34.1 in /usr/local/lib/python3.11/dist-packages (from google-api-core[grpc]!=2.0.*,!=2.1.*,!=2.10.*,!=2.2.*,!=2.3.*,!=2.4.*,!=2.5.*,!=2.6.*,!=2.7.*,!=2.8.*,!=2.9.*,<3.0.0dev,>=1.34.1->google-cloud-vision->unstructured[all-docs]) (2.19.2)\n",
            "Requirement already satisfied: google-auth!=2.24.0,!=2.25.0,<3.0.0dev,>=2.14.1 in /usr/local/lib/python3.11/dist-packages (from google-cloud-vision->unstructured[all-docs]) (2.27.0)\n",
            "Requirement already satisfied: proto-plus<2.0.0dev,>=1.22.3 in /usr/local/lib/python3.11/dist-packages (from google-cloud-vision->unstructured[all-docs]) (1.26.0)\n",
            "Requirement already satisfied: protobuf!=4.21.0,!=4.21.1,!=4.21.2,!=4.21.3,!=4.21.4,!=4.21.5,<6.0.0dev,>=3.20.2 in /usr/local/lib/python3.11/dist-packages (from google-cloud-vision->unstructured[all-docs]) (4.25.6)\n",
            "Requirement already satisfied: six>=1.9 in /usr/local/lib/python3.11/dist-packages (from html5lib->unstructured[all-docs]) (1.17.0)\n",
            "Requirement already satisfied: webencodings in /usr/local/lib/python3.11/dist-packages (from html5lib->unstructured[all-docs]) (0.5.1)\n",
            "Requirement already satisfied: click in /usr/local/lib/python3.11/dist-packages (from nltk->unstructured[all-docs]) (8.1.8)\n",
            "Requirement already satisfied: joblib in /usr/local/lib/python3.11/dist-packages (from nltk->unstructured[all-docs]) (1.4.2)\n",
            "Requirement already satisfied: regex>=2021.8.3 in /usr/local/lib/python3.11/dist-packages (from nltk->unstructured[all-docs]) (2024.11.6)\n",
            "Requirement already satisfied: et-xmlfile in /usr/local/lib/python3.11/dist-packages (from openpyxl->unstructured[all-docs]) (2.0.0)\n",
            "Requirement already satisfied: python-dateutil>=2.8.2 in /usr/local/lib/python3.11/dist-packages (from pandas->unstructured[all-docs]) (2.8.2)\n",
            "Requirement already satisfied: pytz>=2020.1 in /usr/local/lib/python3.11/dist-packages (from pandas->unstructured[all-docs]) (2025.1)\n",
            "Requirement already satisfied: tzdata>=2022.7 in /usr/local/lib/python3.11/dist-packages (from pandas->unstructured[all-docs]) (2025.1)\n",
            "Requirement already satisfied: Deprecated in /usr/local/lib/python3.11/dist-packages (from pikepdf->unstructured[all-docs]) (1.2.18)\n",
            "Collecting olefile (from python-oxmsg->unstructured[all-docs])\n",
            "  Downloading olefile-0.47-py2.py3-none-any.whl.metadata (9.7 kB)\n",
            "Collecting aiofiles>=24.1.0 (from unstructured-client->unstructured[all-docs])\n",
            "  Downloading aiofiles-24.1.0-py3-none-any.whl.metadata (10 kB)\n",
            "Collecting eval-type-backport<0.3.0,>=0.2.0 (from unstructured-client->unstructured[all-docs])\n",
            "  Downloading eval_type_backport-0.2.2-py3-none-any.whl.metadata (2.2 kB)\n",
            "Collecting jsonpath-python<2.0.0,>=1.0.6 (from unstructured-client->unstructured[all-docs])\n",
            "  Downloading jsonpath_python-1.0.6-py3-none-any.whl.metadata (12 kB)\n",
            "Requirement already satisfied: nest-asyncio>=1.6.0 in /usr/local/lib/python3.11/dist-packages (from unstructured-client->unstructured[all-docs]) (1.6.0)\n",
            "Collecting pyproject_hooks (from build>=1.0.3->chromadb!=0.5.10,!=0.5.11,!=0.5.12,!=0.5.4,!=0.5.5,!=0.5.7,!=0.5.9,<0.7.0,>=0.4.0->langchain-chroma)\n",
            "  Downloading pyproject_hooks-1.2.0-py3-none-any.whl.metadata (1.3 kB)\n",
            "Requirement already satisfied: cffi>=1.12 in /usr/local/lib/python3.11/dist-packages (from cryptography>=36.0.0->pdfminer.six->unstructured[all-docs]) (1.17.1)\n",
            "Requirement already satisfied: googleapis-common-protos<2.0.dev0,>=1.56.2 in /usr/local/lib/python3.11/dist-packages (from google-api-core!=2.0.*,!=2.1.*,!=2.10.*,!=2.2.*,!=2.3.*,!=2.4.*,!=2.5.*,!=2.6.*,!=2.7.*,!=2.8.*,!=2.9.*,<3.0.0dev,>=1.34.1->google-api-core[grpc]!=2.0.*,!=2.1.*,!=2.10.*,!=2.2.*,!=2.3.*,!=2.4.*,!=2.5.*,!=2.6.*,!=2.7.*,!=2.8.*,!=2.9.*,<3.0.0dev,>=1.34.1->google-cloud-vision->unstructured[all-docs]) (1.66.0)\n",
            "Requirement already satisfied: grpcio-status<2.0.dev0,>=1.33.2 in /usr/local/lib/python3.11/dist-packages (from google-api-core[grpc]!=2.0.*,!=2.1.*,!=2.10.*,!=2.2.*,!=2.3.*,!=2.4.*,!=2.5.*,!=2.6.*,!=2.7.*,!=2.8.*,!=2.9.*,<3.0.0dev,>=1.34.1->google-cloud-vision->unstructured[all-docs]) (1.62.3)\n",
            "Requirement already satisfied: cachetools<6.0,>=2.0.0 in /usr/local/lib/python3.11/dist-packages (from google-auth!=2.24.0,!=2.25.0,<3.0.0dev,>=2.14.1->google-cloud-vision->unstructured[all-docs]) (5.5.1)\n",
            "Requirement already satisfied: pyasn1-modules>=0.2.1 in /usr/local/lib/python3.11/dist-packages (from google-auth!=2.24.0,!=2.25.0,<3.0.0dev,>=2.14.1->google-cloud-vision->unstructured[all-docs]) (0.4.1)\n",
            "Requirement already satisfied: rsa<5,>=3.1.4 in /usr/local/lib/python3.11/dist-packages (from google-auth!=2.24.0,!=2.25.0,<3.0.0dev,>=2.14.1->google-cloud-vision->unstructured[all-docs]) (4.9)\n",
            "Requirement already satisfied: anyio in /usr/local/lib/python3.11/dist-packages (from httpx>=0.27.0->chromadb!=0.5.10,!=0.5.11,!=0.5.12,!=0.5.4,!=0.5.5,!=0.5.7,!=0.5.9,<0.7.0,>=0.4.0->langchain-chroma) (3.7.1)\n",
            "Requirement already satisfied: httpcore==1.* in /usr/local/lib/python3.11/dist-packages (from httpx>=0.27.0->chromadb!=0.5.10,!=0.5.11,!=0.5.12,!=0.5.4,!=0.5.5,!=0.5.7,!=0.5.9,<0.7.0,>=0.4.0->langchain-chroma) (1.0.7)\n",
            "Requirement already satisfied: h11<0.15,>=0.13 in /usr/local/lib/python3.11/dist-packages (from httpcore==1.*->httpx>=0.27.0->chromadb!=0.5.10,!=0.5.11,!=0.5.12,!=0.5.4,!=0.5.5,!=0.5.7,!=0.5.9,<0.7.0,>=0.4.0->langchain-chroma) (0.14.0)\n",
            "Requirement already satisfied: jsonpointer>=1.9 in /usr/local/lib/python3.11/dist-packages (from jsonpatch<2.0,>=1.33->langchain-core<0.4.0,>=0.3.33->langchain) (3.0.0)\n",
            "Requirement already satisfied: websocket-client!=0.40.0,!=0.41.*,!=0.42.*,>=0.32.0 in /usr/local/lib/python3.11/dist-packages (from kubernetes>=28.1.0->chromadb!=0.5.10,!=0.5.11,!=0.5.12,!=0.5.4,!=0.5.5,!=0.5.7,!=0.5.9,<0.7.0,>=0.4.0->langchain-chroma) (1.8.0)\n",
            "Requirement already satisfied: requests-oauthlib in /usr/local/lib/python3.11/dist-packages (from kubernetes>=28.1.0->chromadb!=0.5.10,!=0.5.11,!=0.5.12,!=0.5.4,!=0.5.5,!=0.5.7,!=0.5.9,<0.7.0,>=0.4.0->langchain-chroma) (2.0.0)\n",
            "Requirement already satisfied: oauthlib>=3.2.2 in /usr/local/lib/python3.11/dist-packages (from kubernetes>=28.1.0->chromadb!=0.5.10,!=0.5.11,!=0.5.12,!=0.5.4,!=0.5.5,!=0.5.7,!=0.5.9,<0.7.0,>=0.4.0->langchain-chroma) (3.2.2)\n",
            "Collecting durationpy>=0.7 (from kubernetes>=28.1.0->chromadb!=0.5.10,!=0.5.11,!=0.5.12,!=0.5.4,!=0.5.5,!=0.5.7,!=0.5.9,<0.7.0,>=0.4.0->langchain-chroma)\n",
            "  Downloading durationpy-0.9-py3-none-any.whl.metadata (338 bytes)\n",
            "Collecting antlr4-python3-runtime==4.9.* (from omegaconf>=2.0->effdet->unstructured[all-docs])\n",
            "  Downloading antlr4-python3-runtime-4.9.3.tar.gz (117 kB)\n",
            "\u001b[2K     \u001b[90m━━━━━━━━━━━━━━━━━━━━━━━━━━━━━━━━━━━━━━━━\u001b[0m \u001b[32m117.0/117.0 kB\u001b[0m \u001b[31m12.2 MB/s\u001b[0m eta \u001b[36m0:00:00\u001b[0m\n",
            "\u001b[?25h  Preparing metadata (setup.py) ... \u001b[?25l\u001b[?25hdone\n",
            "Collecting coloredlogs (from onnxruntime>=1.14.1->chromadb!=0.5.10,!=0.5.11,!=0.5.12,!=0.5.4,!=0.5.5,!=0.5.7,!=0.5.9,<0.7.0,>=0.4.0->langchain-chroma)\n",
            "  Downloading coloredlogs-15.0.1-py2.py3-none-any.whl.metadata (12 kB)\n",
            "Requirement already satisfied: flatbuffers in /usr/local/lib/python3.11/dist-packages (from onnxruntime>=1.14.1->chromadb!=0.5.10,!=0.5.11,!=0.5.12,!=0.5.4,!=0.5.5,!=0.5.7,!=0.5.9,<0.7.0,>=0.4.0->langchain-chroma) (25.1.24)\n",
            "Requirement already satisfied: sympy in /usr/local/lib/python3.11/dist-packages (from onnxruntime>=1.14.1->chromadb!=0.5.10,!=0.5.11,!=0.5.12,!=0.5.4,!=0.5.5,!=0.5.7,!=0.5.9,<0.7.0,>=0.4.0->langchain-chroma) (1.13.1)\n",
            "Requirement already satisfied: setuptools>=16.0 in /usr/local/lib/python3.11/dist-packages (from opentelemetry-api>=1.2.0->chromadb!=0.5.10,!=0.5.11,!=0.5.12,!=0.5.4,!=0.5.5,!=0.5.7,!=0.5.9,<0.7.0,>=0.4.0->langchain-chroma) (75.1.0)\n",
            "Collecting opentelemetry-exporter-otlp-proto-common==1.30.0 (from opentelemetry-exporter-otlp-proto-grpc>=1.2.0->chromadb!=0.5.10,!=0.5.11,!=0.5.12,!=0.5.4,!=0.5.5,!=0.5.7,!=0.5.9,<0.7.0,>=0.4.0->langchain-chroma)\n",
            "  Downloading opentelemetry_exporter_otlp_proto_common-1.30.0-py3-none-any.whl.metadata (1.9 kB)\n",
            "Collecting opentelemetry-proto==1.30.0 (from opentelemetry-exporter-otlp-proto-grpc>=1.2.0->chromadb!=0.5.10,!=0.5.11,!=0.5.12,!=0.5.4,!=0.5.5,!=0.5.7,!=0.5.9,<0.7.0,>=0.4.0->langchain-chroma)\n",
            "  Downloading opentelemetry_proto-1.30.0-py3-none-any.whl.metadata (2.4 kB)\n",
            "Collecting opentelemetry-sdk>=1.2.0 (from chromadb!=0.5.10,!=0.5.11,!=0.5.12,!=0.5.4,!=0.5.5,!=0.5.7,!=0.5.9,<0.7.0,>=0.4.0->langchain-chroma)\n",
            "  Downloading opentelemetry_sdk-1.30.0-py3-none-any.whl.metadata (1.6 kB)\n",
            "Collecting protobuf!=4.21.0,!=4.21.1,!=4.21.2,!=4.21.3,!=4.21.4,!=4.21.5,<6.0.0dev,>=3.20.2 (from google-cloud-vision->unstructured[all-docs])\n",
            "  Downloading protobuf-5.29.3-cp38-abi3-manylinux2014_x86_64.whl.metadata (592 bytes)\n",
            "Collecting opentelemetry-instrumentation-asgi==0.51b0 (from opentelemetry-instrumentation-fastapi>=0.41b0->chromadb!=0.5.10,!=0.5.11,!=0.5.12,!=0.5.4,!=0.5.5,!=0.5.7,!=0.5.9,<0.7.0,>=0.4.0->langchain-chroma)\n",
            "  Downloading opentelemetry_instrumentation_asgi-0.51b0-py3-none-any.whl.metadata (2.1 kB)\n",
            "Collecting opentelemetry-instrumentation==0.51b0 (from opentelemetry-instrumentation-fastapi>=0.41b0->chromadb!=0.5.10,!=0.5.11,!=0.5.12,!=0.5.4,!=0.5.5,!=0.5.7,!=0.5.9,<0.7.0,>=0.4.0->langchain-chroma)\n",
            "  Downloading opentelemetry_instrumentation-0.51b0-py3-none-any.whl.metadata (6.3 kB)\n",
            "Collecting opentelemetry-semantic-conventions==0.51b0 (from opentelemetry-instrumentation-fastapi>=0.41b0->chromadb!=0.5.10,!=0.5.11,!=0.5.12,!=0.5.4,!=0.5.5,!=0.5.7,!=0.5.9,<0.7.0,>=0.4.0->langchain-chroma)\n",
            "  Downloading opentelemetry_semantic_conventions-0.51b0-py3-none-any.whl.metadata (2.5 kB)\n",
            "Collecting opentelemetry-util-http==0.51b0 (from opentelemetry-instrumentation-fastapi>=0.41b0->chromadb!=0.5.10,!=0.5.11,!=0.5.12,!=0.5.4,!=0.5.5,!=0.5.7,!=0.5.9,<0.7.0,>=0.4.0->langchain-chroma)\n",
            "  Downloading opentelemetry_util_http-0.51b0-py3-none-any.whl.metadata (2.6 kB)\n",
            "Collecting asgiref~=3.0 (from opentelemetry-instrumentation-asgi==0.51b0->opentelemetry-instrumentation-fastapi>=0.41b0->chromadb!=0.5.10,!=0.5.11,!=0.5.12,!=0.5.4,!=0.5.5,!=0.5.7,!=0.5.9,<0.7.0,>=0.4.0->langchain-chroma)\n",
            "  Downloading asgiref-3.8.1-py3-none-any.whl.metadata (9.3 kB)\n",
            "Collecting opentelemetry-api>=1.2.0 (from chromadb!=0.5.10,!=0.5.11,!=0.5.12,!=0.5.4,!=0.5.5,!=0.5.7,!=0.5.9,<0.7.0,>=0.4.0->langchain-chroma)\n",
            "  Downloading opentelemetry_api-1.30.0-py3-none-any.whl.metadata (1.6 kB)\n",
            "Collecting importlib-metadata<=8.5.0,>=6.0 (from opentelemetry-api>=1.2.0->chromadb!=0.5.10,!=0.5.11,!=0.5.12,!=0.5.4,!=0.5.5,!=0.5.7,!=0.5.9,<0.7.0,>=0.4.0->langchain-chroma)\n",
            "  Downloading importlib_metadata-8.5.0-py3-none-any.whl.metadata (4.8 kB)\n",
            "Collecting monotonic>=1.5 (from posthog>=2.4.0->chromadb!=0.5.10,!=0.5.11,!=0.5.12,!=0.5.4,!=0.5.5,!=0.5.7,!=0.5.9,<0.7.0,>=0.4.0->langchain-chroma)\n",
            "  Downloading monotonic-1.6-py2.py3-none-any.whl.metadata (1.5 kB)\n",
            "Requirement already satisfied: contourpy>=1.0.1 in /usr/local/lib/python3.11/dist-packages (from matplotlib->unstructured-inference>=0.8.6->unstructured[all-docs]) (1.3.1)\n",
            "Requirement already satisfied: cycler>=0.10 in /usr/local/lib/python3.11/dist-packages (from matplotlib->unstructured-inference>=0.8.6->unstructured[all-docs]) (0.12.1)\n",
            "Requirement already satisfied: fonttools>=4.22.0 in /usr/local/lib/python3.11/dist-packages (from matplotlib->unstructured-inference>=0.8.6->unstructured[all-docs]) (4.55.8)\n",
            "Requirement already satisfied: kiwisolver>=1.3.1 in /usr/local/lib/python3.11/dist-packages (from matplotlib->unstructured-inference>=0.8.6->unstructured[all-docs]) (1.4.8)\n",
            "Requirement already satisfied: pyparsing>=2.3.1 in /usr/local/lib/python3.11/dist-packages (from matplotlib->unstructured-inference>=0.8.6->unstructured[all-docs]) (3.2.1)\n",
            "Requirement already satisfied: markdown-it-py>=2.2.0 in /usr/local/lib/python3.11/dist-packages (from rich>=10.11.0->chromadb!=0.5.10,!=0.5.11,!=0.5.12,!=0.5.4,!=0.5.5,!=0.5.7,!=0.5.9,<0.7.0,>=0.4.0->langchain-chroma) (3.0.0)\n",
            "Requirement already satisfied: pygments<3.0.0,>=2.13.0 in /usr/local/lib/python3.11/dist-packages (from rich>=10.11.0->chromadb!=0.5.10,!=0.5.11,!=0.5.12,!=0.5.4,!=0.5.5,!=0.5.7,!=0.5.9,<0.7.0,>=0.4.0->langchain-chroma) (2.18.0)\n",
            "Requirement already satisfied: safetensors in /usr/local/lib/python3.11/dist-packages (from timm->unstructured-inference>=0.8.6->unstructured[all-docs]) (0.5.2)\n",
            "Requirement already satisfied: filelock in /usr/local/lib/python3.11/dist-packages (from huggingface-hub->unstructured-inference>=0.8.6->unstructured[all-docs]) (3.17.0)\n",
            "Requirement already satisfied: fsspec>=2023.5.0 in /usr/local/lib/python3.11/dist-packages (from huggingface-hub->unstructured-inference>=0.8.6->unstructured[all-docs]) (2024.10.0)\n",
            "Requirement already satisfied: jinja2 in /usr/local/lib/python3.11/dist-packages (from torch->unstructured-inference>=0.8.6->unstructured[all-docs]) (3.1.5)\n",
            "Collecting nvidia-cuda-nvrtc-cu12==12.4.127 (from torch->unstructured-inference>=0.8.6->unstructured[all-docs])\n",
            "  Downloading nvidia_cuda_nvrtc_cu12-12.4.127-py3-none-manylinux2014_x86_64.whl.metadata (1.5 kB)\n",
            "Collecting nvidia-cuda-runtime-cu12==12.4.127 (from torch->unstructured-inference>=0.8.6->unstructured[all-docs])\n",
            "  Downloading nvidia_cuda_runtime_cu12-12.4.127-py3-none-manylinux2014_x86_64.whl.metadata (1.5 kB)\n",
            "Collecting nvidia-cuda-cupti-cu12==12.4.127 (from torch->unstructured-inference>=0.8.6->unstructured[all-docs])\n",
            "  Downloading nvidia_cuda_cupti_cu12-12.4.127-py3-none-manylinux2014_x86_64.whl.metadata (1.6 kB)\n",
            "Collecting nvidia-cudnn-cu12==9.1.0.70 (from torch->unstructured-inference>=0.8.6->unstructured[all-docs])\n",
            "  Downloading nvidia_cudnn_cu12-9.1.0.70-py3-none-manylinux2014_x86_64.whl.metadata (1.6 kB)\n",
            "Collecting nvidia-cublas-cu12==12.4.5.8 (from torch->unstructured-inference>=0.8.6->unstructured[all-docs])\n",
            "  Downloading nvidia_cublas_cu12-12.4.5.8-py3-none-manylinux2014_x86_64.whl.metadata (1.5 kB)\n",
            "Collecting nvidia-cufft-cu12==11.2.1.3 (from torch->unstructured-inference>=0.8.6->unstructured[all-docs])\n",
            "  Downloading nvidia_cufft_cu12-11.2.1.3-py3-none-manylinux2014_x86_64.whl.metadata (1.5 kB)\n",
            "Collecting nvidia-curand-cu12==10.3.5.147 (from torch->unstructured-inference>=0.8.6->unstructured[all-docs])\n",
            "  Downloading nvidia_curand_cu12-10.3.5.147-py3-none-manylinux2014_x86_64.whl.metadata (1.5 kB)\n",
            "Collecting nvidia-cusolver-cu12==11.6.1.9 (from torch->unstructured-inference>=0.8.6->unstructured[all-docs])\n",
            "  Downloading nvidia_cusolver_cu12-11.6.1.9-py3-none-manylinux2014_x86_64.whl.metadata (1.6 kB)\n",
            "Collecting nvidia-cusparse-cu12==12.3.1.170 (from torch->unstructured-inference>=0.8.6->unstructured[all-docs])\n",
            "  Downloading nvidia_cusparse_cu12-12.3.1.170-py3-none-manylinux2014_x86_64.whl.metadata (1.6 kB)\n",
            "Requirement already satisfied: nvidia-nccl-cu12==2.21.5 in /usr/local/lib/python3.11/dist-packages (from torch->unstructured-inference>=0.8.6->unstructured[all-docs]) (2.21.5)\n",
            "Requirement already satisfied: nvidia-nvtx-cu12==12.4.127 in /usr/local/lib/python3.11/dist-packages (from torch->unstructured-inference>=0.8.6->unstructured[all-docs]) (12.4.127)\n",
            "Collecting nvidia-nvjitlink-cu12==12.4.127 (from torch->unstructured-inference>=0.8.6->unstructured[all-docs])\n",
            "  Downloading nvidia_nvjitlink_cu12-12.4.127-py3-none-manylinux2014_x86_64.whl.metadata (1.5 kB)\n",
            "Requirement already satisfied: triton==3.1.0 in /usr/local/lib/python3.11/dist-packages (from torch->unstructured-inference>=0.8.6->unstructured[all-docs]) (3.1.0)\n",
            "Requirement already satisfied: mpmath<1.4,>=1.1.0 in /usr/local/lib/python3.11/dist-packages (from sympy->onnxruntime>=1.14.1->chromadb!=0.5.10,!=0.5.11,!=0.5.12,!=0.5.4,!=0.5.5,!=0.5.7,!=0.5.9,<0.7.0,>=0.4.0->langchain-chroma) (1.3.0)\n",
            "Requirement already satisfied: shellingham>=1.3.0 in /usr/local/lib/python3.11/dist-packages (from typer>=0.9.0->chromadb!=0.5.10,!=0.5.11,!=0.5.12,!=0.5.4,!=0.5.5,!=0.5.7,!=0.5.9,<0.7.0,>=0.4.0->langchain-chroma) (1.5.4)\n",
            "Collecting mypy-extensions>=0.3.0 (from typing-inspect<1,>=0.4.0->dataclasses-json->unstructured[all-docs])\n",
            "  Downloading mypy_extensions-1.0.0-py3-none-any.whl.metadata (1.1 kB)\n",
            "Collecting httptools>=0.6.3 (from uvicorn[standard]>=0.18.3->chromadb!=0.5.10,!=0.5.11,!=0.5.12,!=0.5.4,!=0.5.5,!=0.5.7,!=0.5.9,<0.7.0,>=0.4.0->langchain-chroma)\n",
            "  Downloading httptools-0.6.4-cp311-cp311-manylinux_2_5_x86_64.manylinux1_x86_64.manylinux_2_17_x86_64.manylinux2014_x86_64.whl.metadata (3.6 kB)\n",
            "Collecting python-dotenv>=0.13 (from uvicorn[standard]>=0.18.3->chromadb!=0.5.10,!=0.5.11,!=0.5.12,!=0.5.4,!=0.5.5,!=0.5.7,!=0.5.9,<0.7.0,>=0.4.0->langchain-chroma)\n",
            "  Downloading python_dotenv-1.0.1-py3-none-any.whl.metadata (23 kB)\n",
            "Collecting uvloop!=0.15.0,!=0.15.1,>=0.14.0 (from uvicorn[standard]>=0.18.3->chromadb!=0.5.10,!=0.5.11,!=0.5.12,!=0.5.4,!=0.5.5,!=0.5.7,!=0.5.9,<0.7.0,>=0.4.0->langchain-chroma)\n",
            "  Downloading uvloop-0.21.0-cp311-cp311-manylinux_2_17_x86_64.manylinux2014_x86_64.whl.metadata (4.9 kB)\n",
            "Collecting watchfiles>=0.13 (from uvicorn[standard]>=0.18.3->chromadb!=0.5.10,!=0.5.11,!=0.5.12,!=0.5.4,!=0.5.5,!=0.5.7,!=0.5.9,<0.7.0,>=0.4.0->langchain-chroma)\n",
            "  Downloading watchfiles-1.0.4-cp311-cp311-manylinux_2_17_x86_64.manylinux2014_x86_64.whl.metadata (4.9 kB)\n",
            "Requirement already satisfied: websockets>=10.4 in /usr/local/lib/python3.11/dist-packages (from uvicorn[standard]>=0.18.3->chromadb!=0.5.10,!=0.5.11,!=0.5.12,!=0.5.4,!=0.5.5,!=0.5.7,!=0.5.9,<0.7.0,>=0.4.0->langchain-chroma) (14.2)\n",
            "Requirement already satisfied: sniffio>=1.1 in /usr/local/lib/python3.11/dist-packages (from anyio->httpx>=0.27.0->chromadb!=0.5.10,!=0.5.11,!=0.5.12,!=0.5.4,!=0.5.5,!=0.5.7,!=0.5.9,<0.7.0,>=0.4.0->langchain-chroma) (1.3.1)\n",
            "Requirement already satisfied: pycparser in /usr/local/lib/python3.11/dist-packages (from cffi>=1.12->cryptography>=36.0.0->pdfminer.six->unstructured[all-docs]) (2.22)\n",
            "Requirement already satisfied: zipp>=3.20 in /usr/local/lib/python3.11/dist-packages (from importlib-metadata<=8.5.0,>=6.0->opentelemetry-api>=1.2.0->chromadb!=0.5.10,!=0.5.11,!=0.5.12,!=0.5.4,!=0.5.5,!=0.5.7,!=0.5.9,<0.7.0,>=0.4.0->langchain-chroma) (3.21.0)\n",
            "Requirement already satisfied: mdurl~=0.1 in /usr/local/lib/python3.11/dist-packages (from markdown-it-py>=2.2.0->rich>=10.11.0->chromadb!=0.5.10,!=0.5.11,!=0.5.12,!=0.5.4,!=0.5.5,!=0.5.7,!=0.5.9,<0.7.0,>=0.4.0->langchain-chroma) (0.1.2)\n",
            "Requirement already satisfied: pyasn1<0.7.0,>=0.4.6 in /usr/local/lib/python3.11/dist-packages (from pyasn1-modules>=0.2.1->google-auth!=2.24.0,!=2.25.0,<3.0.0dev,>=2.14.1->google-cloud-vision->unstructured[all-docs]) (0.6.1)\n",
            "Collecting humanfriendly>=9.1 (from coloredlogs->onnxruntime>=1.14.1->chromadb!=0.5.10,!=0.5.11,!=0.5.12,!=0.5.4,!=0.5.5,!=0.5.7,!=0.5.9,<0.7.0,>=0.4.0->langchain-chroma)\n",
            "  Downloading humanfriendly-10.0-py2.py3-none-any.whl.metadata (9.2 kB)\n",
            "Requirement already satisfied: MarkupSafe>=2.0 in /usr/local/lib/python3.11/dist-packages (from jinja2->torch->unstructured-inference>=0.8.6->unstructured[all-docs]) (3.0.2)\n",
            "Downloading langchain_chroma-0.2.1-py3-none-any.whl (11 kB)\n",
            "Downloading chromadb-0.6.3-py3-none-any.whl (611 kB)\n",
            "\u001b[2K   \u001b[90m━━━━━━━━━━━━━━━━━━━━━━━━━━━━━━━━━━━━━━━━\u001b[0m \u001b[32m611.1/611.1 kB\u001b[0m \u001b[31m51.7 MB/s\u001b[0m eta \u001b[36m0:00:00\u001b[0m\n",
            "\u001b[?25hDownloading chroma_hnswlib-0.7.6-cp311-cp311-manylinux_2_17_x86_64.manylinux2014_x86_64.whl (2.4 MB)\n",
            "\u001b[2K   \u001b[90m━━━━━━━━━━━━━━━━━━━━━━━━━━━━━━━━━━━━━━━━\u001b[0m \u001b[32m2.4/2.4 MB\u001b[0m \u001b[31m77.1 MB/s\u001b[0m eta \u001b[36m0:00:00\u001b[0m\n",
            "\u001b[?25hDownloading fastapi-0.115.8-py3-none-any.whl (94 kB)\n",
            "\u001b[2K   \u001b[90m━━━━━━━━━━━━━━━━━━━━━━━━━━━━━━━━━━━━━━━━\u001b[0m \u001b[32m94.8/94.8 kB\u001b[0m \u001b[31m11.0 MB/s\u001b[0m eta \u001b[36m0:00:00\u001b[0m\n",
            "\u001b[?25hDownloading python_docx-1.1.2-py3-none-any.whl (244 kB)\n",
            "\u001b[2K   \u001b[90m━━━━━━━━━━━━━━━━━━━━━━━━━━━━━━━━━━━━━━━━\u001b[0m \u001b[32m244.3/244.3 kB\u001b[0m \u001b[31m25.6 MB/s\u001b[0m eta \u001b[36m0:00:00\u001b[0m\n",
            "\u001b[?25hDownloading python_pptx-1.0.2-py3-none-any.whl (472 kB)\n",
            "\u001b[2K   \u001b[90m━━━━━━━━━━━━━━━━━━━━━━━━━━━━━━━━━━━━━━━━\u001b[0m \u001b[32m472.8/472.8 kB\u001b[0m \u001b[31m43.7 MB/s\u001b[0m eta \u001b[36m0:00:00\u001b[0m\n",
            "\u001b[?25hDownloading unstructured_inference-0.8.7-py3-none-any.whl (48 kB)\n",
            "\u001b[2K   \u001b[90m━━━━━━━━━━━━━━━━━━━━━━━━━━━━━━━━━━━━━━━━\u001b[0m \u001b[32m48.8/48.8 kB\u001b[0m \u001b[31m5.2 MB/s\u001b[0m eta \u001b[36m0:00:00\u001b[0m\n",
            "\u001b[?25hDownloading pdfminer.six-20240706-py3-none-any.whl (5.6 MB)\n",
            "\u001b[2K   \u001b[90m━━━━━━━━━━━━━━━━━━━━━━━━━━━━━━━━━━━━━━━━\u001b[0m \u001b[32m5.6/5.6 MB\u001b[0m \u001b[31m118.6 MB/s\u001b[0m eta \u001b[36m0:00:00\u001b[0m\n",
            "\u001b[?25hDownloading unstructured.pytesseract-0.3.13-py3-none-any.whl (14 kB)\n",
            "Downloading backoff-2.2.1-py3-none-any.whl (15 kB)\n",
            "Downloading dataclasses_json-0.6.7-py3-none-any.whl (28 kB)\n",
            "Downloading effdet-0.4.1-py3-none-any.whl (112 kB)\n",
            "\u001b[2K   \u001b[90m━━━━━━━━━━━━━━━━━━━━━━━━━━━━━━━━━━━━━━━━\u001b[0m \u001b[32m112.5/112.5 kB\u001b[0m \u001b[31m13.1 MB/s\u001b[0m eta \u001b[36m0:00:00\u001b[0m\n",
            "\u001b[?25hDownloading emoji-2.14.1-py3-none-any.whl (590 kB)\n",
            "\u001b[2K   \u001b[90m━━━━━━━━━━━━━━━━━━━━━━━━━━━━━━━━━━━━━━━━\u001b[0m \u001b[32m590.6/590.6 kB\u001b[0m \u001b[31m47.9 MB/s\u001b[0m eta \u001b[36m0:00:00\u001b[0m\n",
            "\u001b[?25hDownloading filetype-1.2.0-py2.py3-none-any.whl (19 kB)\n",
            "Downloading google_cloud_vision-3.9.0-py2.py3-none-any.whl (514 kB)\n",
            "\u001b[2K   \u001b[90m━━━━━━━━━━━━━━━━━━━━━━━━━━━━━━━━━━━━━━━━\u001b[0m \u001b[32m514.6/514.6 kB\u001b[0m \u001b[31m43.2 MB/s\u001b[0m eta \u001b[36m0:00:00\u001b[0m\n",
            "\u001b[?25hDownloading onnx-1.17.0-cp311-cp311-manylinux_2_17_x86_64.manylinux2014_x86_64.whl (16.0 MB)\n",
            "\u001b[2K   \u001b[90m━━━━━━━━━━━━━━━━━━━━━━━━━━━━━━━━━━━━━━━━\u001b[0m \u001b[32m16.0/16.0 MB\u001b[0m \u001b[31m78.0 MB/s\u001b[0m eta \u001b[36m0:00:00\u001b[0m\n",
            "\u001b[?25hDownloading pdf2image-1.17.0-py3-none-any.whl (11 kB)\n",
            "Downloading pi_heif-0.21.0-cp311-cp311-manylinux_2_17_x86_64.manylinux2014_x86_64.whl (1.2 MB)\n",
            "\u001b[2K   \u001b[90m━━━━━━━━━━━━━━━━━━━━━━━━━━━━━━━━━━━━━━━━\u001b[0m \u001b[32m1.2/1.2 MB\u001b[0m \u001b[31m65.7 MB/s\u001b[0m eta \u001b[36m0:00:00\u001b[0m\n",
            "\u001b[?25hDownloading pikepdf-9.5.2-cp311-cp311-manylinux_2_17_x86_64.manylinux2014_x86_64.whl (2.4 MB)\n",
            "\u001b[2K   \u001b[90m━━━━━━━━━━━━━━━━━━━━━━━━━━━━━━━━━━━━━━━━\u001b[0m \u001b[32m2.4/2.4 MB\u001b[0m \u001b[31m88.1 MB/s\u001b[0m eta \u001b[36m0:00:00\u001b[0m\n",
            "\u001b[?25hDownloading pypandoc-1.15-py3-none-any.whl (21 kB)\n",
            "Downloading pypdf-5.3.0-py3-none-any.whl (300 kB)\n",
            "\u001b[2K   \u001b[90m━━━━━━━━━━━━━━━━━━━━━━━━━━━━━━━━━━━━━━━━\u001b[0m \u001b[32m300.7/300.7 kB\u001b[0m \u001b[31m25.9 MB/s\u001b[0m eta \u001b[36m0:00:00\u001b[0m\n",
            "\u001b[?25hDownloading python_iso639-2025.2.8-py3-none-any.whl (167 kB)\n",
            "\u001b[2K   \u001b[90m━━━━━━━━━━━━━━━━━━━━━━━━━━━━━━━━━━━━━━━━\u001b[0m \u001b[32m167.1/167.1 kB\u001b[0m \u001b[31m17.4 MB/s\u001b[0m eta \u001b[36m0:00:00\u001b[0m\n",
            "\u001b[?25hDownloading python_magic-0.4.27-py2.py3-none-any.whl (13 kB)\n",
            "Downloading python_oxmsg-0.0.2-py3-none-any.whl (31 kB)\n",
            "Downloading rapidfuzz-3.12.1-cp311-cp311-manylinux_2_17_x86_64.manylinux2014_x86_64.whl (3.1 MB)\n",
            "\u001b[2K   \u001b[90m━━━━━━━━━━━━━━━━━━━━━━━━━━━━━━━━━━━━━━━━\u001b[0m \u001b[32m3.1/3.1 MB\u001b[0m \u001b[31m108.6 MB/s\u001b[0m eta \u001b[36m0:00:00\u001b[0m\n",
            "\u001b[?25hDownloading unstructured-0.16.20-py3-none-any.whl (1.8 MB)\n",
            "\u001b[2K   \u001b[90m━━━━━━━━━━━━━━━━━━━━━━━━━━━━━━━━━━━━━━━━\u001b[0m \u001b[32m1.8/1.8 MB\u001b[0m \u001b[31m69.8 MB/s\u001b[0m eta \u001b[36m0:00:00\u001b[0m\n",
            "\u001b[?25hDownloading unstructured_client-0.29.0-py3-none-any.whl (63 kB)\n",
            "\u001b[2K   \u001b[90m━━━━━━━━━━━━━━━━━━━━━━━━━━━━━━━━━━━━━━━━\u001b[0m \u001b[32m63.6/63.6 kB\u001b[0m \u001b[31m6.5 MB/s\u001b[0m eta \u001b[36m0:00:00\u001b[0m\n",
            "\u001b[?25hDownloading aiofiles-24.1.0-py3-none-any.whl (15 kB)\n",
            "Downloading bcrypt-4.2.1-cp39-abi3-manylinux_2_28_x86_64.whl (278 kB)\n",
            "\u001b[2K   \u001b[90m━━━━━━━━━━━━━━━━━━━━━━━━━━━━━━━━━━━━━━━━\u001b[0m \u001b[32m278.6/278.6 kB\u001b[0m \u001b[31m25.1 MB/s\u001b[0m eta \u001b[36m0:00:00\u001b[0m\n",
            "\u001b[?25hDownloading build-1.2.2.post1-py3-none-any.whl (22 kB)\n",
            "Downloading eval_type_backport-0.2.2-py3-none-any.whl (5.8 kB)\n",
            "Downloading jsonpath_python-1.0.6-py3-none-any.whl (7.6 kB)\n",
            "Downloading kubernetes-32.0.0-py2.py3-none-any.whl (2.0 MB)\n",
            "\u001b[2K   \u001b[90m━━━━━━━━━━━━━━━━━━━━━━━━━━━━━━━━━━━━━━━━\u001b[0m \u001b[32m2.0/2.0 MB\u001b[0m \u001b[31m82.1 MB/s\u001b[0m eta \u001b[36m0:00:00\u001b[0m\n",
            "\u001b[?25hDownloading marshmallow-3.26.1-py3-none-any.whl (50 kB)\n",
            "\u001b[2K   \u001b[90m━━━━━━━━━━━━━━━━━━━━━━━━━━━━━━━━━━━━━━━━\u001b[0m \u001b[32m50.9/50.9 kB\u001b[0m \u001b[31m5.5 MB/s\u001b[0m eta \u001b[36m0:00:00\u001b[0m\n",
            "\u001b[?25hDownloading mmh3-5.1.0-cp311-cp311-manylinux_2_5_x86_64.manylinux1_x86_64.manylinux_2_17_x86_64.manylinux2014_x86_64.whl (101 kB)\n",
            "\u001b[2K   \u001b[90m━━━━━━━━━━━━━━━━━━━━━━━━━━━━━━━━━━━━━━━━\u001b[0m \u001b[32m101.6/101.6 kB\u001b[0m \u001b[31m11.3 MB/s\u001b[0m eta \u001b[36m0:00:00\u001b[0m\n",
            "\u001b[?25hDownloading omegaconf-2.3.0-py3-none-any.whl (79 kB)\n",
            "\u001b[2K   \u001b[90m━━━━━━━━━━━━━━━━━━━━━━━━━━━━━━━━━━━━━━━━\u001b[0m \u001b[32m79.5/79.5 kB\u001b[0m \u001b[31m9.2 MB/s\u001b[0m eta \u001b[36m0:00:00\u001b[0m\n",
            "\u001b[?25hDownloading onnxruntime-1.20.1-cp311-cp311-manylinux_2_27_x86_64.manylinux_2_28_x86_64.whl (13.3 MB)\n",
            "\u001b[2K   \u001b[90m━━━━━━━━━━━━━━━━━━━━━━━━━━━━━━━━━━━━━━━━\u001b[0m \u001b[32m13.3/13.3 MB\u001b[0m \u001b[31m106.9 MB/s\u001b[0m eta \u001b[36m0:00:00\u001b[0m\n",
            "\u001b[?25hDownloading opentelemetry_exporter_otlp_proto_grpc-1.30.0-py3-none-any.whl (18 kB)\n",
            "Downloading opentelemetry_exporter_otlp_proto_common-1.30.0-py3-none-any.whl (18 kB)\n",
            "Downloading opentelemetry_proto-1.30.0-py3-none-any.whl (55 kB)\n",
            "\u001b[2K   \u001b[90m━━━━━━━━━━━━━━━━━━━━━━━━━━━━━━━━━━━━━━━━\u001b[0m \u001b[32m55.9/55.9 kB\u001b[0m \u001b[31m6.1 MB/s\u001b[0m eta \u001b[36m0:00:00\u001b[0m\n",
            "\u001b[?25hDownloading opentelemetry_instrumentation_fastapi-0.51b0-py3-none-any.whl (12 kB)\n",
            "Downloading opentelemetry_instrumentation-0.51b0-py3-none-any.whl (30 kB)\n",
            "Downloading opentelemetry_instrumentation_asgi-0.51b0-py3-none-any.whl (16 kB)\n",
            "Downloading opentelemetry_semantic_conventions-0.51b0-py3-none-any.whl (177 kB)\n",
            "\u001b[2K   \u001b[90m━━━━━━━━━━━━━━━━━━━━━━━━━━━━━━━━━━━━━━━━\u001b[0m \u001b[32m177.4/177.4 kB\u001b[0m \u001b[31m17.7 MB/s\u001b[0m eta \u001b[36m0:00:00\u001b[0m\n",
            "\u001b[?25hDownloading opentelemetry_api-1.30.0-py3-none-any.whl (64 kB)\n",
            "\u001b[2K   \u001b[90m━━━━━━━━━━━━━━━━━━━━━━━━━━━━━━━━━━━━━━━━\u001b[0m \u001b[32m65.0/65.0 kB\u001b[0m \u001b[31m6.4 MB/s\u001b[0m eta \u001b[36m0:00:00\u001b[0m\n",
            "\u001b[?25hDownloading opentelemetry_util_http-0.51b0-py3-none-any.whl (7.3 kB)\n",
            "Downloading opentelemetry_sdk-1.30.0-py3-none-any.whl (118 kB)\n",
            "\u001b[2K   \u001b[90m━━━━━━━━━━━━━━━━━━━━━━━━━━━━━━━━━━━━━━━━\u001b[0m \u001b[32m118.7/118.7 kB\u001b[0m \u001b[31m13.5 MB/s\u001b[0m eta \u001b[36m0:00:00\u001b[0m\n",
            "\u001b[?25hDownloading overrides-7.7.0-py3-none-any.whl (17 kB)\n",
            "Downloading posthog-3.12.0-py2.py3-none-any.whl (72 kB)\n",
            "\u001b[2K   \u001b[90m━━━━━━━━━━━━━━━━━━━━━━━━━━━━━━━━━━━━━━━━\u001b[0m \u001b[32m72.4/72.4 kB\u001b[0m \u001b[31m8.3 MB/s\u001b[0m eta \u001b[36m0:00:00\u001b[0m\n",
            "\u001b[?25hDownloading protobuf-5.29.3-cp38-abi3-manylinux2014_x86_64.whl (319 kB)\n",
            "\u001b[2K   \u001b[90m━━━━━━━━━━━━━━━━━━━━━━━━━━━━━━━━━━━━━━━━\u001b[0m \u001b[32m319.7/319.7 kB\u001b[0m \u001b[31m30.7 MB/s\u001b[0m eta \u001b[36m0:00:00\u001b[0m\n",
            "\u001b[?25hDownloading starlette-0.45.3-py3-none-any.whl (71 kB)\n",
            "\u001b[2K   \u001b[90m━━━━━━━━━━━━━━━━━━━━━━━━━━━━━━━━━━━━━━━━\u001b[0m \u001b[32m71.5/71.5 kB\u001b[0m \u001b[31m7.2 MB/s\u001b[0m eta \u001b[36m0:00:00\u001b[0m\n",
            "\u001b[?25hDownloading nvidia_cublas_cu12-12.4.5.8-py3-none-manylinux2014_x86_64.whl (363.4 MB)\n",
            "\u001b[2K   \u001b[90m━━━━━━━━━━━━━━━━━━━━━━━━━━━━━━━━━━━━━━━━\u001b[0m \u001b[32m363.4/363.4 MB\u001b[0m \u001b[31m3.6 MB/s\u001b[0m eta \u001b[36m0:00:00\u001b[0m\n",
            "\u001b[?25hDownloading nvidia_cuda_cupti_cu12-12.4.127-py3-none-manylinux2014_x86_64.whl (13.8 MB)\n",
            "\u001b[2K   \u001b[90m━━━━━━━━━━━━━━━━━━━━━━━━━━━━━━━━━━━━━━━━\u001b[0m \u001b[32m13.8/13.8 MB\u001b[0m \u001b[31m52.4 MB/s\u001b[0m eta \u001b[36m0:00:00\u001b[0m\n",
            "\u001b[?25hDownloading nvidia_cuda_nvrtc_cu12-12.4.127-py3-none-manylinux2014_x86_64.whl (24.6 MB)\n",
            "\u001b[2K   \u001b[90m━━━━━━━━━━━━━━━━━━━━━━━━━━━━━━━━━━━━━━━━\u001b[0m \u001b[32m24.6/24.6 MB\u001b[0m \u001b[31m55.4 MB/s\u001b[0m eta \u001b[36m0:00:00\u001b[0m\n",
            "\u001b[?25hDownloading nvidia_cuda_runtime_cu12-12.4.127-py3-none-manylinux2014_x86_64.whl (883 kB)\n",
            "\u001b[2K   \u001b[90m━━━━━━━━━━━━━━━━━━━━━━━━━━━━━━━━━━━━━━━━\u001b[0m \u001b[32m883.7/883.7 kB\u001b[0m \u001b[31m34.7 MB/s\u001b[0m eta \u001b[36m0:00:00\u001b[0m\n",
            "\u001b[?25hDownloading nvidia_cudnn_cu12-9.1.0.70-py3-none-manylinux2014_x86_64.whl (664.8 MB)\n",
            "\u001b[2K   \u001b[90m━━━━━━━━━━━━━━━━━━━━━━━━━━━━━━━━━━━━━━━━\u001b[0m \u001b[32m664.8/664.8 MB\u001b[0m \u001b[31m2.6 MB/s\u001b[0m eta \u001b[36m0:00:00\u001b[0m\n",
            "\u001b[?25hDownloading nvidia_cufft_cu12-11.2.1.3-py3-none-manylinux2014_x86_64.whl (211.5 MB)\n",
            "\u001b[2K   \u001b[90m━━━━━━━━━━━━━━━━━━━━━━━━━━━━━━━━━━━━━━━━\u001b[0m \u001b[32m211.5/211.5 MB\u001b[0m \u001b[31m5.8 MB/s\u001b[0m eta \u001b[36m0:00:00\u001b[0m\n",
            "\u001b[?25hDownloading nvidia_curand_cu12-10.3.5.147-py3-none-manylinux2014_x86_64.whl (56.3 MB)\n",
            "\u001b[2K   \u001b[90m━━━━━━━━━━━━━━━━━━━━━━━━━━━━━━━━━━━━━━━━\u001b[0m \u001b[32m56.3/56.3 MB\u001b[0m \u001b[31m14.4 MB/s\u001b[0m eta \u001b[36m0:00:00\u001b[0m\n",
            "\u001b[?25hDownloading nvidia_cusolver_cu12-11.6.1.9-py3-none-manylinux2014_x86_64.whl (127.9 MB)\n",
            "\u001b[2K   \u001b[90m━━━━━━━━━━━━━━━━━━━━━━━━━━━━━━━━━━━━━━━━\u001b[0m \u001b[32m127.9/127.9 MB\u001b[0m \u001b[31m6.9 MB/s\u001b[0m eta \u001b[36m0:00:00\u001b[0m\n",
            "\u001b[?25hDownloading nvidia_cusparse_cu12-12.3.1.170-py3-none-manylinux2014_x86_64.whl (207.5 MB)\n",
            "\u001b[2K   \u001b[90m━━━━━━━━━━━━━━━━━━━━━━━━━━━━━━━━━━━━━━━━\u001b[0m \u001b[32m207.5/207.5 MB\u001b[0m \u001b[31m5.5 MB/s\u001b[0m eta \u001b[36m0:00:00\u001b[0m\n",
            "\u001b[?25hDownloading nvidia_nvjitlink_cu12-12.4.127-py3-none-manylinux2014_x86_64.whl (21.1 MB)\n",
            "\u001b[2K   \u001b[90m━━━━━━━━━━━━━━━━━━━━━━━━━━━━━━━━━━━━━━━━\u001b[0m \u001b[32m21.1/21.1 MB\u001b[0m \u001b[31m52.2 MB/s\u001b[0m eta \u001b[36m0:00:00\u001b[0m\n",
            "\u001b[?25hDownloading typing_inspect-0.9.0-py3-none-any.whl (8.8 kB)\n",
            "Downloading uvicorn-0.34.0-py3-none-any.whl (62 kB)\n",
            "\u001b[2K   \u001b[90m━━━━━━━━━━━━━━━━━━━━━━━━━━━━━━━━━━━━━━━━\u001b[0m \u001b[32m62.3/62.3 kB\u001b[0m \u001b[31m5.7 MB/s\u001b[0m eta \u001b[36m0:00:00\u001b[0m\n",
            "\u001b[?25hDownloading XlsxWriter-3.2.2-py3-none-any.whl (165 kB)\n",
            "\u001b[2K   \u001b[90m━━━━━━━━━━━━━━━━━━━━━━━━━━━━━━━━━━━━━━━━\u001b[0m \u001b[32m165.1/165.1 kB\u001b[0m \u001b[31m11.7 MB/s\u001b[0m eta \u001b[36m0:00:00\u001b[0m\n",
            "\u001b[?25hDownloading olefile-0.47-py2.py3-none-any.whl (114 kB)\n",
            "\u001b[2K   \u001b[90m━━━━━━━━━━━━━━━━━━━━━━━━━━━━━━━━━━━━━━━━\u001b[0m \u001b[32m114.6/114.6 kB\u001b[0m \u001b[31m10.8 MB/s\u001b[0m eta \u001b[36m0:00:00\u001b[0m\n",
            "\u001b[?25hDownloading pypdfium2-4.30.1-py3-none-manylinux_2_17_x86_64.manylinux2014_x86_64.whl (2.9 MB)\n",
            "\u001b[2K   \u001b[90m━━━━━━━━━━━━━━━━━━━━━━━━━━━━━━━━━━━━━━━━\u001b[0m \u001b[32m2.9/2.9 MB\u001b[0m \u001b[31m63.8 MB/s\u001b[0m eta \u001b[36m0:00:00\u001b[0m\n",
            "\u001b[?25hDownloading python_multipart-0.0.20-py3-none-any.whl (24 kB)\n",
            "Downloading durationpy-0.9-py3-none-any.whl (3.5 kB)\n",
            "Downloading httptools-0.6.4-cp311-cp311-manylinux_2_5_x86_64.manylinux1_x86_64.manylinux_2_17_x86_64.manylinux2014_x86_64.whl (459 kB)\n",
            "\u001b[2K   \u001b[90m━━━━━━━━━━━━━━━━━━━━━━━━━━━━━━━━━━━━━━━━\u001b[0m \u001b[32m459.8/459.8 kB\u001b[0m \u001b[31m35.8 MB/s\u001b[0m eta \u001b[36m0:00:00\u001b[0m\n",
            "\u001b[?25hDownloading importlib_metadata-8.5.0-py3-none-any.whl (26 kB)\n",
            "Downloading monotonic-1.6-py2.py3-none-any.whl (8.2 kB)\n",
            "Downloading mypy_extensions-1.0.0-py3-none-any.whl (4.7 kB)\n",
            "Downloading python_dotenv-1.0.1-py3-none-any.whl (19 kB)\n",
            "Downloading uvloop-0.21.0-cp311-cp311-manylinux_2_17_x86_64.manylinux2014_x86_64.whl (4.0 MB)\n",
            "\u001b[2K   \u001b[90m━━━━━━━━━━━━━━━━━━━━━━━━━━━━━━━━━━━━━━━━\u001b[0m \u001b[32m4.0/4.0 MB\u001b[0m \u001b[31m51.1 MB/s\u001b[0m eta \u001b[36m0:00:00\u001b[0m\n",
            "\u001b[?25hDownloading watchfiles-1.0.4-cp311-cp311-manylinux_2_17_x86_64.manylinux2014_x86_64.whl (452 kB)\n",
            "\u001b[2K   \u001b[90m━━━━━━━━━━━━━━━━━━━━━━━━━━━━━━━━━━━━━━━━\u001b[0m \u001b[32m452.6/452.6 kB\u001b[0m \u001b[31m41.2 MB/s\u001b[0m eta \u001b[36m0:00:00\u001b[0m\n",
            "\u001b[?25hDownloading coloredlogs-15.0.1-py2.py3-none-any.whl (46 kB)\n",
            "\u001b[2K   \u001b[90m━━━━━━━━━━━━━━━━━━━━━━━━━━━━━━━━━━━━━━━━\u001b[0m \u001b[32m46.0/46.0 kB\u001b[0m \u001b[31m4.8 MB/s\u001b[0m eta \u001b[36m0:00:00\u001b[0m\n",
            "\u001b[?25hDownloading pyproject_hooks-1.2.0-py3-none-any.whl (10 kB)\n",
            "Downloading asgiref-3.8.1-py3-none-any.whl (23 kB)\n",
            "Downloading humanfriendly-10.0-py2.py3-none-any.whl (86 kB)\n",
            "\u001b[2K   \u001b[90m━━━━━━━━━━━━━━━━━━━━━━━━━━━━━━━━━━━━━━━━\u001b[0m \u001b[32m86.8/86.8 kB\u001b[0m \u001b[31m11.0 MB/s\u001b[0m eta \u001b[36m0:00:00\u001b[0m\n",
            "\u001b[?25hBuilding wheels for collected packages: langdetect, antlr4-python3-runtime, pypika\n",
            "  Building wheel for langdetect (setup.py) ... \u001b[?25l\u001b[?25hdone\n",
            "  Created wheel for langdetect: filename=langdetect-1.0.9-py3-none-any.whl size=993222 sha256=67e546a818699a6439eb083a2b31bd36be4c5e85c76edda47815fa6501c0e636\n",
            "  Stored in directory: /root/.cache/pip/wheels/0a/f2/b2/e5ca405801e05eb7c8ed5b3b4bcf1fcabcd6272c167640072e\n",
            "  Building wheel for antlr4-python3-runtime (setup.py) ... \u001b[?25l\u001b[?25hdone\n",
            "  Created wheel for antlr4-python3-runtime: filename=antlr4_python3_runtime-4.9.3-py3-none-any.whl size=144555 sha256=8959f388c16fe895f346a0036023fadc90145c65ef44ccc6eb06ad057f639c1b\n",
            "  Stored in directory: /root/.cache/pip/wheels/1a/97/32/461f837398029ad76911109f07047fde1d7b661a147c7c56d1\n",
            "  Building wheel for pypika (pyproject.toml) ... \u001b[?25l\u001b[?25hdone\n",
            "  Created wheel for pypika: filename=PyPika-0.48.9-py2.py3-none-any.whl size=53771 sha256=1389848568100010dc5293923d900ae7bb36652946af1a0503f463d1900388ee\n",
            "  Stored in directory: /root/.cache/pip/wheels/a3/01/bd/4c40ceb9d5354160cb186dcc153360f4ab7eb23e2b24daf96d\n",
            "Successfully built langdetect antlr4-python3-runtime pypika\n",
            "Installing collected packages: pypika, monotonic, filetype, durationpy, antlr4-python3-runtime, XlsxWriter, uvloop, uvicorn, unstructured.pytesseract, rapidfuzz, python-multipart, python-magic, python-iso639, python-dotenv, python-docx, pyproject_hooks, pypdfium2, pypdf, pypandoc, protobuf, pi-heif, pdf2image, overrides, opentelemetry-util-http, omegaconf, olefile, nvidia-nvjitlink-cu12, nvidia-curand-cu12, nvidia-cufft-cu12, nvidia-cuda-runtime-cu12, nvidia-cuda-nvrtc-cu12, nvidia-cuda-cupti-cu12, nvidia-cublas-cu12, mypy-extensions, mmh3, marshmallow, langdetect, jsonpath-python, importlib-metadata, humanfriendly, httptools, eval-type-backport, emoji, chroma-hnswlib, bcrypt, backoff, asgiref, aiofiles, watchfiles, typing-inspect, starlette, python-pptx, python-oxmsg, posthog, pikepdf, opentelemetry-proto, opentelemetry-api, onnx, nvidia-cusparse-cu12, nvidia-cudnn-cu12, coloredlogs, build, unstructured-client, pdfminer.six, opentelemetry-semantic-conventions, opentelemetry-exporter-otlp-proto-common, onnxruntime, nvidia-cusolver-cu12, kubernetes, fastapi, dataclasses-json, unstructured, opentelemetry-sdk, opentelemetry-instrumentation, opentelemetry-instrumentation-asgi, opentelemetry-exporter-otlp-proto-grpc, google-cloud-vision, opentelemetry-instrumentation-fastapi, unstructured-inference, effdet, chromadb, langchain-chroma\n",
            "  Attempting uninstall: protobuf\n",
            "    Found existing installation: protobuf 4.25.6\n",
            "    Uninstalling protobuf-4.25.6:\n",
            "      Successfully uninstalled protobuf-4.25.6\n",
            "  Attempting uninstall: nvidia-nvjitlink-cu12\n",
            "    Found existing installation: nvidia-nvjitlink-cu12 12.5.82\n",
            "    Uninstalling nvidia-nvjitlink-cu12-12.5.82:\n",
            "      Successfully uninstalled nvidia-nvjitlink-cu12-12.5.82\n",
            "  Attempting uninstall: nvidia-curand-cu12\n",
            "    Found existing installation: nvidia-curand-cu12 10.3.6.82\n",
            "    Uninstalling nvidia-curand-cu12-10.3.6.82:\n",
            "      Successfully uninstalled nvidia-curand-cu12-10.3.6.82\n",
            "  Attempting uninstall: nvidia-cufft-cu12\n",
            "    Found existing installation: nvidia-cufft-cu12 11.2.3.61\n",
            "    Uninstalling nvidia-cufft-cu12-11.2.3.61:\n",
            "      Successfully uninstalled nvidia-cufft-cu12-11.2.3.61\n",
            "  Attempting uninstall: nvidia-cuda-runtime-cu12\n",
            "    Found existing installation: nvidia-cuda-runtime-cu12 12.5.82\n",
            "    Uninstalling nvidia-cuda-runtime-cu12-12.5.82:\n",
            "      Successfully uninstalled nvidia-cuda-runtime-cu12-12.5.82\n",
            "  Attempting uninstall: nvidia-cuda-nvrtc-cu12\n",
            "    Found existing installation: nvidia-cuda-nvrtc-cu12 12.5.82\n",
            "    Uninstalling nvidia-cuda-nvrtc-cu12-12.5.82:\n",
            "      Successfully uninstalled nvidia-cuda-nvrtc-cu12-12.5.82\n",
            "  Attempting uninstall: nvidia-cuda-cupti-cu12\n",
            "    Found existing installation: nvidia-cuda-cupti-cu12 12.5.82\n",
            "    Uninstalling nvidia-cuda-cupti-cu12-12.5.82:\n",
            "      Successfully uninstalled nvidia-cuda-cupti-cu12-12.5.82\n",
            "  Attempting uninstall: nvidia-cublas-cu12\n",
            "    Found existing installation: nvidia-cublas-cu12 12.5.3.2\n",
            "    Uninstalling nvidia-cublas-cu12-12.5.3.2:\n",
            "      Successfully uninstalled nvidia-cublas-cu12-12.5.3.2\n",
            "  Attempting uninstall: importlib-metadata\n",
            "    Found existing installation: importlib_metadata 8.6.1\n",
            "    Uninstalling importlib_metadata-8.6.1:\n",
            "      Successfully uninstalled importlib_metadata-8.6.1\n",
            "  Attempting uninstall: opentelemetry-api\n",
            "    Found existing installation: opentelemetry-api 1.16.0\n",
            "    Uninstalling opentelemetry-api-1.16.0:\n",
            "      Successfully uninstalled opentelemetry-api-1.16.0\n",
            "  Attempting uninstall: nvidia-cusparse-cu12\n",
            "    Found existing installation: nvidia-cusparse-cu12 12.5.1.3\n",
            "    Uninstalling nvidia-cusparse-cu12-12.5.1.3:\n",
            "      Successfully uninstalled nvidia-cusparse-cu12-12.5.1.3\n",
            "  Attempting uninstall: nvidia-cudnn-cu12\n",
            "    Found existing installation: nvidia-cudnn-cu12 9.3.0.75\n",
            "    Uninstalling nvidia-cudnn-cu12-9.3.0.75:\n",
            "      Successfully uninstalled nvidia-cudnn-cu12-9.3.0.75\n",
            "  Attempting uninstall: opentelemetry-semantic-conventions\n",
            "    Found existing installation: opentelemetry-semantic-conventions 0.37b0\n",
            "    Uninstalling opentelemetry-semantic-conventions-0.37b0:\n",
            "      Successfully uninstalled opentelemetry-semantic-conventions-0.37b0\n",
            "  Attempting uninstall: nvidia-cusolver-cu12\n",
            "    Found existing installation: nvidia-cusolver-cu12 11.6.3.83\n",
            "    Uninstalling nvidia-cusolver-cu12-11.6.3.83:\n",
            "      Successfully uninstalled nvidia-cusolver-cu12-11.6.3.83\n",
            "  Attempting uninstall: opentelemetry-sdk\n",
            "    Found existing installation: opentelemetry-sdk 1.16.0\n",
            "    Uninstalling opentelemetry-sdk-1.16.0:\n",
            "      Successfully uninstalled opentelemetry-sdk-1.16.0\n",
            "Successfully installed XlsxWriter-3.2.2 aiofiles-24.1.0 antlr4-python3-runtime-4.9.3 asgiref-3.8.1 backoff-2.2.1 bcrypt-4.2.1 build-1.2.2.post1 chroma-hnswlib-0.7.6 chromadb-0.6.3 coloredlogs-15.0.1 dataclasses-json-0.6.7 durationpy-0.9 effdet-0.4.1 emoji-2.14.1 eval-type-backport-0.2.2 fastapi-0.115.8 filetype-1.2.0 google-cloud-vision-3.9.0 httptools-0.6.4 humanfriendly-10.0 importlib-metadata-8.5.0 jsonpath-python-1.0.6 kubernetes-32.0.0 langchain-chroma-0.2.1 langdetect-1.0.9 marshmallow-3.26.1 mmh3-5.1.0 monotonic-1.6 mypy-extensions-1.0.0 nvidia-cublas-cu12-12.4.5.8 nvidia-cuda-cupti-cu12-12.4.127 nvidia-cuda-nvrtc-cu12-12.4.127 nvidia-cuda-runtime-cu12-12.4.127 nvidia-cudnn-cu12-9.1.0.70 nvidia-cufft-cu12-11.2.1.3 nvidia-curand-cu12-10.3.5.147 nvidia-cusolver-cu12-11.6.1.9 nvidia-cusparse-cu12-12.3.1.170 nvidia-nvjitlink-cu12-12.4.127 olefile-0.47 omegaconf-2.3.0 onnx-1.17.0 onnxruntime-1.20.1 opentelemetry-api-1.30.0 opentelemetry-exporter-otlp-proto-common-1.30.0 opentelemetry-exporter-otlp-proto-grpc-1.30.0 opentelemetry-instrumentation-0.51b0 opentelemetry-instrumentation-asgi-0.51b0 opentelemetry-instrumentation-fastapi-0.51b0 opentelemetry-proto-1.30.0 opentelemetry-sdk-1.30.0 opentelemetry-semantic-conventions-0.51b0 opentelemetry-util-http-0.51b0 overrides-7.7.0 pdf2image-1.17.0 pdfminer.six-20240706 pi-heif-0.21.0 pikepdf-9.5.2 posthog-3.12.0 protobuf-5.29.3 pypandoc-1.15 pypdf-5.3.0 pypdfium2-4.30.1 pypika-0.48.9 pyproject_hooks-1.2.0 python-docx-1.1.2 python-dotenv-1.0.1 python-iso639-2025.2.8 python-magic-0.4.27 python-multipart-0.0.20 python-oxmsg-0.0.2 python-pptx-1.0.2 rapidfuzz-3.12.1 starlette-0.45.3 typing-inspect-0.9.0 unstructured-0.16.20 unstructured-client-0.29.0 unstructured-inference-0.8.7 unstructured.pytesseract-0.3.13 uvicorn-0.34.0 uvloop-0.21.0 watchfiles-1.0.4\n"
          ]
        },
        {
          "output_type": "display_data",
          "data": {
            "application/vnd.colab-display-data+json": {
              "pip_warning": {
                "packages": [
                  "google",
                  "importlib_metadata",
                  "pydevd_plugins"
                ]
              },
              "id": "33a7c5a56a19482e821bed6cd9503749"
            }
          },
          "metadata": {}
        }
      ],
      "source": [
        "!pip install langchain langchain-chroma \"unstructured[all-docs]\" pillow lxml"
      ]
    },
    {
      "cell_type": "code",
      "source": [
        "!sudo apt-get update"
      ],
      "metadata": {
        "colab": {
          "base_uri": "https://localhost:8080/"
        },
        "id": "nzPa0ChT_GvM",
        "outputId": "29127a76-f669-4f19-f073-19f940edb5f0"
      },
      "execution_count": 2,
      "outputs": [
        {
          "output_type": "stream",
          "name": "stdout",
          "text": [
            "\r0% [Working]\r            \rGet:1 https://cloud.r-project.org/bin/linux/ubuntu jammy-cran40/ InRelease [3,632 B]\n",
            "Get:2 https://developer.download.nvidia.com/compute/cuda/repos/ubuntu2204/x86_64  InRelease [1,581 B]\n",
            "Get:3 https://cloud.r-project.org/bin/linux/ubuntu jammy-cran40/ Packages [66.7 kB]\n",
            "Get:4 https://developer.download.nvidia.com/compute/cuda/repos/ubuntu2204/x86_64  Packages [1,311 kB]\n",
            "Get:5 http://security.ubuntu.com/ubuntu jammy-security InRelease [129 kB]\n",
            "Hit:6 http://archive.ubuntu.com/ubuntu jammy InRelease\n",
            "Get:7 http://archive.ubuntu.com/ubuntu jammy-updates InRelease [128 kB]\n",
            "Hit:8 https://ppa.launchpadcontent.net/deadsnakes/ppa/ubuntu jammy InRelease\n",
            "Get:9 https://r2u.stat.illinois.edu/ubuntu jammy InRelease [6,555 B]\n",
            "Get:10 https://ppa.launchpadcontent.net/graphics-drivers/ppa/ubuntu jammy InRelease [24.3 kB]\n",
            "Get:11 https://r2u.stat.illinois.edu/ubuntu jammy/main amd64 Packages [2,653 kB]\n",
            "Hit:12 https://ppa.launchpadcontent.net/ubuntugis/ppa/ubuntu jammy InRelease\n",
            "Get:13 http://security.ubuntu.com/ubuntu jammy-security/main amd64 Packages [2,606 kB]\n",
            "Get:14 https://ppa.launchpadcontent.net/graphics-drivers/ppa/ubuntu jammy/main amd64 Packages [57.8 kB]\n",
            "Get:15 http://archive.ubuntu.com/ubuntu jammy-backports InRelease [127 kB]\n",
            "Get:16 http://archive.ubuntu.com/ubuntu jammy-updates/restricted amd64 Packages [3,748 kB]\n",
            "Get:17 http://security.ubuntu.com/ubuntu jammy-security/universe amd64 Packages [1,230 kB]\n",
            "Get:18 http://archive.ubuntu.com/ubuntu jammy-updates/main amd64 Packages [2,911 kB]\n",
            "Get:19 https://r2u.stat.illinois.edu/ubuntu jammy/main all Packages [8,663 kB]\n",
            "Get:20 http://archive.ubuntu.com/ubuntu jammy-updates/universe amd64 Packages [1,526 kB]\n",
            "Fetched 25.2 MB in 4s (5,609 kB/s)\n",
            "Reading package lists... Done\n",
            "W: Skipping acquire of configured file 'main/source/Sources' as repository 'https://r2u.stat.illinois.edu/ubuntu jammy InRelease' does not seem to provide it (sources.list entry misspelt?)\n"
          ]
        }
      ]
    },
    {
      "cell_type": "code",
      "source": [
        "!sudo apt-get install poppler-utils"
      ],
      "metadata": {
        "colab": {
          "base_uri": "https://localhost:8080/"
        },
        "id": "e05yTYRF_9UO",
        "outputId": "55930c32-bac7-4f32-e07e-e2f4d68f7139"
      },
      "execution_count": 3,
      "outputs": [
        {
          "output_type": "stream",
          "name": "stdout",
          "text": [
            "Reading package lists... Done\n",
            "Building dependency tree... Done\n",
            "Reading state information... Done\n",
            "The following NEW packages will be installed:\n",
            "  poppler-utils\n",
            "0 upgraded, 1 newly installed, 0 to remove and 24 not upgraded.\n",
            "Need to get 186 kB of archives.\n",
            "After this operation, 696 kB of additional disk space will be used.\n",
            "Get:1 http://archive.ubuntu.com/ubuntu jammy-updates/main amd64 poppler-utils amd64 22.02.0-2ubuntu0.6 [186 kB]\n",
            "Fetched 186 kB in 1s (138 kB/s)\n",
            "debconf: unable to initialize frontend: Dialog\n",
            "debconf: (No usable dialog-like program is installed, so the dialog based frontend cannot be used. at /usr/share/perl5/Debconf/FrontEnd/Dialog.pm line 78, <> line 1.)\n",
            "debconf: falling back to frontend: Readline\n",
            "debconf: unable to initialize frontend: Readline\n",
            "debconf: (This frontend requires a controlling tty.)\n",
            "debconf: falling back to frontend: Teletype\n",
            "dpkg-preconfigure: unable to re-open stdin: \n",
            "Selecting previously unselected package poppler-utils.\n",
            "(Reading database ... 124926 files and directories currently installed.)\n",
            "Preparing to unpack .../poppler-utils_22.02.0-2ubuntu0.6_amd64.deb ...\n",
            "Unpacking poppler-utils (22.02.0-2ubuntu0.6) ...\n",
            "Setting up poppler-utils (22.02.0-2ubuntu0.6) ...\n",
            "Processing triggers for man-db (2.10.2-1) ...\n"
          ]
        }
      ]
    },
    {
      "cell_type": "code",
      "source": [
        "!sudo apt-get install libleptonica-dev tesseract-ocr libtesseract-dev python3-pil tesseract-ocr-eng tesseract-ocr-script-latn"
      ],
      "metadata": {
        "colab": {
          "base_uri": "https://localhost:8080/"
        },
        "id": "TiTiID_cABiK",
        "outputId": "528a64ec-b350-4834-aa9c-58b6ae0d265f"
      },
      "execution_count": 4,
      "outputs": [
        {
          "output_type": "stream",
          "name": "stdout",
          "text": [
            "Reading package lists... Done\n",
            "Building dependency tree... Done\n",
            "Reading state information... Done\n",
            "The following additional packages will be installed:\n",
            "  libarchive-dev libimagequant0 libraqm0 python3-olefile tesseract-ocr-osd\n",
            "Suggested packages:\n",
            "  python-pil-doc\n",
            "The following NEW packages will be installed:\n",
            "  libarchive-dev libimagequant0 libleptonica-dev libraqm0 libtesseract-dev\n",
            "  python3-olefile python3-pil tesseract-ocr tesseract-ocr-eng\n",
            "  tesseract-ocr-osd tesseract-ocr-script-latn\n",
            "0 upgraded, 11 newly installed, 0 to remove and 24 not upgraded.\n",
            "Need to get 39.9 MB of archives.\n",
            "After this operation, 123 MB of additional disk space will be used.\n",
            "Get:1 http://archive.ubuntu.com/ubuntu jammy-updates/main amd64 libarchive-dev amd64 3.6.0-1ubuntu1.3 [581 kB]\n",
            "Get:2 http://archive.ubuntu.com/ubuntu jammy/main amd64 libimagequant0 amd64 2.17.0-1 [34.6 kB]\n",
            "Get:3 http://archive.ubuntu.com/ubuntu jammy/universe amd64 libleptonica-dev amd64 1.82.0-3build1 [1,562 kB]\n",
            "Get:4 http://archive.ubuntu.com/ubuntu jammy/main amd64 libraqm0 amd64 0.7.0-4ubuntu1 [11.7 kB]\n",
            "Get:5 http://archive.ubuntu.com/ubuntu jammy/universe amd64 libtesseract-dev amd64 4.1.1-2.1build1 [1,600 kB]\n",
            "Get:6 http://archive.ubuntu.com/ubuntu jammy/main amd64 python3-olefile all 0.46-3 [33.8 kB]\n",
            "Get:7 http://archive.ubuntu.com/ubuntu jammy-updates/main amd64 python3-pil amd64 9.0.1-1ubuntu0.3 [419 kB]\n",
            "Get:8 http://archive.ubuntu.com/ubuntu jammy/universe amd64 tesseract-ocr-eng all 1:4.00~git30-7274cfa-1.1 [1,591 kB]\n",
            "Get:9 http://archive.ubuntu.com/ubuntu jammy/universe amd64 tesseract-ocr-osd all 1:4.00~git30-7274cfa-1.1 [2,990 kB]\n",
            "Get:10 http://archive.ubuntu.com/ubuntu jammy/universe amd64 tesseract-ocr amd64 4.1.1-2.1build1 [236 kB]\n",
            "Get:11 http://archive.ubuntu.com/ubuntu jammy/universe amd64 tesseract-ocr-script-latn all 1:4.00~git30-7274cfa-1.1 [30.9 MB]\n",
            "Fetched 39.9 MB in 6s (6,397 kB/s)\n",
            "debconf: unable to initialize frontend: Dialog\n",
            "debconf: (No usable dialog-like program is installed, so the dialog based frontend cannot be used. at /usr/share/perl5/Debconf/FrontEnd/Dialog.pm line 78, <> line 11.)\n",
            "debconf: falling back to frontend: Readline\n",
            "debconf: unable to initialize frontend: Readline\n",
            "debconf: (This frontend requires a controlling tty.)\n",
            "debconf: falling back to frontend: Teletype\n",
            "dpkg-preconfigure: unable to re-open stdin: \n",
            "Selecting previously unselected package libarchive-dev:amd64.\n",
            "(Reading database ... 124956 files and directories currently installed.)\n",
            "Preparing to unpack .../00-libarchive-dev_3.6.0-1ubuntu1.3_amd64.deb ...\n",
            "Unpacking libarchive-dev:amd64 (3.6.0-1ubuntu1.3) ...\n",
            "Selecting previously unselected package libimagequant0:amd64.\n",
            "Preparing to unpack .../01-libimagequant0_2.17.0-1_amd64.deb ...\n",
            "Unpacking libimagequant0:amd64 (2.17.0-1) ...\n",
            "Selecting previously unselected package libleptonica-dev.\n",
            "Preparing to unpack .../02-libleptonica-dev_1.82.0-3build1_amd64.deb ...\n",
            "Unpacking libleptonica-dev (1.82.0-3build1) ...\n",
            "Selecting previously unselected package libraqm0:amd64.\n",
            "Preparing to unpack .../03-libraqm0_0.7.0-4ubuntu1_amd64.deb ...\n",
            "Unpacking libraqm0:amd64 (0.7.0-4ubuntu1) ...\n",
            "Selecting previously unselected package libtesseract-dev:amd64.\n",
            "Preparing to unpack .../04-libtesseract-dev_4.1.1-2.1build1_amd64.deb ...\n",
            "Unpacking libtesseract-dev:amd64 (4.1.1-2.1build1) ...\n",
            "Selecting previously unselected package python3-olefile.\n",
            "Preparing to unpack .../05-python3-olefile_0.46-3_all.deb ...\n",
            "Unpacking python3-olefile (0.46-3) ...\n",
            "Selecting previously unselected package python3-pil:amd64.\n",
            "Preparing to unpack .../06-python3-pil_9.0.1-1ubuntu0.3_amd64.deb ...\n",
            "Unpacking python3-pil:amd64 (9.0.1-1ubuntu0.3) ...\n",
            "Selecting previously unselected package tesseract-ocr-eng.\n",
            "Preparing to unpack .../07-tesseract-ocr-eng_1%3a4.00~git30-7274cfa-1.1_all.deb ...\n",
            "Unpacking tesseract-ocr-eng (1:4.00~git30-7274cfa-1.1) ...\n",
            "Selecting previously unselected package tesseract-ocr-osd.\n",
            "Preparing to unpack .../08-tesseract-ocr-osd_1%3a4.00~git30-7274cfa-1.1_all.deb ...\n",
            "Unpacking tesseract-ocr-osd (1:4.00~git30-7274cfa-1.1) ...\n",
            "Selecting previously unselected package tesseract-ocr.\n",
            "Preparing to unpack .../09-tesseract-ocr_4.1.1-2.1build1_amd64.deb ...\n",
            "Unpacking tesseract-ocr (4.1.1-2.1build1) ...\n",
            "Selecting previously unselected package tesseract-ocr-script-latn.\n",
            "Preparing to unpack .../10-tesseract-ocr-script-latn_1%3a4.00~git30-7274cfa-1.1_all.deb ...\n",
            "Unpacking tesseract-ocr-script-latn (1:4.00~git30-7274cfa-1.1) ...\n",
            "Setting up tesseract-ocr-script-latn (1:4.00~git30-7274cfa-1.1) ...\n",
            "Setting up python3-olefile (0.46-3) ...\n",
            "Setting up tesseract-ocr-eng (1:4.00~git30-7274cfa-1.1) ...\n",
            "Setting up libleptonica-dev (1.82.0-3build1) ...\n",
            "Setting up libraqm0:amd64 (0.7.0-4ubuntu1) ...\n",
            "Setting up libimagequant0:amd64 (2.17.0-1) ...\n",
            "Setting up libarchive-dev:amd64 (3.6.0-1ubuntu1.3) ...\n",
            "Setting up tesseract-ocr-osd (1:4.00~git30-7274cfa-1.1) ...\n",
            "Setting up libtesseract-dev:amd64 (4.1.1-2.1build1) ...\n",
            "Setting up python3-pil:amd64 (9.0.1-1ubuntu0.3) ...\n",
            "Setting up tesseract-ocr (4.1.1-2.1build1) ...\n",
            "Processing triggers for man-db (2.10.2-1) ...\n",
            "Processing triggers for libc-bin (2.35-0ubuntu3.8) ...\n",
            "/sbin/ldconfig.real: /usr/local/lib/libur_adapter_opencl.so.0 is not a symbolic link\n",
            "\n",
            "/sbin/ldconfig.real: /usr/local/lib/libtbbmalloc_proxy.so.2 is not a symbolic link\n",
            "\n",
            "/sbin/ldconfig.real: /usr/local/lib/libtcm_debug.so.1 is not a symbolic link\n",
            "\n",
            "/sbin/ldconfig.real: /usr/local/lib/libtbb.so.12 is not a symbolic link\n",
            "\n",
            "/sbin/ldconfig.real: /usr/local/lib/libumf.so.0 is not a symbolic link\n",
            "\n",
            "/sbin/ldconfig.real: /usr/local/lib/libtbbmalloc.so.2 is not a symbolic link\n",
            "\n",
            "/sbin/ldconfig.real: /usr/local/lib/libtbbbind.so.3 is not a symbolic link\n",
            "\n",
            "/sbin/ldconfig.real: /usr/local/lib/libur_loader.so.0 is not a symbolic link\n",
            "\n",
            "/sbin/ldconfig.real: /usr/local/lib/libtbbbind_2_0.so.3 is not a symbolic link\n",
            "\n",
            "/sbin/ldconfig.real: /usr/local/lib/libtcm.so.1 is not a symbolic link\n",
            "\n",
            "/sbin/ldconfig.real: /usr/local/lib/libhwloc.so.15 is not a symbolic link\n",
            "\n",
            "/sbin/ldconfig.real: /usr/local/lib/libur_adapter_level_zero.so.0 is not a symbolic link\n",
            "\n",
            "/sbin/ldconfig.real: /usr/local/lib/libtbbbind_2_5.so.3 is not a symbolic link\n",
            "\n"
          ]
        }
      ]
    },
    {
      "cell_type": "code",
      "source": [
        "!pip install unstructured-pytesseract\n",
        "!pip install tesseract-ocr"
      ],
      "metadata": {
        "colab": {
          "base_uri": "https://localhost:8080/"
        },
        "id": "ZuW1CxeDAGuK",
        "outputId": "906bf322-3829-44c2-c14d-ef49f7f1d09c"
      },
      "execution_count": 5,
      "outputs": [
        {
          "output_type": "stream",
          "name": "stdout",
          "text": [
            "Requirement already satisfied: unstructured-pytesseract in /usr/local/lib/python3.11/dist-packages (0.3.13)\n",
            "Requirement already satisfied: packaging>=21.3 in /usr/local/lib/python3.11/dist-packages (from unstructured-pytesseract) (24.2)\n",
            "Requirement already satisfied: Pillow>=8.0.0 in /usr/local/lib/python3.11/dist-packages (from unstructured-pytesseract) (11.1.0)\n",
            "Collecting tesseract-ocr\n",
            "  Downloading tesseract-ocr-0.0.1.tar.gz (33 kB)\n",
            "  Preparing metadata (setup.py) ... \u001b[?25l\u001b[?25hdone\n",
            "Requirement already satisfied: cython in /usr/local/lib/python3.11/dist-packages (from tesseract-ocr) (3.0.11)\n",
            "Building wheels for collected packages: tesseract-ocr\n",
            "  Building wheel for tesseract-ocr (setup.py) ... \u001b[?25l\u001b[?25hdone\n",
            "  Created wheel for tesseract-ocr: filename=tesseract_ocr-0.0.1-cp311-cp311-linux_x86_64.whl size=179084 sha256=5a4ddb0bd726caa91e08b8072a719bedb58b448ad5d5586fe432a209152e9503\n",
            "  Stored in directory: /root/.cache/pip/wheels/90/83/3c/d2b68d844d169d6015fc2ad8c93207d778829c87e26c6f2206\n",
            "Successfully built tesseract-ocr\n",
            "Installing collected packages: tesseract-ocr\n",
            "Successfully installed tesseract-ocr-0.0.1\n"
          ]
        }
      ]
    },
    {
      "cell_type": "code",
      "source": [
        "# from unstructured.partition.pdf import partition_pdf\n",
        "# raw_pdf_elements=partition_pdf(\n",
        "#     filename=\"/content/transformer.pdf\",\n",
        "#     strategy=\"hi_res\",\n",
        "#     extract_images_in_pdf=True,\n",
        "#     extract_image_block_types=[\"Image\", \"Table\"],\n",
        "#     extract_image_block_to_payload=False,\n",
        "#     extract_image_block_output_dir=\"extracted_data\"\n",
        "#   )"
      ],
      "metadata": {
        "id": "AeOW5eexAKya"
      },
      "execution_count": null,
      "outputs": []
    },
    {
      "cell_type": "code",
      "source": [
        "from unstructured.partition.pdf import partition_pdf\n",
        "\n",
        "raw_pdf_elements = partition_pdf(\n",
        "    filename=\"/content/cymbal-starlight-2024.pdf\",\n",
        "    strategy=\"hi_res\",\n",
        "    infer_table_structure=True,\n",
        "    extract_image_block_to_payload=True,\n",
        "    extract_image_block_types=[\"Image\", \"Table\"],\n",
        "    chunking_strategy=\"by_title\",\n",
        "    max_characters=4000,\n",
        "    new_after_n_chars=3800,\n",
        "    combine_text_under_n_chars=2000,\n",
        ")"
      ],
      "metadata": {
        "id": "0RTzIECOBXts",
        "colab": {
          "base_uri": "https://localhost:8080/",
          "height": 182,
          "referenced_widgets": [
            "a9319a4aeb8a4ef98ee10087da14b670",
            "8272dc5150934da4bc793d175fca2ee1",
            "f86ce60e05cd4943941fbc94767a771c",
            "a13383313c60486d87465ce187785026",
            "3feddf849d0048b3ab80bf7a6f4fee18",
            "8f8f8df5845647d0a913bb23981074db",
            "943f600d21004bf4b0c69063b0f6a7df",
            "433987d3866c48ce811f6cc4351a6515",
            "4acf058e2d0c4e49b5dc7e279157a279",
            "ecc6bf34c1eb4e4bb2fedac3a517d79f",
            "1a2757b0c99f42bd98b73868e5bc46a7",
            "9729470229364d29a658265a6ea579d6",
            "a37a37800fcf4cec814a16cccf180856",
            "1f8599d7c7f64bb2aa43754ca390c567",
            "324ac76838db426a8d37b58d3584ed45",
            "8da59e24c9054159a6b0b26ccb36c430",
            "944e8d180a6e45b2944ef882d979178f",
            "cdfff73dd1264f59a77dd1e98f7b6655",
            "3cfedff5029543cbb7fc5ad4c65364ae",
            "f8998eb5e3be40b5b805796d53da81b1",
            "5114fb97975e47ba8b509f57b1c72c16",
            "360c52ab588643ffb5a66b7df608d7bc",
            "def7d7893cf7472dadd30f4d14527490",
            "ca290f329e1644cf87a67e1d9d63aec3",
            "a95c77df41ce42498291303ad29da258",
            "9a38c69e51ec49ce8b40220fd8881be2",
            "0f12bd98c0a54ff4817367fea8bd8348",
            "a370e1598515471ea70246d6d46cda9c",
            "bf1902e4977047e6bb0256a466ad190b",
            "cb5148bf522c49489ec0c6895da20788",
            "7f04b3e0f47441bb95dbb4a1fe1dd771",
            "54b2fa3545854421af40250f8e102d73",
            "790c799ca4f04bb3aedc926ca45bcddd",
            "a7f55e7d65d643b39812fc21f0740ff8",
            "ed851cb5e86445c2af05afff5d2e0420",
            "d5ee6c0c9c5d4bed9472df9dd00ea204",
            "2e6bd2b67ba74dc1a4fb66277a0cf1f4",
            "570ab37740234342ba2ee936cb0493b4",
            "1a346225af82431b8b2a88a27d7fabd2",
            "92c2860bbbdb4837819c23f0646619bd",
            "3a1c4d130ee1442c87183eba7388055a",
            "d740629cc2cd4577bc89ba9c62a892e4",
            "7fd2bb6fd4d34d348132e3ab9e02a39c",
            "b3f5c685d232467692ca9a840fb806f1"
          ]
        },
        "outputId": "59804eac-f36c-4073-a8ee-89a5480dd5c6"
      },
      "execution_count": 6,
      "outputs": [
        {
          "output_type": "stream",
          "name": "stderr",
          "text": [
            "The cache for model files in Transformers v4.22.0 has been updated. Migrating your old cache. This is a one-time only operation. You can interrupt this and resume the migration later on by calling `transformers.utils.move_cache()`.\n"
          ]
        },
        {
          "output_type": "display_data",
          "data": {
            "text/plain": [
              "0it [00:00, ?it/s]"
            ],
            "application/vnd.jupyter.widget-view+json": {
              "version_major": 2,
              "version_minor": 0,
              "model_id": "a9319a4aeb8a4ef98ee10087da14b670"
            }
          },
          "metadata": {}
        },
        {
          "output_type": "display_data",
          "data": {
            "text/plain": [
              "config.json:   0%|          | 0.00/1.47k [00:00<?, ?B/s]"
            ],
            "application/vnd.jupyter.widget-view+json": {
              "version_major": 2,
              "version_minor": 0,
              "model_id": "9729470229364d29a658265a6ea579d6"
            }
          },
          "metadata": {}
        },
        {
          "output_type": "display_data",
          "data": {
            "text/plain": [
              "model.safetensors:   0%|          | 0.00/115M [00:00<?, ?B/s]"
            ],
            "application/vnd.jupyter.widget-view+json": {
              "version_major": 2,
              "version_minor": 0,
              "model_id": "def7d7893cf7472dadd30f4d14527490"
            }
          },
          "metadata": {}
        },
        {
          "output_type": "display_data",
          "data": {
            "text/plain": [
              "model.safetensors:   0%|          | 0.00/46.8M [00:00<?, ?B/s]"
            ],
            "application/vnd.jupyter.widget-view+json": {
              "version_major": 2,
              "version_minor": 0,
              "model_id": "a7f55e7d65d643b39812fc21f0740ff8"
            }
          },
          "metadata": {}
        }
      ]
    },
    {
      "cell_type": "code",
      "source": [
        "len(raw_pdf_elements)"
      ],
      "metadata": {
        "colab": {
          "base_uri": "https://localhost:8080/"
        },
        "id": "gijw227DljPJ",
        "outputId": "9c24ba33-f835-4b9d-c554-c08151251cea"
      },
      "execution_count": 8,
      "outputs": [
        {
          "output_type": "execute_result",
          "data": {
            "text/plain": [
              "22"
            ]
          },
          "metadata": {},
          "execution_count": 8
        }
      ]
    },
    {
      "cell_type": "code",
      "source": [
        "set([str(type(el)) for el in raw_pdf_elements])"
      ],
      "metadata": {
        "colab": {
          "base_uri": "https://localhost:8080/"
        },
        "id": "g6gBIlVMhjqg",
        "outputId": "29dba1ec-7d5c-429b-864b-75cc4143fdae"
      },
      "execution_count": 7,
      "outputs": [
        {
          "output_type": "execute_result",
          "data": {
            "text/plain": [
              "{\"<class 'unstructured.documents.elements.CompositeElement'>\"}"
            ]
          },
          "metadata": {},
          "execution_count": 7
        }
      ]
    },
    {
      "cell_type": "code",
      "source": [
        "raw_pdf_elements[19].metadata.orig_elements"
      ],
      "metadata": {
        "colab": {
          "base_uri": "https://localhost:8080/"
        },
        "id": "qz5peYlBhoTi",
        "outputId": "cd06937e-f68b-4bd0-97ee-74e6cb04b491"
      },
      "execution_count": 25,
      "outputs": [
        {
          "output_type": "execute_result",
          "data": {
            "text/plain": [
              "[<unstructured.documents.elements.Title at 0x7cd70b450d10>,\n",
              " <unstructured.documents.elements.NarrativeText at 0x7cd70b592890>,\n",
              " <unstructured.documents.elements.ListItem at 0x7cd66add3850>,\n",
              " <unstructured.documents.elements.ListItem at 0x7cd66add3ad0>,\n",
              " <unstructured.documents.elements.NarrativeText at 0x7cd68f5e8290>,\n",
              " <unstructured.documents.elements.ListItem at 0x7cd66add3fd0>,\n",
              " <unstructured.documents.elements.NarrativeText at 0x7cd66ade4290>,\n",
              " <unstructured.documents.elements.Header at 0x7cd66adb5d50>,\n",
              " <unstructured.documents.elements.Title at 0x7cd66b8ed450>,\n",
              " <unstructured.documents.elements.Header at 0x7cd66ade5490>,\n",
              " <unstructured.documents.elements.ListItem at 0x7cd66ade5650>,\n",
              " <unstructured.documents.elements.ListItem at 0x7cd66ade5790>,\n",
              " <unstructured.documents.elements.ListItem at 0x7cd66ade58d0>,\n",
              " <unstructured.documents.elements.ListItem at 0x7cd66ade5a90>,\n",
              " <unstructured.documents.elements.ListItem at 0x7cd66ade5bd0>,\n",
              " <unstructured.documents.elements.NarrativeText at 0x7cd70b4526d0>,\n",
              " <unstructured.documents.elements.NarrativeText at 0x7cd66ade5e50>,\n",
              " <unstructured.documents.elements.Title at 0x7cd7091398d0>,\n",
              " <unstructured.documents.elements.Title at 0x7cd68d846990>,\n",
              " <unstructured.documents.elements.NarrativeText at 0x7cd709032e10>,\n",
              " <unstructured.documents.elements.NarrativeText at 0x7cd66ade6590>,\n",
              " <unstructured.documents.elements.Title at 0x7cd70b452910>,\n",
              " <unstructured.documents.elements.Title at 0x7cd68f180cd0>,\n",
              " <unstructured.documents.elements.Title at 0x7cd709426f90>,\n",
              " <unstructured.documents.elements.FigureCaption at 0x7cd66ade6d10>,\n",
              " <unstructured.documents.elements.Table at 0x7cd66ade6f90>,\n",
              " <unstructured.documents.elements.Title at 0x7cd7091e6810>,\n",
              " <unstructured.documents.elements.NarrativeText at 0x7cd70926eb10>,\n",
              " <unstructured.documents.elements.NarrativeText at 0x7cd66ade7710>]"
            ]
          },
          "metadata": {},
          "execution_count": 25
        }
      ]
    },
    {
      "cell_type": "code",
      "source": [
        "elements = raw_pdf_elements[0].metadata.orig_elements\n",
        "chunk_images = [el for el in elements if 'Image' in str(type(el))]\n",
        "chunk_images[0].to_dict()"
      ],
      "metadata": {
        "colab": {
          "base_uri": "https://localhost:8080/"
        },
        "id": "OBr2HwqyiJhu",
        "outputId": "6391a2ac-dd81-4d4b-af1a-615112ec6755"
      },
      "execution_count": 15,
      "outputs": [
        {
          "output_type": "execute_result",
          "data": {
            "text/plain": [
              "{'type': 'Image',\n",
              " 'element_id': '9547056b-30e5-4809-9736-d99c0f1d6e91',\n",
              " 'text': 'bal',\n",
              " 'metadata': {'coordinates': {'points': ((119.44443502314834,\n",
              "     133.33332777777778),\n",
              "    (119.44443502314834, 545.8332705902794),\n",
              "    (1161.1110582870372, 545.8332705902794),\n",
              "    (1161.1110582870372, 133.33332777777778)),\n",
              "   'system': 'PixelSpace',\n",
              "   'layout_width': 1653,\n",
              "   'layout_height': 2339},\n",
              "  'last_modified': '2025-02-11T10:33:54',\n",
              "  'filetype': 'PPM',\n",
              "  'languages': ['eng'],\n",
              "  'page_number': 1,\n",
              "  'image_base64': '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',\n",
              "  'image_mime_type': 'image/jpeg'}}"
            ]
          },
          "metadata": {},
          "execution_count": 15
        }
      ]
    },
    {
      "cell_type": "code",
      "source": [
        "elements = raw_pdf_elements[19].metadata.orig_elements # 17\n",
        "chunk_images = [el for el in elements if 'Table' in str(type(el))]\n",
        "chunk_images[0].to_dict()"
      ],
      "metadata": {
        "colab": {
          "base_uri": "https://localhost:8080/"
        },
        "id": "6DxCswHIiciP",
        "outputId": "4b3b1456-0212-46bf-9a12-01b56876bf98"
      },
      "execution_count": 26,
      "outputs": [
        {
          "output_type": "execute_result",
          "data": {
            "text/plain": [
              "{'type': 'Table',\n",
              " 'element_id': '558bc569-b794-417c-b317-80df2c33d911',\n",
              " 'text': 'Oil change Every 5,000 miles or 6 months Tire rotation Every 5,000 miles or 6 months Air filter replacement Every 10,000 miles or 12 months Cabin air filter replacement Every 15,000 miles or 12 months Brake inspection Every 10,000 miles or 12 months Battery inspection Every 20,000 miles or 24 months Spark plug replacement Every 30,000 miles or 36 months Fuel filter replacement Every 30,000 miles or 36 months Timing belt replacement Every 60,000 miles or 60 months',\n",
              " 'metadata': {'detection_class_prob': 0.8322274088859558,\n",
              "  'coordinates': {'points': ((134.41192626953125, 929.5225219726562),\n",
              "    (134.41192626953125, 1550.497314453125),\n",
              "    (971.9646606445312, 1550.497314453125),\n",
              "    (971.9646606445312, 929.5225219726562)),\n",
              "   'system': 'PixelSpace',\n",
              "   'layout_width': 1653,\n",
              "   'layout_height': 2339},\n",
              "  'last_modified': '2025-02-11T10:33:54',\n",
              "  'text_as_html': '<table><thead><tr><th>Oil change</th><th>Every 5,000 miles or 6 months</th></tr></thead><tbody><tr><td>Tire rotation</td><td>Every 5,000 miles or 6 months</td></tr><tr><td>Air filter replacement</td><td>Every 10,000 miles or 12 months</td></tr><tr><td>Cabin air filter replacement</td><td>Every 15,000 miles or 12 months</td></tr><tr><td>Brake inspection</td><td>Every 10,000 miles or 12 months</td></tr><tr><td>Battery inspection</td><td>Every 20,000 miles or 24 months</td></tr><tr><td>Spark plug replacement</td><td>Every 30,000 miles or 36 months</td></tr><tr><td>Fuel filter replacement</td><td>Every 30,000 miles or 36 months</td></tr><tr><td>Timing belt replacement</td><td>Every 60,000 miles or 60 months</td></tr></tbody></table>',\n",
              "  'filetype': 'PPM',\n",
              "  'languages': ['eng'],\n",
              "  'page_number': 20,\n",
              "  'image_base64': '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',\n",
              "  'image_mime_type': 'image/jpeg'}}"
            ]
          },
          "metadata": {},
          "execution_count": 26
        }
      ]
    },
    {
      "cell_type": "code",
      "source": [
        "# Create a dictionary to store counts of each type\n",
        "category_counts = {}\n",
        "\n",
        "for element in raw_pdf_elements:\n",
        "    category = str(type(element))\n",
        "    if category in category_counts:\n",
        "        category_counts[category] += 1\n",
        "    else:\n",
        "        category_counts[category] = 1\n",
        "\n",
        "# Unique_categories will have unique elements\n",
        "unique_categories = set(category_counts.keys())\n",
        "category_counts"
      ],
      "metadata": {
        "id": "7asSggFvEu7l",
        "colab": {
          "base_uri": "https://localhost:8080/"
        },
        "outputId": "d8aade6d-24c9-45e0-fb8c-0fda924a338b"
      },
      "execution_count": 28,
      "outputs": [
        {
          "output_type": "execute_result",
          "data": {
            "text/plain": [
              "{\"<class 'unstructured.documents.elements.CompositeElement'>\": 22}"
            ]
          },
          "metadata": {},
          "execution_count": 28
        }
      ]
    },
    {
      "cell_type": "code",
      "source": [
        "texts = []\n",
        "\n",
        "for chunk in raw_pdf_elements:\n",
        "    if \"CompositeElement\" in str(type((chunk))):\n",
        "        texts.append(chunk)"
      ],
      "metadata": {
        "id": "_9S6jWBvmw16"
      },
      "execution_count": 33,
      "outputs": []
    },
    {
      "cell_type": "code",
      "source": [
        "texts"
      ],
      "metadata": {
        "colab": {
          "base_uri": "https://localhost:8080/"
        },
        "id": "VXqrL2nhmwzD",
        "outputId": "aa4ae80b-e1f3-4002-efea-8d6c03f276e5"
      },
      "execution_count": 34,
      "outputs": [
        {
          "output_type": "execute_result",
          "data": {
            "text/plain": [
              "[<unstructured.documents.elements.CompositeElement at 0x7cd68d84fc50>,\n",
              " <unstructured.documents.elements.CompositeElement at 0x7cd668f731d0>,\n",
              " <unstructured.documents.elements.CompositeElement at 0x7cd668fb3010>,\n",
              " <unstructured.documents.elements.CompositeElement at 0x7cd66adca790>,\n",
              " <unstructured.documents.elements.CompositeElement at 0x7cd66adca050>,\n",
              " <unstructured.documents.elements.CompositeElement at 0x7cd66adc8990>,\n",
              " <unstructured.documents.elements.CompositeElement at 0x7cd66ad98e90>,\n",
              " <unstructured.documents.elements.CompositeElement at 0x7cd66ad98d50>,\n",
              " <unstructured.documents.elements.CompositeElement at 0x7cd66ad9b250>,\n",
              " <unstructured.documents.elements.CompositeElement at 0x7cd66adea350>,\n",
              " <unstructured.documents.elements.CompositeElement at 0x7cd66adebcd0>,\n",
              " <unstructured.documents.elements.CompositeElement at 0x7cd66ade8a10>,\n",
              " <unstructured.documents.elements.CompositeElement at 0x7cd6807d3690>,\n",
              " <unstructured.documents.elements.CompositeElement at 0x7cd66ad39210>,\n",
              " <unstructured.documents.elements.CompositeElement at 0x7cd668fc5ad0>,\n",
              " <unstructured.documents.elements.CompositeElement at 0x7cd668fc4e50>,\n",
              " <unstructured.documents.elements.CompositeElement at 0x7cd668f728d0>,\n",
              " <unstructured.documents.elements.CompositeElement at 0x7cd66ad43c10>,\n",
              " <unstructured.documents.elements.CompositeElement at 0x7cd66ad43e90>,\n",
              " <unstructured.documents.elements.CompositeElement at 0x7cd66ad43210>,\n",
              " <unstructured.documents.elements.CompositeElement at 0x7cd66ad2a490>,\n",
              " <unstructured.documents.elements.CompositeElement at 0x7cd668f70250>]"
            ]
          },
          "metadata": {},
          "execution_count": 34
        }
      ]
    },
    {
      "cell_type": "code",
      "source": [
        "# Get the images from the CompositeElement objects\n",
        "def get_tables(chunks):\n",
        "    tables = []\n",
        "    for chunk in chunks:\n",
        "        if \"CompositeElement\" in str(type(chunk)):\n",
        "            chunk_els = chunk.metadata.orig_elements\n",
        "            for el in chunk_els:\n",
        "                if \"Table\" in str(type(el)):\n",
        "                    tables.append(el.text)\n",
        "    return tables\n",
        "\n",
        "tables = get_tables(raw_pdf_elements)"
      ],
      "metadata": {
        "id": "zdZwCKPzqhzK"
      },
      "execution_count": 59,
      "outputs": []
    },
    {
      "cell_type": "code",
      "source": [
        "tables"
      ],
      "metadata": {
        "colab": {
          "base_uri": "https://localhost:8080/"
        },
        "id": "NyvoAhizq24W",
        "outputId": "c3a31894-334d-46f1-8870-03254f65f56b"
      },
      "execution_count": 60,
      "outputs": [
        {
          "output_type": "execute_result",
          "data": {
            "text/plain": [
              "['Power button Turns the audio system on and off Volume knob Adjusts the volume Tuning knob Tunes the radio Source button Selects the audio source (e.g., AM/FM radio, CD player, MP3 player, Bluetooth) Track skip buttons Skips to the next or previous track',\n",
              " 'Oil change Every 5,000 miles or 6 months Tire rotation Every 5,000 miles or 6 months Air filter replacement Every 10,000 miles or 12 months Cabin air filter replacement Every 15,000 miles or 12 months Brake inspection Every 10,000 miles or 12 months Battery inspection Every 20,000 miles or 24 months Spark plug replacement Every 30,000 miles or 36 months Fuel filter replacement Every 30,000 miles or 36 months Timing belt replacement Every 60,000 miles or 60 months']"
            ]
          },
          "metadata": {},
          "execution_count": 60
        }
      ]
    },
    {
      "cell_type": "code",
      "source": [
        "# Get the images from the CompositeElement objects\n",
        "def get_tables(chunks):\n",
        "    tables = []\n",
        "    for chunk in chunks:\n",
        "        if \"CompositeElement\" in str(type(chunk)):\n",
        "            chunk_els = chunk.metadata.orig_elements\n",
        "            for el in chunk_els:\n",
        "                if \"Table\" in str(type(el)):\n",
        "                    tables.append(el.metadata.image_base64)\n",
        "    return tables\n",
        "\n",
        "table_images = get_tables(raw_pdf_elements)"
      ],
      "metadata": {
        "id": "67PiA89OoCt1"
      },
      "execution_count": 56,
      "outputs": []
    },
    {
      "cell_type": "code",
      "source": [
        "table_images"
      ],
      "metadata": {
        "colab": {
          "base_uri": "https://localhost:8080/"
        },
        "id": "5kaLOetRo1j1",
        "outputId": "8135f58c-d1cb-4d3e-8609-1062fd903641"
      },
      "execution_count": 57,
      "outputs": [
        {
          "output_type": "execute_result",
          "data": {
            "text/plain": [
              "['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',\n",
              " '/9j/4AAQSkZJRgABAQAAAQABAAD/2wBDAAgGBgcGBQgHBwcJCQgKDBQNDAsLDBkSEw8UHRofHh0aHBwgJC4nICIsIxwcKDcpLDAxNDQ0Hyc5PTgyPC4zNDL/2wBDAQkJCQwLDBgNDRgyIRwhMjIyMjIyMjIyMjIyMjIyMjIyMjIyMjIyMjIyMjIyMjIyMjIyMjIyMjIyMjIyMjIyMjL/wAARCAJsA0YDASIAAhEBAxEB/8QAHwAAAQUBAQEBAQEAAAAAAAAAAAECAwQFBgcICQoL/8QAtRAAAgEDAwIEAwUFBAQAAAF9AQIDAAQRBRIhMUEGE1FhByJxFDKBkaEII0KxwRVS0fAkM2JyggkKFhcYGRolJicoKSo0NTY3ODk6Q0RFRkdISUpTVFVWV1hZWmNkZWZnaGlqc3R1dnd4eXqDhIWGh4iJipKTlJWWl5iZmqKjpKWmp6ipqrKztLW2t7i5usLDxMXGx8jJytLT1NXW19jZ2uHi4+Tl5ufo6erx8vP09fb3+Pn6/8QAHwEAAwEBAQEBAQEBAQAAAAAAAAECAwQFBgcICQoL/8QAtREAAgECBAQDBAcFBAQAAQJ3AAECAxEEBSExBhJBUQdhcRMiMoEIFEKRobHBCSMzUvAVYnLRChYkNOEl8RcYGRomJygpKjU2Nzg5OkNERUZHSElKU1RVVldYWVpjZGVmZ2hpanN0dXZ3eHl6goOEhYaHiImKkpOUlZaXmJmaoqOkpaanqKmqsrO0tba3uLm6wsPExcbHyMnK0tPU1dbX2Nna4uPk5ebn6Onq8vP09fb3+Pn6/9oADAMBAAIRAxEAPwD3+ivP/wDhEviH/wBFP/8AKBb/AONH/CJfEP8A6Kf/AOUC3/xoA9Aorz//AIRL4h/9FP8A/KBb/wCNH/CJfEP/AKKf/wCUC3/xoA9Aorz/AP4RL4h/9FP/APKBb/40f8Il8Q/+in/+UC3/AMaAPQKK8/8A+ES+If8A0U//AMoFv/jR/wAIl8Q/+in/APlAt/8AGgD0CivP/wDhEviH/wBFP/8AKBb/AONH/CJfEP8A6Kf/AOUC3/xoA9Aorz//AIRL4h/9FP8A/KBb/wCNH/CJfEP/AKKf/wCUC3/xoA9Aorz/AP4RL4h/9FP/APKBb/40f8Il8Q/+in/+UC3/AMaAPQKK8/8A+ES+If8A0U//AMoFv/jR/wAIl8Q/+in/APlAt/8AGgD0CivP/wDhEviH/wBFP/8AKBb/AONH/CJfEP8A6Kf/AOUC3/xoA9Aorz//AIRL4h/9FP8A/KBb/wCNH/CJfEP/AKKf/wCUC3/xoA9Aorz/AP4RL4h/9FP/APKBb/40f8Il8Q/+in/+UC3/AMaAPQKK8/8A+ES+If8A0U//AMoFv/jR/wAIl8Q/+in/APlAt/8AGgD0CivP/wDhEviH/wBFP/8AKBb/AONH/CJfEP8A6Kf/AOUC3/xoA9Aorz//AIRL4h/9FP8A/KBb/wCNH/CJfEP/AKKf/wCUC3/xoA9Aorz/AP4RL4h/9FP/APKBb/40f8Il8Q/+in/+UC3/AMaAPQKK8/8A+ES+If8A0U//AMoFv/jR/wAIl8Q/+in/APlAt/8AGgD0CivP/wDhEviH/wBFP/8AKBb/AONH/CJfEP8A6Kf/AOUC3/xoA9Aorz//AIRL4h/9FP8A/KBb/wCNH/CJfEP/AKKf/wCUC3/xoA9Aorz/AP4RL4h/9FP/APKBb/40f8Il8Q/+in/+UC3/AMaAPQKK8/8A+ES+If8A0U//AMoFv/jR/wAIl8Q/+in/APlAt/8AGgD0CivP/wDhEviH/wBFP/8AKBb/AONH/CJfEP8A6Kf/AOUC3/xoA9Aorz//AIRL4h/9FP8A/KBb/wCNH/CJfEP/AKKf/wCUC3/xoA9Aorz/AP4RL4h/9FP/APKBb/40f8Il8Q/+in/+UC3/AMaAPQKK8/8A+ES+If8A0U//AMoFv/jR/wAIl8Q/+in/APlAt/8AGgD0CivP/wDhEviH/wBFP/8AKBb/AONH/CJfEP8A6Kf/AOUC3/xoA9Aorz//AIRL4h/9FP8A/KBb/wCNH/CJfEP/AKKf/wCUC3/xoA9Aorz/AP4RL4h/9FP/APKBb/40f8Il8Q/+in/+UC3/AMaAPQKK8/8A+ES+If8A0U//AMoFv/jR/wAIl8Q/+in/APlAt/8AGgD0CivP/wDhEviH/wBFP/8AKBb/AONH/CJfEP8A6Kf/AOUC3/xoA9Aorz//AIRL4h/9FP8A/KBb/wCNH/CJfEP/AKKf/wCUC3/xoA9Aorz/AP4RL4h/9FP/APKBb/40f8Il8Q/+in/+UC3/AMaAPQKK8/8A+ES+If8A0U//AMoFv/jR/wAIl8Q/+in/APlAt/8AGgD0CivP/wDhEviH/wBFP/8AKBb/AONH/CJfEP8A6Kf/AOUC3/xoA9Aorz//AIRL4h/9FP8A/KBb/wCNH/CJfEP/AKKf/wCUC3/xoA9Aorz/AP4RL4h/9FP/APKBb/40f8Il8Q/+in/+UC3/AMaAPQKK8/8A+ES+If8A0U//AMoFv/jR/wAIl8Q/+in/APlAt/8AGgD0CivP/wDhEviH/wBFP/8AKBb/AONH/CJfEP8A6Kf/AOUC3/xoA9Aorz//AIRL4h/9FP8A/KBb/wCNH/CJfEP/AKKf/wCUC3/xoA9Aorz/AP4RL4h/9FP/APKBb/40f8Il8Q/+in/+UC3/AMaAPQKK8/8A+ES+If8A0U//AMoFv/jR/wAIl8Q/+in/APlAt/8AGgD0CivP/wDhEviH/wBFP/8AKBb/AONH/CJfEP8A6Kf/AOUC3/xoA9Aorz//AIRL4h/9FP8A/KBb/wCNH/CJfEP/AKKf/wCUC3/xoA9Aorz/AP4RL4h/9FP/APKBb/40f8Il8Q/+in/+UC3/AMaAPQKK8/8A+ES+If8A0U//AMoFv/jR/wAIl8Q/+in/APlAt/8AGgD0CivP/wDhEviH/wBFP/8AKBb/AONH/CJfEP8A6Kf/AOUC3/xoA9Aorz//AIRL4h/9FP8A/KBb/wCNH/CJfEP/AKKf/wCUC3/xoA9Aorz/AP4RL4h/9FP/APKBb/40f8Il8Q/+in/+UC3/AMaAPQKK8/8A+ES+If8A0U//AMoFv/jR/wAIl8Q/+in/APlAt/8AGgD0CivP/wDhEviH/wBFP/8AKBb/AONH/CJfEP8A6Kf/AOUC3/xoA9Aorz//AIRL4h/9FP8A/KBb/wCNH/CJfEP/AKKf/wCUC3/xoA9Aorz/AP4RL4h/9FP/APKBb/40f8Il8Q/+in/+UC3/AMaAPQKK8/8A+ES+If8A0U//AMoFv/jR/wAIl8Q/+in/APlAt/8AGgD0CivP/wDhEviH/wBFP/8AKBb/AONFAHoFFFFABRRRQAUUUUAFFFFABRRRQAUUUUAFFFFABRRRQAUUUUAFFFFABRRRQAUUUUAFFFFABRRRQAUUUUAFFFFABRRRQAUUUUAFFFFABRRRQAUUUUAFFFFABRRRQAUUUUAFFFFABRRRQAUUUUAFFFFABRRRQAUUUUAFFFFABRRRQAUUUUAFFFFABRRRQAUUUUAFFFFABRRRQAUUUUAFFFFABRRRQAUUUUAFFFFABRRRQAUUUUAFFFFABRRRQAUUUUAFFFFABRRRQAUUUUAFFFFABRRRQAV5LeeOPFnjbX73Svh2LGLT7E7LjV7sZRn9E4II6/wnOM8AjPo3iaaa38K6xNb/AOvjsZnjw235ghI57c1xfwKigj+FGnNFjfJLO0uP73mMP/QQtAGNeeJfiL8OngvvFz2OuaA0ojuLqzi2zQg5wxAVQOcdQQeBkE132r3+u31hpF74QOn3NvczRyTyXLHBt2Gdy47/AOcVJ44jgm8BeIUuW2wnTrgs2M7cRsc/h1rxexllm+EnwwaVixHiWJVJOflE0oH5Yx+FAHp/iHxLqenfFHwpoVvKi2GopcNcoUBLFEJXB6jkV3FeYeL/APkuXgH/AK5Xf/os16fQAE4GT0orxqDS3+K/j/xFHrN5c/8ACO6HP9jgsoHMaTyAkMXIOTgr/wCPDBGDno/C3gXVfBXi1l0jUWm8J3EH7yzu5y0kEozgxjbjHQdRwTnOBQBa8KeJdT1b4heMdHu5Uaz0t4FtVCAFQ6sTk9+gruAQRkHIrwvTPC58WfGLxxY3d5cxaOkkL3cFvJ5ZuG2kIrMOdvLkgdTj0q7pGjSfDX4x6ToWkXdy2ga5bysbWaXeIpEDN8vHbC89fmOc4oA9noBBAIOQehFeZ/EnRtM1LWbGXxX4sj07w7HET/Zgl8p7mTPLE5ywAIGADjtjJrjvCOoaFoPxf0rS/BGtS3eg6pBKt1Zs7skMiq7AruA/uj1P3ueRQB77QCCMg5FeF6b4STxd8YvG9te3t1FpUUkLXNrbymP7SxUhAxHO0fOceuPSrmhaQPhx8bLDw7pNzcnRNas5Jfs00m8RyKHbI+nlgA8nDEc9aAPaCQBknAorxi20n/hbHxA8Rrrl3cnw/ok4srexhkKJLICdzMQeeVPv8w5GOc2+8KP4Q+Mngmwtb65n0VpJnsre4febZtuJEVj/AA8KQO2T9SAe80Ag9DmvH/ix4mi/4S7RPCV5rcmj6RPEbvUrmEkOyZYIgI6ZKEfiD254/U9Z8G+BL/S9Z8AeIpGxcrHqGnGSR454iDuchv4hj8yCMY5APpCigEEAg5B6EUUAFFFFABRRRQAUUUUAFFFFABRRRQAUUUUAFFFFABRRRQAUUUUAFFFFABRRRQAUUUUAFFFFABRRRQAUUUUAcf8AFDxBqHhf4f6hq+lyJHeQNEEZ0DAbpFU8H2Jrk7G1+NGoafbXsWv+G1juIllQPGwIDAEZ/ddea2Pjj/ySTV/9+D/0clZeh6x8VE0DTVtfDGiyW4tYhE73eCybRgkbuuKAO88KQeJLfRtniq7srrUvNY+ZZghNnGByq89e1bleUfEXTtf1b4Ww63qNpDZeItFuBqCpbPvVAjHODz/Bhz7rVj4keK/t3wktpdLBNz4kENpaxrgnMoyyn/gO5fqaAPT6AQc4PTrXjnxEv/8AhBfB/hXwbY6n/ZkV4y21zfoDujhTb5rjHQkvnjrzXIa9N4E8M6Yut+BPFdwniC1dHKNNI4vhuG4SAgA8EnsDgjHOQAfSVJkEkAjI6ivGvireS+IfD3gC9sZ/s02oajbSwyqM+UzqCrYPoSOPauzsvhnomm+GdZ0W2e6kGrRFLm4uZTK7vtID89wTn60AdnRXmHwv8Smw+Fl4urkrceGmntbtSfmAiywH5fKP92rHwX0me38IT69fqP7R1+6e/mbGDtYnb+B5Yf79AHW+L9Um0XwbrWp2zKtxa2UssTMMgOFO3jvziuB0SH4sa3oVhqsXibRoo723S4RHs/mVXUMAfl9DXXfEjT9S1b4e6xp+kWzXN9cRLHHErhCwLqG5JA4XJ98VyOmeC/iWNBsmHjSDSbi3tkih02GxSSKIKoCqzknJwOThvbNAHeeFrXxFaaZJH4m1C0vr0zEpJaxeWoj2rgEYHOdx/EVa1/XLLw3oV5rGouUtbWPe+Op7BR7kkAe5rmPhn4x1DxNYajp+twxw65o9ybW9EZG1zyA+B0yVYccfLkcHAx/j/JInwwlVCQr3kKvjuuSefxAoAqabqXxb8TaVD4k099CsLWVfNtdMljYtPGc7d7EZBIxggqDnJ211Xgnx/aeJvCdzql+q2F1p29NThbIFuyAljzztwCfbBHaustUjis4Y4f8AVLGqp9AOK+ftUdrW++MqWTHynjhLlf7zMdw/8eegDq9M8Q/Efx/DNrHhmXSdH0VZ3WyF3EzS3SqcfPwwAPOSuCCMc9a6X4f+N7rxHJqWj65axWXiLS5Sl1bxZCOueHTJPH4nsehFaXw7SOP4ceG1i+6dNgY/UoCf1JrjrYLF+0zdm35M2hg3GOx3Jj9FSgCfVfGPifxL4yv/AAx4Gawgj01QuoandoXEUhONiAZBIweoOSp6YyZNA8Y+JNF8Z2/hLxytk015Fu0/UbRWVJ2Gcq2eA30AwcddwNU/gV+80bxLcSktdSa3N5pbqflU8/iWpfjMFTUfA08f/H3HrkQiHcglSffqFoA9Woorw3S/CMHi74veOrbUbu6XS4pYGntIJTGLlip2hyOdo+bj1I9KAPcgcjI6UAgjIrwXTvBBg+JepfD2LVr+Pwo9qNTezWYgsMhDHu6hSz846gDPIzWnpOjx/Dv436XoWhyzpo2tWUjyWkkpdY3RXbIz/uD3+Y0Aell/Ev8AwmYQRWP/AAjf2XJfJ8/zs9PTH+c1h+FPEup6t8QvGOj3cqNZ6W8C2qhACodWJye/QVn/APNxn/ctf+16g8BkD4ufEYk4Altck/7r0AenkgdTiivnDTtb8G+PL/VNY8f+IpFRrlo7DTBJIkcMIHyvhR945/Q5znjrfhN4khXxfrfhKx1uTWNHgiF3p1zMSzqnyhkyewLAdOxPGaAPYiQMZPWivnSyTwprHizxBb/FC9vLfXFvnWzFxPJFDDB/D5bDCj8eCNpHevYfh/pV5o/hlbS419NcthIzWd2p3fueNqlsndgg85746AUAdVRkZxnmub8f+IpPCngbVdZg2/aLeICHeMjezBV478sDXC6J8H7HW/Ddrq2v6jqkviO8gW4a9+0sGt3cbgqjOOM4/DjFAHr1JkAgEjJ6CvFLHX9U1X4LeNNL1u5FzqWimexkm/ikVQAGb1OQwz3xzk5Nbvwt8C2Vtoug+Kby6urvVnsE8t5JT5cMTIAsaoOAAuB7nJ70Aen15fqnjXxR4j8Z6h4X8DR6fGumrtvtTvQzLHJnG1AMjIII5ByQ3TGT6hXzn8NG8X6/c+IdO0HUIdJjbUpLq/1V4RLIxfhI0U8dVck+/UdwD0DTde8c+GfFWn6N4rig1fTtQPlw6pYwMpicYH71QMDJI9BznPBA9MryWPXPGHgDxjo+leJtVj13RdYlFtBeeQsMkEpIAyB25HUnjkHgg+tUAFAIPQ5rxbX9APiX9oGXTnvrm1tW0VWuvsz7HmjDj93u7AsVz7AjvWfqPgk+GPibpfhbw5qt/puieI4H+1QxTEsvlAu2xjyCVUDPJ5bqDigD3nIPSivD9Y8MWfwv+IXg668MPcW9rqt4LG8tWnZkkDMqg85/vE/UDGK3viDdaj4h8f6H4Csr+eysrqFr3UZbc4kMSlsLu7AlCPqwJyOKAPUgQehorxLxn4NT4V6TF4t8GXV1atZSoLy0lmaSK5RiF+YE9ckfnkYIFS/Em1l8R/EvwJb6dqE1n9tgnK3VucOsbLlip7EpkA9s0Ae0ZBJGeR1rlfiD4z/4QTwz/bP2D7d+/SHyfO8r72ec7W9PSvMPiB4NsvhfHpnjHwvcXtvcQ3kcV1G9wXE6HJO7PJztAIzjntWh+0N4e0yTwzH4ia3J1SOWK0WbzGwIsu23bnHUnnGaAPS/G2qXWieCdY1OxdUurW1eWJmUMAwHHB61J4R1K41fwdoupXjq1zd2UM0rAAAuyAnArl/FXhrSvCnwe8Rabo1sbe0+yyybDIz/ADEDJyxJ7CuX8K/Cew8V+ANJv/EGoahLqEtpGbWSOfatpEFAjVE+790AnIyST35oA9qoyM4zz6V474K1zxRefBvxFbpLLc69pEtxZQSKd7tsVSMHGWYZbHc4Fcn4c0fwD4g8O2z2/ie40rxvtUy3t5dyRyi4zkj5iAwzwMHOMZ5zQB9HUVV02K7g0u1iv7hbi8SJVnmRdokcDBYDtk8496tUAFFFFABRRRQAjKroyOoZWGCD0Irxexh8TfBzVLuxsdFvfEPhO6k863+zDdNasfvAgAk8AdcA8EEHIr2migDxjXPEXi34nQ/8I5oXhzUdE0y6IF5qeoxlP3PdQuOc+gJJ6cAk1r+NfDB0zQvAmkaNZ3E9tp2uWhby4y5VF3bpH2jjk5J4GTXqFFAHnPirT72f4zeCLyGzuJLWCO6E06REpHmMgbmAwM+9ejUUUAeRPHrfwz8e67qkGhXuseHtckFy50+MyTW8oJLZT0JZvY8c8EVueF9a8YeKvF7alNYXeh+F4ICiWd7CizXUpz8xBG5QM54IHA65OPQaKAPOfBGn3tt8U/H11cWdxFb3ElsYJZIiqS4Vs7SRg49qPFWn3s/xm8EXkNncSWsEd0Jp0iJSPMZA3MBgZ969GooA8X8V2F1oXxik8Tat4YvfEejXFksVsLa2FwbR12/wngchiM4++cHg1HF/buu/GLwnrTeF7zSdGjjnSFJIMOo8t8vKFGI9xIABOfl969sooA858Eafe23xT8fXVxZ3EVvcSWxglkiKpLhWztJGDj2qLxDp19N8e/CF/FZ3D2cNncLLcLExjjJjlADNjAJyOvrXpdFAHkMkOvfDTx7rmqWmg3eteH9ccXMgsELzW82ST8vuWb65HIwRWHeavrniD41eDL/U9Jl0q1ZpVsrO4P7/AGBSWkkX+HJOAD/cP1Pd658OLyTxPceI/C3iS40HULtQLtRAs0M+AACUJAB9+fwycu8M/DZ9L8T/APCTa/r1zr2tJGYoJpYxEkCkEEKoJ7Mw7D5jxk0AUPiJ4f1SDxbonjXSNLXVnsEa2vLDbueWFs8oO5G5vxx1Gaqr4q1fxHqVjYeG/AM9gplBvbzW9PEccUfRgoBG5vx7dOcj1aigAooooAKKKKACiiigAooooAKKKKACiiigAooooAKKKKACiiigAooooAKKKKACiiigAooooAKKKKACiiigAooooA4P4y2N3qPwu1W1sbWe6uHaHbFBGXdsSoTgDnoKwNI+Kd9p+i2NlJ4A8Us9vbxxMy2TYJVQCRx7V63RQBg+HtZHi7w/LPd6Ne6fHKzwPaahFsdlxg5B7EGvJfA3hTXv+E80/Q9XsrgaJ4TkupbK5liIS5LuPLOehIzvGOmMcV7xRQB598VPC+paza6PrWi28V1qeh3X2mO1lGROhxuT8dq8eme+KxLvxrq2qRR6f4c+G19Bq8jhWk1WwEdtCM/MS3GePp1zz0PrlFAHmfxK0vULlvAyQWklw1rrNu9wbWBikYGMtgZ2r9elemUUyZXeGRI5PLdlIV8Z2nscd6APBPiLpOpWnxCuvDulDZaeNhbmZlPMTxv+8YD02gsfXca94tLWGxs4LS2jEcEEaxRoOiqowB+QrjPDfw7l0zxM3iXX9fuNe1hYjBBNLAsKQoeu1ATg8kcHueOa7mgDE8XabqereF76z0W/ew1J0Bt7hGK7XBBwSOxxg/WuEsPif4isNMj0/V/AXiGfXok8sm3t90E7gY37x0BPJIBA9a9WooA8m8MQaj8P/B3ijxx4mtY/7W1GU3ktqsm3aMny4887Tuc+uAR6V1ms6R/wsX4a/ZL2I6fNqVrHOqbt5t5OHUE4GcHAPA4zWp4p8N2ni3QJtGv5JktZ3RpPJYBmCuGAyQeCVFbAAUAAAAcADtQB5Ho/j3xdoGiwaFq/gbWb3W7aMQxTW6boLgDgM0gyF4xnGfXjOK0/A/w9uIfCmu/8JOxOr+Ji76gEI/dBgwCg8jI3sfQE47c+lUUAeOeHPEXif4c6YfDGs+FNX1eO0do9OvtOh8xJo8/KrY+739TjAxxk7nw78Naw3iHWfG3ia3+y6rqZ8mCz3Bvs1uMYBI7nav8A3zk8kgej0UAeRNb658L/ABrq9/YaLfa14Z1iT7VLHZKHltZiSWwvcdfQYK8/Ly+zsNc+JHj3Ste1XRrvRvD2i/vrO3uwFmuJ8ghivVRwp7/d4zuOPWqKACvOfBGn3tt8U/H11cWdxFb3ElsYJZIiqS4Vs7SRg49q9GooA88tLC8X4/32oG0nFk2gCIXBjPll/NQ7d2MZwCcVX8Q6dfTfHvwhfxWdw9nDZ3Cy3CxMY4yY5QAzYwCcjr616XRQB5/9gvP+F+/b/sk/2L/hHvK+0eWfL3+fnbu6ZxzjrUPgnT722+Kfj66uLO4it7iS2MEskRVJcK2dpIw2PavRqKAPFNEivvhbd6po+oeEL3WtHlumuLC8060E7KrcbHB6YwPxz1BFdn4Gvte1m/1DUr/w7b6HpRASwhkg2Xbju0nPA46YHXvjJ7iigDyK68UapbveaL4+8CXuulJj9ludO0wTwzIfu8McK3GeDkegxWt8HfD2paFoOpyX1nNp1vfXz3Fnp0r7mt4iBgHuD2weflGetej0UAYXjPw6PFfg/U9E8xY2uosRuwyFcEMpPtuArz/RvHvifw74ettA1LwJrl1rVnCLaGS2hL28+wbVYyc44AyRnueOleu0UAeQ2Xg7WdH+DPildRi8/XdZE97PBboXZXcDEYxnceCeO7Ec4ye+8CwTWvgHw/b3ETwzR6dAjxyKVZWCDIIPINdBRQAV4+YNc+FnjXWL6y0O91nwzrUv2hlsUMk1rLyT8o/hyT14xt5yMH2CigDx2Vdf+KfjPRJ5tAvdG8NaPOLstqEeyW5kBBAC+nGOOMFuc4FexUUUAecwafej9oK51A2dwLI6EIhc+UfLL+Yp27sYz7U/xLYXk3xp8E3sVpPJaQQXgmnWMlIyYmA3NjAyema9DooA80+KOnX194n8Ay2lncXEdvrUck7xRM4iXfH8zEDgcHk+lL8QdD1qy8XaJ468P2J1G405GtruyT78sLbvu+pG9uPXBwcGvSqKAPGfE+p+IPitZweGNM8M6to9hNMjahf6pB5QjVTnCLn5jkevYdM5G74l0u6Pxg8Cz2tlO1laQ3KSSxxExxDyyFDMBgegzXpNFAHmnx006+1T4d/Z9Ps7i7n+2RN5dvE0jYAbJwATirnxl8P3/iP4dXVtpkD3F3DNHOsEYy0gBwQB64Yn8K7+igDz/XdXuPGHwi12eDRtTtLqS2lh+x3NuVmLgDO1RkkZ6fTpXQeBYJrXwD4ft7iJ4Zo9OgR45FKsrBBkEHkGugooA8l8B6f4k0/wl4zGm2ptdWk1m4mslvYSqyj5McHGQwBAPTP0rD8Sa03jDw1Lpmp/DHWH8VSQeStz/ZwWOOXpvExO4Jnn0xwTjmvdqKAMTwfpl7o3g7SNO1GUy3ltapHMxbdhgOme+OmfatuiigAooooAKKKKACivP/8Ahdvw8/6GH/ySuP8A43R/wu34ef8AQw/+SVx/8boA9Aorz/8A4Xb8PP8AoYf/ACSuP/jdH/C7fh5/0MP/AJJXH/xugD0CivP/APhdvw8/6GH/AMkrj/43R/wu34ef9DD/AOSVx/8AG6APQKK8/wD+F2/Dz/oYf/JK4/8AjdH/AAu34ef9DD/5JXH/AMboA9Aorz//AIXb8PP+hh/8krj/AON0f8Lt+Hn/AEMP/klcf/G6APQKK8//AOF2/Dz/AKGH/wAkrj/43R/wu34ef9DD/wCSVx/8boA9Aorz/wD4Xb8PP+hh/wDJK4/+N0f8Lt+Hn/Qw/wDklcf/ABugD0CivP8A/hdvw8/6GH/ySuP/AI3R/wALt+Hn/Qw/+SVx/wDG6APQKK8//wCF2/Dz/oYf/JK4/wDjdH/C7fh5/wBDD/5JXH/xugD0CivP/wDhdvw8/wChh/8AJK4/+N0f8Lt+Hn/Qw/8Aklcf/G6APQKK8/8A+F2/Dz/oYf8AySuP/jdH/C7fh5/0MP8A5JXH/wAboA9Aorz/AP4Xb8PP+hh/8krj/wCN0f8AC7fh5/0MP/klcf8AxugD0CivP/8Ahdvw8/6GH/ySuP8A43R/wu34ef8AQw/+SVx/8boA9Aorz/8A4Xb8PP8AoYf/ACSuP/jdH/C7fh5/0MP/AJJXH/xugD0CivP/APhdvw8/6GH/AMkrj/43R/wu34ef9DD/AOSVx/8AG6APQKK8/wD+F2/Dz/oYf/JK4/8AjdH/AAu34ef9DD/5JXH/AMboA9Aorz//AIXb8PP+hh/8krj/AON0f8Lt+Hn/AEMP/klcf/G6APQKK8//AOF2/Dz/AKGH/wAkrj/43R/wu34ef9DD/wCSVx/8boA9Aorz/wD4Xb8PP+hh/wDJK4/+N0f8Lt+Hn/Qw/wDklcf/ABugD0CivP8A/hdvw8/6GH/ySuP/AI3R/wALt+Hn/Qw/+SVx/wDG6APQKK8//wCF2/Dz/oYf/JK4/wDjdH/C7fh5/wBDD/5JXH/xugD0CivP/wDhdvw8/wChh/8AJK4/+N0f8Lt+Hn/Qw/8Aklcf/G6APQKK8/8A+F2/Dz/oYf8AySuP/jdH/C7fh5/0MP8A5JXH/wAboA9Aorz/AP4Xb8PP+hh/8krj/wCN0f8AC7fh5/0MP/klcf8AxugD0CivP/8Ahdvw8/6GH/ySuP8A43R/wu34ef8AQw/+SVx/8boA9Aorz/8A4Xb8PP8AoYf/ACSuP/jdH/C7fh5/0MP/AJJXH/xugD0CivP/APhdvw8/6GH/AMkrj/43R/wu34ef9DD/AOSVx/8AG6APQKK8/wD+F2/Dz/oYf/JK4/8AjdH/AAu34ef9DD/5JXH/AMboA9Aorz//AIXb8PP+hh/8krj/AON0f8Lt+Hn/AEMP/klcf/G6APQKK8//AOF2/Dz/AKGH/wAkrj/43R/wu34ef9DD/wCSVx/8boA9Aorz/wD4Xb8PP+hh/wDJK4/+N0f8Lt+Hn/Qw/wDklcf/ABugD0CivP8A/hdvw8/6GH/ySuP/AI3R/wALt+Hn/Qw/+SVx/wDG6APQKK8//wCF2/Dz/oYf/JK4/wDjdH/C7fh5/wBDD/5JXH/xugD0CivP/wDhdvw8/wChh/8AJK4/+N0f8Lt+Hn/Qw/8Aklcf/G6APQKK8/8A+F2/Dz/oYf8AySuP/jdH/C7fh5/0MP8A5JXH/wAboA9Aorz/AP4Xb8PP+hh/8krj/wCN0f8AC7fh5/0MP/klcf8AxugD0CivP/8Ahdvw8/6GH/ySuP8A43R/wu34ef8AQw/+SVx/8boA9Aorz/8A4Xb8PP8AoYf/ACSuP/jdH/C7fh5/0MP/AJJXH/xugD0CivP/APhdvw8/6GH/AMkrj/43R/wu34ef9DD/AOSVx/8AG6APQKK8/wD+F2/Dz/oYf/JK4/8AjdH/AAu34ef9DD/5JXH/AMboA9Aorz//AIXb8PP+hh/8krj/AON0f8Lt+Hn/AEMP/klcf/G6APQKK8//AOF2/Dz/AKGH/wAkrj/43R/wu34ef9DD/wCSVx/8boA9Aorz/wD4Xb8PP+hh/wDJK4/+N0f8Lt+Hn/Qw/wDklcf/ABugD0CivP8A/hdvw8/6GH/ySuP/AI3R/wALt+Hn/Qw/+SVx/wDG6APQKK8//wCF2/Dz/oYf/JK4/wDjdH/C7fh5/wBDD/5JXH/xugD0CivP/wDhdvw8/wChh/8AJK4/+N0f8Lt+Hn/Qw/8Aklcf/G6APQKK8/8A+F2/Dz/oYf8AySuP/jdH/C7fh5/0MP8A5JXH/wAboA9Aorz/AP4Xb8PP+hh/8krj/wCN0f8AC7fh5/0MP/klcf8AxugD0CivP/8Ahdvw8/6GH/ySuP8A43R/wu34ef8AQw/+SVx/8boA9Aorz/8A4Xb8PP8AoYf/ACSuP/jdH/C7fh5/0MP/AJJXH/xugD0CivP/APhdvw8/6GH/AMkrj/43R/wu34ef9DD/AOSVx/8AG6APQKK8/wD+F2/Dz/oYf/JK4/8AjdH/AAu34ef9DD/5JXH/AMboA9Aorz//AIXb8PP+hh/8krj/AON0UAegUUUUAFFFFABRRRQAUUUUAFFFFABRRRQAUUUUAFFFFABRRRQAUUUUAFFFFABRRRQAUUUUAFFFFABRRRQAUUUUAFFFFABRRRQAUUUUAFFFFABRRRQAUUUUAFFFFABRRRQAUUUUAFFFFABRRRQAUUUUAFFFFABRRRQAUUUUAFFFFABRRRQAUUUUAFFFFABRRRQAUUUUAFFFFABRRRQAUUUUAFFFFABRRRQAUUUUAFFFFABRRRQAUUUUAFFFFABRRRQAUUUUAFFFFABRRRQAUUUUAFFFFAEc08VtC808qRRIMs7sFVR6knpWd/wk2gf9BzTf/AuP/GrWp6baazplzp1/D51pcoY5Y9xXcp6jIII/A14H8a/h34V8I+DbO/0PSvsl1JqCQs/2iWTKGOQkYdiOqj8qAPd7fXdHvJ1gttVsZ5n+7HFcIzN34AOavJIkm7Y6ttODg5wfSuQ0X4WeC/D2rwarpejfZ723JMUv2qZ9uQVPDOQeCeoqt4Dk8N21v4ouNCtr6JYNUnW++0sGLzIMsU+Y/LzxnB9aAO6orz/RPjBoHiK70210yy1Waa9fawFuCLX5ioMpDELnGeCeCDWn4o+IuieFr+LTZkvL/VJV3pY2EPmykdiRkAfnmgDraK5rwn470XxkLhNOeeK7tcfaLO6i8uaLPqOn5E10tABRXnQ+M3h2W5ltLax1a4vY7t7VraG3V3G0gGQ4YgJk8E88Hjiuh8WeOdE8GxwDU5ZXubgkQWltH5k0uPRfT3OBQB0lFcd4a+Jeh+JdVOkCK+03VdpcWWpQeTI4HXbyQfXGc4yccGuK+Knjq90rxp4csLO21+CO01GJ7k26Msd+h8tjHHhh5pwSpU8ZOKAPZqKxovE1iPCv/CRaglxpdkIjLIt/H5ckQBxhlGeT2AyTketcZF8cfDLSQvcWGt2lhM2yPULizxAx9iGJ/SgD0yivO/i74rl0PwPMNPi1Rpr6EmC/09T5dvhkO55AQUDBuCM55q78PPEZ8TeB7ZLux1aJ7exhinnvoyn2smMbpI3yS4OCd3B5BoA7VJEkQPG6up6FTkU6uG+Ht/4X0/4aQ6lpH2iw0JDLKW1BxvTDkMWwSOo4APp3rPX43eGC6yyWWtRaazbV1N7E/ZyfrnP6UAek0Vl6r4gsdK8NXGvszXNjBb/aN1sQ5kTGcryAcj3rhrj45eGY7JLy3sNavLYIjTy21oGS3LAHY7FgoYZGQCee9AHptFZ2h65p/iPRrfVtLnE9ncAlHwQeDggg8gggitGgAooooAKKKKACiiigAooooAKKKKACiiigAooooAKKKKACiiigAooooAKKKKACiiigAooooAKKKKAIbm6t7KBp7qeKCFcbpJXCqM8DJPFUP+Em0D/oOab/AOBcf+Nch8cf+SSav/vwf+jkqpoXwb8A3nh7Tbq40HfNNaxSSN9snGWKAk4D46mgD0i0vbW/h86zuYbiLON8Mgdc+mRU9cVc3nhj4S6Pp9pBp9zbaZe3ohDRMZFikf8Aicu+QuATxnoeK6XXdZtPD2hXur3xYW1pEZXCY3NjoBkgZJwByOTQBoUVzv8AwmmkQ+C4PFV80thp00KzKLlR5mG+6Nqk5JGCACetYGnfGLw5e6lbWlza6rpqXbBbS5v7Ty4Z8nA2tk9+5wKAPQaK53xZ400rwZHp8urCcRXtyLZZIwpWMn+JySMKO5GfpVDTviNp2qeH9X1u20zVvsOmp5paS3CNcJgktGGYZAAJ5xQB2NFZvh/XLPxLoNnrOnl/st3HvQOAGXnBBwSMggg89RVHwx4wsPFsmqDToLpYtOumtHnlVQkrr12EMSRjB5A4YUAbssscETyyuscaKWd3OAoHJJPYVm/8JNoH/Qc03/wLj/xrK+JVyLX4aeI5CcZsJY/++ht/rXn2gaB8JbXw7osGu/2LHq0ljA9ys93tYSMgLbvmwpyT1xQB7HZ31nqERlsrqC5jDbS8MgcA9cZHfkfnVisjw5oeh6Dpfk+H7aCCxnfzx5DllckAbgcnOQB+VY/xN8UzeEPAeoapaFRefLDbluQHc4z74GWx7UAdHPqunW17FZT6haxXcv8Aq4JJlV3+ik5NXK8r8P8AwU8MP4ViXXbN73V7uMS3d608gkErZJ289i3cc45zWf4L8YX/AIX8K+MNG1WQXdx4S3LbSvkech3CNT36qB9GA7UAes3uq6dpzRLfX9ratK22MTzKhc+gyeTVsHIyOlePeBPhlo/iXw0viTxfbHVdX1oG5klkldRGjnKhQpGOADkdM4HFWfhzLdeE/H2t/DySZ7jToIvt+nO5y0cbFcpn/gf5qx70AepXd5bWFs9zeXENvAgy0szhFX6k8Cltrq3vbdLi1ningcZSSJwysPYjg143oGjWvxZ8ca7r3iFftWj6VcGw02zDsE+U5LnGM5G0kc53YPAFOv8ASofhP8SNBudBVotD1+YWN3ZF2ZUk3AK6kk/3s+2GHfgA9noorg9R+LXh/Tdb1LRpLbU5tSsZEiFtb24ke5ZgT+6AbJwByW29RQB3lFee2vxm8K3OlXF2RfxXcMwgOmPb/wClvIc4VUBIOcHvxjnHFaXhT4kaN4s1S40qG3v9P1OBN7WeoQeVIV9QAT6j35oA67zE8zy9678Z255x64qOK8tZ7iaCG5hkmhwJY0cFo89NwHI/GuQK+HT8ZAv2a9/4SIaR5vnb/wBx5G/bjG7O7PtjHvWL4C/5K78Rf+utr/6C9AHp9FcR4g+KWhaFq8ukRW2patqMIzNb6Zbec0Q6nccgDA7Zrb8LeLtH8Y6a19o9wZEjfy5Y3Qo8TejKf/1UAblFcFqnxb0Ow1W60+00/WdXeyfZdy6bZ+bHA3ozEj0PT0PpXUeHPEml+K9Gi1XSLkT20hKnjDIw6qw7Ef4HoQaANWimySJFG0kjqiICzMxwAB1JNedT/GzwzHNKbez1i8sIWKy6jbWZa3Q+7ZBx+FAHo9FYdx4t0mLwfL4pgmN5pkcBuA9uAWZR1ABI57YOMHg1j+HfidovirV7aw0q01GUTQ+a9yYAIYTsDeW7gkbxnBAyM8ZoA7Sori5gs4HnuZ44IUGWklcKq/Unipa8Ht4tF8e+Ltf8S+NtQgTw7pd22nadbTXRiiLLyW6jJIAOO+70UUAe32OpWOpwCfT723u4T/y0t5VkX8was15VonhDw6/i6y8Q/DvXrG2iiO3U7G2mMsc8Z6AqG+Q43YyMZwccHPqtABRXGa/8T9A8NeIpdD1Fb0XaWy3CeVCHEu5tqxoAdxcntjHB5qhY/GXwtcLqC3y6hpNzYqHe11C32TOCQBtUE5OSOOvOenNAHoVFcN4f+Kuia7r8eiSWOraVqEy74ItTthF5o6/Lhj2B646VveJ/Fmj+ENMF9rFz5UbtsjRV3PK3oqjk0AbdFcJovxZ0DV9Xt9LuLbU9Iu7o/wCjLqdt5In9NpyRz2zjJ4HatDxV8Q9C8G6pY2OstcRfbI5JFnVA0aBBk7ud2T0AAOSRQB1dFee6b8Y/Dt94gttGubPVtMnuiBbSX9r5SSknC45J5PQkY96w/jt4uvtF0KPTdNXWbS6keOb+0bUNHCFy4MZlVgd3GduOmKAPWpp4raF5p5UiiQZZ3YKqj1JPSliljnhSaGRJInUMjowKsD0II6iuA8Va8viP4PeIr9dN1LTh9llTyNRg8mXgDnbk8c9awdA+LWgeHPBGh2r2up3wtNPtku57G28yK2Yxr8ruSBnkcDPp14oA9gorI0/xRo2p+Gh4htr6NtL8ppWnbgIq/e3DqCMHIrjV+NnhzK3D6drselO+1dVewItjzjO7OcZ9s+1AHpNFRwTxXNvHPBIksMqh0kQ5VlIyCD3BFSUAFFFFABRRRQAV4/8AtHf8k80//sKx/wDoqWvYK474k+Bm+IHh230pNQFiYbtbnzDD5mcI64xkf3859qAOxryz4cf8gf4g/wDYev8A/wBBFep1ynhrwa3h+z8Q25vhP/a9/cXgYRbfK80AbepzjHXigDC+BNvDD8KdOkjjVXmlneRgOWYSMuT+CgfhXH+Fp/F7fErx5d6Jpuk3V2L/AMmV76ZkeOIM4jC47FVH12j0r1XwL4WbwZ4Qs9Ca7F2bcyHzhHs3bnZumTjrjrWN4g+HU934lk8S+Gtdm0HWJo/LuHSETRzgYxuRjjPA59umaAMXSvDfjOb4sWHirVrLRrJBava3S2c7FpV2ttYgjkg7R9FHpXq1cP4X+H02k+IpfEmva5PrmtvF5Ec8kQiSGP0RASB3/M8cnPcUAeV/BS3hWHxdciNRM+uzxs+OSq4IGfQFm/OmaTFHd/tI6+98gM1npkX2EMoICER7mB7HLMPozV13gnwg3hC31aJr0XX2/UZb0ERbNm8D5epzjHWqvi/4fR+I9Vs9c03VJ9G120UpHfQIH3Jz8rKSMjk9+5BzQBzvxkgij1DwVf20aHV01uGODsWUnJUn03BPz96X4t/8jX8Ov+w7H/6HHWno3w1uR4ktvEPizxDN4g1C0B+yK8CwwwH+8EBILeh47HGQCNfx14LXxnp1lHHqD6dfWN0t1a3aRhzG6+xIyOh6jkCgCL4l63omg+DZ7jXdOGpW0kiRRWRHE8vVV9vuk556dCeK4Lxze+Obz4baomp+GdD0rRxbDMMl0XliUMuwKF+XdkLgcdvpXd654Hk8WeAk8P8AiLUzc3ygP/aEcKpiUZ2uEHGMHBHGRnp1rnr74W+Ite0ifTfEXjy61C2EeLeJbRYlD/wvJtOZMdcE9QOaAItcYt+zNGWJJ/sW15P0jrs/Bf8AyTTw9/2B7b/0StLH4Sgf4ex+EbycywjT1snmVdpOE27wDnByMjrVfwX4Y1bwxo0uk6hr/wDatrGqxWWbZYjBGBjacElu3U9qAPFLt2H7M/h2JmZLObVil26jJWLzZTn8wtfQWpabpj+GLnTbiCFdLFq0TRBQESML2HQYA49MVzui/Dixs/hqvgvVZhf22JN0yp5ZyzlwyjJwQSMfT8KwD8KPEU2mroVz8Qb6Tw8FEZtVtEWUxj+DzMk4wB6jHGKAMLwxJcSfst6gJlwi210sJzncm9v67h+FejfDiwtYPhjoFvHAgim0+N5F2jDM67mJ9ckmrOo+D7ObwFceE9M2WFo9qbaIhNwjB/iIyNxzkk5ySSa0fDulHQvDemaSZhMbK1jtzKF279qgZxk4zj1oA88+AI8vwVqtuCTHBrM8cYPZQkZx+pr1WuT8AeDG8EaTf2LXwvDdX8l5vEXl7dyqNuMnONvX3rrKACiiigAooooAKKKKACiiigAooooAKKKKACiiigAooooAKKKKACiiigAooooAKKKKACiiigAooooA87+OP/JJNX/34P8A0clZeh/Brw5eaBpt1Jfa0HmtYpGCXxABKgnAxwOa7Xx14Wbxn4QvNCW7FobgxnzjHv27XVumRnpjrXH2/wAOvHtpbRW0HxMmSGJBGijTl+VQMAfe9KANjxH8P7Wb4VX3hXTzPMUieW1a4k3yGUMZFG4+p+X6GuF1nxHL8QPh/wCB/DsMrG8164WO+IwSI7f/AFrH05Acewr1vwvperaPo/2XWdabWLvzGb7S0IjO04wuAT05/OuX8MfCu18NePdR8SpfGaK4802toYsC2MjBmIOfqBgDg96AOe+M0V2ureA9NsLS2ltjfkJb3BxC8i+WI0b2wWFS+MNH+I/jDw1caNqGjeG44ZSrCZbp90TKwIK5HB6j6E133jHwfp3jXQzpuob4yriWC4iOHhkHRh+ZGK4+5+F/iLXI49P8S+PbvUtFRwz2kdokLTAcgO4JJ59c9M8HoAZfxIsp30P4cWGrrFNOdTtIbsKdyO20K/1B5r2GSKOWJopEVo3UqykZBB4IxXLeKvBKeIv+EdW3uksotGvortYxFuDqmMIORjgdea6p3WNGd2CooJZicACgDxHQdff4deDfHXh+aUi40GdmsC/JZJ+ITjv8xDH/AHq9D+Gfhv8A4RXwBpWnPGUuWi8+5BGD5r/MQfpkL/wEV5r4htNF+Inxs0ePRLkXtrBbrLq0sDboGSNyyKT0bJwp+o9Dj3egDmfiBbaPe+CdQtdf1CXT9Ml8tZrmLhk/eKQOh6kAdO9UdJ+GfgaHw9BZwaFp95bvCMXU0SySygj7/mYzk9eCMdsV0+raVZa5pNzpmowia0uYzHKhOMg+/Y9wexrzq3+GPizTbP8AsnSviNe2+ijKpC9mrzRJ2VZNwI47jbjsKAI/gy81he+L/DcUss+laRqRjspJGLbQWcMgPttBOOMsT3qz8erSW5+Ft1JGMi2uYZX/AN3dt/mwpniHRbf4X/BvVbXw89wLt9qi4DkTSzSOqbgV6EA8AdMV3Wm6Rs8K2uj6q7X5+yLb3TXDGQznbhyxPJyc0AW9Kv4NU0mzv7Z1eC5hSVGXoQRmvBXhfxGfjDqVlh7cokcboMrJ5WS2COvEef8AgQrsoPhRrul27aVonj7UbHQXJzaGBXkjBOSEkyCucnoB6813PhbwtpvhDw/Bo2mRkW8eS7vgvKx6sx7k/wAgB0FAGd8M7+DUfhr4elgdWWOxjgbb2aNQjA++VNclpky6t+0lqk1uQ0OmaSLeWReRvJU7SfX5j/3yfSrTfCvVNIvLs+D/ABjdaHp95K0ktl9mWVIy3Ux5I29hxzgDniuq8GeC9P8ABenT29rLNdXN1KZrq8uDulnc92Pp149yepJoA4v4ISLZR+LNClZReWesyvInfaQFB+mYzR8YJlvfEfgbQoSGup9WS4KryyIpALEenJP/AAE+nG74m+HMmpeI/wDhJfD2uXGg62YhFLNFEJI51HTehxk8Ac5Hyjjin+Fvh3/Y2vSeIta1m51zXXi8pbmdAqQr3Eac7euOvc4xk5AO4ryvwJbwv8ZviDctGpmja3RHI5VWUkgH32r+VeqVy3h/wg2h+MPEmvG9Ew1lomEIi2+VsBHXJ3Zz6CgDlLOwtf8AhpbUJvJTzP7CE+7HO/eke767eKb4iRYv2jvB8iDa82nzrIRxvASYgH1rr4fCTRfEq48XfbQVm00WH2Xy+R86tu3Z/wBnGMd+tRan4MbUfiPoniwXwjXTIJYTbeVkyb1dc7s8Y3+h6UAYf/Nxn/ctf+16r+A8/wDC3PiNgZPmWuP++Xrq/wDhFG/4WR/wlv2wbf7M+wfZvL5/1m/fuz+GMfjUfh/wg2h+MPEmvG9Ew1lomEIi2+VsBHXJ3Zz6CgDyn4TXPjgaJqt5oulaLcPc6lK15NeTukplwCVOOwzkf7x9a7HwR4a8Uad8R9a1/WbXSrS31O2HmwWMxb96pXDYI7jeSfU1ZvvhpqFnr19q3g7xPNoD37iS6t/syzxO/OWAY8Hkn8e1a3gzwInha6v9TvNTn1bW9QI+1X06hSQOiqvO0dOM9h0AAoA5DTNE8beA7vVZfCsGmeItDvrx7sQGfy7hGbGRvJ2ngAdTnGcDJz0/wz1zRNb0i/fSdG/sa4iu2W/sdoBSfueMZzjGcDpjHFZSfDHXNDv70+DvGUmjadeTGZ7J7FLhY2PUoWPHbjA4A5NdR4L8HW3g3Sp7aO7mvbu7na5u7ub700rdTjsPbJ6nk0AZfxgluYfhRrzWoy5iRG/3DIof/wAdJrX8FWOnweANEtbONGsn0+IgFABIGQElh0yxJJ9ya2b6xttSsLixvIVmtriMxyxt0ZSMEV5pD8KvEGm2j6Ro3j++stBcti1NqryRqScqsmQR1PIx64NAHKeHkW3+E/xNtLRR/ZkF/dJaMDnjAGPpgJ+derfDe3htvht4cSGNY1bT4pCFGMsyhmP1JJP41XX4e6dZfDm78H6S/wBlhuIGja4dd7M7DmRum4/lwABgAVveHdKOheG9M0kzCY2VrHbmULt37VAzjJxnHrQBpV8/fCPwVpeqeJfE6+III72bSr1o47Gcboo2dmDSFTwSfLAH+79MfQNcD4m+G0uo+Jf+Em8Oa7PoOtsmyeWOISxzqBgBkJAzwvqOBxnmgDlfHGh6d4J+IHg7WPDMCafdX9+tncWlqAiXERZQ3yDgdcemSp7V7RXn2gfDOW28Tx+JfE+vz6/q0K7bYyRCKKD3VASM8nHQck4zzXoNAHlaW8M/7S0jyxq7Q6EJIyRna28Lke+GI/GjxdYWs3x78CyyQozvBc7iR18tHZPyY5FdXH4QZPiZL4v+2grJp32L7L5XI+YNu3Z9umKdqvhJtS8e6B4mF6I10mOdDb+XnzfMQrndnjGc9DQByHxZRV8afDm4UbZhrSR7xwdpePI+lJ4mijvf2h/CltqCBrWLT5JrVWUFWnHmE5z3AVWHuorq/F/gxvFOreG75b4Ww0a/W8KGLf5uGU7c5G37vXnrTvGvgWz8ZQWkhuprDU7GTzbO/t/vwtkH8RwD25A5oA5v49W1nL8Mri5nVftNtcQtav8AxK5cA4P+6W/KqHiy2/tH4ufDhNSgQuYJpZYz8wEipv8A0YD8q04fhdqOq6pZ3XjTxXPr9tYyeZBZG1WCIsOhcAnd9PqCSCQeh1jwg2q+O/D/AIlF6IhpKzKbfys+bvUr97PGM+hoA5D9oOJB8P7a7AxPbahE8T91JDD/AD9BUn7Qf/JM/wDt+i/k1dR8Q/BjeO/DH9jrfCyPnpN5pi8z7ueMZHr61c8aeFLbxp4XutEupmgExVkmVQxjZSCCAevTB9iaAKnxN/5Jn4i/68ZP5Uz4aada2fwx0CCKFBHNYpLIuB8zSLuYn1ySab/wiesXvw/1Dw3rPiAX93dRvCt8bUJtQgBcoDyRjrnJz1re8O6UdC8N6ZpJmExsrWO3MoXbv2qBnGTjOPWgDyX4b6Ha6l8NvGnhyS7NpZtq1zbRSs3+qG1AvUjIyBxnnn1qWS78aeCvCA0rxJ4Y0zxH4atLcRPcWc2CIFxgujD5sADkKOmSe9ddovw2tLLw54i0PUrr7ba61ey3T7Y/LMe/bgDk8qVBB9e1Yi/C7xUdI/4R+T4h3DaB5fkm3GnxiUw9PL8zOcbePT2xxQB3/hq803UPDOm3Wjp5emyW6G3j27diYwFx2x0x7Vq1T0nS7XRNItNLskK21pEsMYJycAY5Pc+tXKACiiigAooooAKKKKACiiigAooooAKKKKACiiigAooooAKKKKACiiigAooooAKKKKACiiigAooooAKKKKACiiigAooooAKKKKACiiigAooooAKKKKACiiigAooooAKKKKACiiigAooooAKKKKACiiigAooooAKKKKACkdFkRkdQysMFSMgj0paKAKWm6PpmjRNFpenWljG5yyWsCxAn1IUCrtFFABRRRQAhUMMEAj3paKKACiiigAooooAKKKKACiiigAooooAKKKKACiiigAooooAKKKKACiiigAooooAKKKKACiiigAooooAKKKKACiiigAooooAKKKKACiiigAooooAKKKKAPP8A/i7/AP1I3/k3R/xd/wD6kb/ybr0CigDz/wD4u/8A9SN/5N0f8Xf/AOpG/wDJuvQKKAPP/wDi7/8A1I3/AJN0f8Xf/wCpG/8AJuvQKKAPP/8Ai7//AFI3/k3R/wAXf/6kb/ybr0CigDz/AP4u/wD9SN/5N0f8Xf8A+pG/8m69AooA8/8A+Lv/APUjf+TdH/F3/wDqRv8Aybr0CigDz/8A4u//ANSN/wCTdH/F3/8AqRv/ACbr0CigDz//AIu//wBSN/5N0f8AF3/+pG/8m69AooA8/wD+Lv8A/Ujf+TdH/F3/APqRv/JuvQKKAPP/APi7/wD1I3/k3R/xd/8A6kb/AMm69AooA8//AOLv/wDUjf8Ak3R/xd//AKkb/wAm69AooA8//wCLv/8AUjf+TdH/ABd//qRv/JuvQKKAPP8A/i7/AP1I3/k3R/xd/wD6kb/ybr0CigDz/wD4u/8A9SN/5N0f8Xf/AOpG/wDJuvQKKAPP/wDi7/8A1I3/AJN0f8Xf/wCpG/8AJuvQKKAPP/8Ai7//AFI3/k3R/wAXf/6kb/ybr0CigDz/AP4u/wD9SN/5N0f8Xf8A+pG/8m69AooA8/8A+Lv/APUjf+TdH/F3/wDqRv8Aybr0CigDz/8A4u//ANSN/wCTdH/F3/8AqRv/ACbr0CigDz//AIu//wBSN/5N0f8AF3/+pG/8m69AooA8/wD+Lv8A/Ujf+TdH/F3/APqRv/JuvQKKAPP/APi7/wD1I3/k3R/xd/8A6kb/AMm69AooA8//AOLv/wDUjf8Ak3R/xd//AKkb/wAm69AooA8//wCLv/8AUjf+TdH/ABd//qRv/JuvQKKAPP8A/i7/AP1I3/k3R/xd/wD6kb/ybr0CigDz/wD4u/8A9SN/5N0f8Xf/AOpG/wDJuvQKKAPP/wDi7/8A1I3/AJN0f8Xf/wCpG/8AJuvQKKAPP/8Ai7//AFI3/k3R/wAXf/6kb/ybr0CigDz/AP4u/wD9SN/5N0f8Xf8A+pG/8m69AooA8/8A+Lv/APUjf+TdH/F3/wDqRv8Aybr0CigDz/8A4u//ANSN/wCTdH/F3/8AqRv/ACbr0CigDz//AIu//wBSN/5N0f8AF3/+pG/8m69AooA8/wD+Lv8A/Ujf+TdH/F3/APqRv/JuvQKKAPP/APi7/wD1I3/k3R/xd/8A6kb/AMm69AooA8//AOLv/wDUjf8Ak3R/xd//AKkb/wAm69AooA8//wCLv/8AUjf+TdH/ABd//qRv/JuvQKKAPP8A/i7/AP1I3/k3R/xd/wD6kb/ybr0CigDz/wD4u/8A9SN/5N0f8Xf/AOpG/wDJuvQKKAPP/wDi7/8A1I3/AJN0f8Xf/wCpG/8AJuvQKKAPP/8Ai7//AFI3/k3R/wAXf/6kb/ybr0CigDz/AP4u/wD9SN/5N0f8Xf8A+pG/8m69AooA8/8A+Lv/APUjf+TdH/F3/wDqRv8Aybr0CigDz/8A4u//ANSN/wCTdH/F3/8AqRv/ACbr0CigDz//AIu//wBSN/5N0f8AF3/+pG/8m69AooA8/wD+Lv8A/Ujf+TdH/F3/APqRv/JuvQKKAPP/APi7/wD1I3/k3R/xd/8A6kb/AMm69AooA8//AOLv/wDUjf8Ak3R/xd//AKkb/wAm69AooA8//wCLv/8AUjf+TdH/ABd//qRv/JuvQKKAPP8A/i7/AP1I3/k3R/xd/wD6kb/ybr0CigDz/wD4u/8A9SN/5N0f8Xf/AOpG/wDJuvQKKAPP/wDi7/8A1I3/AJN0f8Xf/wCpG/8AJuvQKKAPP/8Ai7//AFI3/k3R/wAXf/6kb/ybr0CigDz/AP4u/wD9SN/5N0V6BRQAUUVxfxL8cSeBvD0F3aWqXeoXVwtvb27Z+YnknA5PAxx3IoA7SisTwj4hi8V+E9N1uJVX7VCGdFOQkg4dfwYEfhSHVtX/AOEzGlf2I/8AZP2Xzf7T80Y8zP3Nv+fyoA3KKKKACiuF8ceNdV0XXNH8OeHdOtr3WtUEjR/aZCscaqM5IGCejHqPumtXVNX8SaXpeiNFoSanf3EkUWoLbS7I4Mr87ruySoOcZ7dTQB0tFcjrfi260v4heG/DkdtC9vqqTNJKxO5Nilhjt2q9feL9P0/xppfhaWG5a+1KJ5YZEVTEoRWJ3HdkH5D0B7UAdBRRRQAUUUUAFFFFABRRRQAUUUUAFFcj4b8W3WteNvFGhTW0McOjvCsUiE7pN4Yndnjt2rrqACiiigAooooAKKKKACiiigAooooAKKKKACiuf0Lxfp/iHXdc0i0huUuNGlSK4aVVCMW3Y2EMSR8h6gdq6CgAooooAKKKKACiiigAooooAKKKKACiiigAooooAKK5j4heJ7jwd4KvdctYIp5rdowscudp3OqnOOe9cZa+Lvi7eWkN1b+BdNeGZFkjb7dGMqRkHBlz0NAHrVFYfhS88Q32jed4m0uHTdQ81h5EMokXZxg5DEc8963KACiiigAooooAKKKKACis7XNd0zw3pUup6tdpbWkX3nbnJ7AAckn0FcD4S+Kd/wCKfHq6OdDew02aza7tpLkETSoDhXx0APPTPTqaAPT6K5Dxx46j8IiwtLSwbVNa1GURWlhHJsL+rFsHCjj6/QEjnP8AhY/inw1fWQ8d+GrbT9NvZhEl/aXIdLckZCyDJ5Hc5A4JGcUAepUUgIYAggg8gjvXI+OPHUfhEWFpaWDaprWoyiK0sI5Nhf1Ytg4UcfX6AkAHX0V5b/wsfxT4avrIeO/DVtp+m3swiS/tLkOluSMhZBk8jucgcEjOK6zxt40svBXh/wDtKeM3U8rCK0tI2w1xIegBwcDuTg/iSAQDpqK8pvPiJ458OQjV/E/guGDQ3dQ72t2HltVLYy4yd34BRyASDXo02uaZBoLa495ENMWD7R9oBypjxnI9eKANCivJ7T4h+PtcshrmheBopND+ZkWe7AuLhASNyDjHTphs54zXceDPF1h418Ow6tYgxkkpPAzZaGQdVP6EHuCKAOgooooAKKKZMzpDI8cZkdVJVAcbjjgZoAfRXGyeLNatvhtf+I9S0MadqNrDJILKaTeDtPBJGDg1u+GdVk1zwtpWrTRpHLe2kU7omdqllBIGe3NAGrRRRQAUUUUAFFFFABRRRQAUVXv7+00uxmvr64jt7WBS8kshwqj3ry+x+MM+teOtI0vTNGkXQ9RleKLULpWQz7AdzRjpgHA5z15weKAPWKK4nxn48m0DVrHw/oukyav4gvl8yK2DbEjjyRvduwyD+RyRxnFT4heKfDmsadaeOfD1ra2eozCGG/sJS0cbt0VwSce5yOhIBwaAPUKKKKACiiigAooooAKKKKACisvxFrtr4Z8P3ms3sc0ltaIHdYQC5GQOASB39ada6xFqHhiHW7VHEVxZrdxJKAGCsm8BsE88jODQBpUVzHw98T3HjHwVZa5dQRQTXDSBo4s7RtdlGM89q6egAooooAKKKKACvKZpY/Fnx6jidlOn+FrQt8xG03MuP6EfjHXo+uatBoWhX2rXP+ps4HmYZ5baM4Huen415B8PfhXofirwsviTxZYyXWqatPLeFvOePCs3HCsBzy3/AAKgDZ+F0qeHfF3ivwMXHk21z9vsADkeTJjKj2XKfiTWt/aN7/wvv+zvtlx9h/4R7zvs3mt5XmedjftzjdjjOM1xvijwvpHwm8VeF/FOhW7Wumm6NnqKtM7jZIOG+Yk8AOfqq11P/Nxn/ctf+16AOW8D6Z4n8a3eum68X6paaZY6xMsaQzMZJGBB2FieIwAuFHHzGvca8w+Cv/Hh4r/7GC5/klen0AeEeMPCr3Xx60G0HiDWoTqME8wmiutslrhJDshOPkU7cY9CfWuw+IM19oGm+CLOz1S/z/bdnaTTmdhJcJgg+YRjduxk54Jql4m/5OK8Ff8AXjc/+i5qufFz/mTP+xltP/ZqAIPF/wDyXLwD/wBcrv8A9FmuV8V+EXl+O+hWX/CR66h1KK5uBOl3iS0+WVvLhbHyJxjHoSK6rxf/AMly8A/9crv/ANFmqXxFvIfDPxb8HeKdT8xNIhhuLeadI2cRsUYDOAf+eg9zg+lAFvx74i1Gx1rw/wCB9K1tdNmu4fMu9WunBeOFARnJ43MUbnjnHTNc/qWq3Xw2v9M1Oy8dSeIdJnuVgv7O9u1mkQMD+8VhkgDBOPXHXJxb+Jml2beK/Dvjm50j+2fDxthb30YjLFI23Mkm3rxvJ6fwgHGRVH+1fhtrGpWGmeD/AAVaa5eXEoE3+jNBHbR93dmXtx2x156AgG78SbvxC3xJ8JaRoOsTae19FcI5DsY8beXKZwzKuSue4Fd94Y0Kbw7pJsp9XvtVkMrSG5vX3vzjjPpx0riPFwC/HHwCAMARXYA/7ZmvUKAPPfjVqN9pXw1u7rTr24s7lZ4QJreVo3ALjIypBqzoGk6p4as7/wAUeJPEd5qEzWTTXFsTtt7cKN5Ea54wBjPes348/wDJKr3/AK+If/QxXcarpq6z4XvNLc7VvLN7cn03oVz+tAHkGhyaj480w+ItY+I0mhS3Du1np9ldpEtuoYgeYMgv0PB7Hrziuo+Hvi/Udc8O+IdO1S7hudU0R5IHvLdhidcNskGMDnaeR1xnrXn/AIYufh/4Y0j+xPiB4dhs9dsndHkls2lFyu4lWVlBzwcenGc88eheBPsF34X1zVNO8Ix+H7O4V1tz0kuolVtrsuBtHPHJ6nk9SAcd8OdF8X+P/CMN3qnjLV7GxgeSO2NpOwnnbJJeSQnLAEhQM9F7dT1/w+13XLTxfrfgbxFff2hc6ci3FresMPLCdv3vUjcvrySMnANcV8J/iVp3hHwPbaf4mjubO1Z5JLC7EDSRzrvO5cqDhg4b8x+PU/D1bzxV8Rdd8eyWk9tpk1utjpyzghpEBUlwPTK59MsRzg0ATeBCR8WviOVG5hJa4GcZ+R6z5fC3iS9a4v8AxZ8R5tE1KWRmtrSwvBHBCvbKkrv4/H1Jyaf4cF83xA+Kw0whdQMcItiegl8qTZ+uK4rwVffDu00UxeJdGutS8ZNNItza3FtLPNPLvbCrn5QcYznBznOaAPSfhn42vdT+Hmp6lrs0c9xo0s8U1whGJkjQPuyODwcZHXGe9YfhvRfFnxJ0c+KNQ8X6loyXTu1hZacxRIVVioL9N/Q8dxznnAj+DulNq3w68X6TcQpavd6hdWzxJ92ItEqkDHYZ/SjwX8SNP8B+Gk8L+NI7vTtU0svEuYWkW4TcSpQqMdDj0wAc88AHZeE9Q8T6L4c1geNI950kyPFqAKf6XAoJ3EAnBAXuBwR3ya4TQ5NR8eaYfEWsfEaTQpbh3az0+yu0iW3UMQPMGQX6Hg9j15xXaeHb7XPiD4R146zp8WnafqKy2+moY2WUwspAkfLHrkYwB0J5BFeZ+GLn4f8AhjSP7E+IHh2Gz12yd0eSWzaUXK7iVZWUHPBx6cZzzwAegfD3xfqOueHfEOnapdw3OqaI8kD3luwxOuG2SDGBztPI64z1rlfAPhzxX468BW+oX/jrWbNcypZi2mbeSHOXlcnc/OQFyMBRg11ngT7Bd+F9c1TTvCMfh+zuFdbc9JLqJVba7LgbRzxyep5PUyfA7/kkmkf78/8A6OegDlvBdr4v+I2kTprPiu/02LSJ2sCdMfypbiZeS8jjqAGUY74z167Pw48U6nZWfjDSvEd9JfP4YlYm8k+9JDhzyepP7snnn5sZ4qz8F/8AkD+KP+xju/8A0GOsbwbpq6z4t+Lmludq3kiW5PpvE65/WgCjocmo+PNMPiLWPiNJoUtw7tZ6fZXaRLbqGIHmDIL9Dwex684rqPh74v1HXPDviHTtUu4bnVNEeSB7y3YYnXDbJBjA52nkdcZ615/4Yufh/wCGNI/sT4geHYbPXbJ3R5JbNpRcruJVlZQc8HHpxnPPHoXgT7Bd+F9c1TTvCMfh+zuFdbc9JLqJVba7LgbRzxyep5PUgHJfD3w/4t8d+Bob7UvHGsWUIaSO0+zTN5jkMcvK5O5/m4C54Cjmuj+Gmp61rWneK/COu6pcyX2kzNZjUI22zbHDqrhv7wKFgxyeRnpV74Hf8kk0j/fn/wDRz1n/AAx/5KZ8S/8Ar+g/nNQBznwx8Kv/AMLM8Xf8VBrX/Epvoc/6V/x+5Mn+v4+f7v6n1r3evHvCmq2nhT4zeMNK1d5ILjW7qCSwPlMVm++cAgY/5aAZ6ZBGa9hoAKKKKACiiigAooooAKKKKACiiigAooooAKKKKAPO/jj/AMkk1f8A34P/AEclZeh/ETxHb6BpsMfw51qdI7WJFlRxhwFADD5eh61qfHH/AJJJq/8Avwf+jkrJ0T43+CLLQNOtJ725WaC1ijcC1c4ZVAPOPUUAT+PtW8RXXw2tPFdlBqOiX+m3S3M1g0zKXiD7SsgXAZT8rYPbNafxG8YfYfhY2q6RNILnVo4obBoyQ5aYZBUjkME3EY7gVv6PreifEHwxcy2TPcabciS1lEiFCwIwwwfZq8a8EW2pa14y0PwXqcbm38Gz3M87tkLMQ4EJ/AkEeq5oA7Pxhrur+CfB3hrw7bamDrupslo2o3spfyzx5spZic4LDrnAPsK5/Xn1HwLpo8R6R8SJdcnt5Ea90+8u0kS5UsAfLUE7OvbnHfjFdD8Z/Ds2oW+h6/Dpf9qRaNdGS7sgMmWBtu8Y7/cHrjOexrl7zxD8K7i3ig8NeDYda1mdwkenrZNEwOedzFcDAz0z+AyQAdF8UfEOqyaL4MvvDl9LazalqEBi2ysqSB1BVX2kblyRkd66Sx8F6rZeGtaspfFeqX2pahEdl5LKUNvJtODGFPyLkg4B7VzXxMtls4vh3bJbRWyxa3aoIIjlI8YG1T6DpXrNAHn/AMMvFj3/AMMvt2tTyfatJ86C/kmYlwYuSWJ5J2bck980z4QS6vqnhm78Raxd3Usmr3kk8EM0zOkEIYhVQN90Z3dMZG2vP/HkWo+H/F2veFdKicReNWt3t3X7sUhk2zZ/3vmz7EV7xpmnW+kaVaabaqVt7SFIYweu1QAP5UAN1LSdP1iGKHUbSK6iilWZI5V3KHGcEjocZPWvPZ/+TkrX/sXz/wCjGr0+vMLj/k5K1/7F8/8AoxqAK0Crf/tNXJuArHT9FBt8j7pJXOPf96/5103xWs4b34X6/HMFwlsZlJGcMhDDH4jH41znj211Dwn8QNM+INjZy3tiIPsOqW8Ee6RY+T5g/T05Uc88ZfjHx5b/ABJ0dPCXgmG5vZ9RkjS6uXt2SK1izuJYkcHgdiMZxzigD0T4eXEl18OvDsspJc6fCCSck4UDP6VxkCrf/tNXJuArHT9FBt8j7pJXOPf96/511tvrOmeE9Q8NeB0jup7ma08uB41UqqRJgs+WBGQp6A1yvj211Dwn8QNM+INjZy3tiIPsOqW8Ee6RY+T5g/T05Uc88AHR/Fazhvfhfr8cwXCWxmUkZwyEMMfiMfjXmllM2s+MfhFbXuHii0ozqH5zIsZIbnvmJD9a1PGPjy3+JOjp4S8Ew3N7PqMkaXVy9uyRWsWdxLEjg8DsRjOOcVo+O/CeoaBp/hPX/DsDXtx4WRYXtwhL3EGFU4xnnAP4MT25APRvENnDqHhvU7OcKYp7WWNtwyACpGa+fbvUbg/sr2UW47Wvvs7EnOUEzOB+BA/Ku08R/F3TvEfhq50fwlaahfa7qERt1tvsrA2+75WLnoMAnoSM4zxWtd/DJ3+CieC454zfRRCRJT90z7/MI/3SSVz6HOO1AHoOn2kNhptrZ26qsEEKRRqowAqgAYx7CvMfhxGth8WPiFp8HFu08M4VeFVm3E4H/Aj+VRaJ8aNM03QILDxJZ6jbeI7WNYZLEWjF53HAKducA845PGetanwl8P6pawaz4n1yE22peILn7Q1qVIMMYLFQQeh+Y8emM85oA77UnaPSrx0YqywOQwOCDtPNeK+AfDnivx14Ct9Qv/HWs2a5lSzFtM28kOcvK5O5+cgLkYCjBr2nVf8AkD3v/XvJ/wCgmuG+B3/JJNI/35//AEc9AHLeC7Xxf8RtInTWfFd/psWkTtYE6Y/lS3Ey8l5HHUAMox3xnr13/hbrmszHxT4b1q+kvrrQbryo7yT78iNvC5PUn5Ceefmxnin/AAX/AOQP4o/7GO7/APQY6pfDn/konxQ/6+4f/a1AFHSdQvdU/ZjvrvULu4u7l7S63zXEhkdsSOBliSTwAK0bzxdN4L+Aug6jaKjX0tja21qJPuiRoxyfXADHHtWL4a/5NYu/+vS7/wDRr1c8Q+GLzxR+z94di0+3FxeWVpaXccP/AD02xYZff5WPHfFAFLUtO1fR9Bm160+Kz3Wv28Jnktnu42tptoyY1jzjPUA459Bmt/xN8QtSk+CEfi3RoxDeXKIrMoDi3JfY559CCBnuRXKP4o+En9kBoPCEUuusgVdIFi/mGYj7m7bjGe/XHbtXe395feGPhbb3Vh4OtsKge70VG3CKJ8lwML8xGRkY7t6UAc5YeH9dexs9b8E/EW5129DI9zb394JLeVSPmGzkx/Q8j1BFewqSVBIwccj0r5s8U3nw91e2t7r4eQXdv4veaM20OnQSxFTn5gy42AAZ5Xvjtmvo60E62cAumVrgRqJWUYBbHJH40Aee/EDxBrc/izRPBHh27WxvNSRri5vsbmghXP3R2J2tz6gDjOawvEtp4n+FNpb+JLPxNqWu6ZHMqahZanJ5m5WONyN/Dz+RI6jIrR+IUV74Y+IOhePoLKe7063gay1FLcZdIyWw+O4Bcn6qBkZrH8b+NrT4n6RF4P8ABcc9/PfzRm5uGheOK1jVg2XJHqB+Rxk4BANL4iX2v3HxE8H6b4e1maxGowzhmV2Me0ry5QHDFVyVz3Ar0HwxoU3h3STZT6vfarIZWkNzevvfnHGfTjpXCeJreO0+NHw7toV2xQ29zGg9AIiBXqlAFXUdNs9XsJbG/t0uLWXHmRP91sEEA+oyBxXm/jiKOD4r/DeKKNY40e6VEQYCgImAB2FepV5h49/5K78Ov+ut1/6ClAHoP9j6d/bP9sfY4f7R8ryPtO35/Lznbn0zXl/judfiT4ssPA2kjzbPTrpbvWL1eUh2ggRhv7xywx649GwfGL4mN4fki8L6bcPZ3t2itc3+0n7LCxxlAOSxAPI6Dpz0q+Efib8MfBmgQ6Vp15dFV+aWZrN98znq7HHX+QAFAHtFeUfEi78RH4leEdJ0DWJtPe9jnVyGJjxjl2jzhyq5Iz3Ar1ZWDqGHQjIrzHxf/wAly8A/9crv/wBFmgDnvE1n4v8Ah3r2jto/ivUNUj1ub7A0equZVimfAV1HQcnOAP4cHINL4ysfEfwwg07xTB4w1jVkF2kd/a3su6KRWySUTOFHBAHbIweK6T4sf8hjwD/2Mdt/6EKrftB/8kz/AO36L+TUAa3xP8U6roltpGjaAY01jXLr7LbzPyIRwGfGD03Lz2zmue8QeGPF3gjQ5vE2l+NdU1O6sh595aag2+CaMfe2r/BgenOBwRxWr8WtL1JX8PeLNJtHu59AuzNNbxH55IW278cf7OPYEntWN4r+K+k+K/C914f8KQX2o6zqkRtRbC3ZDCH+Vi5IxwCehI55IHNAC/EbxVrF74U8Eat4euprK61S8gZYkmYKzOuRG+3G5dxwR39KreNfDfi/wd4ffxbZ+O9Wvb6yKPdW8x/cSgsFO2PO1QM5wQePSn+MtFPh3QPhho77DJaavaRymM5UvxuIz2LZNdn8XP8AklXiD/rgP/Q1oA534pW//CUfCOPxHHqN/Zotgl19lt5isU4l8s4lXHzAdumMmtXwDobaR8MIbhtV1K9F9pUU4jvJ/MS3zDnZEMfKvPT2FVtQ0+41T9nSC0tYzJO3h+3dUUEltsSMQAOpIHAqz4A8S6Zr3wvitbGZnuNM0uO1u42jZTHIsW3GSMH7p6ZoA4T4X+FfEPir4dW3/FUX+i6fbtLHZR6cdjSNvZmkkbOWG5ioUEfdrrvhv4k8QbPFPh/W5H1HUvD8m2KYjD3KEPtz7nYCM84YZ6Vb+B3/ACSTSP8Afn/9HPWb4Pe5j+J3xNeziSW6X7OYY3barvsfaCewJxzQBzfhBNS+IWiS6s3xI1C18TO8mzToLkRRQkEhFMPVgeDuHY45INex+GP7cHh2zXxH5B1ZVK3DW5+RyCcMOnJGCeAM5xxXiup+Ivhf4i066bxdojaL4mQuJoLe3kWbzcnBDKoVieD8/f8AOvS/hNHrkfw501dfM/2v59i3GfMWLcdgbPPTpntigDtqKKKAEKhgQwBB7GgAAAAAAdAKWigBGVXGGUMPQjNG1d27aN2MZxzS0UAIqqudqgZOTgUtFFACFVLBio3DoccigqrY3KDg5GR0paKAEKqWDFQSOhx0oZVdCjqGUjBBGQRS0UAAAAAAwB0ApqxomdiKuTk4GM06igBCqlgxUEjocdKWiigBGVXGGUEehFLRRQA1o0fG9FbByMjOKivYWubC4gQgNJEyAnpkgip6KAOT+HnhW58KeBLDQtUa2nuLdpGZoSWQ7pGYY3AHoR2rrKKKAECqCSFAJ6kDrSeWm/fsXfjG7HNOooARVVc7VAycnApGRXILKG2nIyM4NOooAKa0aPjeitg5GRnFOooAKRVVRhQAPQClooARVVc7VAycnAoCqpJCgE9SB1paKAGtGj43orYORkZxTqKKAEVVUYUAD0AoCqpJCgE9SB1paKAGsiOVLKrFTlSRnB9RTqKKACiiigAooooAKKKKACiiigAooooAKKKKACiiigBGVWGGAI9CKZ5EP/PKP/vkVJRQAiqqDCqFHoBigKoYsFAJ6nHWlooAKaI0ViwRQzdSByadRQAhVWxuUHByMjpTZvM8mTydvm7Ts39N3bPtT6KAPPNB8E+IrrxpD4q8Z6jYXN3ZwtFY2mnq4hh3ZBfLYJOCex6jngV6HRRQAUm1d27aN2MZxzS0UAFNVETOxVXJycDGT606igDnP+EUV/iJ/wAJZLch2TThYw2/l/c+cuX3Z6nOOnQmujoooAaqImdiquTk4GMn1p1FFADQiKzMFUM33iByfrTqKKAGlELq5VSy9CRyKdRRQAUiqqjCgAegFLRQAiqq52qBk5OBQEVSSFAJ6kDrS0UANCIE2BV2+mOKUAAAAAAdAKWigBvlpv37F34xuxzTqKKAGrGiszKihm+8QOT9adRRQAU1UVAQihQTk4GOadRQAhVSwYqCR0OOlLRRQAUhVSQSoJHQkdKWigBjRRuctGrH1IzSeRD/AM8o/wDvkVJRQAUhVSwYqCR0OOlLRQAhVWxuUHByMjpQyq4wyhh6EZpaKACmhFVmZVALcsQOtOooAQqrY3KDg5GR0oKhgQwBB7GlooAAAAABgDoBTRGiszKigtyxA6/WnUUAIqqowoAHoBQFUEkKAT1IHWlooAaY0Zw5RS69GI5FOoooAKKKKACivP8A/hSXw8/6F7/yduP/AI5R/wAKS+Hn/Qvf+Ttx/wDHKAPQKK8//wCFJfDz/oXv/J24/wDjlH/Ckvh5/wBC9/5O3H/xygD0CivP/wDhSXw8/wChe/8AJ24/+OUf8KS+Hn/Qvf8Ak7cf/HKAPQKK8/8A+FJfDz/oXv8AyduP/jlH/Ckvh5/0L3/k7cf/ABygD0CivP8A/hSXw8/6F7/yduP/AI5R/wAKS+Hn/Qvf+Ttx/wDHKAPQKK8//wCFJfDz/oXv/J24/wDjlH/Ckvh5/wBC9/5O3H/xygD0CivP/wDhSXw8/wChe/8AJ24/+OUf8KS+Hn/Qvf8Ak7cf/HKAPQKK8/8A+FJfDz/oXv8AyduP/jlH/Ckvh5/0L3/k7cf/ABygD0CivP8A/hSXw8/6F7/yduP/AI5R/wAKS+Hn/Qvf+Ttx/wDHKAPQKK8//wCFJfDz/oXv/J24/wDjlH/Ckvh5/wBC9/5O3H/xygD0CivP/wDhSXw8/wChe/8AJ24/+OUf8KS+Hn/Qvf8Ak7cf/HKAPQKK8/8A+FJfDz/oXv8AyduP/jlH/Ckvh5/0L3/k7cf/ABygD0CivP8A/hSXw8/6F7/yduP/AI5R/wAKS+Hn/Qvf+Ttx/wDHKAPQKK8//wCFJfDz/oXv/J24/wDjlH/Ckvh5/wBC9/5O3H/xygD0CivP/wDhSXw8/wChe/8AJ24/+OUf8KS+Hn/Qvf8Ak7cf/HKAPQKK8/8A+FJfDz/oXv8AyduP/jlH/Ckvh5/0L3/k7cf/ABygD0CivP8A/hSXw8/6F7/yduP/AI5R/wAKS+Hn/Qvf+Ttx/wDHKAPQKK8//wCFJfDz/oXv/J24/wDjlH/Ckvh5/wBC9/5O3H/xygD0CivP/wDhSXw8/wChe/8AJ24/+OUf8KS+Hn/Qvf8Ak7cf/HKAPQKK8/8A+FJfDz/oXv8AyduP/jlH/Ckvh5/0L3/k7cf/ABygD0CivP8A/hSXw8/6F7/yduP/AI5R/wAKS+Hn/Qvf+Ttx/wDHKAPQKK8//wCFJfDz/oXv/J24/wDjlH/Ckvh5/wBC9/5O3H/xygD0CivP/wDhSXw8/wChe/8AJ24/+OUf8KS+Hn/Qvf8Ak7cf/HKAPQKK8/8A+FJfDz/oXv8AyduP/jlH/Ckvh5/0L3/k7cf/ABygD0CivP8A/hSXw8/6F7/yduP/AI5R/wAKS+Hn/Qvf+Ttx/wDHKAPQKK8//wCFJfDz/oXv/J24/wDjlH/Ckvh5/wBC9/5O3H/xygD0CivP/wDhSXw8/wChe/8AJ24/+OUf8KS+Hn/Qvf8Ak7cf/HKAPQKK8/8A+FJfDz/oXv8AyduP/jlH/Ckvh5/0L3/k7cf/ABygD0CivP8A/hSXw8/6F7/yduP/AI5R/wAKS+Hn/Qvf+Ttx/wDHKAPQKK8//wCFJfDz/oXv/J24/wDjlH/Ckvh5/wBC9/5O3H/xygD0CivP/wDhSXw8/wChe/8AJ24/+OUf8KS+Hn/Qvf8Ak7cf/HKAPQKK8/8A+FJfDz/oXv8AyduP/jlH/Ckvh5/0L3/k7cf/ABygD0CivP8A/hSXw8/6F7/yduP/AI5R/wAKS+Hn/Qvf+Ttx/wDHKAPQKK8//wCFJfDz/oXv/J24/wDjlH/Ckvh5/wBC9/5O3H/xygD0CivP/wDhSXw8/wChe/8AJ24/+OUf8KS+Hn/Qvf8Ak7cf/HKAPQKK8/8A+FJfDz/oXv8AyduP/jlH/Ckvh5/0L3/k7cf/ABygD0CivP8A/hSXw8/6F7/yduP/AI5R/wAKS+Hn/Qvf+Ttx/wDHKAPQKK8//wCFJfDz/oXv/J24/wDjlH/Ckvh5/wBC9/5O3H/xygD0CivP/wDhSXw8/wChe/8AJ24/+OUf8KS+Hn/Qvf8Ak7cf/HKAPQKK8/8A+FJfDz/oXv8AyduP/jlH/Ckvh5/0L3/k7cf/ABygD0CivP8A/hSXw8/6F7/yduP/AI5R/wAKS+Hn/Qvf+Ttx/wDHKAPQKK8//wCFJfDz/oXv/J24/wDjlH/Ckvh5/wBC9/5O3H/xygD0CivP/wDhSXw8/wChe/8AJ24/+OUf8KS+Hn/Qvf8Ak7cf/HKAPQKK8/8A+FJfDz/oXv8AyduP/jlH/Ckvh5/0L3/k7cf/ABygD0CivP8A/hSXw8/6F7/yduP/AI5R/wAKS+Hn/Qvf+Ttx/wDHKAPQKK8//wCFJfDz/oXv/J24/wDjlH/Ckvh5/wBC9/5O3H/xygD0CivP/wDhSXw8/wChe/8AJ24/+OUf8KS+Hn/Qvf8Ak7cf/HKAPQKK8/8A+FJfDz/oXv8AyduP/jlH/Ckvh5/0L3/k7cf/ABygD0CivP8A/hSXw8/6F7/yduP/AI5R/wAKS+Hn/Qvf+Ttx/wDHKAPQKK8//wCFJfDz/oXv/J24/wDjlH/Ckvh5/wBC9/5O3H/xygD0CivP/wDhSXw8/wChe/8AJ24/+OUf8KS+Hn/Qvf8Ak7cf/HKAPQKK8/8A+FJfDz/oXv8AyduP/jlH/Ckvh5/0L3/k7cf/ABygD0CivP8A/hSXw8/6F7/yduP/AI5RQB6BRRRQAUUUUAFFFFABRRRQAUUUUAFFFFABRRRQAUUUUAFFFFABRRRQAUUUUAFFFFABRRRQAUUUUAFFFFABRRRQAUUUUAFFFFABRRRQAUUUUAFFFFABRRRQAUUUUAFFFFABRRRQAUUUUAFFFFABRRRQAUUUUAFFFFABRRRQAUUUUAFFFFABRRRQAUUUUAFFFFABRRRQAUUUUAFFFFABRRRQAUUUUAFFFFABRRRQAUUUUAFFFFABRRRQAUUUUAFFFFABRRRQAUUUUAFFFFABRRRQAUUUUAMllSCF5ZWCRopZmPQAck14ppWnar8bb281jUtSv9L8KRuYLKxtZQrT46s/UfmD1wOmT634jt5rzwvq1tbbvPmspo49oBO4oQMZ46muH+A93b3HwrsYYSvmW080cwHUMXLjP/AWWgDK1XwDrnw+hh1jwBqOp3awOon0a5k82OaMkA7AAMH9eSQRjB9K1LxLpWiaJHq2sXS6fauqn/SQVcFhnbt6luvA54PpVvUtTsdHsJL7UruK1tIsb5pm2quTgc/UgV598QtW8HPqHhy41LT7zXtQYGfTLCyUy+YrAHeyZAK8Drnp0IBoA6Tw78RfCfiq8Nno+sxT3OCRCyPG7AdSA4GeOeK5K61i30n4+39xqN8ttp8Ph8O7SybY1PmqM+mecepziuV8X6he3fjHwTqU3g2fw/OmrQwrdPLHmZSy/IQvJ4HfpkjvWprmh6fr/wC0naW2pxpNbxaas4hk+7Ky7sAjuM8477aAPQvD3xH8JeKb37HpGtQz3RzthdHid8DJ2hwC3HPFReO0sHGhC+8QX2j7tTiSD7Ju/wBJkOdsbbQcA4PJ49a5H446VZad4XsvEljDFaatpt5EbeeJQjEdNmR1AwD7Y+taXxZYvH4JYqVJ8SWZKnqPvcUAdVqfjjw1ouqT6bqWrRWt3Bbi6kSVWAEZIUHdjaSSQMA59qr+HfiJ4T8V3r2WjaxFcXSgnymR42YDqVDgbvwzXEXui2GtftJKuoW8dxHa6Otykci7l3htoJHQ43E/UCj4l6daaT8R/AGr2FvFbXdxqi207xIFMqMyL8xHXALD6GgD1+sXxF4s0HwnbR3GualDZpISIwwLM+OuFUEnHHQdx61tV5d4y1PwtafES0Y6BqHiLxRFagRWtsnmJbx5yGYE7VPzE5wcZyccUAdj4b8b+G/F3mDQ9ViupIxueLayOo6Z2sAcZ74xVEpYH4rA/wDCQX39oDTN/wDZHzeR5e/HmZxtznjGc/hXnEV1dy/Hnwvey+GJfD011BPHKjSo32kCNzuITuDjk8nA9K63/m4z/uWv/a9AGzN8UfBkCsZNbQEXTWezyZNxlXG4BduSBuHzdOetdfXkHwa0TTZ7jxZqk9lDLef21PAJZEDFUXDYGenLHOOvHpXr9AHgvxQ8YaBq/wAQNJ8O6lrVzb6BaGYasIFlX97g7VIC5YZAGRkfMa7vXI9Abw34OW38RX+k6Ybi1TTWtRJm5BT91G3GQCoHLfjWP4mjQ/tE+DAUXDWNznjr+7mq/wDFsADwWAMAeJbTAH/AqAI/Fs0qfG3wJEsrrG8V3uQMQG/dnqO9ZPiL4v2OmfFXTrBNd8vQbVZ4dWT7Ix2zqHAGdm84YL93j8M1p+L/APkuXgH/AK5Xf/os1X8TRp/w0T4MGxcNZXJPHX93NQB6JeeIdI07RU1i9v4bbT5EV0nlO0MGGVwDzkjt1rL8PfEPwp4quzaaPrMNxcjOIWVo3bHUqHALDHPGa87+Jt3cXPxe8M6W2iS61Z2tm14unK6qs0hLjJzwQuxTg+46Hmr4zj8TeIZNKvtK+HN5pmrabcpLFdpPECYwDmM7ccHj6YPqaAPW9Y8XaFoGoW1jquopa3FzHJLEJEbaVQFmJYDaMAHqRUvh/wASaV4p006ho119ptBI0XmbGTLDGeGAPevOfiDplnrXxi8B2V/brNbSJcO8UgyG2rvAI7jKjI716vBbw20Qit4Y4ox0WNQo/IUAUNe8QaX4Y0p9T1i6+zWaMqtJ5bPgk4HCgnr7VV0rxjoGua1d6RpmopdXtou6dI1bCDOPvYwTnsDXI/Hn/klV7/18Q/8AoYrormys/B/w+v5dEsYYHsdMkeIRIAzMsZIJPUnIySeTQAzWfib4N0DUjp2pa7BFdhtjxojyeWfRioIX8a6G21SxvdMXUrW6insmQyLPE29So6kEdehrw74bX17YeCIfJ+HFxrBvvMe5v2miP2vLnru5wMYwfQnvXRfDTS9b0bSfF1pqGjXOlaZI73GnW80ofy1cPuQYJ6YX65oA6a4+LXga1020v5dfiEF3uMOIZS7BWKklAu5RkEZIGccZrpdH1vTPEGnrf6Tew3lqxwJImyAfQ9wfY815d8BPDOkJ4CGrPaQT3t7NIsskiBiqKSoQZ6DGT77ue1TeD7WDw98d/E+h6Yqx6bc2CXrW8eQkMuU4x0Gd7HjoCB24AL3gSaWT4s/EKN5XZEltdiliQvyt0HatvVvip4J0TVH06+16FLqN9kiRxySBG7hmVSAR0PPHeuc8FyxQfFP4lyzyiKFGtmeQnARQjknPbArJ8NaxoUel3Fn4M+HGpaxpcsjCW8uVRVuTnB+aTJYcdDjHcA0Aew2GoWmqWMN9YXMVzazLujlibcrD2Nc5rXxM8G+HtROn6nrkEV2rbXjRHkKH0bYDt/GvPvhVf3Wk/CXxjLBFJHJp11eNBAZNxiKwqwXd3we49zXQ/B7w1o//AArazvJbS2vLrUxJLeTyxiQykuw2sWzkDAGOmQT3oA9C03UrLV9Piv8ATrqK6tJhmOWJtyt2/nxXO6z8TfBugakdO1LXYIrsNseNEeTyz6MVBC/jVKLwzbfDnwp4qvNDluWSSKe+itHKmOCQIxxGAAQOFHOeFFeefDa+vbDwRD5Pw4uNYN95j3N+00R+15c9d3OBjGD6E96APcbbVLG90xdStbqKeyZDIs8Tb1KjqQR16GuUn+LvgS2sbW8k8QReVcgmILBKXIDFSSgXcoyDyQM44zXN/DTS9b0bSfF1pqGjXOlaZI73GnW80ofy1cPuQYJ6YX65p/wP8PaQ/wALoLiXT7aWXUHmFy0sYYyKHZQpz/DhRx06+tAHW6r8SfB+i2Fne3uu26wXqb7cxBpS6887UBIGQRkjqCOtbOia9pfiPTE1HSL2O7tHJUSJngjqCDyD7EV5j8D/AA9plvp3iKf7JHLNDq89jHJKoZlhQKQoJ6DLEn1qh4Mnfw3d/FyPTE2Q6azXFrAgAVG2zHgenyqPoBQB6FrPxN8G6BqR07Utdgiuw2x40R5PLPoxUEL+NdDbapY3umLqVrdRT2TIZFnibepUdSCOvQ14d8Nr69sPBEPk/Di41g33mPc37TRH7Xlz13c4GMYPoT3rovhppet6NpPi601DRrnStMkd7jTreaUP5auH3IME9ML9c0AdJP8AFzwJb6fb3sniCLybgExAQyFyAxUkoF3AZB5IGccVvWvinRL7w5N4gtNRin0uGJ5pJ4wW2Kg3NlQNwIHbGfavPvgZ4b0j/hWcN7Lp9tNcag8v2h5Yw5dVdkCnP8OB06cmk+EVvHpvi/4g6LbgLYWuoo0MI+6m8yAgDpjCqPwoAi8C/Fu01jxzrunahrfnWlzdRx6HH9kK7lJfcMhAR/B98/1r1+vKPhjGn/CzPiT8i/LfQY46czV6vQAUUUUAFFFFAHn3xslkg+FGrSQyPG4eDDIxBH75O4rn9H+COiaholhey6/4kWS4to5XCXiAAsoJx+76c1u/HH/kkmr/AO/B/wCjkrL0P4d+I7jQNNmj+I2tQJJaxOsSIMICoIUfN0HSgDp9Nj8PfC/SLLSrnVr0xX155dvLe5lZpXxhSyJhRx3x35rqNR1C10nTbnUL6YQ2ttG0sshBO1VGScDk/Qc1wXjPwTeXvwjvNHn1G41bUrRWu4LuZf3ryIxcAY77SUH1rnPF/ieXxp8MPCmlWUg+3+KJoreXAPyiMjzm+gcD8M0Aeq2/iLSbnw8mvpeomlPH5ouZlMS7PUhwCB9RzWNpHxO8Ga5qn9m6fr1vJdltiI6vH5h9FLABj9DXC/GNTZL4H8M2mnS3WmSXQDWMT7PPWLYqRZ9wxqr41h1rxR4ZGm2nwwu9Pu4CjWV1HNCptirA/LtxgEZGPfPUCgD1zWvEmkeHjZDVbwW322dba3JRmDyHoMgHH1OBWdZ/EDwxqGm6pqNnqgnstL/4+5o4ZGVB1yMLlhweVzXn3xQtptW8O/D211qBknu9RtYr2Fm5DMoDjI9yea9ZGjaammTabHY28VlNEYXhijCKUIwRgdsHFAD9M1Kz1jTLbUdPnE9pcxiSKQAjcp9jyPoaqaP4l0jX7jUINLuzcSafObe5xE6hJASCoLABuh6E/qK8v8FeIn8D/D3xdpF9IDd+Fp5UhD8B1kJMJ/4E5P4EV1/wl8Pt4e+HmnpPk3l6DfXLNncXkwRnPcLtB9waANnxdqGuafom7w5pqX+pzSrFEkjYSPOcu/8AsjHqK8w8KaZruifHOK113XJNUvbnR2up35EasXxtRem0beOB9BXtteYXH/JyVr/2L5/9GNQBX+JOnR+JPiZ4L8Oz3FzFazR3ck/2eUo2AgI5HulWYfg14SuATBqusShTg7NR3Y/IVZ8X/D6y8Y+PbG7vNfMEVvZ+VLpkDBZZkLMSSwbIU5APHbqM1zPxA+G+jeCPDknizweZtH1PS3SQMlw7rKpcKVO9j69Oh6EHNAHtdeX+PdV1bX/HOleANEvp9OWaP7bqV7bybJEhBPyKRyCcf+PL2zXoGg6l/bPh7TdUMZjN5axXBQ/w71DY/WvOLXFp+0ze+fhftmiDyMn72Cmcf9+2/KgDN8T+Drv4Xaanivwpq+qSpZzI+oWN5c747lCdrMQAPmJPPHfIxjnX8e+M7/UdL8M6N4Wme2vvFIV47oNta2gIVi3XIbDdRzhWxziuh+KtzDa/C7xC8+NrWpjGf7zEKv6kV5npkT6d40+EVxd8RyaQYlLHHzGJsD6/vEoA3PEHwvufC2h3XiHwv4j1v+27NPtMzXN1vW8CfMwcYGeAcA5Bxg9c10F18TYo/g8PG0VuvnSQhUt2PAn3+WR6lQ2T6kCuw1+5hs/Dmp3NxjyYbSV5M9NoQk189XdlcH9lexlIJRb8zHP8KGV0/wDQj+tAHb6P8JbnW9DtdY8Q+J9d/wCEjnjE6zxXeBaM2SFQY6cgEA444wK3PhV4m1PVLPVPD2vP5ms6DP8AZp592fOUlgrZ7n5SM9+CeTXeWc8V1Y29xCQYpYldCDkFSMj9K8w+HTrd/Fz4iXcHFus8MJx0LruB/VW/OgD0vU9StNG0y51G/m8m0tkMksm0ttUdTgAk/gK5W6+LfgWzktkm8QQhrmNJE2xSNhWAKlsL8nBBw2CM81a+Jv8AyTPxF/14yfyrB8LeE9Ek+CdraNp1uUvdKE87GMFmkaPdvz1yCeD2wMdKAN3W/iX4O8O3MNvqWuwRyzIJEWJXm+UgEE7AcAggjPUcit+2vrPWdHW8sLxZbS4iLR3EDZ4I6g+o/QivOvgtoGlTfCiznnsLeaTUfOF00sYYyKsjxhST2CqABUPwKLJ4A1e1Ls0VrqtxDEG/hUIhx+ZJ/GgCSRrSL4BatNpOv3usW5tbho7+53rITuII+YBgAQRzXVeDtQt7H4X6Ff6hdJDBHpcDyzzPgAbF5JNedeGv+TWLv/r0u/8A0a9Zfi+6uJPA/wAK9GWymvrS8jhkntI32fadiR4jz77z1oA9W0j4neDNc1T+zdP163kuy2xEdXj8w+ilgAx+hroNW1jTtC0+S/1S8htLWP70srYGewHqfYc14341h1rxR4ZGm2nwwu9Pu4CjWV1HNCptirA/LtxgEZGPfPUCug8deGPEfirwT4YuobOKfVdOkgu7rTLp12TuEG9CScHnI5IBBNAHT+H/AIkeEfFN99h0jWop7oglYXjeJnxydocDdxzx711VePS+JvDut+J9Dg8Y+FNS8O6zb3KtY3Ei4iMgIwolXG4ZC9sfSvYaAKWraxp2hae9/ql5DaWqEBpZWwMnoPc+1YegfEbwj4ovfsWka1DPdc7YWR42fHJ2hwN3HPGa47xlbQ+Ifjp4W0HUwH0yCye9FvISUnl+fAx0ONgPPYEdDUnxv0PT7fwL/btrDHaanpc8L2lxAoR1y6rtBHYZyPTbQB3mseLtC0DULax1XUUtbi5jkliEiNtKoCzEsBtGAD1IqXw/4k0rxTpp1DRrr7TaCRovM2MmWGM8MAe9eZeNbK28RfFT4dw6naB4biCaWW3lGRkJvCsO/IGR0r16C3htohFbwxxRjosahR+QoAxfF2oa5p+ibvDmmpf6nNKsUSSNhI85y7/7Ix6ivMPCmma7onxzitdd1yTVL250drqd+RGrF8bUXptG3jgfQV7bXmFx/wAnJWv/AGL5/wDRjUAXPGej+J/Ffi6x0O3urvTPDCW/n3t5asFeaTJHlBs5HGO2OTnOBXI+LvD/APwqGTR/EHhnU9RFtJfJa3enTTealwGBYkA/xHafxIIxjn2XVdVsdE0u41LUrlLezt03yyv0A/qScAAckkCvM/D9jf8AxP8AE9p4x1iBrbw5YOW0bT5Mbpmz/r5PxAIHsOwJYA9YrF1fxboWg6la2Gq6jHaXF0jyRCVWClUGWJfG1cAdyK2q8k+Iel2es/GPwJY38CT2zrcM8TjKttXcAR3GVHHegDsNF+Jfg7xBeTWmm67BJNCjSOsivENqjLEFwAQACTjsM9Kj0v4o+C9a1hdKsNdhlvHcoiGN0Dt6KzKFPtg89s1x3xh8OaXc634Jc2kUbXGrRWExjUKXhcgFTjqMZA9Mn1pfjxpllp/gOwv7K1htbqwvovs0kMaqYxhuBgdOAcewoA9Yvb2106zmvL24jt7aFS8ksrBVUepJrl9L+KPgrWdUGm2Ov273TOERHR4w7HoFZgAxPsea5j4wKNU1/wAEeHLl2TTdS1Em6G4hZAhTCHHrvIHvitj4m+FdEuvhrqoNhbQHT7V7i1eOMIYmQFgFx0BxjHvQB1OteJNI8Omy/ta8Ft9tnFvASjMGkPQZAOPqcD3rBh+LHgWfVl0yPxFbG4Ztina4jJ9PMI2fjmvN/GJfxN8O/hkmp+azX17bQztI3zOGXaWJ6/MOc+9df8XfDGjD4U6j5Om2sDafGjWrRwqpiw6ghTjgEcGgDS+KnjaHwd4Vm8nUPsesXUbf2f8AuTJuZWXd1UqMBh971p3hDxnZeL/ALTQah9r1G209F1BvJaPbOYst/CB94N93isfxZO9/+zr9suDvnl0a1lZ25JZhGScn3rpPC6qvwm0gqoBOhwk4HX9wKAOI+G/xB8O+F/hZog8Q6ysNzMZ2VGDyyFfOcZIUE44xk+leq6RrOm6/p0eoaVeRXdpJkLJGcjI6g9wfY15l8C/DOlf8K2jv5rG3uJ9RklEzTRh8orlAnP8AD8pOPc0z4b6Wun+MviP4dsZWt7JZo2gVAB5BkWT7o9sgD/dFAHV3vxZ8DafqbafceIYBcK21tkbuin0LqpX9a6+CeG6t47i3lSaGVQ8ckbBldTyCCOCDXhuiNqPw78Jz+GvFfgOa/wBJ3S+bqWmqswlRs5ZxwRgcBiVOAOBivUfAB0D/AIQuwHhiWSTSAG8kSMSyEsSynPIIYnj+lAHS0UUUAFeWap8OfEOheJbnXPh5qlnp4vcG8066T9w7Ak5XAOOvTAxk4ODivU6KAPKLjwF4y8b3lqPHmrWEWjwOJTpulBh5rDpvZhx+Z9sE5Gr428EazfeKdI8V+Fbuyt9X06JrfyrwN5UkRDcfKDyN7DHv1GOfQqKAPItW8A+OfE2s+H9Z13U9KM+m38c32K0DpDHEGDOQSCzOdq8HAGOvNW/FPw41/WPiV/wlWlarBp721kq2kmSzecp+664wYypYHnPPQ9K9SooA8qm8DeM/GWrae3jnUdKXSLCYTCx0wSYuHA4Llug/oWAxnNdP478MX3iX/hHvsLwL/Z2sQX03nMRmNM5C4Byefb6111FAHGReFNQT4vTeKzJb/wBnvpQswm4+Zv3hs4xjGB60zx14R1HxLrnhO9spLdYtI1JLu4ErkEoGQkLgHJ+U9cV21FABXmviDwV4ns/iBL4x8HXemi5vLYW95baiH2NjaARt9kX0xjvmvSqKAPK7TwD4tuPiPoXi/XdUsLma2SRbiGAMiQqUZUSIEZbliSWIPPtXTf8ACMX3/C2v+Ep3wfYP7H+w7dx8zzPN35xjGMe/4V11FAHGfDvwpqHhS11yPUJLd2vtVmvIvJYthGC4ByBzxXZ0UUAcTrHhHUb/AOLHh3xRDJbiw062mimVnIkJZJANoxgjLjuKseO/DF94l/4R77C8C/2drEF9N5zEZjTOQuAcnn2+tddRQBxmveFNQ1P4k+GPEMEluLPS0nWdXYhyXQgbRjB5PciqnjrwhrmpeJND8UeGbixj1bSllTy77d5cqMMYyv1YdvvdRiu+ooA4Xxd4K1LxD/Yut2F/Dp3ijSwGSZQTC+R86EddpOfwJBBzWcvhz4jeIdSsR4l1zTtO0y1lEskWiNKkl0R/CzHBCnnv36ZwR6XRQBxmveFNQ1P4k+GPEMEluLPS0nWdXYhyXQgbRjB5PciuzoooA4/4m+Fr/wAY+CbjRtNeBLmSWN1adiq4VgTyAT+ldU1uktkbadQ8bx+W6nowIwRU1FAHlWneD/iB4Khm0vwlqejXWimVnt49VEnmWwY5IBUYIzn8STjk10fh7w5qnh/wtqra3rc+raneLJNPI7t5cZKn5I1P3VGT0A+gwBXZUyWJJ4XikG5HUqwzjIPBoA8D+Fmi+OLLwJaap4R1LTZIL9pDPZamrbY5Fdk3xlfUKMg+nft6R4E8D3nh691PXNd1BNQ8Qao4NxPGCERB0RM9unYcADHHPTaHoWm+G9Ih0rSbb7PZQljHFvZ8biWPLEnqT3rRoA4LS/Atynibxzc6i8Lad4hjSKNYnJcJsZG3AjAPzcYJrD8P+EPiZ4b0pPDVhrOhJo8bOsN80UjXMUbMTkL93dznByB616zRQBwPw08CXPg7w9q+kanJDcxXd7JKm1y26JkVQHyB8xAOcVjaf4L+IPguOfS/CGr6RcaK8jPbx6oH8y13ckAqMEZ/DJzjk16vRQBxvgfwKvhnSdRXUroajqerytNqNwVwshYH5QP7oy3X1PToOc07wf8AEDwVDNpfhLU9GutFMrPbx6qJPMtgxyQCowRnP4knHJr1WigDkfC/hbVtI8P6jFrGtzarquoF5JZZHbyoywOEjU/dUEnoB9BgCn/Dfw1e+EfAthouovA91btKXaBiyfNIzDBIB6Edq6uigDj/AIeeFr/wrYa1BfvA73urT3sXksWAjcIADkDn5TVXwp4LvdI8VeNL/UTbS2Wuzo0McbEtsHmbg4IGOHHQnvXdUUAeVad4P+IHgqGbS/CWp6NdaKZWe3j1USeZbBjkgFRgjOfxJOOTXT+F/C2raR4f1GLWNbm1XVdQLySyyO3lRlgcJGp+6oJPQD6DAFddRQBynw38NXvhHwLYaLqLwPdW7Sl2gYsnzSMwwSAehHaqng3wjqPh/wAY+MNWu5LdrfWLmOW2ETksoUyZ3AgYPzjoT3rtqKAPPLPwh4k8P/EvUtb0WfTJNF1qWJ7+C43+dHtByUxwTkseT/FjHGa9DoooAKKKKACiiigDlPiR4avfF3gW/wBF054EurhoijTsVT5ZFY5IBPQHtXKWWm/GSwsLezhvPC3lW8SxJuEpO1QAM/L7V6tRQBi+F08Rpo+PFEljJqPmNzZbvL2cY6gHPWuE8HfCu98O/EG41a5uoJdGtTO2kWyM263MrDPGMDC5Xqc5zxXqtFAHKePfBi+MtIgihvHsdSsp1ubG7TrFKOmfb6dwD2rmbvw/8VNfij0vVNe0fTbDeDNeaUJVuZFBzgZwBn2x+I4PqNFAHEeNfB19rx8LLp8sQj0jUobmU3MjbmjTGcHB3Nx3/Ou3opksSTwvFINyOpVhnGQeDQB4Z490K38R/GrTdI028DxalBE+tQRHK+XC24FyOhKqAO449a92AwMDpXP+G/BHhvwiZW0LSorR5Rh5NzO5HpuYk49s4roKACuMl8Kag/xeh8ViS3/s9NKNmU3HzN+8tnGMYwfWuzooA4Xxx4Gv9a1jT/EvhzUo9O8RaepjjkmXdFNGc5R+CR95ucHqeOhGDqPgvx/44EFh4v1bSbLRUkDz2+kh99xtOQCW6D8evOMgV6xRQBwd9q+qJ8WdD8LaXP8AZ9Lg0172+iWNDvTJjRckEjDBehHBqfx34Fl8TTadq2kXy6b4g0x99reFNwK/3GHdc+x6ng5NdathZpqD362sIvJIxE84Qb2QHIUt1xntVigDyq58DeNvGlxZweONV0pdHtJlley0xH/0orn77NggHPb1PAOCOp8c+BrXxjoMNmkosb2zdZbC7jXm3cY6YI4IGMewPYV1lFAHk9/4O+JXiuxGh+JNf0iDSCVFxNYRN590oIODkAL07YHsRXoU3hnSJ/C7eG3s0/so24txAOyAcYPXI4Oeueeta1FAHk+n+Efif4d05fD+jeItHl0pBsgu7qFvtFunoBgqcZ4zn8Biuy8C+DLTwR4eXToJDcXEjmW6umGGnkPUnrgdgP6kmumooAw/GOkXGv8Ag7VtJtGjW4u7ZoozKSFBI7kA8fhTdD0W503wHYaJO0RurfTktXZCSm8R7Tg4zjPtW9RQBy3w58OXvhPwHpuiag8L3Vt5u9oWLId0ruMEgHow7Vn/AA28H6j4R8ParYajJbPNd6jNdRmBywCMiAZyBzlTXc0UAecaR4D1aw+Ck/g6WW0OpSQTxh1djFl3Zhztz0I7VLqfw4l1j4d6Do0l79j1rRooGtbyAkiOaNQM9iVyPY8A9sV6FRQB5dd+H/ipr8Uel6pr2j6bYbwZrzShKtzIoOcDOAM+2PxHB6Dxn4S1PV9N0x/D+sS6fqmluHt3llcxzAYysuMlgdo5IPfjk12NFAHll14O8c+MdQ0pPGN1oUGl6ddLdeVpqSGSd16Al+gIJ6Hv06Y9ToooA4rx14IufEdzpus6LqA07xBpblrW4YEoynqjgdj+PUjBzWBdeB/GvjW6s4PHGpaVHotrKJXstKEgN0w6b2bGB9D3PAOCPVKKAOM17wpf6n8SfC/iGB7cWWlpOs6uxDnehA2jGD17kV2dFFABXGS+FNQf4vQ+KxJb/wBnppRsym4+Zv3ls4xjGD612dFAHlXxP8E+M/GOs2Q0260v+xLXbILO7kdRLKCclwqncMYA59fWpI7T4zRRrHHc+EkRAFVVWQAAdABtr1GigBF3bBuxuxzj1rjde8KahqfxJ8MeIYJLcWelpOs6uxDkuhA2jGDye5FdnRQBx/jjwtf+JL/wvPZPAqaXq0N7P5rEExqQSFwDk/XFQ/FTwjqPjXwd/ZOmSW6XH2lJc3DlVwoOeQDzz6V21FAHKePfBaeM9Ghhju3stRs5hc2N2nWKUdM47fTpgHtXJ6h4R+JXiyzXRPEmt6NbaOWX7TLpyP59yoOcHcAoz7Y5HQivV6KAOE8XeB59Ug8I2mjfZ4LTQ9QgmKSu3EMeAFU4OTgd/wA62fHehXXiXwTqmjWTRLc3UQSNpWIUHcDyQCe3pXRUUAco/hJ734WQ+EryWNZ/7Kjs2lTLKsixgBh0JAYA9s1W8G6N4p03wnNoWvyaZILa3W1sZbMv80YQqN+4dRwOB2rtKKAOU+G/hq98I+BbDRdReB7q3aUu0DFk+aRmGCQD0I7VQ0XwVeWni3xpqF9LF9h14RJD5EjCVAEZWJ4G0/NwQTXdUUAeV2Xh74raFp8miadq+gX9gN6wXuo+cbhEJPXAIJGeM7h+HFdh4E8JReCfCdrosc/2h4yzyzbdu92OScdh0H4V0lFABRRRQAUV5/8A8LT/AOpC8c/+Cf8A+zo/4Wn/ANSF45/8E/8A9nQB6BRXn/8AwtP/AKkLxz/4J/8A7Oj/AIWn/wBSF45/8E//ANnQB6BRXn//AAtP/qQvHP8A4J//ALOj/haf/UheOf8AwT//AGdAHoFFef8A/C0/+pC8c/8Agn/+zo/4Wn/1IXjn/wAE/wD9nQB6BRXn/wDwtP8A6kLxz/4J/wD7Oj/haf8A1IXjn/wT/wD2dAHoFFef/wDC0/8AqQvHP/gn/wDs6P8Ahaf/AFIXjn/wT/8A2dAHoFFef/8AC0/+pC8c/wDgn/8As6P+Fp/9SF45/wDBP/8AZ0AegUV5/wD8LT/6kLxz/wCCf/7Oj/haf/UheOf/AAT/AP2dAHoFFef/APC0/wDqQvHP/gn/APs6P+Fp/wDUheOf/BP/APZ0AegUV5//AMLT/wCpC8c/+Cf/AOzo/wCFp/8AUheOf/BP/wDZ0AegUV5//wALT/6kLxz/AOCf/wCzo/4Wn/1IXjn/AME//wBnQB6BRXn/APwtP/qQvHP/AIJ//s6P+Fp/9SF45/8ABP8A/Z0AegUV5/8A8LT/AOpC8c/+Cf8A+zo/4Wn/ANSF45/8E/8A9nQB6BRXn/8AwtP/AKkLxz/4J/8A7Oj/AIWn/wBSF45/8E//ANnQB6BRXn//AAtP/qQvHP8A4J//ALOj/haf/UheOf8AwT//AGdAHoFFef8A/C0/+pC8c/8Agn/+zo/4Wn/1IXjn/wAE/wD9nQB6BRXn/wDwtP8A6kLxz/4J/wD7Oj/haf8A1IXjn/wT/wD2dAHoFFef/wDC0/8AqQvHP/gn/wDs6P8Ahaf/AFIXjn/wT/8A2dAHoFFef/8AC0/+pC8c/wDgn/8As6P+Fp/9SF45/wDBP/8AZ0AegUV5/wD8LT/6kLxz/wCCf/7Oj/haf/UheOf/AAT/AP2dAHoFFef/APC0/wDqQvHP/gn/APs6P+Fp/wDUheOf/BP/APZ0AegUV5//AMLT/wCpC8c/+Cf/AOzo/wCFp/8AUheOf/BP/wDZ0AegUV5//wALT/6kLxz/AOCf/wCzo/4Wn/1IXjn/AME//wBnQB6BRXn/APwtP/qQvHP/AIJ//s6P+Fp/9SF45/8ABP8A/Z0AegUV5/8A8LT/AOpC8c/+Cf8A+zo/4Wn/ANSF45/8E/8A9nQB6BRXn/8AwtP/AKkLxz/4J/8A7Oj/AIWn/wBSF45/8E//ANnQB6BRXn//AAtP/qQvHP8A4J//ALOj/haf/UheOf8AwT//AGdAHoFFef8A/C0/+pC8c/8Agn/+zo/4Wn/1IXjn/wAE/wD9nQB6BRXn/wDwtP8A6kLxz/4J/wD7Oj/haf8A1IXjn/wT/wD2dAHoFFef/wDC0/8AqQvHP/gn/wDs6P8Ahaf/AFIXjn/wT/8A2dAHoFFef/8AC0/+pC8c/wDgn/8As6P+Fp/9SF45/wDBP/8AZ0AegUV5/wD8LT/6kLxz/wCCf/7Oj/haf/UheOf/AAT/AP2dAHoFFef/APC0/wDqQvHP/gn/APs6P+Fp/wDUheOf/BP/APZ0AegUV5//AMLT/wCpC8c/+Cf/AOzo/wCFp/8AUheOf/BP/wDZ0AegUV5//wALT/6kLxz/AOCf/wCzo/4Wn/1IXjn/AME//wBnQB6BRXn/APwtP/qQvHP/AIJ//s6P+Fp/9SF45/8ABP8A/Z0AegUV5/8A8LT/AOpC8c/+Cf8A+zo/4Wn/ANSF45/8E/8A9nQB6BRXn/8AwtP/AKkLxz/4J/8A7Oj/AIWn/wBSF45/8E//ANnQB6BRXn//AAtP/qQvHP8A4J//ALOj/haf/UheOf8AwT//AGdAHoFFef8A/C0/+pC8c/8Agn/+zo/4Wn/1IXjn/wAE/wD9nQB6BRXn/wDwtP8A6kLxz/4J/wD7Oj/haf8A1IXjn/wT/wD2dAHoFFef/wDC0/8AqQvHP/gn/wDs6P8Ahaf/AFIXjn/wT/8A2dAHoFFef/8AC0/+pC8c/wDgn/8As6P+Fp/9SF45/wDBP/8AZ0AegUV5/wD8LT/6kLxz/wCCf/7Oj/haf/UheOf/AAT/AP2dAHoFFef/APC0/wDqQvHP/gn/APs6P+Fp/wDUheOf/BP/APZ0AegUV5//AMLT/wCpC8c/+Cf/AOzo/wCFp/8AUheOf/BP/wDZ0AegUV5//wALT/6kLxz/AOCf/wCzo/4Wn/1IXjn/AME//wBnQB6BRXn/APwtP/qQvHP/AIJ//s6P+Fp/9SF45/8ABP8A/Z0AegUV5/8A8LT/AOpC8c/+Cf8A+zo/4Wn/ANSF45/8E/8A9nQB6BRXn/8AwtP/AKkLxz/4J/8A7Oj/AIWn/wBSF45/8E//ANnQB6BRXn//AAtP/qQvHP8A4J//ALOj/haf/UheOf8AwT//AGdAHoFFef8A/C0/+pC8c/8Agn/+zo/4Wn/1IXjn/wAE/wD9nQB6BRXn/wDwtP8A6kLxz/4J/wD7OigD0CiiigAooooAKKKKACiiigAooooAKKKKACiiigAooooAKKKKACiiigAooooAKKKKACiiigAooooAKKKKACiiigAooooAKKKKACiiigAooooAKKKKACiiigAooooAKKKKACiiigAooooAKKKKACiiigAooooAKKKKACiiigAooooAKKKKACiiigAooooAKKKKACiiigAooooAKKKKACiiigAooooAKKKKACiiigAooooAKKKKACiiigAooooAKKKKACiiigAooooAKKKKACiiigAooooARmCIzHoBk15lH8d/CUsRljttYeNc5dbPIGPfNelT/wDHvL/uH+VeE/Bv4g+FfC/w/az1nV4rW5W6kk8oxuzbSFwQFBz0oA9X8LeOvDvjNJTomoLPJCAZYWRkdAe+1gMj3GRXR1414Llt/F/xl1DxdoEH2fRILP7LJKRsN3Kcc7Ovpz/sD1q/P4/8ZX3jjxB4X8P6Np9zNYunk3E5ZI4kK5Yynd8xJKhQoHf0oA9WorlPFXifU/DHhW2uo9Ik1PWbgxwJa2qsU85hySRkhAQf0HGcjkL/AMe+PPBr2V/4y0TSf7GuZlikl06RjJbFs/eyxB4BPHHbPIoA9A1TxTp2j6/pGjXXnfa9VZ1ttiZXKAE7jnjqK2q8w8enPxc+HJHTzbr/ANBSr0vjrU9f8ZDQfBsFpcW1m3/E01O6Rnhi/wBhArLufr3x+AJoA9BorhfFnjfU7LxJbeFvC2lx6lrksJuJfPcrDbRdAzkdee2R29RVTRvHHiHT/Flp4Z8baXZ2tzfKxsb6wZmgnZeq4bJBx6n045FAHotY+n+KNI1TX9R0S0uS9/p237THsYBd3TBIwfwrYrjvDviCfUfiJ4u0eS0s44tN+y+XNFGRLLvjJPmNn5sduBgUAdjRXkGi/ETx34pvNY07Q9C0pprC8liN5cM6QLGDhFI3EtIcMTggAY45roPh/wCO9V17V9V8O+JNMh0/XtMCvIkDExyI3ccnGMr3OdwoA7+ivLbbxv438W3upy+DdL0YaVp101r5uoyuXuXXrtCkBRgg8+o56gdP4V8WXmv+E7rUb3SZtM1G0Mkc9tOpA3oucrnBKn/EZOM0AdXRXjPhf4j/ABB8caMk3h/QdJWW3LLd3V2XWB3ySqRKGznbtySTy3bgnsfAvjm48S3OpaPrGnf2br+luFubYHKMp6Oh9D+PBBBOaAO1orzOXxz4s8TazqNn4F0nTpbLTpjBNqGpOwjklH3kRVIP4+4PGRW14H8bXHiO51LSNY03+zNe0xwt1ahtylSPldT6H8exyc0AdlRXmEvj3xX4m1vUbLwHo9jNZ6dIYZtQ1JmWN5B1RApBP1/E4yK0PC/jnV9eOuaDe6Zb6b4u02EsttLIWgkJX5HyDnbkrnBPDDB54AO0tdU0+9urm2tL62uLi1YLcRRTK7wk5wHAOVPB6+hqkfFGkDxWPDP2k/2qbf7R5OxsbP8AexjPtXkHwxbxj/wszxd8mi830P8AbH+t45kx5HP+9972r0b/AISCf/hcH/CPfZLPyP7F+1/aPLPn7vN27d2cbe+Mde9AHY0V51rXjvXb7xbc+F/BOlW15eWSA3t5fMywQE4wvGCT+PrgHBqTw1481Y+Lf+ER8YaXDp+sSRGW0mtWLQXSgEnbnJBABPJ7HocZAPQaK8pl+Ifi+88fa94V0PRLC7ls3TyLiZmjjhTblmlOTuJJUAKB39Ku+E/HfiJ/G0ng/wAY6XaWmpNAbi1ms2JjmQexJ6gMc5H3SCAaAPSaKKKACiiigAooooAKKKKACiiigAooooAKKKKACiiigAooooAKKKKACiiigDJ8TeI7HwpoNxrOpeb9kgKh/KXc3zMFGB9SK4H/AIaD8E/9RL/wGH/xVaHxx/5JJq/+/B/6OSk0D4qeB7Xw5pdvP4htkmitIkdSr5VggBH3fWgDqfCnivTfGWjf2rpXnfZvNaL98m1twxnjJ9a3K8/8YfEN9K8Jad4q8PG11HR2vFivJGRyRCWKlk5GCGG3kHkjit3xt4pTwr4I1DX4vLlaKEG3Dcq7sQqZwRkZIJwemaAOjorhNW8dXvhrwJpOpatYLca/qQjjh0+1UqHncZCcliAMgHk8/Wsa98cePPCSQ6r4u8P6Z/YckipM+nys0tmGOAXySG/DjPGeRQB6pRXBfEbx5eeELDQr3TLWG9iv7xInQozO8ZGf3eCPmPbOevSrNjqHj0+GtavtS0zS7fUkiMunWkTNKDhSdkhDcsSAOCBzQB2lFcz4D8VDxf4JsNclEUU0iMLhE4VJFJDYyTgcZGT0Iqj8OPFup+NNP1PVrqC2h077a8OneXGyu8Sn7zksQTyBwByG4oA7MkKCSQAOST2rk9I+JHhrXvFUvh7Srtrq6iRnaWNMwkLjOH79e3HvWh4s8MxeLdGGk3F7c2tq8qtP9nba0qDOUJ9Dxnr0rz7T9F03w/8AtA2OnaTZRWlpH4eO2OIYyfMbknqT6k8mgD0jxF4m0fwppZ1HWr1bW23iNWKlizHooUAkng/kTXN+H/i54U8Q6rFpkM9zaXk7AW8d5AY/PBGQVPIwe2SCfSue1SFfFP7Q1npt6GksdC077ZHAx+Qykj5iP+Bp/wB8D8dz4x6HDqvw8v7vYRe6YBeWsyHDxspBbBHP3c/kD2FAHf1k+IvE2j+FNLOo61era228RqxUsWY9FCgEk8H8iai8HapLrXgvRdSuG3T3NlFJKwGMuVG4/nmvP9UhXxT+0NZ6behpLHQtO+2RwMfkMpI+Yj/gaf8AfA/EA6Hw/wDFzwp4h1WLTIZ7m0vJ2At47yAx+eCMgqeRg9skE+ldbq+r6foOlXGp6pdJbWVuu6SV8kDnA4HJJJAAHJJrjfjHocOq/Dy/u9hF7pgF5azIcPGykFsEc/dz+QPYVxOtX8vj3V/hhoeoOz2t9ajUL6McLO6pkgj0+Rx9HP1oA7LT/jX4Mv8AUUtDdXVqszBbe5ubZkinOcfK3YZ4JYAV6GSAMk8Vznjfw7aeI/BWpaXPbqwNuzQADmORRlCvpggfhkd68mvvGGov+zFb3LXEhvZ2/s55wfm2CQjk98xrtJ96AO3uvjf4Jtr4wJd3dxAjbJryC1ZoYjnAy3U5wcFQQcV3WmanZaxptvqOnXCXFpcJvilTow/p9DyKoeHPDljoHhSz0KG3Q20UAjkRlBEhI+ctxzkkk/WuC+EyPoXi3xp4RR3+wWF0k1nE5J8tJNxIBPbGz9T3oA9XoqC9ma2sLidAC0cTOAemQCa8j8O+PviT4x8MJqeh+H9GDRbxLLcs6pcOCcLCm7IwMZLNgnI4xQB7HTJZUgheaRtscalmb0A5NeUaL8RvGXjjTkbwnoFhBPbLt1CbU5G8pZef3cYUhicYbJ6ZwfU9F8P/ABzc+LNO1WDU7GOy1rSZzb3kCNlN3OCOSQMqwxk/d60Aalt450K98HXHim0nkn0u3V2dliIb5eo2nBzWxpOpW+s6RZ6na7/s93Ck8W8YbawyMj1wa8xGvT+Jv2dNS1a4tbS1lms7kGG0jKRrtdl4BJx0z161t6X4nsvB/wAFdF1q/DNFBpdsFjT70jlFCqPqe/YZNAHf0V5RdeM/iXpWlHxHqPhXTP7HRPNms4p3+1wx9S7E8cDqMZGOQMGum8R/EPTtF+Hi+LraNru3nRDbRE7DIz9AfTHOfoaAOxory248XfEjw8lrqfiDw5pt1pc0irLDpRke5tw3qCSGI744J7jOa9RUhlDA5BGRQAtFcb448cSeGZ9O0nS9ObUte1N9tpag7VwOrsewH9CeAK56fx94v8HXdnJ470bTk0i7kERvtLd2FsxGQHVic/h2BxnGCAep0V53488eaz4Y8WaDpGk6XDqP9pxy/uSCJGkAwgDbgFXJBYkHABrq/DEniKXSS/ieGxh1AythLIkoE4xySeetAGzXJP8AEnwyPGMHhaG8a51KVzGRAu5I2AJKs3TPB4Gcd62/EGktruhXelrez2X2lAhngOHVcjOD6kZH415TrHhXRvCPxJ+HFho1klvH5l1vfq8p2r8zt1J6/TtgUAeleKPGOh+DrKO61q9EAlO2KJVLSSHvtUcntz0GR61i6B8WPDOv6tHpQa80+/m/1MGoQeUZR22nJHPYZya0rvwTYX/ju18V3cjzXFpbeRb27qDHGck7xxndyef8K4n4zmLWNR8L+HtLCv4kk1BLiB0AL28QB3OT1C5wffYT2oA9coorzzx5481nwv4u0DSNL0qHURqSSgw8rIzjhArZwoyQSSDgA0Aeh0V5Hf8AxH8aeDtYtrbxdoFhPb6gjLZHSXYsZgBiNtxPJJUdB1yM4xT9S8feOfCF5p174v0bR4tDvbgQO1lK5lti2SN5JIJABJwMHaeRQB6zRXL+OvGkHgvRo7k2sl5fXUot7K0jBzNKeg9h/wDq71yV/wCNviF4VtU1nxP4c0yTRS6iddOlYz2qk4y2SVb8OM9xQB6rRXnnj/4jT+GNE8Paxo8EN/aancxgho2LPCy7h5YBGGI6Zz16Vi6748+I/ha1i17WfDOkjQyy+fBBOzXEAYgAM2cZyQOFI+lAHq13eWun2kl1e3MNtbRjLzTOERR6kngUn223bT/t8UqTWpi85ZImDK6YyCpHBBHIrzj4w3mr3vw0lu9F+wPo9xbebeNcbxLsYoYzFjjPJzu9qu+AT4gPwwh/tpdNFsNKi+wfY9+8w+Tx5u7jdjb0460AdZ4a8R2PivQbfWdN837JOWCeau1vlYqcj6g1rV4H8Mdd8ay/Dm0sfCGi2EqWBlE1zqMhVZZGkZ/LjVSM4VlySQMnHbNeh+BfiF/wk2k6s2q2Y0/U9FkaPUIA25Uxu5H/AHwwx6qeTQB3NFeSWHjj4i+JNGk8S6BoOjf2LmQw21xLI11MqEgkbSFzkEAeo78GvRPDGuf8JJ4ds9VaynsXnU77a4Uh4mBIIOQOMjg4GRg4FAGvRRRQBHP/AMe8v+4f5V4z8DLPw/P8Pd+pW+mSXH2yUZuUjL4wuPvc4r2llDKVPQjBrzz/AIUd8Pv+gLJ/4GTf/F0AcneSaDbfHTwzF4HNok0qSrqi6cyiBo+eGCfLuG1iR67e9dD4C/5K78Rf+utr/wCgvXZ+HvBvh7wqrjRNKgs2dQruuWdgOxZiSfzqfT/Dml6XrOpatZ25jvdSKG6kMjHeVBC8E4HU9MUAcf8AFTxXq+gHQNL0e5isJdZvPs76jLGHW2UFRnB4yd3fsp6dR558X9Il0HwfGmpeOdT1a9upk2Wcjosb45L7ByFHGOepFe6a/wCHNI8UaY2na1ZR3dqWD7WJUqw6FWBBB+h6EjvXNQfB/wADW+m3FhHoi+VcFTKxmkMhwcgB92QMgcAgHHNAHI/FjSZdd8a+AdLivpbJrkXMZuIfvou2PdjkdRkfjV74X3zeDdUuPhvrUMMF5Cz3FhdIuxb6NiTn3YYPrwpH8PPod94a0rUtW0vVLq2L3mlljaP5jDy9wAPAOD0HXNR694U0bxLJZS6paGSaxl822mjkaOSJvZlIPYHHsPSgDyXWNKkb9oHUobnxHfaH/adjG9ncW7BfN2qimPJGOqMfw9Tzp3/hXSLXxv4cttY8e6zf6vHdCextJAJTlSCd21fkU7eScZAPoa9I8ReFND8V2iWuuadFeRRklNxKshPXDKQR+Bqh4a+HfhXwjcPc6NpMcNyy7TO7tI4HoCxO38MZoA6ivN/Bv/JY/iH/ANuP/oo16RWZZeH9N07WtS1i1gKX2peX9qk3sd+wbV4JwMD0oA4L4KgfYfFZwMnxBcDP4LUWkgD9pfXiBydDUnHf5oa9A0Pw5pfhyO7j0u3MK3dy11MDIzbpGxk8k46DgcUkPhrSoPFFx4kjtiNVuLcW0k3mMQYwVONucD7q847UAeZ6X4Z0jxHe6prnw+8XaloV41y3221KZiEo5JaFsEck8nIHOBxitnwB4r1bxN4S8Qxay0Fxc6ZNNaG9tgBHc4U/MMcflgYI4rW1v4UeCvEGqSalqGiq13Kd0rxTSReYfUhWAz6nGTW1DoWn6F4Yn0vRrGO2tlgcJDCvUlTye7E+pyTQB558Ate0ubwAulrPFHfWc0hmiZgGYMSwfHcYOM/7NO8J3EWvfHrxRq+mMr6fb6elnJcRcrLLlO/Q42MP+Aj1qv4D+Fuia58N9GTxVoEsWpQGZT5okt5gplcgNjBIwcjPrx1r1DQ/D+k+GtOGn6NYxWdqG3bIwfmPqSeSeByT2oA8N+Fnhq5vLTVtIbxnq+kanYX0iXFjbyKoboPMwwyckEE+30z2fgbRdDtfiJrNzZeLNR1vWYrUW96ZlDIoJXblwu0sNuMZOMEdjXT+I/hv4T8V3n2zWNISa6wAZkkeN2A6AlSM8cc1qeHvDGi+FbA2WiafFaQE7mC5LOfVmOSx+poA86+Bl7a6domr+G7uSOHWLDUZTcROcPIMAeZz1+6R7YGeorttF8aaRr/inVNF0yOaeXTkU3F4qqYCT0QMGyT17Y+U81F4j+HHhPxZeC81jSI5rrABnSR43YDoCVIz6c1raB4c0fwvpwsNFsIrO23biqZJY+rMclj7kmgDz74akRfFP4kwyfJK93BIqNwSv705A9PmX8xV3/m4z/uWv/a9dLe+A/DeoeKLfxJPpy/2vA6utykjKWKjC7gDhsADqOwrQ/4R/Tf+El/4SHyD/an2X7J529seVu3bducde+M0Aeb/AA7u7fRfif460XUpEh1C8vhd27Sna08TFyACeDtDjAHqfQ4f4mvbfXvjn4PsNLmEs+lpcT3skA3CJGUYViOBnGP+Bj1Fdv4m8DeG/GAjOuaXHcyRLtjlDMjqPTcpBx7HipfDfg7w/wCEYJIdD02K0EuPMcEs746ZZiSep4z3oA4vwEB/wt74inAyJLUZ/wCAtUXiUD/hovwWcDJsbgZ/7ZzV6Bp/hzS9L1nUtWs7cx3upFDdSGRjvKgheCcDqemKS68NaVeeJbHxDPbFtTsY2jt5vMYBFYMCNoODwx6jvQBrUUUUAFFFFABRRRQAUUUUAFFFFABRRRQAUUUUAFFFFABRRRQAUUUUAFFFFAHnfxx/5JJq/wDvwf8Ao5K0vDun+E28MaS0tnopkNnCWLRRZJ2DOeOtdBr2g6d4m0ebSdWgM9lMVLxh2TO1gw5Ug9QK43/hR3w+/wCgLJ/4GTf/ABdAHTatoGl6/wCD7/QrVbaOzuYXiXyFXZG55DALxkNhvrXi2lanN47tfA/gS6Q+dptzI+sxMv3EtvlRW9mHyn3Ir3Hw54a0rwppf9m6NbG3tPMMmwyM/wAxxk5Yk9hUGm+DtB0jxFf6/Y2Cw6lfgi4mDsd2SCcAnAyQCcDk0Aed/HG2ddR8G6nLfXFjYW1+0c91APmty+wrIPcBGpvizwpptn4Yln8R/EzWpNIn2qVeRJRNyCAqqCW5GePTPavWtQ0+z1awmsb+2jubWZdskUi5VhXI6d8IfAul6kl/baDH58bb0Es0kiKfUKzEfmOKAOW+IFpFY6X8M7OGWWaGDVrOJJJlw7qAoBYdjjrXsFZWs+HNL8QSWEmpW5mawuVurciRl2SL0PBGfoeK0ppPKhkk2M+xS21BktjsB60AeAavq0nw+j8eeD7YESalIlxo8ScFhcnZIq4/ujge6mvafCegx+GPCmmaLFt/0SBUcqOGfq7fixY/jXnNrpuo/ET4oaV4jvvDV5pGkaLETH/aMXlzXEuSVG3qApIYdRweeePX6ACvMLj/AJOStf8AsXz/AOjGr0+spvDmlv4nTxGbc/2olt9lE3mNjy8k425x1J5xmgDzjxBcJ4N+O1h4gv8AMWk6zY/YXu2OEilBGAx7D5U5PqT2Nanxh8S2lr4FuNItJkudU1jZa2ltCwd5A7DJCjnGMjPqQO9dzrGiaZ4g09rDVrKG8tWOTHKuQD6juDyeRzWDoHwy8H+Gb4X2l6LFHdKcpLK7ytH/ALu8nH1HNAFvw2tn4Y8O+H/D19e2sOoC0jhSB5lDSuqjfsBOW5z0rhfEFwng347WHiC/zFpOs2P2F7tjhIpQRgMew+VOT6k9jXS3Xh2/1D4x2Wu3EBGlabpbJbyFxzcuzBsDr9w9fpXUaxommeINPaw1ayhvLVjkxyrkA+o7g8nkc0AcN8YfEtpa+BbjSLSZLnVNY2WtpbQsHeQOwyQo5xjIz6kDvXL+JdLm8AXvw48Q3ULtaaRbrYajJH8wiLJt3fTLSfkB3Feh6B8MvB/hm+F9peixR3SnKSyu8rR/7u8nH1HNdLfWFpqdlLZX9tFc2sw2yRSqGVh7g0Acv468aaRofgS+1JdQtpTPbOlmIpVbznYYXbz8wBOSRnABrz698Camn7NkOlm1kOqQf6e1uB8/MhYrj+8I26dcjHWu90z4TeB9I1IahaaDD56sGTzZHlVCOcqrEgHP5dq7SgDl/DPjfRdc8HW2uHUbaGJYVN15sqr5DgfMHyeOQevUYI61yHwhWbWtf8XeM2heOy1a7CWTOMF44ywJx+Kj6gjtXQ3fwi8C3up/b5vD8Am3bmWOR0jY+6KQv6c967C0tLewtIrS0gjgt4VCRxRKFVFHQADpQBFqv/IHvf8Ar3k/9BNcN8Dv+SSaR/vz/wDo569BmiSeGSGQZSRSrDPUHg1Q0HQdO8M6PDpOkwGCyhLFIy7PjcxY8sSepNAHC/BYAaR4owAP+Kjuh/47HVP4c/8AJRPih/19w/8AtavRND8PaZ4chu4dLtzCl3cvdzAyM26VsBjyTjoOBxUemeGNI0jUtV1CytjHc6q6veOZGbzCN2OCcD7zdMdaAPKPDX/JrF3/ANel3/6NeoPHllcXP7OvhaeEyeVZpZTz+WMnZ5RXP4Flr1m18HaHZ+E38LwWbLpDo6NB5rkkOSW+Ynd1J71oWmk2Nlo0OkQ26/YIYBbrC/zjywu3ac5zxxzQB5he+G7STwpNq938UtbfRZbcs8jTIVeNl+7jGSSDjbjPOMZqxLb+C9J+CljYard3154auDtiu3hYSLvdnR8AZUA9CRjoOQcVsr8GvAK34vB4fj3hg3lmaQx5/wBzdjHtjHtXYXul2Go6XJpl5aQzWMieW0DINm3sMdsdsdMUAeO+IbfxF8LvDsWu6F42fU9GieNU0/UgsvmISAAkg5OBjhcYAJ7Yr2e0ma5s4J3iaJpY1cxt1QkZwfpXGad8HvAml6hHfW+hIZo23RiaeSVVP+6zEH8c13NAHkvjC4h0H47+Fta1Nlj02exks0nl4SGX5+c9BneoyexPYVP8ctVsn8BNosUiXGp6nPClnbxfPI5Dq2VA56DH/AgO9eh61oWl+ItNfT9Xsoru1YhjHIOhHQgjkH3FYXh/4ZeD/DGoC/0rRo47tc7JpJHlZOv3d5O3gkZHNAHLeIoHt/jH8OYJZDLJFa3KM56sREQTXq1ZV74c0vUNe0/W7m3L6hp4cW0vmMNgcYbgHB4PcVq0AFeYePf+Su/Dr/rrdf8AoKV6fWVqHhzS9U1nTdWvLcyXumlzayCRhsLABuAcHoOuaAMD4g+PrfwbYRW9siXeu3pEdjZZ+8xON7+ig/TJ49SKPgLw5Z6AJ9b1zVrW+8Uah815dtOrbAekaeijA6enoABq+I/hn4U8V6p/aWs6a1xd+WI94uJE+UZwMKwHc1kf8KO+H3/QFk/8DJv/AIugD0SvMPGH/JcvAP8A1yu//RZr05VCqFHQDArLvfDml6hr2n63c25fUNPDi2l8xhsDjDcA4PB7igDiPiwAdX8A5AP/ABUdsP8Ax4VX/aD/AOSZ/wDb9F/Jq9A1fw9pmuzafNqNuZX0+5W7tiJGXZKpyDwRn6Him+I/DWleK9L/ALN1m2NxaeYJNgkZPmGcHKkHuaAPPvi+403xF4G8QXaltL0/UiLolSVj3FCrnHpsYj6Vu/E/xFpFn8M9XklvLeRb60eC1CuG813BClcdcdc+1djqGn2eq2E1jf20dzazLtkilXKsK5PS/hL4H0fU11Gz0KMXCMHjMsskioRyCFZiM5Gc447UAcD4hsLjT/Bnwosr0P56alZiRJVwyZAOwjtjO38K774ugH4VeIAQD+4U8/7610Gs+HNL8QSWEmpW5mawuVurciRl2SL0PBGfoeKn1jSLLXtJuNL1GIzWdwu2VAxXcMg9QQRyKAPO9djeT9mmJUUsRoNq2AOwSMk/kDXS+FZEl+EejtG6sBokSkg55EIBH4EEVvw6RYQaFHoq26tp0dsLQQPlgYgu3ac9Rt45rM8P+CPD/ha2vrbR7I20F8QZo/NdgeCONxJHU0Ac38DEVfhLpRVQC0k5YjufNcf0FZnhCaCz+JfxPuJ4y1vF5EkiIm4soRy2FHUnnjvXo2g6Dp3hnR4dJ0mAwWUJYpGXZ8bmLHliT1Jpmn+HNL0vWNT1a0tyl7qZQ3UhkZt5UELwTgdT0xQB5XpHhS3/ALAm8QfDXx1d6Zp5LzG0u8SW6MM5BV/udOrBjj1ruvhn4ovfGHgaz1fUYEiuXZ43KDCybWxuA7Z/mDVO8+DfgK/1B72bQUEkjF3WKeWNCT/sqwA+gwK7SysrXTbKKzsreK3toV2xxRKFVR6ACgCeiiigAooooAKKKKACiiigAooooAKKKKACiiigAooooAKKKKACiiigAooooAKKKKACiiigAooooAKKKKACiiigAooooAKKKKACiiigAooooAKKKKACiiigAooooAKKKKACiiigAooooAKKKKACiiigAooooAKKKKACiiigAooooAKKKKACiiigAooooAKKKKACiiigAooooAKKKKACiiigAooooAKKKKACiiigAooooAKKKKACiiigAooooAKKKKACiiigAooooAKKKKACiiigAooooAKKKKAPP/8AhVn/AFPvjn/wcf8A2FH/AAqz/qffHP8A4OP/ALCvQKKAPP8A/hVn/U++Of8Awcf/AGFH/CrP+p98c/8Ag4/+wr0CigDz/wD4VZ/1Pvjn/wAHH/2FH/CrP+p98c/+Dj/7CvQKKAPP/wDhVn/U++Of/Bx/9hR/wqz/AKn3xz/4OP8A7CvQKKAPP/8AhVn/AFPvjn/wcf8A2FH/AAqz/qffHP8A4OP/ALCvQKKAPP8A/hVn/U++Of8Awcf/AGFH/CrP+p98c/8Ag4/+wr0CigDz/wD4VZ/1Pvjn/wAHH/2FH/CrP+p98c/+Dj/7CvQKKAPP/wDhVn/U++Of/Bx/9hR/wqz/AKn3xz/4OP8A7CvQKKAPP/8AhVn/AFPvjn/wcf8A2FH/AAqz/qffHP8A4OP/ALCvQKKAPP8A/hVn/U++Of8Awcf/AGFH/CrP+p98c/8Ag4/+wr0CigDz/wD4VZ/1Pvjn/wAHH/2FH/CrP+p98c/+Dj/7CvQKKAPP/wDhVn/U++Of/Bx/9hR/wqz/AKn3xz/4OP8A7CvQKKAPP/8AhVn/AFPvjn/wcf8A2FH/AAqz/qffHP8A4OP/ALCvQKKAPP8A/hVn/U++Of8Awcf/AGFH/CrP+p98c/8Ag4/+wr0CigDz/wD4VZ/1Pvjn/wAHH/2FH/CrP+p98c/+Dj/7CvQKKAPP/wDhVn/U++Of/Bx/9hR/wqz/AKn3xz/4OP8A7CvQKKAPP/8AhVn/AFPvjn/wcf8A2FH/AAqz/qffHP8A4OP/ALCvQKKAPP8A/hVn/U++Of8Awcf/AGFH/CrP+p98c/8Ag4/+wr0CigDz/wD4VZ/1Pvjn/wAHH/2FH/CrP+p98c/+Dj/7CvQKKAPP/wDhVn/U++Of/Bx/9hR/wqz/AKn3xz/4OP8A7CvQKKAPP/8AhVn/AFPvjn/wcf8A2FH/AAqz/qffHP8A4OP/ALCvQKKAPP8A/hVn/U++Of8Awcf/AGFH/CrP+p98c/8Ag4/+wr0CigDz/wD4VZ/1Pvjn/wAHH/2FH/CrP+p98c/+Dj/7CvQKKAPP/wDhVn/U++Of/Bx/9hR/wqz/AKn3xz/4OP8A7CvQKKAPP/8AhVn/AFPvjn/wcf8A2FH/AAqz/qffHP8A4OP/ALCvQKKAPP8A/hVn/U++Of8Awcf/AGFH/CrP+p98c/8Ag4/+wr0CigDz/wD4VZ/1Pvjn/wAHH/2FH/CrP+p98c/+Dj/7CvQKKAPP/wDhVn/U++Of/Bx/9hR/wqz/AKn3xz/4OP8A7CvQKKAPP/8AhVn/AFPvjn/wcf8A2FH/AAqz/qffHP8A4OP/ALCvQKKAPP8A/hVn/U++Of8Awcf/AGFH/CrP+p98c/8Ag4/+wr0CigDz/wD4VZ/1Pvjn/wAHH/2FH/CrP+p98c/+Dj/7CvQKKAPP/wDhVn/U++Of/Bx/9hR/wqz/AKn3xz/4OP8A7CvQKKAPP/8AhVn/AFPvjn/wcf8A2FH/AAqz/qffHP8A4OP/ALCvQKKAPP8A/hVn/U++Of8Awcf/AGFH/CrP+p98c/8Ag4/+wr0CigDz/wD4VZ/1Pvjn/wAHH/2FH/CrP+p98c/+Dj/7CvQKKAPP/wDhVn/U++Of/Bx/9hR/wqz/AKn3xz/4OP8A7CvQKKAPP/8AhVn/AFPvjn/wcf8A2FH/AAqz/qffHP8A4OP/ALCvQKKAPP8A/hVn/U++Of8Awcf/AGFH/CrP+p98c/8Ag4/+wr0CigDz/wD4VZ/1Pvjn/wAHH/2FH/CrP+p98c/+Dj/7CvQKKAPP/wDhVn/U++Of/Bx/9hR/wqz/AKn3xz/4OP8A7CvQKKAPP/8AhVn/AFPvjn/wcf8A2FH/AAqz/qffHP8A4OP/ALCvQKKAPP8A/hVn/U++Of8Awcf/AGFH/CrP+p98c/8Ag4/+wr0CigDz/wD4VZ/1Pvjn/wAHH/2FH/CrP+p98c/+Dj/7CvQKKAPP/wDhVn/U++Of/Bx/9hR/wqz/AKn3xz/4OP8A7CvQKKAPP/8AhVn/AFPvjn/wcf8A2FH/AAqz/qffHP8A4OP/ALCvQKKAPP8A/hVn/U++Of8Awcf/AGFH/CrP+p98c/8Ag4/+wr0CigDz/wD4VZ/1Pvjn/wAHH/2FH/CrP+p98c/+Dj/7CvQKKAPP/wDhVn/U++Of/Bx/9hR/wqz/AKn3xz/4OP8A7CvQKKAPP/8AhVn/AFPvjn/wcf8A2FH/AAqz/qffHP8A4OP/ALCvQKKAPP8A/hVn/U++Of8Awcf/AGFH/CrP+p98c/8Ag4/+wr0CigDz/wD4VZ/1Pvjn/wAHH/2FH/CrP+p98c/+Dj/7CvQKKAPP/wDhVn/U++Of/Bx/9hR/wqz/AKn3xz/4OP8A7CvQKKAPP/8AhVn/AFPvjn/wcf8A2FFegUUAFFMlYpC7DqFJFeKeCtX+Kfjjw6dYsfEOkQJ5rxCOe0GSVA7hTxzQB7dRXm/hHxr4jHjafwb4xtLKPURbfaba5siRHMnfg9+vPH3SMV6OSACSQAOpNAC0UVytp4z+1fEy+8HfYNv2WxF59r87O7JQbdm3j7/XPbpQB1VFcr4u8Z/8Itq3hyx+wfav7Zvls9/nbPJyyjdjad33unHTrXVUAFFAIOcHp1ooAKKTIJIBGR1FLQAUUVR1k6kujXh0dYG1IRN9mWckIXxxux2oAvUVR0U6m2i2Z1lYF1IxD7StuSYw/fGavZGcZ59KACiijIJIzyOtABRRRkHPPSgAoooyM4zz6UAFFFGRnGeaACisXxd4g/4RbwrqGt/ZftX2OMP5PmbN/wAwGN2Djr6VPo+qSa14XsNWhhWGW9so7lInfcEZ0DBS2BkDOM4oA06KxvCz+IX0KJvE8dnHqm5t62hJTbn5evfFbORnGeaACiigkDGT1oAKKKKACiiigAooooAKKKKACiiigAooooAKKKKACiiigAooooAKKKKACiuP+KHiDUPC/wAP9Q1fS5EjvIGiCM6BgN0iqeD7E1ydja/GjUNPtr2LX/Dax3ESyoHjYEBgCM/uuvNAHrlFYfhSDxJb6Ns8VXdldal5rHzLMEJs4wOVXnr2rcoAKKKAQc4PTrQAUUUmQSQCMjqKAFooooAKKw/GHia38H+Fb7XLmJpktlG2JTgyOxCque3JGT2GTXCQ/wDC4b/SxrsV5ots7x+bFo5gzuUjIDOeQ2MYG7HPJFAHq9Fcj4L8dWninwN/wkdyqWYgEgvVLZWFoxljn024b6GuR0zxD8R/H8M2seGZdJ0fRVndbIXcTNLdKpx8/DAA85K4IIxz1oA9coriPh/43uvEcmpaPrlrFZeItLlKXVvFkI654dMk8fiex6EV2N3dwWFlPeXUqxW8EbSyyN0RVGST9AKAJqK8j0zxD8R/H8M2seGZdJ0fRVndbIXcTNLdKpx8/DAA85K4IIxz1rpfh/43uvEcmpaPrlrFZeItLlKXVvFkI654dMk8fiex6EUAdvRXmGq+MfE/iXxlf+GPAzWEEemqF1DU7tC4ikJxsQDIJGD1ByVPTGTJoHjHxJovjO38JeOVsmmvIt2n6jaKypOwzlWzwG+gGDjruBoA9Lorzrxb411yTxhB4M8GQ2Uur+SZ724vAxitUwCudvOTlT0P3l4OeM+Lxb4v8D+ItM03xzNYX2k6i5hh1W1jKNHJxgSDAUD8OnOTg0Aeq0UUUAFFGQeh6UZGcUAFFYeqP4lHiPSV0yKxbRjv/tBpifNXj5dmP8/SsOLxLqb/ABnn8NGVP7MTSBdhNg3eZvUZ3dcYJ4oA7iigkAEk4A6k0UAFFBIAyTgUUAFFFGQOp60AFFFISFGSQB6mgBaKK8/8aeMNcg8UWPg/wnaW8ms3UP2mW5uj+6tockZIHU8H9ODngA9AoryS+8TeOvh5qGmTeLLzTtX0O+uFt5bqCLyZLZ255AABUAMehyFOSDjPrRIUEkgAckntQAtFeGXfxV8R6j480o6R5UXhW71eLTIpGiBa5w6iRgTyBhuD9O+a9zoAKKKMjOM80AFFGRnHeigAooyM4zzRQAUUZGQM8mqup3v9naTeX3l+Z9mgebZnG7apOM9ulAFqiuf8E+J/+Ex8IWOv/Y/sf2rzP3Hm+Zt2yMn3sDOduenesf4a+JtS8S2mvy6nKjmy1ea1hKoFxGoXAOOvU80AdxRRQSBjJ60AFFFFAEc//HvL/uH+VfPfwm1D4g23gVovDGiaVd2f2mQrPdzlWD4XI27hx0r6EnBMEgAySp/lXgfwz8Xar4H8J/2PeeB/EtxL9oeXfDZNtwwHHI9qANXwTcXlt8WJpvH1tcW3im/tzHp5AU2vlAcrGVY/NwTyfXuedDxzofhy78Xy3njzxdEumLEv2LRlnMZQd3YKdzZIPIA9M4GKhsbPxT8QfiNoniHVdAm0LRtFDPDFdP8AvpXbPOMAjomQRgAHk5rOWG48GfE7xLqWveDtS8QR6jMJtPvrSyFyYl+b5OeFOCq9jhe4IoAl+Fep2Nj8S9W8N+HdZl1Hw09iLq3WRmbyJAUBUEgcfMeg6be4rN0n4ceF/wDheupaD/Z7f2baaYl3DF9ok+WXdFzu3ZP3jwTjmt3wdba9dfG281rU9Am0uzn0grbxmP5Yl3ptVmA27zgsVzkZx2qzrI1Dwl8bH8TNoup6jpepaatoZbGDzDDJvX73PA+QcnH3uM4oAx/jB4P0Sbxz4UvHtGM+tarFbX7ea/72MGNAMZ+X5eMjFafxO1GDwR4b8O+EdHvW0ayv5zDJdBmZre2UguQc5zlx3zwRWp8XNK1KceGNc03T7jUG0bVY7ma1tk3SNGCGJA6nlAOP73tUPjrTNQ8Z+HfD3izQtMl/tDS7j7XFp+oRBJJEJG5GXJ5OxTjPI98UAee69N4E8M6Yut+BPFdwniC1dHKNNI4vhuG4SAgA8EnsDgjHOR1nxVvJfEPh7wBe2M/2abUNRtpYZVGfKZ1BVsH0JHHtVq78a6tqkUen+HPhtfQavI4VpNVsBHbQjPzEtxnj6dc89DofErS9QuW8DJBaSXDWus273BtYGKRgYy2Bnav16UAbNl8M9E03wzrOi2z3Ug1aIpc3FzKZXd9pAfnuCc/WsP4X+JTYfCy8XVyVuPDTT2t2pPzARZYD8vlH+7Xp9eA/EXSdStPiFdeHdKGy08bC3MzKeYnjf94wHptBY+u40Adv8F9Jnt/CE+vX6j+0dfunv5mxg7WJ2/geWH+/XR/EH/knPiT/ALBlx/6LNb1paw2NnBaW0YjggjWKNB0VVGAPyFYvjqCa68A+ILe3ieaaTTp0SONSzMxQ4AA5JoA8i8Yw3Nx8MvhdBZTmC6kns0hmAz5bmMBW/A4NXPiB8L7Dwt4Um8U6JqOqR67p2yVryS6LPOSyhixPQ4JPGPQ5q3rWkanL4O+FkMenXby2l5YtcosDFoQqruLjHygd89K7f4pWlzffDTXLa0t5bi4kgASKJC7Md69AOTQBieO9Z12++CUesaKJkvbuzt7iZrfIeON1VnK4yR15x0GTniuO0bw/4E1aLT7rwD4sfSfEiOjb7qd/NnOPmV42IDEk87eDz1BrvT/wlWmfCHQn8OW0bavaafa+ZaXMR3OqxAOmCQQw/oR1NcD4ymX4hacljpfw31iy8SSyxk39zYi3WDByxaXqRjI+bHXPXigDV+K1lqWpfE/wVY6ZevY3lxHPH9pi+9EpGHZffZux0+o61H4y+G9t4D8Oy+KvB95qFpqunFZpi85kFym75t4PB65PbAIxzmk+Jia1a/EXwINHC3mrW1vMyLK237QUUFgT2LAMPxqbxV4l8R/ETRW8KaR4P1jTpbyREvbrUYfLigQMCcN36fXGcAk0AbXxD8e3GmfCWy1zTZFt7vV0gSCT/nl5ib2I9wobnscV55qVn8OLHQJr7RvG93/wlUEJlj1Dz5d88oGdpGMBWIx6jIyTivUPHfgKTWvhnbeH9KZPtWmLC9l5nAZol2gH0JUkemTzWA/jvVH0z7FB8MNSHiNkCAPYAWgkPG7f/czk9vTd3oATW/iPqkvwR0rXLB1XWtWkSxRkXpLllcqOx+RsemRU1x8DrGPRjPY6xqa+KEj3rqbXTAyS443dcJkduQO5rV8Y+DdY8V/C6DTpBZwa/blLtEth5cQmXOVXk44Zhn15rKn+Jfi250Y6baeBNch8TSR+V5jW2LWOQjHmB24255549SaAG/Ezw3JqPwi/tDxTFDP4g0m1O2e3lbZvZ0VmxhQdwVTgjAOcV0Pwz8NaVoPgCxutOtjDNqWn29zdMZGbfIYgScEnHLHgYp+v6Bruq/CG90fULoX2uy2JMkiKqiWYfPsUAKMZG0HA7E0nw31a4v8AwVb6XdaNqWm3elWkVnKt5AYxIyx7cpnkjj0HWgDznSPE2oeGf2cNIfSG26lfXcllbMBkqzyyEke+FOD6kV0tz8E7C30N7mx1XU18URxb11T7U4Z5QM4IzwpI+o9TWTpXgTVPEH7Pen6OIJbPWLS4ku7eK5QxsJFlkwDnBGVY4J9R2rWuPiR4rvNEfS7fwFrcfiOSLyizQbbVHIwXDk9OpAPHbPegBqeJ7nxd+zpqWqXzo979inhuGQYBZSRnHYldpP1rP8L/AAg0vxR8PdLvNc1DULjULizja3lE5C2se0eWiJ93AXGcjk56Vut4Ou/DPwEvvDqKbvUBYymQW6Fi8jksVUDlsZ2g98dB0rrvAsE1r4B8P29xE8M0enQI8cilWVggyCDyDQBzPwT1rUNY8BNHqc7z3On3stkZZG3MwUKwyT1xvxn0Ar0avNPgnp19pvhjWYr+zuLWR9ankRJ4mQspSPDAEcjg8+1el0AFFFFABRRRQAUUUUAFFFFABRRRQAUUUUAFFFFABRRRQAUUUUAed/HH/kkmr/78H/o5Ky9D1j4qJoGmra+GNFktxaxCJ3u8Fk2jBI3dcVufGWxu9R+F2q2tjaz3Vw7Q7YoIy7tiVCcAc9BWBpHxTvtP0WxspPAHilnt7eOJmWybBKqASOPagCT4i6dr+rfC2HW9RtIbLxFotwNQVLZ96oEY5wef4MOfdasfEjxX9u+EltLpYJufEghtLWNcE5lGWU/8B3L9TXY+HtZHi7w/LPd6Ne6fHKzwPaahFsdlxg5B7EGvJfA3hTXv+E80/Q9XsrgaJ4TkupbK5liIS5LuPLOehIzvGOmMcUAavxEv/wDhBfB/hXwbY6n/AGZFeMttc36A7o4U2+a4x0JL54681yGvTeBPDOmLrfgTxXcJ4gtXRyjTSOL4bhuEgIAPBJ7A4Ixzkeo/FTwvqWs2uj61otvFdanod19pjtZRkTocbk/HavHpnvisS78a6tqkUen+HPhtfQavI4VpNVsBHbQjPzEtxnj6dc89CAVfireS+IfD3gC9sZ/s02oajbSwyqM+UzqCrYPoSOPauzsvhnomm+GdZ0W2e6kGrRFLm4uZTK7vtID89wTn61jfErS9QuW8DJBaSXDWus273BtYGKRgYy2Bnav16V6ZQB5h8L/EpsPhZeLq5K3Hhpp7W7Un5gIssB+Xyj/dqx8F9Jnt/CE+vX6j+0dfunv5mxg7WJ2/geWH+/XEfEXSdStPiFdeHdKGy08bC3MzKeYnjf8AeMB6bQWPruNe8WlrDY2cFpbRiOCCNYo0HRVUYA/IUAPlhinjMc0aSIequoI/I1xnxA8bN4ctotI0eI3vibUR5dhZx4JXOR5jdgo5PPXHoCRseMtcvfDvhe71HTdLn1O9QBYbaFC5LE4BIXnaOpx6duteMeCfEV74fvr3Xda8FeKtT8SX7N5959ibaiZ4RARwMAfkAOBQB1Wp+FG8C/s+6vpaS77xrdpbuVOjSOVD49gvy59Bmu2+HaRx/Djw2sX3TpsDH6lAT+pNQaVqKfEPwnqdtf6Nqekw3Aks3ivYvLkKsg+dQf8Ae4PqK4jw54i8T/DnTD4Y1nwpq+rx2jtHp19p0PmJNHn5VbH3e/qcYGOMkAu2wWL9pm7NvyZtDBuMdjuTH6KldL8VpJI/hb4haIkMbXacf3SwB/QmsDwXo2qaff8AiP4ieLYPsmoXcT7LQuD9mtUAOCR3wi/985PJIHSaHfr8R/h0Z9Q09rCDVreWIwrN5jKhLIGDbRycZHHpQBP8O0jj+HHhtYvunTYGP1KAn9Sa462CxftM3Zt+TNoYNxjsdyY/RUql4c8ReJ/hzph8Maz4U1fV47R2j06+06HzEmjz8qtj7vf1OMDHGTufDvw1rDeIdZ8beJrf7LqupnyYLPcG+zW4xgEjudq/985PJIABn/Ar95o3iW4lJa6k1ubzS3U/Kp5/EtS/GYKmo+Bp4/8Aj7j1yIRDuQSpPv1C1A1vrnwv8a6vf2Gi32teGdYk+1Sx2Sh5bWYklsL3HX0GCvPy8vs7DXPiR490rXtV0a70bw9ov76zt7sBZrifIIYr1UcKe/3eM7jgAf8ADn978W/iNLMSZ1uIUTPXZ84/kq1Y+PscL/C6dpSA6XULRe7Zx/6CWqLxHpWu+DPiJJ400DTLjV7DUoRFqlhb8yKygBXQdT0BwAf4um7ihqy638X9V0vT30DUdG8K2s/2m7lv0EclyyjARU645IzkjknqACAeuWTySWFu8oxI0Slx74Ga8l+J2mz6x8WPBOn299PYvPHcq1xbnEipt+faexK7gD2zmvYa858Vafez/GbwReQ2dxJawR3QmnSIlI8xkDcwGBn3oA4zxj4JXwF4g8PT+DdRvNMbWroaXdfvjJnzMAPz/EMsfY4IxR8Q/Bdh8MtO03xd4ZnvYdRtr1FuGluWc3SsCW357kjnsQTxXbfE6wvL3VfBD2lpPcLb6/byzGKMuI0DDLNgcAepqv8AHTTr7VPh39n0+zuLuf7ZE3l28TSNgBsnABOKAH+Mv+Sx/Dz/ALfv/RQqC3/5OSuv+xfH/oxav+LLC8uPix4Du4bSeS2t/tvnTJGSkW6IAbmHAyemahg0+9H7QVzqBs7gWR0IRC58o+WX8xTt3Yxn2oA4bVvEHhzxd8Q9dtvGniCS00TSpfstnp6SOiTspId3KjnBX9Rzxze8BeINK0T4oReGfDevSan4c1K2Z4YpWZvskyBm2KWxgbVP1yO4ydC4sdQ+HvjzXdTbwzca7oGtOLotZW4mmtpcksCp7Esx9OnPUVv+E9X1vxD4oe6TwomieHoIiFe+tfLu5pf9kZ+VefQ9OvOAAcJ4hfQb74sa1ZfEu4vIbALH/Y8bPIlttxy2V/i6c9M7gegr0X4caINFtdQXT/Ekes6BNKH09RJ5ptRzuTfk5HI44xjOMk1j634m1vR9e1PTfFXhG51/QJmD2M2n2AuAFOfkkUnGeQOcdCcHPEfwp0C8s/EXiTXI9GudB0XUGjFnptwNjjbnc5T+HnOB/tYHAFAHout6kmjaDqGpyAFLO2knIPfapbH6V5N4P+Htv8QfD0firxnd313qOos8sKJO0aWqbsLsAOBwuR2wRxnmvXdUsItV0m906f8A1N3A8D/7rKVP6GvJfC/iLxF8N9G/4RbWfCOsan9jd1srzS4DNHOhYsAT26n3xgY4oA2PhjqOqaf4h8SeCNW1B746M8b2c8xzK0LgnDHvgFPpuI6YA5L4c+BbLxbdeIrrV7q6eytNdn8izilKJ5uQTI2OWONgHpg+tdv8NdA1qLUtf8WeIrZLTUdblQpZjlreJAQoJ9SCOP8AZHc4DPhDp97p9l4mW9s7i2Muu3EsYmiKb0IXDDI5B9aAPRqj8mETGfy0Eu3aZNo3Y9M+lSV498ZNf8RyTReGNI0bV302dFbUL2xtmkZ4yeY0IGBwOcnnOOmcgDtZnPxe8X2ui6au/wAKaNdCe/vh9y5mUYEUZ7jBIJHGGJ/u7tf4l6ve6rd2ngDQZNupasub2Yci1tP42Pu3I+mR1IrH0L4hxeHNGttJ0v4b+KobS3Xai/YySe5JPck5JNdJrnwm8O+I/EFzr13LqUN9dqgkMFz5YwqqoGMeiigDl/iBo1l4e1H4XaTp8fl2trrMUaDuf3keSfUk5JPqTXsleBeN/hJZ6frfhWLSl1u7gudRSK9kMrS+REWTLZA+Tgnk+ntXtegaHbeHNEt9Js5J5LeDdtaeTe53MWOT35Y0Aec/HCCe5j8IwWtwbe4l1qJIpgMmNzwGx7HBrB+I3ga2+Hui2/jHw1f38Os2lwgnuZ7gym5DHBL56knGR0IzkV2HxV0+9vr7wY1nZ3FwINdgllMMRfy0B5ZsDge5p/xssLzUvhpeW1haT3Vw08JEUEZdiA4zwBmgDkvHfwxsvDngq58UWmo6ifE9l5dxJqT3LF5n3KGz2A5OMeg5NdD418barYfCHSNW08iPWNaitYoioyVklj3Er74BwfUiug+KVpc33w01y2tLeW4uJIAEiiQuzHevQDk1z+t+C77xR8EdC0qBTb6tZ2NpPAkoKFZo4gCpz904LDnoetAFW5+Cdhb6G9zY6rqa+KI4t66p9qcM8oGcEZ4UkfUeprnfFPie58Xfs2Jql86Pe/aI4bhkGAWWXGcdiV2k/WuiuPiR4rvNEfS7fwFrcfiOSLyizQbbVHIwXDk9OpAPHbPes7xT4I1DQP2fYvDlvBJf6gkscky2kTOWdpdzYA5IGcZ7gZ4oAl174QWT+DbjWbjU9Sn8T29q139va5OWlVS20Doq5GBjkcc1oWkFt8RPgNZ3viCN7qaC1lnVzIykzQiSMOSDyeCTng56V3+uRSS+EdShjjZ5WsJVVFGSSYyAAPWuR+GWjXf/AApSy0e8gms7mWC6hZJ4yjJvllwSp56EGgDN+BHhrSrPwLYeIYLYrqd9HLHcTeYxDqszgDaTgcKOg7VzHw88EQ+MZ/FC6zdXTaNBrE4jsoZTGkkxI3O5HJwoTA6DJ9a6/wCDV3f6f4bi8JapoWp2F7piyO01xDthlDSsw2Pnk/MenHHWrHwh0+90+y8TLe2dxbGXXbiWMTRFN6ELhhkcg+tAGP8AD+1u/BnxT1jwRHe3Fzov2Fb6zWd9zRcoCOgx95hx/dBrkrJPCmseLPEFv8UL28t9cW+dbMXE8kUMMH8PlsMKPx4I2kd69Eh0+9H7QVzqBtLgWR0IRC58o+WX8xTt3Yxn2rJuvFGqW73mi+PvAl7rpSY/ZbnTtME8MyH7vDHCtxng5HoMUAdn8P8ASrzR/DK2lxr6a5bCRms7tTu/c8bVLZO7BB5z3x0AorC+Dvh7UtC0HU5L6zm063vr57iz06V9zW8RAwD3B7YPPyjPWigD0eiiigAooooAKKKKACiiigAooooAZMrvDIkcnluykK+M7T2OO9cT4b+HcumeJm8S6/r9xr2sLEYIJpYFhSFD12oCcHkjg9zxzXc0UAFFFFABRRRQAUUUUAcxrHg/+1fHOgeJft3lf2Ssy/Z/J3ebvUr97cNuM+hrp6KKACiiigAooooAKKKKACiiigAooooAKKKKACiiigAooooAKKKKACiiigAooooAKKKKACiiigAooooAKKKKACiiigAooooAKKKKACmTK7wyJHJ5bspCvjO09jjvT6KAOG8N/DuXTPEzeJdf1+417WFiMEE0sCwpCh67UBODyRwe545ruaKKACiiigAooooAo61pcWt6HfaVPLJFDeQPBI8RAYKwIOMgjoafpenW+j6TZ6ZaAi3tIUgjDHJ2qABk+vFW6KACiiigAooooAKKKKACiiigAooooAKKKKACiiigAooooAKKKKACiiigAooooAKKKKACiiigAooooAKKKKACiiigAooooAKKKKACiiigAooooA8//wCF2/Dz/oYf/JK4/wDjdH/C7fh5/wBDD/5JXH/xuvQKKAPP/wDhdvw8/wChh/8AJK4/+N0f8Lt+Hn/Qw/8Aklcf/G69AooA8/8A+F2/Dz/oYf8AySuP/jdH/C7fh5/0MP8A5JXH/wAbr0CigDz/AP4Xb8PP+hh/8krj/wCN0f8AC7fh5/0MP/klcf8AxuvQKKAPP/8Ahdvw8/6GH/ySuP8A43R/wu34ef8AQw/+SVx/8br0CigDz/8A4Xb8PP8AoYf/ACSuP/jdH/C7fh5/0MP/AJJXH/xuvQKKAPP/APhdvw8/6GH/AMkrj/43R/wu34ef9DD/AOSVx/8AG69AooA8/wD+F2/Dz/oYf/JK4/8AjdH/AAu34ef9DD/5JXH/AMbr0CigDz//AIXb8PP+hh/8krj/AON0f8Lt+Hn/AEMP/klcf/G69AooA8//AOF2/Dz/AKGH/wAkrj/43R/wu34ef9DD/wCSVx/8br0CigDz/wD4Xb8PP+hh/wDJK4/+N0f8Lt+Hn/Qw/wDklcf/ABuvQKKAPP8A/hdvw8/6GH/ySuP/AI3R/wALt+Hn/Qw/+SVx/wDG69AooA8//wCF2/Dz/oYf/JK4/wDjdH/C7fh5/wBDD/5JXH/xuvQKKAPP/wDhdvw8/wChh/8AJK4/+N0f8Lt+Hn/Qw/8Aklcf/G69AooA8/8A+F2/Dz/oYf8AySuP/jdH/C7fh5/0MP8A5JXH/wAbr0CigDz/AP4Xb8PP+hh/8krj/wCN0f8AC7fh5/0MP/klcf8AxuvQKKAPP/8Ahdvw8/6GH/ySuP8A43R/wu34ef8AQw/+SVx/8br0CigDz/8A4Xb8PP8AoYf/ACSuP/jdH/C7fh5/0MP/AJJXH/xuvQKKAPP/APhdvw8/6GH/AMkrj/43R/wu34ef9DD/AOSVx/8AG69AooA8/wD+F2/Dz/oYf/JK4/8AjdH/AAu34ef9DD/5JXH/AMbr0CigDz//AIXb8PP+hh/8krj/AON0f8Lt+Hn/AEMP/klcf/G69AooA8//AOF2/Dz/AKGH/wAkrj/43R/wu34ef9DD/wCSVx/8br0CigDz/wD4Xb8PP+hh/wDJK4/+N0f8Lt+Hn/Qw/wDklcf/ABuvQKKAPP8A/hdvw8/6GH/ySuP/AI3R/wALt+Hn/Qw/+SVx/wDG69AooA8//wCF2/Dz/oYf/JK4/wDjdH/C7fh5/wBDD/5JXH/xuvQKKAPP/wDhdvw8/wChh/8AJK4/+N0f8Lt+Hn/Qw/8Aklcf/G69AooA8/8A+F2/Dz/oYf8AySuP/jdH/C7fh5/0MP8A5JXH/wAbr0CigDz/AP4Xb8PP+hh/8krj/wCN0f8AC7fh5/0MP/klcf8AxuvQKKAPP/8Ahdvw8/6GH/ySuP8A43R/wu34ef8AQw/+SVx/8br0CigDz/8A4Xb8PP8AoYf/ACSuP/jdH/C7fh5/0MP/AJJXH/xuvQKKAPP/APhdvw8/6GH/AMkrj/43R/wu34ef9DD/AOSVx/8AG69AooA8/wD+F2/Dz/oYf/JK4/8AjdH/AAu34ef9DD/5JXH/AMbr0CigDz//AIXb8PP+hh/8krj/AON0f8Lt+Hn/AEMP/klcf/G69AooA8//AOF2/Dz/AKGH/wAkrj/43R/wu34ef9DD/wCSVx/8br0CigDz/wD4Xb8PP+hh/wDJK4/+N0f8Lt+Hn/Qw/wDklcf/ABuvQKKAPP8A/hdvw8/6GH/ySuP/AI3R/wALt+Hn/Qw/+SVx/wDG69AooA8//wCF2/Dz/oYf/JK4/wDjdH/C7fh5/wBDD/5JXH/xuvQKKAPP/wDhdvw8/wChh/8AJK4/+N0f8Lt+Hn/Qw/8Aklcf/G69AooA8/8A+F2/Dz/oYf8AySuP/jdH/C7fh5/0MP8A5JXH/wAbr0CigDz/AP4Xb8PP+hh/8krj/wCN0f8AC7fh5/0MP/klcf8AxuvQKKAPP/8Ahdvw8/6GH/ySuP8A43R/wu34ef8AQw/+SVx/8br0CigDz/8A4Xb8PP8AoYf/ACSuP/jdH/C7fh5/0MP/AJJXH/xuvQKKAPP/APhdvw8/6GH/AMkrj/43R/wu34ef9DD/AOSVx/8AG69AooA8/wD+F2/Dz/oYf/JK4/8AjdH/AAu34ef9DD/5JXH/AMbr0CigDz//AIXb8PP+hh/8krj/AON0f8Lt+Hn/AEMP/klcf/G69AooA8//AOF2/Dz/AKGH/wAkrj/43R/wu34ef9DD/wCSVx/8br0CigDz/wD4Xb8PP+hh/wDJK4/+N0f8Lt+Hn/Qw/wDklcf/ABuvQKKAPP8A/hdvw8/6GH/ySuP/AI3R/wALt+Hn/Qw/+SVx/wDG69AooA8//wCF2/Dz/oYf/JK4/wDjdH/C7fh5/wBDD/5JXH/xuvQKKAPP/wDhdvw8/wChh/8AJK4/+N0f8Lt+Hn/Qw/8Aklcf/G69AooA8/8A+F2/Dz/oYf8AySuP/jdH/C7fh5/0MP8A5JXH/wAbr0CigDz/AP4Xb8PP+hh/8krj/wCN0f8AC7fh5/0MP/klcf8AxuvQKKAPP/8Ahdvw8/6GH/ySuP8A43RXoFFABRRXNa78QfCfhq6a11bXLW3uVxuhGZHXPTKqCR1B57c0AdLRWdo2v6T4hszd6PqFvewBtrNC4baeuCOoPsa0aACiiigAooooAKKz9W1zTNDS2fU7tLZbmdbeEuCd8jZwowOvBrQoAKKKKACiis/VNc0zRXs01G7S3a8nW3twwP7yQ9FGB1oA0KKKKACiiigAooooAKKKKACiiigAopskiQxPLI21EUsx9AOtU9I1jT9e0yLUdLukubOUkJKgIDYJB6+4NAF6iiigAooooAKKKKACiiigAooooAKKKKACiiigAooooAKKKKACiiigAooooAKKKKACiqOr6xp+g6ZLqOqXSW1nEQHlcEhckAdPciuY/wCFt+A/+hktf++X/wDiaAO1orO0TXtL8R6f9v0i8S7td5TzEBA3DqOQPWtGgAooooAKKKKACiiigAoorj7j4qeBrW/+xS+JLPzskHbuZAR6uAVH50AdhRUcE8N1bx3FvKk0Mqh45I2DK6nkEEcEGsTX/G3hrww4j1nWbW1lIB8ktukweh2Llse+MUAb9FUdK1nTNcsxd6Vf297b52+ZBIHAPXBx0PI4PNXqACisDX/G3hrww4j1nWbW1lIB8ktukweh2Llse+MVo6VrOma5Zi70q/t723zt8yCQOAeuDjoeRweaAL1FZGu+KdC8MwiXWtVtbIMCyLK/zuB12qPmb8AadofiXRfEtsbjRtTtr1FALiJ8smem5eq9D1AoA1aKq6hqVjpNm95qN5BaWyY3TTyBFGenJ4rH0Tx74V8R3bWmk65aXFyGKiHdtdsddqtgsPcZFAHRUUUUAFFFFABRVPUNX07SRAdQvre1+0SiGHzpAu9z0UZ6mo7rXNMstYstJuLtI7+9DG2hIOZAoy2OMcCgDQooooAKKKKACiiigAooooAKKKo6trOm6DYm91W+gs7YEL5kzhQSegHqfYUAXqK5nQviF4T8S3n2PSdctri5OdsJ3Ru2Ou0MAW9eM8V0rMFUsxAUDJJ6CgBaK5Gb4o+B7e/Fk/iaw80jOUctH+LgFR+ddZHIk0SSxOrxuAyupyGB6EHuKAHUUUUAFFFFABRRRQAUUUUAFFFZ9lrmmajqd9ptpdpLeWBUXUQBzEWyRnjvg0AaFFFFABRRRQBHP5v2eTyNvm7Ts3dN2OM/jXhHwhuvBEWnXdt4lSxi8Um6k+1nWFUSMd3RTJ+o65Bz2r3S9ulsbC4u3jkkWCJpSkS7nYKM4UdzxwK4yDSfAnxW0aPWm0q3u0lJQysvlTqVJG1mQhh64J6EHvQA7S/h5Z6L4/8A+En0G4hsbC4tTFdafDD+7lPJDqQ2F/h4A7H1rK1D4vG08V6v4ZtfDl1f6raSJHaQ28uTc5UszMduI1UY5+br9a5/RtLb4dfGjS/DOg6lcz6RqlvJLcWM0m8wEK5DDgAcqOepGQc8Vf8ABM9jH8evHEMpQX0qR+RnqUABcD/xw/hQB0Phz4lNqHiRfDfiHQrnQNZkQyQRTSCRJwM/dcAZPB7Y4PNWfGHxBXw5q9noWm6Pc61rl2hlSzgbYFj5+ZmwcdD27HOOM858UpI5fiD8PLa1OdTXUvMwrcrBuTfkehAP/fLVa1zxV4g1L4lXHhHwnBpdtd2los15qF+hZgp2HCAdcB165BJ7Y5ANHwx8R5NV8THwzr2g3Oha0YjLFDLIJEmUZyVYAZ6E+nB54rPvvivdReK9Y8Nab4WutS1KxdFhSCfiVSuWdyVxGFyo6nJYVzM8Ot2nx68H2+va3a6neiCdh9ntRD5SGOTAOOucH6fjXReAlB+L/wARGwNwktQD7bW/wFAEXxelln0LwbNPCYJpNctGkiJz5bFWJXPfB4rpPFfj2LQdWstC0vT31jXrxhssYpfL2J3d3wdo78j34Fcz8eFuX0Dw6tk6pdnW4RC79Ffa+0ng8ZxVD4b58H+P9X8PeKUWTxDqT/aLbVmJP22PH3AT93BBOPUEfwrkA9jhMjQxmZESUqC6o25Q3cAkDI98D6CvP/E/xWg8M+M38OSaNcXcz2qS2xtn3PPMzYWIJt47ndnt0Neh15Dcz2MH7Tlt9sKLI+khLYt/z1OenuV3j8aANfTvilcw6/ZaR4s8MXXh6W/bbaTSTiaKRuPlLADB5A74JGcVX+L/APx/+Bv+xgt/5ioPj5JE3g3TrVDnUptTi+xKrYbeA2SB3HOPqwqb4vZ+3eBc4z/wkFvnH1FAHUx+MN/xJl8IfYceXp/277X53X5gu3Zt9+ufwpni7xn/AMItq3hyx+wfav7Zvls9/nbPJyyjdjad33unHTrXLpKkP7SsiyNsM+gbYgf4zvB4/BW/I1W+Ll3D/wAJ18ObIODOdYjlKgjKr5sQBI68nOPofSgDsvGnjqw8GQWiy2899qN9J5VpY2wzJK3T8BkgfUjiuO1b4y6j4a02SXxF4JvNOu3CtZxPdBo7jkbh5gT5GAOcEHp24p3iWSO0/aI8KXF+wW1l0+SG1ZzhROfMBHPchlA9yKl+P9zZRfDSSC5ZPtM11F9mUn5twOWIHsu4fj70Aem2s/2mzguNu3zY1fbnOMjOK5bx948h8B22mXNxZG5gvLsW8jLJtMK4yXA2ndgduM+tdJpX/IHsv+veP/0EV518YVD3vgdWAKnxBACD3GaAOn8P+LL3UdM1HU9d0KfQLG1HmRveSAs8WCSzAD5cY6c1y/8AwtvU7m0fWNN8C6pd+Ho9xa/81UdlBOXWPGWXg85+uMVs/GBLmT4Ua8LQnzBEjNj+4JFL/wDjoNc94U0vx5d+D9In0vxlpK6e1nF5KDTlbYoUDaTnqMYPuDQB2M/jewf4fXHi/TF+22sds1wsRfYSR1Rjg7SDwetclZ/F7VdbsIr7w74G1DVLVI1N3Ks4QRyYBaOPK5kK5xkAfTHNZljocXh/4C+KbO212y1m3ZZ5I57PHlplVygwSOCCfxrtfhPPYz/C/QfsDJ5cdsEkC/wygnfn33ZP40AWND8YaZ428F3eqaaXUCKSOaGQYeFwpyrfoc+9c98Hb620z4KWN/eSiK2tluZZXIztVZXJP5Csn4dyR3GufE+6sTnTJbs+UwbcrSYl3lT6HIP0Io8BeIIPC37OkWs3Ft9qjtlmPkdpGa4ZVB64GWGT6UAWv+FwavNpz65aeAdSm8OpuY3xnVXKDOX8vaeBg5OcD14rtv8AhN9CHgpPFr3ezSni80Ow+bOcbMf3t3y49a4Mv8QdV8DS65fa9oOk6XNp5uPs1vZeaFgMe4Alj1wegyK4e7Vz+zP4ddld7KPVi14inBMXmyjGe3JX8cUAegt8XtWisU1q48A6tH4ecBxeiVS4T++Y8cLg9Sce9d1eeLdFsvCZ8Ty3inSvJE6zAHLhvugDruJIGPWrV/e6Snh24vb2W3bR/sxkldgHiaErzwM7gV7DOc15L8WpNNvPg1pdz4ZWKHQjfxviO2MSCI+YM7CAQN5B6c9fqAbL/FzU7WzTWb/wJqtt4dfBF95qs6qcYZoscKcjnOPrmul8X+Orbwz4H/4SizgTU7ZjGYlSbyw6uQAQ20+vpXOaloPjq+8O3YvfHWinSri1fzpTp6iMwspy27OANpzmuc8aaauj/s3QWCapBqkcMsYjvLf7kimYkY5PQHH4UAdBffF++sLeHWJfBWpL4YkdR/abyhW2ngP5WM7TkYJIzkfSn6j8WtQitZ9X0nwZfaj4cgJ3amZxFvUHDOkZUkoP73HfOMVvfEWJP+FT64mwbF084GOBgDH8qi0qNP8AhR1mmwbW8OLlSODm35oA128aaLH4LXxZJcFNLaATBmHzc8Bcf3s/Lj1rjX+Lmp2tmms3/gTVbbw6+CL7zVZ1U4wzRY4U5HOcfXNeeaolw37L3htomCwJqLNcErkBPOnAyO43FeK9F1LQfHV94duxe+OtFOlXFq/nSnT1EZhZTlt2cAbTnNAHZ6z4nttN8F3XiWzVL+2itTdRBJNolXGRhsHGfpXCx/GDV9Q0NNY0TwFqN/YJGDcTCcKqvj51QbC0gU5BYAdDUlxpq6P+zvfWCapBqkcOnzCO8g+5IpZiMcnoDj8K634dxpH8NvDiqoCnToCR7lAT+pNAGDq3jiTxD8K5tc8N6PJqK3UcsFxA9wsL2q7H3u2chtpA4HJDA1m/AjUdVm8C2FhPohg0yGOVrfUftKsLhjM5K+WBlcEkZJ52+9ZfwoXZ8JPGMKA7I72+RF/ujyE4FdV8Ej/xaHQ/b7R/6PkoA9AooooAKKKKACiiigAooooAKKKKAPO/jj/ySTV/9+D/ANHJSaBpnw3fw5pbXNj4UM5tIjIZIrfcW2DOcjOc0vxx/wCSSav/AL8H/o5KTQPhX4HuvDml3E/h62eaW0id2LPlmKAk/e9aALfiDxTpHw+8P6dfaRpFlJolxerDPJYOkccG7rJhFIb7pB6cgDNdD4q8Q2/hXwtqGuXCCSO0i3rHu2+YxICrnBxliBnB61m654G0y7+Hd/4U021jtraSF/s8YJ2pLnep5yfv4Jryo65J8QfC/gPwczt9puLgjVk3EMsdtwQ/oWHzfUCgD1G88f2ujeArLxPrdo9pJdxo0VjG/mSM7jKoMhcnHJ4GOfSsIfFa/wBMuLaTxT4N1DRNLu5BHDfPMsgQnp5q4BT1559uKyvjXHdprfgV7a7gsrePUConmQNFDLmPy2YdMDDfrU3i7wr4x1DwxeWniTxzo0OkyBBPJLYrEow4K/NkY+YCgDq/Hnj638DWmlXc1n9qtr26WB3SXb5SEZLgBTuwO3GfWmWPjHXbrw1rOs3HhC5sjZRGa1tbicLJdIFLHOFOw4HTB5rkPiBam30f4Z2ktyl6Y9Us42uFHyzYVRuHsev417ERkYPSgDE8I+JIPF3hWw1y3j8pbpCWi3bvLYEqy5wM4IPOBms/wP40PjaLVbuHTxb2FpePa21wJ9/2kL/HjaNowVPU9TzxXmCa23w30D4geFlYpLbS+dpIB+Yx3OFXbnrsyCffNeseBPDo8K+CdK0faFlhhBnwc5lb5n5/3ice2KALHi3Q7jxL4XvtGtdROnvdp5bXAi8wqmRuGNw6jI6965q5sfhx4O8MtpGp/wBipBbw7ZophGZpSF5JX7zOc54554rqfEfiLT/CujSatqjSpZxMqu8cZcruOBkDtkgfjWRq/wAP/B/i1v7TudNiluLgLMt9byNHIflG1g6kZ4xjOR0oA534PQ3/AId+Fk1xqsM0Vuks91axSj51t8BhkepIc/j71Q+EPh208RaPd+NPENtb6lq2r3MjeZcRK4ijUlNqA5wOGH0wOg5tfDG/1TxH4Q8TaHqGoSaj9jup7C31GRt3nIVwOepx1yc8MKm+BWopJ4AGiyZjv9IuZYLmBxh4yzswyPqWH1U+lAGdBZx+AfjnY2Gkotvo3iO3Yy2igLHHMisQUHbkDj/bPtXq99dpYafc3koJjt4mlbHXCgk/yry7XZxr/wC0J4dsLTMqaJay3F2y9ImdTgH/AMh/99V6dqtmdQ0e9sg203EEkQPpuUj+tAHlnwh8O2niLR7vxp4htrfUtW1e5kbzLiJXEUakptQHOBww+mB0HKQWcfgH452NhpKLb6N4jt2MtooCxxzIrEFB25A4/wBs+1aPwK1FJPAA0WTMd/pFzLBcwOMPGWdmGR9Sw+qn0qprs41/9oTw7YWmZU0S1luLtl6RM6nAP/kP/vqgCr8PtNtfHvjHxL4w1uGO+Fvemw06GeMMkEaHcCFOfmwV5xwSx78L4v0638AfEnwv4g0KGKyttVuRp2oW0KBInVmGGwOAeSfqg982fg1Mukan4u8J3LFL611SS5WNxgvE21Q49R8qn/gS+tHxVnGseN/BHhe1zLcnUFvrhF6xxKR8x/ASH/gP5gDPFMA8b/GvTfCt6xfRtJtP7QuLUj5Zpc4G71GGQd+Cw71a+K3g3TLXwdJr+iWVvpmraKUubaezhWM7VIG04HIA5Hpj0zUF5Mvh39o63urxjHba5pf2aCVhhTKGX5M+vyL/AN9r61u/GLWYdI+Geqq74mvUFpAnd2c4IH/Adx/CgDpvC+rNrvhXSdWcKsl5aRTOq9AzKCwH45rnfGnxHi8GeINI0ybSp71dRSQhrdsyBl4VFjx8xZiB1GM1teCtNm0jwPoen3CFJ4LGJJUPVX2jcPwOa43xiob44+AQwBHl3R59RGTQAjfGCbRtUWz8X+FL3Q0nheW0lEwuPOKjOzAAwx4GMnBYA4zmn/8AC19R03VdPi8S+DL3RtN1CYRQXslwsmCfu70Cjae5BORz1xR8Woo5NY8A70Df8VDbryOxYZH6Cq/7QiqfhopIBK38RGR0OGoA6L4hX+l2A8ODU9Eg1T7TrEFtD5r7fId84kHBzjHTjNYni/8A5Ll4B/65Xf8A6LNT/Fz/AJkz/sZbT/2aoPF//JcvAP8A1yu//RZoA1vEXxFbTvELeHdA0O517WUjEk0MEgjjgBxje5yB1B/Ec81Y8I/ECHxJqd3o1/plzo2uWih5bG5YEsp/iRuNw6c4HUV5x4VsvFVx8SvHkGka/Zabefb/ADJY7i1Eryxbn8srk8KAR/30Pauj0/wxq8XxX0rVtd8Y6VdapDaPGLGKARSywEP/AAg5wGJOcdqANfWfiNep4lvNA8MeGLnXr2wVWvGFwsEUW4ZA3MDlvbjv1wa1PBfje28YR38JsrjTtT06Xyr2yn5aJjnBBHUHB9Oh46E8nP4Zup/GWua58PfF1pb6i7qmqadPGJIjKuR82MlOQ3YnO7B5xWv4C8WalqviHW9A8Q6XZ2uuabsM01nkxzIw4PPIOCDye/QYxQB39eeal8T5pdeu9H8J+G7nxFcWRC3UsU6wwxNzld5ByeCPqDjOK9COcHGM9s15V8BHjXwlqtrKcapDqkv25WbLFyFAbHYHBH1VqAOq8G+PbHxdJeWRtZ9N1ixbF1p90MSIP7w/vLnjP6cjPM2Hxcv9avrzT9H8H3V7eWl69vMI7j93HECAJGcoACTuwv8AsnmmW7xXH7StwdPeP9zoe2/285beMD64MX4CpfgqoFl4sbA3HxBcAn2wv+JoA9QrjPEXgey13xfYeIdcvYpdL0y3YJp88Q8oOTkyOxbBGMcEY+Uc12dYF5r2hXviGXwbffPeXFoZTbzRnZNEeCAeh78ex9KAPMPiinh/XJ9D0/wcthceKVv0eF9OCMYY1ByZGXgKDsOD6Z6ZroPjXqN0vhzS/D9nci3l12/js5JcdIj97v0yVz6jI71j/Erwvpnw/wDD7+K/CUjaHqcU8SskErCO6UnGwxk7T/e6fwmo/j1Zy6n4P8PavNFNDbw3Km7VF3PCsijn8CMfUigCSPxN8FdMsD4aIsJrZVEUs/2FpBIwGNxkVcs3fcPwNegeAtAs/DfhS3sdN1WXUtOYma1mkKnEbc4UqMEZyfxNW4tJ8NjwktlHbWB0D7NkL8phMW3O7d6Y53Z981wvwEZ/+EM1KKNnfTotUmWxZ+pjwp6emST9SaAOw8eeLf8AhCPCs+t/YftvlSInk+b5edxxndtP8q5G++L99YW8OsS+CtSXwxI6j+03lCttPAfysZ2nIwSRnI+lWPjz/wAkqvf+viH/ANDFbPxFiT/hU+uJsGxdPOBjgYAx/KgDB1H4tahFaz6vpPgy+1Hw5ATu1MziLeoOGdIypJQf3uO+cYrurHxJpd94Xi8RpciPTJLf7QZZfl2JjJ3ehHIPuK57So0/4UdZpsG1vDi5Ujg5t+a8+s0uZP2SmFoT5gilZsf3BdsX/wDHQaAOnT4t6pfW0mq6P4F1O+0CMtm+85UZ1UkFkjwSw4Pf64rtND8WaZ4k8L/29pMnnW/lsxRvldGUZKMOcMP6gjIIpngm5sJfAWhzWLoLMWEIX5wdgVACCfUEEH3BrgPhMUl8OeOJ7Mp/Zcuq3RtFUcY2A5HttKflQBLpXxk1TxFo32zQPAt/qE0QJulS5AjiIJwquUy7FcHAXjcOtdDoXxEk8UeD73VdD0Ka41ezlWGbSJZ1icPkA/ORjABJyQM7SMA1S+BkaJ8JtLZVALyTsx9T5rD+QFZ/wuURfEj4lRINsY1CJgo6AkzEn8aAMf4C6prH2XUbH+wT/Zsupzyzah9qX9zLsT915eMt0HzDj5vam6X4ofw98WvHcFnpV1qup3s9uLazt/l3BUYszOeEUZXk9yK3PgNx4V10HqNduMj/AIBFS+A4I2+MvxCnKAyo1sit3AZSSP8Ax0flQBreEviUdd8RTeHNa0O60LWkQyJbzvvWVR1KtgZ6Z6YIzgnFWPFHj+XSPEMPhzRNCuNb1uSD7Q0EcqxJFHnGWc5A/LuOeRWF4tijT49eBJ1QCV4LpGcdSojfA+nzN+ZqbxH4bTVviFJqfhTxXDpfiu1tRHdWrRrKJYuCN6nkDlecH+HoRmgDZ8JfEBfEGsXuhappFxouuWcYmktJnEitGcfMrgAHlh27jGecFc7pfjnWNI8WXHh/xxpdg98lmLiG901Cwlj3bcENz1z6dOneigD1WvOLz4M6GdRnvtF1PWNAecgyRaZc+VEfXC4478A4HYV6PRQByPhL4caF4Pup761N1ealOMSX19L5sxX0BwABx6ZPcnFefab4O03xf8UvH0d69zb3FtcWsltd2kvlzQMUYEq3uOoNe30UAcb4X+GukeGdWfWGutQ1TVnQp9t1GfzXVT1C8DH15PXnk0nij4baX4m1qHWlv9T0rVY4/KN1ps/lO69g3B6e2PfOBjs6KAOE0v4UaFpPiHTNdhutRl1GyMjPPcTCR7pnXbmRiMnA6AYArc0fwlZaL4k1vXLee4e41do2nSQjYmwEDbgZ79ya36KAMDxT4SsvFsOnRXs9xELC9S9jMJA3OmcA5B45qPxf4L0zxlZ20V809vcWkwmtby1YJNAwI+6xB64H5A9QK6OigCOCNoreON5WmdFCtI4AZyB1OABk+wrx3XfDWm+K/j3eabqcbtF/YKyI8b7HikEq7XRuzCvZqKAOD0P4U6PpOtwazeajqutX1t/x7Pqdz5oh9CowOR7/AFGDW74l8JWXiibSZbye4iOmXqXsQhIG516Bsg8fTFb9FAHIeMvhzo3jS4tby6lu7LUbQYhvbKQJKF5O0kg5AJJHcZOCMmsqH4OaGmpabqc2pavd6lY3aXf2y6uBLLMUIKoxK/cGOgweTzXolFAHmnxel0xbHTo/EHh26vtFMpM2p2cpEuntwA20L0OfXHHQnGfJtbs/DHiG3j0XwbPrnijXbt441u9RLstnCDk4JVdvIAJxgDdyOh+pKaiJGMIqqOuAMUAMtoBbWsMAJIiRUBPfAxWL4l8JWXiibSZbye4iOmXqXsQhIG516Bsg8fTFb9FADJoYriGSGaNJIpFKujrlWU8EEHqK84l+C2jYlt7LXfEOn6bMSZNPtb7EBz1G0qeOvXNelUUAcJ4y0TT/AA78HNb0vS7ZbezgsJAiAk9eSSTySTzk1zPhn4UaTq/g7Rb+21XWdKN7p0D3kOn3Xlx3DGNcsykHk9+3tXsNFAGLonhXSfDvh3+w9LgMFntYHnLsWHLEnqf/AKw6CqmjeBtI0jwT/wAIkwlvNMKyI4uCNzh2LHJUDueCMYwK6WigDzay+C+i20aWtzrWvX+mx/6vTrq83W6nsdgUA4PIHT1zXS6J4H0jRvBS+FGR77TNrqy3WCXDMWOcAdCeCORgd66SigDzNfgjoOEtpNZ8QS6SjBhpj337jr0wBnH0IPvXeXOiaZd6G2izWULaa0Ig+zbcIEAwAB2xgYx0wK0KKAPM/wDhSeitGtpJr3iOTSVIP9mNf/uMA524x06e/vXUeI/BOleI/CK+GX82z09PLCLa4UoEI2gZBGOK6SigDN1vRLfXfD15otxJKlvdQmF3jIDAEYyMgjP4Uy30G2tvCkXh5JJTax2IsRISN5QJsz0xnHtWrRQBzmj+CdJ0nwTH4SZHvdMVJEYXWCzh3ZznAAyC3BHTA71y3/Ck9FaNbSTXvEcmkqQf7Ma//cYBztxjp09/evTKKAMfUfDen6h4Un8NqrWuny232YLBgGNMYG3IIq1o2lw6HoljpVu7vDZwJAjSEbiqgAE4wM8VeooA53wj4OsPB2mXlhZTTzxXd291J9oKk7nVQQMAcYUVU8I/D+x8FXdy2l6lqbWUykLYXFxvhhJOSUGOD2ycn3rraKACiiigAooooAKKKKACiiigAooooAxfFnhm08YeHLnRL6aeG3uChZ4CA42sGGMgjqPSuIT4JWMUaxx+L/FKIoCqq3ygADoANteo0UAYvhfw5H4W0f8As6PUL6/XzGk86+l8yTnHGcDjisvQvhzonh/xlqfiezNwbzUA++N2Bjj3sGbaMZGSO5NddRQBl+IfDumeKdHm0rVrZZ7WTBx0ZGHRlPYj1ri4vgzor3EH9pa1r+q2Vu4eKwvr3fCCOnAA/pXpFFAHP+I/CNj4mk0h7qWeH+yrxLyFYCoDMnQHIPH0xW7NKkEMk0hwkalmOOgHJp9FAHhzrpnxX+L2javpFnPJpGkRB7q/kiZEmdWLRxgEc4Yjr1Bb059xoooAq6jp1nq2nz2GoW8dxaTrskikGQw/z37V55/wpTS44WsrbxN4mttLbIawiv8AEWD2xt6cnrnOetem0UAZmgeH9M8MaRFpekWq29rHzgclm7sx6kn1rmvEPwt0bXNbk1u3vdT0jVJRiW50258oyjAHzDB7Dtj3zXcUUAc34W8F6J4HsbldKhmaSc+ZcXEzmSaYjPU/ieAByT61ifCDRbzTPBj3up28kGpareTXtzHKm11LNgAg8jhQcf7Vd/RQBw/iH4W6Nrmtya3b3up6RqkoxLc6bc+UZRgD5hg9h2x75rW8JeCdF8F2s8WkxSmW5YPcXE8m+WYjoWb8TwMDk+tdFRQByHiv4c6N4r1GHVJZr3T9VgQJHfWE/lSgDOAeCD1Pv70/wn8PdF8IXVxfWrXV5qdyu2e+vZvMlcZzjPAAyB27DOcV1lFAGH4q8I6P4y0oafrEDSRI/mRvGxV43wRuU/j9K53R/hJoem6vbapfX+razdWbA2h1O680QY6bQAOnHXjIHArvqKACsDUvCVlqni3R/Ec09wt1pSyLDGhGxt6kHdkZ79iK36KAMLxF4Vs/Etzo893NPG2lXyX0IiIAZ0OQGyDx9MVH4z8H2PjfQf7I1Ce4hg81Zd9uVDZXOOoIxzXQ0UAYfiTwvZ+J/wCy/tc08X9nX8d/F5JA3OmcBsg8c9sGmal4SstU8W6P4jmnuFutKWRYY0I2NvUg7sjPfsRW/RQBx/if4caR4l1RNWFzf6XqqJs+26bP5MjDsGODn+fvT/Cnw80jwpf3GpRT32oapcLskvtQm82Urx8oOBgcD34611tFAHD678L9M1fXpdbstU1fRdRnULPLpd15XnY7sMHnHpitXwn4J0rwfFdfYXuri6vHD3V5eS+ZNMRnG5uOmT0HeujooAK4bXvhZo+sa3NrNpf6po2oTjE82l3Pk+d6lhg8n2xnvmu5ooA53wl4K0bwZaTxaXHK01y++5urh9807erN+J4AA5Pqaf4W8JWXhKHUYrKe4lF/eveyGYg7XfGQMAccVv0UAFcx4t8BaJ4y+zyags8F7bHMF7aSeXNHznAbB4zzyOD0rp6KAPPLH4QaPHqdvf6zq2s6/JbMWgj1S682NPT5cc9B3wcdK7rUdOs9W0+ewv7dLi0nQpLE4yGFWaKAPL/+FHaL5TWY1/xEukli39nC9Hk9c4xt6fr716JpWlWOiaXb6bptsltZ267I4kHAH9SepJ5J5q5RQBheL/Ctn4z8PS6LfzTw28jo5eAgMCpyOoI/Sret6Jb674evNFuJJUt7qEwu8ZAYAjGRkEZ/CtKigDKt9BtrbwpF4eSSU2sdiLESEjeUCbM9MZx7VB4Z8LWPhjwrb+HbdpLmyhWRf9J2sXDszENgAEfMR06VuUUAeayfBPQd00Npq+vWWmTsWl023vdsDZ7bSCcduSa7jT9B07SdATRNOtxbWMcRiRE7A5ycnqSSSSepNaVFAGL4T8M2ng/w5baJYzTzW9uXKvOQXO5ixzgAdT6VBoPg+x8Pa9rur2s9xJPrMqSzpKVKoV3Y24AOPnPXPauhooA5HSfh7p+heLbrXtN1HU4BdySTXFgJ/wDRpJH6tsx15JHJx2xV/R/CVloviTW9ct57h7jV2jadJCNibAQNuBnv3JrfooAwNS8JWWqeLdH8RzT3C3WlLIsMaEbG3qQd2Rnv2IrO8U/DrSvE+qQat9s1HS9VhTy1vdNn8qRl7Bjg5A9sH3rsKKAOS8MfD3SvDN/c6l9pv9T1S5QRyXupT+dKU4+UHA4yB78daK62igAorz//AIu//wBSN/5N0f8AF3/+pG/8m6APQKK8/wD+Lv8A/Ujf+TdH/F3/APqRv/JugD0CivP/APi7/wD1I3/k3R/xd/8A6kb/AMm6APQKK8//AOLv/wDUjf8Ak3R/xd//AKkb/wAm6APQKK8//wCLv/8AUjf+TdH/ABd//qRv/JugD0CivP8A/i7/AP1I3/k3R/xd/wD6kb/yboA9Aorz/wD4u/8A9SN/5N0f8Xf/AOpG/wDJugD0CivP/wDi7/8A1I3/AJN0f8Xf/wCpG/8AJugD0CivP/8Ai7//AFI3/k3R/wAXf/6kb/yboA9Aorz/AP4u/wD9SN/5N0f8Xf8A+pG/8m6APQKK8/8A+Lv/APUjf+TdH/F3/wDqRv8AyboA9Aorz/8A4u//ANSN/wCTdH/F3/8AqRv/ACboA9Aorz//AIu//wBSN/5N0f8AF3/+pG/8m6APQKK8/wD+Lv8A/Ujf+TdH/F3/APqRv/JugD0CivP/APi7/wD1I3/k3R/xd/8A6kb/AMm6APQKK8//AOLv/wDUjf8Ak3R/xd//AKkb/wAm6APQKK8//wCLv/8AUjf+TdH/ABd//qRv/JugD0CivP8A/i7/AP1I3/k3R/xd/wD6kb/yboA9Aorz/wD4u/8A9SN/5N0f8Xf/AOpG/wDJugD0CivP/wDi7/8A1I3/AJN0f8Xf/wCpG/8AJugD0CivP/8Ai7//AFI3/k3R/wAXf/6kb/yboA9Aorz/AP4u/wD9SN/5N0f8Xf8A+pG/8m6APQKK8/8A+Lv/APUjf+TdH/F3/wDqRv8AyboA9Aorz/8A4u//ANSN/wCTdH/F3/8AqRv/ACboA9Aorz//AIu//wBSN/5N0f8AF3/+pG/8m6APQKK8/wD+Lv8A/Ujf+TdH/F3/APqRv/JugD0CivP/APi7/wD1I3/k3R/xd/8A6kb/AMm6APQKK8//AOLv/wDUjf8Ak3R/xd//AKkb/wAm6APQKK8//wCLv/8AUjf+TdH/ABd//qRv/JugD0CivP8A/i7/AP1I3/k3R/xd/wD6kb/yboA9Aorz/wD4u/8A9SN/5N0f8Xf/AOpG/wDJugD0CivP/wDi7/8A1I3/AJN0f8Xf/wCpG/8AJugD0CivP/8Ai7//AFI3/k3R/wAXf/6kb/yboA9Aorz/AP4u/wD9SN/5N0f8Xf8A+pG/8m6APQKK8/8A+Lv/APUjf+TdH/F3/wDqRv8AyboA9Aorz/8A4u//ANSN/wCTdH/F3/8AqRv/ACboA9Aorz//AIu//wBSN/5N0f8AF3/+pG/8m6APQKK8/wD+Lv8A/Ujf+TdH/F3/APqRv/JugD0CivP/APi7/wD1I3/k3R/xd/8A6kb/AMm6APQKK8//AOLv/wDUjf8Ak3R/xd//AKkb/wAm6APQKK8//wCLv/8AUjf+TdH/ABd//qRv/JugD0CivP8A/i7/AP1I3/k3R/xd/wD6kb/yboA9Aorz/wD4u/8A9SN/5N0f8Xf/AOpG/wDJugD0CivP/wDi7/8A1I3/AJN0f8Xf/wCpG/8AJugD0CivP/8Ai7//AFI3/k3R/wAXf/6kb/yboA9Aorz/AP4u/wD9SN/5N0f8Xf8A+pG/8m6APQKK8/8A+Lv/APUjf+TdH/F3/wDqRv8AyboA9Aorz/8A4u//ANSN/wCTdH/F3/8AqRv/ACboA9Aorz//AIu//wBSN/5N0f8AF3/+pG/8m6APQKK8/wD+Lv8A/Ujf+TdH/F3/APqRv/JugD0CivP/APi7/wD1I3/k3R/xd/8A6kb/AMm6APQKK8//AOLv/wDUjf8Ak3R/xd//AKkb/wAm6APQKK8//wCLv/8AUjf+TdFAHoFFFFABRRRQAUUUUAFFFFABRRRQAUUUUAFFFFABRRRQAUUUUAFFFFABRRRQAUUUUAFFFFABRRRQAUUUUAFFFFABRRRQAUUUUAFFFFABRRRQAUUUUAFFFFABRRRQAUUUUAFFFFABRRRQAUUUUAFFFFABRRRQAUUUUAFFFFABRRRQAUUUUAFFFFABRRRQAUUUUAFFFFABRRRQAUUUUAFFFFABRRRQAUUUUAFFFFABRRRQAUUUUAFFFFABRRRQAUUUUAFFFFABRRRQAUUUUAFFFFABRRRQA2RtkTuOqqTXi/h74lfEzxVpn9o6L4N026tN5j8z7UqfMMZGGkB7jtXs0/8Ax7y/7h/lXz98IfH3/COeCDYf8Ix4h1L/AEqR/P0+z82PkLxnI54oA9X8G6p421G4u18V+HrXSokVTA0FwshkbJyDh2xjiuurlNH8Wt4l0TVZ00bWNJa2jYAahb+SzEqTleTnGKz/AIOahe6p8MNLu9Qu7i7uXabfNcSGR2xK4GWJJPAAoA7uivK/BviK6h8X/E2fUr+6nsdLmSSOKWZmWFAJiwQE4UYUdPQVg6HJqPjzTD4i1j4jSaFLcO7Wen2V2kS26hiB5gyC/Q8HsevOKAPa7yY21jcTqAWijZwD0OBmuf8Ah74nuPGPgqy1y6gigmuGkDRxZ2ja7KMZ57VzXgDxZf8AiDw14j0vV7mC71LRmkt5LuAgrcIQ2x+Bjnaee+KsfA7/AJJJpH+/P/6OegDsPEmtw+G/DeoazOhkjs4Wl2A4LkdFz2ycD8awfA2u+Kte0abWNb0ywtra5hjn02C1djI6spJ3knHPyYxjqc1l/GvSmv8A4d392NQvbYWSbzDBLtjnyyjbIP4gOo96s/DHQH0bwPZXp1nVL37fpttKsN5ceZHa/u87Yhj5V+bGPRV9KALcnizWrb4bX/iPUtDGnajawySCymk3g7TwSRg4NWY/GUVr8N7bxfqdu/ltYxXU0VsASN4XhdxHdu5rgtJ1C91T9mO+u9Qu7i7uXtLrfNcSGR2xI4GWJJPAAqDxXozah+z3o9+NTv7YWOjwsbe3m2xXO4RjEq/xAY49MmgD2HSdSh1nRrHVLdZFgvbeO4jWQAMFdQwBwSM4PqauV5b4clHw++DQ8RyalqGo79MtrmOC9uN8cLtGoWOPj5U3MBj0ArC0/T9W1vQoddu/iq1nrtxEJ4rWO7jS2h3DcI3jzz1APHHocUAe30V5PZ+OL/xN8CNX1ozNbaraW8sE0tu+0iVAPmBXG0kEHj14q78NdC1+80/RfFGueJ7+6eSzXy7AOfJ2FAFZ8nLuRhix7k0Ael0UV4rb2nibxZ8UPGWjQeKdQ07SbaSFn8iVjIuVO1IsnEYPzFiOu0UAe1UV5b478Q6jYax4e8DaVraabNdQeZd6tcsN8cKAjOTxuYo3Prj1zWBqWq3Xw2v9M1Oy8dSeIdJnuVgv7O9u1mkQMD+8VhkgDBOPXHXJwAe40V5F8UdU8TW3xC8Jaf4a1CS2uL1Jo9jO3kknA3unRtoJYZB6dD0qt4o0LxZ8OtHPirTfGWqav9kdGvrPUXLxzIWwSo529RwOgyc8YoA7jxv4tuvC1z4eitraGYapqcdlIZCfkVjyRjvXXV5L8S7+LVYPhzqMH+pu9ZtJ0/3WAYfoa6rx3YeKdVSxstB1SHSLF3Lajf7sSogxgJ+uTkducZoA7CivD5L+/wDAXjLw6mn+N5/EWmapdrZ3VreXazvEWKjeDkkcknjGMYOc1veJtV1/xV8SG8D6Fqj6RaWVqLrUb2AZlO4DCKf4Thl7jqT2wQD1KivNNM0Dxr4O8W6fHa6tf+I/Dt2THdLfSK0tn0w4ZmBYc9uwIxnBql4w8R3+tfEQ+DbLxFH4esLO2Fxf3wkVJXZsbY0JIwcMp49SewBAPWKK8a0/W7zwP480XSE8XHxHoWsubdRc3KzT2suQFy4ySCSAOg68cDMviBvEurfG+TQNK8Q3em2UmkrJPscsI13ctGhO0OTtXd1AJoA9gorw+8tPGfhXx9Z+ENM8WXt3Z6/CzRXeonz5rQplpCpPU7VOOg+bpkZq1eQ678NfHvheNfE2razpWtXP2KeDUZvNKOSqhgT05YHj+6euaAPZqK8z+I/inUIvEui+D9J1aDR5dQVri61GUgGCEZxtzxk7WH1AHGc1zWpardfDa/0zU7Lx1J4h0me5WC/s727WaRAwP7xWGSAME49cdcnAB7jRXk3xMvfEg+I/hLSvD2rTWMt7HOjfMTF05do84cquSM9wKyfGFl4k+Fs2m+Jrfxfq2q2LXaQX1pfyF1KnJJA6AYXHAyMjmgD0/wAReL9P8M6hotlew3Mkmr3a2luYVUhXJUZbLDA+YdM/Sugrw74weG3k8c+FLn+29WQapqsUAiW4wlpgxrvgGPkb+LPrzXsej6adI0m3sGvbu9MK7ftF5J5ksnJOWbueaAL1FFFABRRRQAUUUUAFFFFABRRRQAUUUUAcx8QvE9x4O8FXuuWsEU81u0YWOXO07nVTnHPeuMtfF3xdvLSG6t/AumvDMiyRt9ujGVIyDgy56Gtb44/8kk1f/fg/9HJWXofxE8R2+gabDH8OdanSO1iRZUcYcBQAw+XoetAHeeFLzxDfaN53ibS4dN1DzWHkQyiRdnGDkMRzz3rcryzx9q3iK6+G1p4rsoNR0S/026W5msGmZS8QfaVkC4DKflbB7ZrT+I3jD7D8LG1XSJpBc6tHFDYNGSHLTDIKkchgm4jHcCgD0CivLPGGu6v4J8HeGvDttqYOu6myWjajeyl/LPHmylmJzgsOucA+wrn9efUfAumjxHpHxIl1ye3kRr3T7y7SRLlSwB8tQTs69ucd+MUAe50V5P8AFHxDqsmi+DL7w5fS2s2pahAYtsrKkgdQVV9pG5ckZHeuksfBeq2XhrWrKXxXql9qWoRHZeSylDbybTgxhT8i5IOAe1AHaUV5/wDDLxY9/wDDL7drU8n2rSfOgv5JmJcGLklieSdm3JPfNM+EEur6p4Zu/EWsXd1LJq95JPBDNMzpBCGIVUDfdGd3TGRtoA7HX9cs/Deg3msagzLa2ke99oyzdgo9ySAPc159B4x+Jup6emtad4N08aY6ebHbTXJ+0yoeQRyAOOxGTkYr0q/0+y1S0a01Czt7u2cgtDcRLIhwcjKkEda4Lxt458TeG2ubXSfBdzcW8YCRajuLwplQd5jRS21TkEcdKAOk8EeMLPxx4Zh1mzieHcxjmhdgTFIMZXI6jkEHjII4HSuVvfiL4h1rXtR0nwJoFvqSac4juNRurjZDv5yijILdMZB684xyV+H9rpug/Ca+utD1dNTkeO4u5rtFKgz7ORtOCuMLwee/en/Am0ht/hTp0sSqHuZp5ZSByWEjJz+CLQBp+C/Hr+ItTv8AQtY0s6Pr9hgy2bSiQOhA+dSOo5HrwRyc12teUeL41svj34JvYeJbmCeCULxuUK2M+v3z+Veka7cyWfh/UrqE4lhtZZEPowQkfyoA4K9+IviHWte1HSfAmgW+pJpziO41G6uNkO/nKKMgt0xkHrzjHJ1/Bfj1/EWp3+haxpZ0fX7DBls2lEgdCB86kdRyPXgjk5rM+BNpDb/CnTpYlUPczTyykDksJGTn8EWqHi+NbL49+Cb2HiW5gnglC8blCtjPr98/lQBq+IfiDqn/AAlUvhbwdoser6pBEJLqeWfZDakkABum48gkAg9hk5Af4X+IOoXPic+FfFmjJo2tmHzoNkweK6HOdnp0Jxk9D0IxWN8DFW5sfFOrShTeXetSiZwOSAAw/DLt+ZpfjHGttrPgbVY+LmDWY41I4LKxUkZ9Pl6e9AHUeOPHUfhEWFpaWDaprWoyiK0sI5Nhf1Ytg4UcfX6Akc5/wsfxT4avrIeO/DVtp+m3swiS/tLkOluSMhZBk8jucgcEjOKhgVb/APaauTcBWOn6KDb5H3SSuce/71/zrpvitZw3vwv1+OYLhLYzKSM4ZCGGPxGPxoA7EEMAQQQeQR3pa5r4eXEl18OvDsspJc6fCCSck4UDP6VxvxIu/ER+JXhHSdA1ibT3vY51chiY8Y5do84cquSM9wKAPV6K8P8AE1n4v+HevaO2j+K9Q1SPW5vsDR6q5lWKZ8BXUdByc4A/hwcg0vjKx8R/DCDTvFMHjDWNWQXaR39rey7opFbJJRM4UcEAdsjB4oA9T8Satq+lDT/7J0R9UNxdLFOFlCeTGer89azdb8W3Wl/ELw34cjtoXt9VSZpJWJ3JsUsMdu1Z3xR1G90//hEvsV5cW3n+IbWGbyZWTzIzuyjYPKnuDxWf4v8A+S5eAf8Arld/+izQB6fRXjmo67d+N/HetaOfFv8AwjmhaO4t3NvcLFPdS5IbDE8AFSOPbjni14P8RX+h/EUeDbzxGniHT7y1NxYXrSq8sbLuLRuwzuOFJ5PYHuRQB6zRXiuoanceKfihrugax4xvfDVpp/lrYW1pcC2a4JGSxc/e7Hb6MMYwa7zwPp3inSP7QsNf1JNUsUkDades2ZnjOciT1I4weep5xigDrqKK8c0MeIfi1d6nqx8SX+iaBb3TW1lBpkhjeXaM72fuOV9e44xyAex0V5p4L1nxBo/jy/8AAviG+/tMR2v22w1BxtkePIG1vU8nnr8p5IIxzPgfTPE/jW7103Xi/VLTTLHWJljSGZjJIwIOwsTxGAFwo4+Y0Ae41xfjPxzPoGqafoOi6U2q6/qALw228IiRjOXduw4P5HkY57SszUbW2tDc63b6PDd6tFbMsbJGomlA5EYcjIBPbOKAPP5viH4t8J31j/wnPh+xg0y9nEC32nz5ELMMgMrE56HJ44BIzjFd34n8SWHhLw/dazqTMIIBwqctIx4CqPUn/HpXkPivxDd+NNZ07w94v02XwlogulleS7DubxwPljWQKEUYJyST29MVp/H2/gs7PwtHexebp39pie5iAB3qgGRj3VmH40AXo/G3xMvrBdasvAtoultGJUtpLvNzKpGdy4x27Fc8jGa7bwd4tsPGvhyDWdPDIjkpJE5G6Jx1U4/Aj1BBri31T4wS2B1i20jQIYCnmJpUhka4CdQpPA3Y7ZH07V1Xw/8AFVh4w8LpqljaCzfzDFc24AHlzADcOOvBBB9COlAHU0V578atRvtK+Gt3dade3FncrPCBNbytG4BcZGVINc14p8O+MtG8KP4xHjbUn1m0RbmazVttnt43IsfTgE8nO7HIBOaAPZ6K8ZutA8Wa/wCCZPGr+MtUs9Tlszf21hZyGO1jj271jK5+Ylf4j685xXR6Z8Qph8E4/Gl5Ekl0lq25T8qySrIYh06BmAPHrQB6HRXkWkeDPGPiTw/b+Ib7x1qtlq95CLmC2t22W0IYblVo+/BGfT3xW74C8W6n4k8E6r/ayrFrGlSTWVy8ZxvdF+/gdDz27gkY6AA9Aorwr4e+H/FvjvwNDfal441iyhDSR2n2aZvMchjl5XJ3P83AXPAUc1t+ArnWvE+j+KPBmua5qCX+j3iQDU7SXy7gx7iVIfB6+W3JySGwaAO68I+L9P8AGen3d7p0NzFHa3b2ji4VVJdQpJG1jx8w/wAKo+G/Ft1rXjbxRoU1tDHDo7wrFIhO6TeGJ3Z47dq8/wDgL4fb7LqOr/2xqmLfU57c2X2j/R5TsT946Y5f5uvsKh0zTNb1v4xeONN03VptKspJIZL26th+/wAKpCojfw5LEk9floA90oryLQp/EXgb4qWPhPUdcu9a0fV7eSS2mvCWkidQzbdxJJ4XB7fMOBim+N9bur/4pW/hW/8AE9z4a0X7CJ1nt5RC9zKTgKJT90devB2kdSKAPX6K4Xwho/inQNZu4LjWm13w3JCHtLi5mD3KScZBbuuN3fsMY5ooA7af/j3l/wBw/wAq8v8A2fP+SZ/9v0v8lr1SkVVQYVQo9AMUARXcBubKeANtMsbID6ZGK8Q+G/xH0nwL4Ybwp4oivLDVtOmkUQC3ZzLuYsAu3POWIGcAjBB5r3WmmNC4copYdGI5FAHhvwyt7jxRqfxSttQt3s5tTZEeGX70IkE4CnHdQQPwrJ8MXPw/8MaR/YnxA8Ow2eu2TujyS2bSi5XcSrKyg54OPTjOeePokKqkkKAT1IHWkaNHxvRWwcjIzigDznwJ9gu/C+uapp3hGPw/Z3Cutuekl1EqttdlwNo545PU8nqZPgd/ySTSP9+f/wBHPXolIqqowoAHoBQBxfxc/wCSVeIP+uA/9DWtHwX/AMk08Pf9ge2/9ErXRlQwIYAg9jQAAAAAAO1AHiPhr/k1i7/69Lv/ANGvXQXWn3Gqfs4Q2lrGZJ20KF1RQSW2orEADqSBwK9NCIE2BV2+mOKUAAAAAAdAKAPI9NksfiP8C5PDukSmTUbLTre3likRk2TxqpC5IA5MfUHvzXM6Pr3ws07w9BbeJfDEdr4gtYRFcWb2DNJLIoxlTjHzEZ5I6/jX0CqIrMyqoZjliByfrQY0ZgxRSy9CRyKAPKZ4UX4Ea9cp4Zi8OfarWWX7DGcnGAAzfKMEgDjHTFdp8Pv+Sc+G/wDsGW//AKLFdGQGBBAIPY0AAAAAADoBQAteYeAv+Su/EX/rra/+gvXp9IFUEkKAT1IHWgDx/wCKuhQ2vjbQ/F+oaN/a2iQwmz1GEJvMa5YrJt74Lk/8BA4yKzP7V+G2salYaZ4P8FWmuXlxKBN/ozQR20fd3Zl7cdsdeegPulNWNEzsRVycnAxmgDxr4q395pHxQ8FX2nWUl5PbRzv9mhGXkjA+cKPXZuxTPG3xL07xv4ak8L+D47y+1bVCsLJ5Dp9nTcCxckY6DB7AEkniu517wnf6p8R/DPiKCa2Wz0pJ1nR2YSNvQgbQAQevOSK69Y0RmZUVWbliBjP1oA8i+IOmDRdN+Gmlhgws9Ws7fcP4tgVc/pVX4weSnjjw1L4oS5k8FBHE6wl9ouMPgtt5PGzHfAbHevaCqtjcoODkZHShlDKVYAg9QaAPm/xBd+E77xN4Ok8GaGkGnJrMCzaktqYllfeuI1LYZsAMTx6V2ev3U3w6+Ll14rvLS4k8PazaJDczwKX+zyoFALAeyfjuOMkYr1zy02quxcL0GOlOoA82sPiZP4u8Yafpvgy1W70pCX1TUbm3kVI07KmSuGPI5B6jjANcz420fSvDvxWm8SeJtDGoeG9Vtljkn8oyi1nUKMlR2IQfXcfQivbkRY1CooVR0AGAKWgDxjQ77wJrnjLTrPwZ4Mtb+KJxNc6p5DQJZ7TlSNy5LZHA45xjPONi3/5OSuv+xfH/AKMWvTURI12oqqo7KMCl2ru3bRuxjOOaAPNfFP8AyXbwH/173v8A6Jaq3xb/AORr+HX/AGHY/wD0OOvUyqlgxUFh0OOlBVWILKCRyMjpQB4/8VdChtfG2h+L9Q0b+1tEhhNnqMITeY1yxWTb3wXJ/wCAgcZFZn9q/DbWNSsNM8H+CrTXLy4lAm/0ZoI7aPu7sy9uO2OvPQH3SmrGiZ2Iq5OTgYzQB5j4uAX44+AQBgCK7AH/AGzNR/tB/wDJM/8At+i/k1eplVLBioJHQ46UMquMMoYehGaAPLPjOHspfB+vyRu1jpWsRy3RjUsUTKtuwO3yEfUj1r0fSNXsdd0q31PTZ/Ps7hd0Umxl3DOOjAEcjuKu01EWNAiKFUcBVGAKAHUUUUAFFFFABRRRQAUUUUAFFFFABRRRQB538cf+SSav/vwf+jkrJ0T43+CLLQNOtJ725WaC1ijcC1c4ZVAPOPUV6yyqwwwBHoRTPIh/55R/98igDC0fW9E+IPhi5lsme4025ElrKJEKFgRhhg+zV414IttS1rxlofgvU43Nv4NnuZ53bIWYhwIT+BII9VzX0KqqgwqhR6AYoCqGLBQCepx1oA8u+M/h2bULfQ9fh0v+1ItGujJd2QGTLA23eMd/uD1xnPY1y954h+FdxbxQeGvBsOtazO4SPT1smiYHPO5iuBgZ6Z/AZI96pojRWLBFDN1IHJoA8o+JlstnF8O7ZLaK2WLW7VBBEcpHjA2qfQdK9ZpCqtjcoODkZHSmzeZ5Mnk7fN2nZv6bu2fagD5/8eRaj4f8Xa94V0qJxF41a3e3dfuxSGTbNn/e+bPsRXvGmadb6RpVpptqpW3tIUhjB67VAA/lXD6D4J8RXXjSHxV4z1GwubuzhaKxtNPVxDDuyC+WwScE9j1HPAr0OgDA8aT+ILXwrd3PhiKObVYdrxwyJuEig/MAMjnGSPcY71yFv8dvCH9miS/e9tdSVcS6e1q5kD91Bxt69MkdRnFenUwxRtKspjUyKMBiOQPrQB5p8INBvLfw7rd1qNi9haazfSXNvp7jHlQsMDjtkcc9lFYPhHxRH8IvtvhDxctxFZQztJp2pJbs0U0bfMRwDznnjOCSD0GfbKa6JIu11VlPZhkUAeS+GVu/iF8U08bGzuLPQtKtzb6d9oj2PcsysC+PT525/wB3vnHd+HfE2m+NrDUzZ29yLW3uZLGRp1ULKQPmK4Y5XBHJxW/IGMbBGCuQdpIzg1geCPCsfgzwnaaJHcfaWhLtJPs2mRmYsTjJ9cdegFAHmnhHxRH8IvtvhDxctxFZQztJp2pJbs0U0bfMRwDznnjOCSD0GdDwyt38QvimnjY2dxZ6FpVubfTvtEex7lmVgXx6fO3P+73zj1p0SRdrqrKezDIp1AHjFjqf/Cn/ABrrdtrUE/8AwjOsXBvbW+hhZ1gkYnKPj244yflU45OHNeP8W/iHod1pltcx+GdBf7W17PCUFzNuBCpnqPlX043Z7Z9kZQ6lWAKkYII4NAAUAAAAcADtQB5X49tdQ8J/EDTPiDY2ct7YiD7DqlvBHukWPk+YP09OVHPPGX4x8eW/xJ0dPCXgmG5vZ9RkjS6uXt2SK1izuJYkcHgdiMZxzivaaaqImdiquTk4GMn1oAp6NpkWi6HYaXCxaKzt47dWPUhFC5P5V594v/5Ll4B/65Xf/os16fSFVLBioJHQ46UAea/Fj/kMeAf+xjtv/QhVb9oP/kmf/b9F/Jq9TKq2Nyg4ORkdKGVXGGUMPQjNAHnHxc/5kz/sZbT/ANmqDxf/AMly8A/9crv/ANFmvTiqtjcoODkZHSgqpYMVBI6HHSgDwO80zw34L+I3iB/G+hRz6Pq032ux1F7czJGzEl0IUEjlv/HR1BrpPA914T1rxr5nhLwbAmm2cRY64YjDiQgjYilcng9yD146Z9YZVdSrAMpGCCMg0BQoAUAAdhQB4/4q8TeEpfE2o6L8SfD0FqkX/IP1DyZJDcQ5PR0Xep5HAOM59OX/AAaiZdY8Rvoj33/CGl0/s0XYbDPzvMe7nAOR/wB855zXrjxpIu10Vl9GGRTqAEIBBBGQeorxLwd4ntfhI2p+E/FiXNpbJdPPp96ImkjmiboBtBOeM/UkHGOfbqa6LIu11DDrgjNAHlPg1rnxv8UrzxythLb6JbWP2HT5LhSrzktkuo/u4L8/7Q75xZ+Cv/Hh4r/7GC5/klen0iqq52qBk5OBQAtefeLvGmreCvFttc6jZvP4RuINklzbw7ntp89Wwfu4A7dzjJGK9BooA8P+IfjfRviToCeFPCVvcaxqV3NG6uLdkS22nJYlwMcZGemCefXqPin4N1DXfA1j/Z5N3rGjyR3EW5QzXBUYcYPc8NjuVx3r0WOKOJSscaoCSSFGMn1p9AHlS/Hrwz/Y5kkt75daUbG0ryG3+aOCm7GMZ79fbPFafwe8PalofhO5udXhNvfarePfPAePKDAYBHY8Zx1GQDyK9A8qPzPM2L5mMbsc4+tOoA80+PP/ACSq9/6+If8A0MVufEX/AJJVr3/YPf8AlXXMquMMoI9CKCAwwQCD2NAHF6V/yRGy/wCxcj/9JhXHeE/D0vir9mWDR7cKbieKdoQxwC6XLuoz2yVA/GvZdo27cDGMYoVVUYUAAdgKAPItC+M2jaR4YttO1+DULfxDZQrbSWBtnMk0ijaCpxj5sDrjBPfrWh8N9D1LT/BfiDV9Ytfsuoa5cT37QnO+NGXKqw7HJY49CM4OQPTCilw5UFhwDjkU6gDzv4Hf8kk0j/fn/wDRz1n/AAx/5KZ8S/8Ar+g/nNXqaqqjCgAegFAVVJIUAnqQOtAHj/wc1W00PUNe8Gag8kOtHVri4jhaJsSR7VG4NjGPkJ56gjGa0vAX/JXfiL/11tf/AEF69NKIXDlVLqCA2ORShVBJCgE9SB1oA8x8X/8AJcvAP/XK7/8ARZpvjvxNodj4nXSPHfh6B9Alh32WqNC02H43JwuVPX7pzjHrx6gVUsGKgkdDjpQyq6lWUMp4IIyDQB4N4HgD+O9Tb4aT3Ufhn7GPMa5WQ2/2jcOE3852+vP3u2KK95VQqhVAAHQCigBaKKKACiiigAooooAKKKKACiiigAooooAKKKKACiiigAooooAKKKKACiiigAooooAKKKKACiiigAooooAKKKKACiiigAooooAKKKKACiiigAooooAKKKKACiiigAooooAKKKKACiiigAooooAKKKKACiiigAooooAKKKKACiiigAooooAKKKKACiiigAooooAKKKKACiiigAooooAKKKKACiiigAooooAKKKKACiiigAooooAKKKKACiiigAooooAKKKKACiiigAooooAKKKKACiiigDz/AP4Ul8PP+he/8nbj/wCOUf8ACkvh5/0L3/k7cf8AxyvQKKAPP/8AhSXw8/6F7/yduP8A45R/wpL4ef8AQvf+Ttx/8cr0CigDz/8A4Ul8PP8AoXv/ACduP/jlH/Ckvh5/0L3/AJO3H/xyvQKKAPP/APhSXw8/6F7/AMnbj/45R/wpL4ef9C9/5O3H/wAcr0CigDz/AP4Ul8PP+he/8nbj/wCOUf8ACkvh5/0L3/k7cf8AxyvQKKAPP/8AhSXw8/6F7/yduP8A45R/wpL4ef8AQvf+Ttx/8cr0CigDz/8A4Ul8PP8AoXv/ACduP/jlH/Ckvh5/0L3/AJO3H/xyvQKKAPP/APhSXw8/6F7/AMnbj/45R/wpL4ef9C9/5O3H/wAcr0CigDz/AP4Ul8PP+he/8nbj/wCOUf8ACkvh5/0L3/k7cf8AxyvQKKAPP/8AhSXw8/6F7/yduP8A45R/wpL4ef8AQvf+Ttx/8cr0CigDz/8A4Ul8PP8AoXv/ACduP/jlH/Ckvh5/0L3/AJO3H/xyvQKKAPP/APhSXw8/6F7/AMnbj/45R/wpL4ef9C9/5O3H/wAcr0CigDz/AP4Ul8PP+he/8nbj/wCOUf8ACkvh5/0L3/k7cf8AxyvQKKAPP/8AhSXw8/6F7/yduP8A45R/wpL4ef8AQvf+Ttx/8cr0CigDz/8A4Ul8PP8AoXv/ACduP/jlH/Ckvh5/0L3/AJO3H/xyvQKKAPP/APhSXw8/6F7/AMnbj/45R/wpL4ef9C9/5O3H/wAcr0CigDz/AP4Ul8PP+he/8nbj/wCOUf8ACkvh5/0L3/k7cf8AxyvQKKAPP/8AhSXw8/6F7/yduP8A45R/wpL4ef8AQvf+Ttx/8cr0CigDz/8A4Ul8PP8AoXv/ACduP/jlH/Ckvh5/0L3/AJO3H/xyvQKKAPP/APhSXw8/6F7/AMnbj/45R/wpL4ef9C9/5O3H/wAcr0CigDz/AP4Ul8PP+he/8nbj/wCOUf8ACkvh5/0L3/k7cf8AxyvQKKAPP/8AhSXw8/6F7/yduP8A45R/wpL4ef8AQvf+Ttx/8cr0CigDz/8A4Ul8PP8AoXv/ACduP/jlH/Ckvh5/0L3/AJO3H/xyvQKKAPP/APhSXw8/6F7/AMnbj/45R/wpL4ef9C9/5O3H/wAcr0CigDz/AP4Ul8PP+he/8nbj/wCOUf8ACkvh5/0L3/k7cf8AxyvQKKAPP/8AhSXw8/6F7/yduP8A45R/wpL4ef8AQvf+Ttx/8cr0CigDz/8A4Ul8PP8AoXv/ACduP/jlH/Ckvh5/0L3/AJO3H/xyvQKKAPP/APhSXw8/6F7/AMnbj/45R/wpL4ef9C9/5O3H/wAcr0CigDz/AP4Ul8PP+he/8nbj/wCOUf8ACkvh5/0L3/k7cf8AxyvQKKAPP/8AhSXw8/6F7/yduP8A45R/wpL4ef8AQvf+Ttx/8cr0CigDz/8A4Ul8PP8AoXv/ACduP/jlH/Ckvh5/0L3/AJO3H/xyvQKKAPP/APhSXw8/6F7/AMnbj/45R/wpL4ef9C9/5O3H/wAcr0CigDz/AP4Ul8PP+he/8nbj/wCOUf8ACkvh5/0L3/k7cf8AxyvQKKAPP/8AhSXw8/6F7/yduP8A45R/wpL4ef8AQvf+Ttx/8cr0CigDz/8A4Ul8PP8AoXv/ACduP/jlH/Ckvh5/0L3/AJO3H/xyvQKKAPP/APhSXw8/6F7/AMnbj/45R/wpL4ef9C9/5O3H/wAcr0CigDz/AP4Ul8PP+he/8nbj/wCOUf8ACkvh5/0L3/k7cf8AxyvQKKAPP/8AhSXw8/6F7/yduP8A45R/wpL4ef8AQvf+Ttx/8cr0CigDz/8A4Ul8PP8AoXv/ACduP/jlH/Ckvh5/0L3/AJO3H/xyvQKKAPP/APhSXw8/6F7/AMnbj/45R/wpL4ef9C9/5O3H/wAcr0CigDz/AP4Ul8PP+he/8nbj/wCOUf8ACkvh5/0L3/k7cf8AxyvQKKAPP/8AhSXw8/6F7/yduP8A45R/wpL4ef8AQvf+Ttx/8cr0CigDz/8A4Ul8PP8AoXv/ACduP/jlH/Ckvh5/0L3/AJO3H/xyvQKKAPP/APhSXw8/6F7/AMnbj/45R/wpL4ef9C9/5O3H/wAcr0CigDz/AP4Ul8PP+he/8nbj/wCOUf8ACkvh5/0L3/k7cf8AxyvQKKAPP/8AhSXw8/6F7/yduP8A45R/wpL4ef8AQvf+Ttx/8cr0CigDz/8A4Ul8PP8AoXv/ACduP/jlH/Ckvh5/0L3/AJO3H/xyvQKKAPP/APhSXw8/6F7/AMnbj/45R/wpL4ef9C9/5O3H/wAcr0CigDz/AP4Ul8PP+he/8nbj/wCOUf8ACkvh5/0L3/k7cf8AxyvQKKAPP/8AhSXw8/6F7/yduP8A45R/wpL4ef8AQvf+Ttx/8cr0CigDz/8A4Ul8PP8AoXv/ACduP/jlH/Ckvh5/0L3/AJO3H/xyvQKKAPP/APhSXw8/6F7/AMnbj/45R/wpL4ef9C9/5O3H/wAcr0CigDz/AP4Ul8PP+he/8nbj/wCOUV6BRQAUVR1nSotb0a70ueaaGK6iMTSQMFdQe6kg4P4V8+/Fn4d2XgPwra6ppeta5NPLepbst1dKyhSjtkbVU5yg7+tAH0hRXn3h34RaP4a1611e21nXbia2LFYrm6R42ypXkBAT19a0PBTabbReIZrXxFfaskeozC5N2G/0V15aNcgZA9Rwe1AHY0VxM/xd8CW1ja3kniCLyrkExBYJS5AYqSUC7lGQeSBnHGauar8SfB+i2Fne3uu26wXqb7cxBpS6887UBIGQRkjqCOtAHVUVnaJr2l+I9MTUdIvY7u0clRImeCOoIPIPsRXL+GL/AEXRNN8T6kfE19qVpa6hMbx7tHb7I643RqNuSBkfdyD2oA7miuKvPi54FsBb+f4gh/fxrKgSGRyFYZBYKpK8EHBweeldbY31pqdjDe2NxFcWsy7o5YmDKw9iKALFFcbL8VvA0OrLpj+IrX7QW2ZAYxg5xzIBsH4mt7RvEek+IGvl0u7FwbG4a2uMRsuyQdR8wGfqMigDUoqpqhI0m9IOCIH5/wCAmvJ/hx8QPD3hf4V6J/wkWsrDcTNOVRg8shHnOMlVBIHBGTxxQB7HRWdouu6V4i08X2kX0N5bFtvmRNnDehHUHkcHnmqXiPxp4d8JIja5qkNo0g3JGQWdh6hVBOPfFAG9RWR4f8UaJ4ps2utE1KG8iXAfYSGTPTcpwV/EV53oHiKz0D4g/EnUtZvXh060ls9zkO4j3ZUYVQTySOgoA9boryj4SfE1PE4u9M1jV/tOsveStaR/ZtmbYKpHKoF67+pz+ler0AFFcrqPxI8I6RPqMF9rMcE2nOkdyjRSZVnBKgfL8xIB+7nGOa17zxFpGnaJHrN7fw22nyIrrNMdoIYZXg85I7daANOiuY8PfEPwp4quzaaPrMNxcjOIWVo3bHUqHALDHPGav6p4q0TRdUtNN1LUI7W6u0kkhWRWClUBZiXxtUAAnkigDYorkdI+KHgvXdUGm6fr0El2zbER0ePefRSygMfoawfi3NLDf+CBFK6B9fgVtrEbhkcH2oA9MorO1vX9K8N6cb/WL6GztgwXfIfvMewA5J68D0NZHh34i+E/FV4bPR9ZinucEiFkeN2A6kBwM8c8UAdRRWVr3iXRvDFkt3rWoQ2cLHapkJyx64UDJJ+gqn4b8deGfFrvHomrQ3UqLuaLayOFzjO1gDjOOcdxQB0NFZWveJdF8MWa3etajDZQsSEMhOXI6hVGSfwFVfDfjbw54uV/7D1WG6dBueLBSRR0yUYA4z3xigDforntU8c+GtF1OfTtS1aK1uoLb7VIkqsAIyQAd2MEkkDaDk+lVtJ+JPg/W7O8u7HXbcw2S77gyhoii5xuw4BIyQMjuQOpoA6qiuW8PfEfwl4qvzY6NrMdxdBSwiaN4mYDrtDqM/hW3q2sadoWnvf6rew2lqhAMsrYGT0A9T7UAXqK5jw98Q/Cniq7Npo+sw3FyM4hZWjdsdSocAsMc8Zq7q/i3QtB1K1sNV1GO0uLpHkiEqsFKoMsS+Nq4A7kUAbVFcjpHxQ8Ga7qy6Xp2uwy3jnCI0bxhz6KzKAT7A81yfxJ+KUPhzxbomk2Os/ZzBfR/wBtRfZS+23bY3Uoc/KSfkOfxoA9aoqlpGrWOu6Vb6nps/n2dwu6KTYy7hnHRgCOR3FXaACiiigAooooAKKKKACiiigAorz742SyQfCjVpIZHjcPBhkYgj98ncVz+j/BHRNQ0SwvZdf8SLJcW0crhLxAAWUE4/d9OaAPYaK47TY/D3wv0iy0q51a9MV9eeXby3uZWaV8YUsiYUcd8d+a6jUdQtdJ0251C+mENrbRtLLIQTtVRknA5P0HNAFmisu38RaTc+Hk19L1E0p4/NFzMpiXZ6kOAQPqOaxtI+J3gzXNU/s3T9et5LstsRHV4/MPopYAMfoaAOtorK1rxJpHh42Q1W8Ft9tnW2tyUZg8h6DIBx9TgVnWfxA8MahpuqajZ6oJ7LS/+PuaOGRlQdcjC5YcHlc0AdNRVTTNSs9Y0y21HT5xPaXMYkikAI3KfY8j6Gqmj+JdI1+41CDS7s3Emnzm3ucROoSQEgqCwAboehP6igDWorm/H3ic+D/BWpa0iLJPCgWFG6GRiFXPqATk+wNcFpHwtXW9Js9S8aeJNYl127j81VF6EFszcgRrjggHBxx1wKAPYaK47wNYeJfD2m6hYeJr+O+tbWQmxvmkzI8AzxJxwQADyT1IzwK4Tw5od18ZDqHiTxBqWpW2iPOYdO0y1udiBU43uOQWyRz1yD2wKAPbKK8o8LXuqeB/iUfA2pajdanpmowG40u5u5N8se1TujY+mFb24GANxFeqyyJDE8sjBURSzMegA6mgB1FeJ+HNDuvjIdQ8SeINS1K20R5zDp2mWtzsQKnG9xyC2SOeuQe2BWr4WvdU8D/Eo+BtS1G61PTNRgNxpdzdyb5Y9qndGx9MK3twMAbiKAPV6K8l1+fU/iF8TLnwhZ6neaZoejwh9QmsptklxI6jCZ9BnGCMcNn+Gs7XdNuPgvf6XrekalqFz4Zln+zX+nXM5kWLdyHjGPYn1yAM4PAB7XRXl3jzVtW8QeONJ8A6Hfzaek0X23Ub62k2yLCCfkUg5BOPx3L2zWP4n8HXfwu01PFfhTV9UlSzmR9Qsby53x3KE7WYgAfMSeeO+RjHIB7TRVPSdSg1jR7LU7bPkXkCTx567WUMM+/NVta8SaR4dNl/a14Lb7bOLeAlGYNIegyAcfU4HvQBq0VyWnfE7wZquuLo1lr1vLes2xFCuEdvRXI2sfTB57ZqI/FbwONZ/sr/AISG2+1b/Lzsfy93p5m3Z+OcUAdlRXI+O0sHGhC+8QX2j7tTiSA2m7/SZDnbG20HAODyePWsHxbNKnxt8CRLK6xvFd7kDEBv3Z6jvQB6ZRWVr3iXRfDFmt3rWow2ULEhDITlyOoVRkn8BVXw3428OeLlf+w9VhunQbniwUkUdMlGAOM98YoA36KwfEnjPw74RjjfXNUitDJykZDO7D1CqCce+MVJ4d8W6D4stZLjQ9SivEjIEgUFWTPTcrAEZ56jsfSgDaoormvEXxA8K+FLhbfWtYht7ggHyQrSOAehKoCQPrQB0tFZ2i69pXiKwF9pF/DeWxO3fE2cH0I6g8jg+tY2o/EjwjpE+owX2sxwTac6R3KNFJlWcEqB8vzEgH7ucY5oA6qiobW5ivbOG6gbdDPGskbYIypGQcH2NeffFTxBrNvJovhXw5MbfVddmaP7SpwYIlxuYdwec5HOFbHOKAPR6K8lu/g/bRW08+ieKtXHiiNfMW7mvtxkcchZABnbn8Rnv0PR634p1fwb8LH1nXYbeTW7eFY2SNsxyTFtitxjg5DEDHcCgDt6K8g0f4S3Ot6Ha6x4h8T67/wkc8YnWeK7wLRmyQqDHTkAgHHHGBW58KvE2p6pZ6p4e15/M1nQZ/s08+7PnKSwVs9z8pGe/BPJoA9DoqpqepWmjaZc6jfzeTaWyGSWTaW2qOpwASfwFcrdfFvwLZyWyTeIIQ1zGkibYpGwrAFS2F+Tgg4bBGeaAO1ork9b+Jfg7w7cw2+pa7BHLMgkRYleb5SAQTsBwCCCM9RyK6PT9Rs9W0+G/sLmO5tZ13RyxtlWFAFmiuT1r4meDvD2onT9T12CK7VtrxojyFD6NsB2/jW/Z6tp+oaUuqWd5FcWLIXE8TblIHXp6YPHtQBdoriZ/i54Et9Pt72TxBF5NwCYgIZC5AYqSUC7gMg8kDOOK3rXxTol94cm8QWmoxT6XDE80k8YLbFQbmyoG4EDtjPtQBsUV5B4F+LdprHjnXdO1DW/OtLm6jj0OP7IV3KS+4ZCAj+D75/rVm71m30j4+ahc6jfLbafB4fDyNK+EU+aozj15x6nNAHq1Fcz4d+IXhXxXdvaaLrEVzcoCxiKPGxA6kBwMj6VY8SeM/DvhGON9c1SK0MnKRkM7sPUKoJx74xQBvUVi+HfFug+LLWS40PUorxIyBIFBVkz03KwBGeeo7H0ooA2q8f/AGjv+Seaf/2FY/8A0VLXsFcF8W/Bep+OvClrpmlSW0c8V8lwxuHKrtCSL1APOWFAHe15Z8OP+QP8Qf8AsPX/AP6CK9TrivCPhLUNCsPFMF3Jbs+q6nc3cHlsSAkgAUNkDB45xmgDnfgf4e0h/hdBcS6fbSy6g8wuWljDGRQ7KFOf4cKOOnX1qv8AA/w9plvp3iKf7JHLNDq89jHJKoZlhQKQoJ6DLEn1rtPhv4avfCPgWw0XUXge6t2lLtAxZPmkZhgkA9CO1RfDzwtf+FbDWoL94He91ae9i8liwEbhAAcgc/KaAOW+EkEen+N/iJpdqPLsrfUI2hhUYWPcZc4HYYVR9AKxdP8A+SZ/Fb/sL3/8lrvfBvhHUfD/AIx8YatdyW7W+sXMctsInJZQpkzuBAwfnHQnvWXa+AdXh8HeN9JaW0+0a5f3NzakO21VkA27zt4PHOAaALfw78I6D/wq3SbWXS7WaO/s457nzIgxld1DEknrjPHpgYrzbw7qd9pX7OfixLaWQtZ6jJZxOpIKRu0QY+3+sY8ete4+FdMn0TwlpGl3TI1xZ2cUEhjJKllUA4JA44riPDngyPwp8OPE+neLZYjYXd1cXcz2u+TZCyIM8LncNpPAOMZoA2/CHg3w9F8OtN03+zbS4trqyjedjGD57OgJcnrySSPTjGMVy3wHs4tPsvFNlA++G31d4kb1VRgH8hWboNp4wtvCcdtonj3QG8KiMrFqk4YXFtFz8uDgAgcYY5GMcYFaH7P9tHF4d12a1aV7GTVXW2lmGHkRVXDH3wRn3zQB6nqv/IHvf+veT/0E15P8AfDmkjwO+rvbQT311PJHJI6hiiLwEGegOST67ue1euXsLXFhcQIQHkiZFz0yQRXkHhT4ffELwJoqRaDqukTS3BZruzvd7Qo+SFeJgAclduQe478YALnhazg8O/HzX9H0tRFp13pq3j20fCRSbkGQOg+83H+16VzmiatqE3xT8Y6v/wAIfceILq2vPskDiVB9kRGZQAG6FgoOR6H1OfRPAnga90HUtT8QeINQTUPEOpkCaWIERxRjGETODjIHOBwqgAYOaWr+CfEeleL73xN4I1Cxim1BAL6x1AMYZWXow28g9fzPPOKAMLw7Y6//AMLgt9ct/B11oOmXdq8GoL5qFHcBmWQhTjOQg6ep7mtPwGqt8W/iMGAIMtpwR/svWv4X8OeLf+Ekk8QeLdciklEXk2+m6czraxj+8Qcbm5PUHr14AE3hjwpqGjePPFmt3Mlu1rq7wNbrGxLgIGB3AgAdexNAHOfAVF/4RXXG2jI1y4AOOg2RV6tXnngvwh4k8GeJNStYJ9Mm8L313NeAHeLmJmACqP4ccKD16Z4r0OgDyHwdounaj8bPHd7e2kNxNaPAsJlQME3qdxAPf5Rz9fWqPxMup5/i74Y0o6HLrNlaWbXaacjqqzOS4yQeCF2KcH3HQ89z4Y8Kaho3jzxZrdzJbta6u8DW6xsS4CBgdwIAHXsTSeOfBN14hvNM1vRNQGn6/pbk207gmN1P3kcDnB/kSMHNAHn3jOPxN4hk0q+0r4c3mmatptyksV2k8QJjAOYztxwePpg+prR+KOj2fiH4reBdN1Bc2k4lMqMcbguG2nHrjH41sr4c+I3iHUrEeJdc07TtMtZRLJFojSpJdEfwsxwQp579+mcEYvxU0ibXfil4L0+2vpLG4kiuHhuoxkxSIN6tjvyo49KANr4weGtHf4aX90lpbWlxpqpNaTRRhDEQ4G0FexyRjpkg9s1ieNb6bU/D/wALL+5z59zqVjNJn+8yqT+pq7qXgz4h+M44dI8V6vo8GiJKr3H9mq/m3QU5AO4YH8gcHBxXReNfBt3rp8LR6UbaGDR9ShuXSViP3SY4XAOTgd8UAZ/xKvvCdtrOhDWtLvta1ZGd7DTLRDIW6ZZkzgj5R1z0PBANcP4v1C9u/GPgnUpvBs/h+dNWhhW6eWPMyll+QheTwO/TJHeu+8ceCtb1HxXpPi3wveWcOs6fG0BjvQ3lSxENx8oJz87ce/UY5w9W8A+OfE2s+H9Z13U9KM+m38c32K0DpDHEGDOQSCzOdq8HAGOvNACw2Vt4m/aH1aPV40uIdG0+M2dtMNy7mCEyBTxwXI+pB6iuz1HwDo994q0zxJAHsNRsXLF7RUT7QDwVk+U7hjI7HDHnpWV4t8DatdeKbbxb4T1KGx1uKL7PMl0CYLmP0bAJ/Q9B0IzVPTfBPinXfFuneIfHN/pzrpZL2Wn6creWJD/GxbnIIB78gcjGCAcrruoXd18fNRL+GZvEC6TYxpa2gkULFuVGMuG4PLkfl6DFi7t/Emp/Efw54hsfAl5o0kE/lahMJ48TwsQDuCkZ2jcffj0Fdf4r8EavceKrfxb4T1GCy1qOE288d2GMFzH2DbRn0/IdMVFpPhzx1qfiaz1fxZrVpb2tkCYtN0d5FjmY95S3UDjg5HHbnIBi3WkWOrftJYv7aO4S20VbiNJF3KHDhQcHg43H8cGofGPhnSLr47eEBJZQmO+hna6j2DbMYlZ1Ljo3IHXrgeldfF4U1BPi9N4rMlv/AGe+lCzCbj5m/eGzjGMYHrT9a8LX+o/Evwx4iheAWWlxXCTqzEOTJGVXaMYPJ5yRQByfxQsrew8ffDzUbOFILp9VS2eSNQpeMvGNp9eCw/4EaofE67uLr4v+GtMbRJdatLa0e8XT1cKs8hLjJ3cHbsU8+46HntfHXhHUfEuueE72ykt1i0jUku7gSuQSgZCQuAcn5T1xTvHPgm68Q3mma3omoDT9f0tybadwTG6n7yOBzg/yJGDmgDz7xnH4m8QyaVfaV8ObzTNW025SWK7SeIExgHMZ244PH0wfU1r/ABF0mz134v8AgSw1CAS2sqzvJE4yG2jeAR3GVGRWmvhz4jeIdSsR4l1zTtO0y1lEskWiNKkl0R/CzHBCnnv36ZwRsa94U1DU/iT4Y8QwSW4s9LSdZ1diHJdCBtGMHk9yKAOR+PGlWNh4S0/XLK1gt9QsL+HyZ4owrBcMQuRg4yAfwq38W0T/AIS34dnauW1yME46/PHXQfFTwjqPjXwd/ZOmSW6XH2lJc3DlVwoOeQDzz6UvxF8HX/iq00q40e5t7fVtKvUvLZ7kN5ZI52nGSOQp6HpjvQB2gUKAFAAHYUtUNFbVW0e2bW0tU1Ir+/W03eUGyfu7uemKv0AFFFFABRRRQAUUUUAFFFFAHnfxx/5JJq/+/B/6OSsvQ/h34juNA02aP4ja1AklrE6xIgwgKghR83QdK634keGr3xd4Fv8ARdOeBLq4aIo07FU+WRWOSAT0B7VyllpvxksLC3s4bzwt5VvEsSbhKTtUADPy+1AGh4z8E3l78I7zR59RuNW1K0VruC7mX968iMXAGO+0lB9a5zxf4nl8afDDwppVlIPt/iiaK3lwD8ojI85voHA/DNen+F08Rpo+PFEljJqPmNzZbvL2cY6gHPWuE8HfCu98O/EG41a5uoJdGtTO2kWyM263MrDPGMDC5Xqc5zxQBm/GNTZL4H8M2mnS3WmSXQDWMT7PPWLYqRZ9wxqr41h1rxR4ZGm2nwwu9Pu4CjWV1HNCptirA/LtxgEZGPfPUCvRvHvgxfGWkQRQ3j2OpWU63Njdp1ilHTPt9O4B7VzN34f+KmvxR6XqmvaPpthvBmvNKEq3Mig5wM4Az7Y/EcEAyfihbTat4d+HtrrUDJPd6jaxXsLNyGZQHGR7k816yNG01NMm02Oxt4rKaIwvDFGEUoRgjA7YOK5bxr4OvtePhZdPliEekalDcym5kbc0aYzg4O5uO/5129AHjPgrxE/gf4e+LtIvpAbvwtPKkIfgOshJhP8AwJyfwIrr/hL4fbw98PNPSfJvL0G+uWbO4vJgjOe4XaD7g1wHj3QrfxH8atN0jTbwPFqUET61BEcr5cLbgXI6EqoA7jj1r3YDAwOlAHl3x/ikk+GErIpKx3cLSEdlyRn8yPzqLRfhB4e17QLfVPErXGq6zqEK3E179qcbS6ghUCnbtUHAyD07Dgej61o9nr+i3mk38fmWt1EY5B3GehHoQcEHsQK820/wx8VPDNgdD0XW9Du9MjylpdXyyefBH2GACOOwO4fQcAAqeApdUis/HXgWe8k1BNIjaKxmfltjq4CE+2Bx2yR0FbvwLnim+E+mJGQWhlnSTB6N5rNz+DCtf4f+B18GabdG4vXv9W1CXz768f8A5aPzgDvgZPXkkk98DnX8CeK/Ceu6jf8AgG/0yPT9Qk82XS9QRvLjfHLIV6ck8cDGBzgUAReMXW5+PXga0h/18ME80hHXYVbGf++G/OvRtegkuvDup28S7pJbSVEHqShArlPBvgW80fXL/wAUeJdRi1LxBeKEMsabY7eMAfKg49BzgcD3OX/CzXNY8TeF7jXNWuTLHd3sxsk8tF8uBW2hflAychuTk8UAUfgXPFN8J9MSMgtDLOkmD0bzWbn8GFZ/jF1ufj14GtIf9fDBPNIR12FWxn/vhvzqV/Anivwnruo3/gG/0yPT9Qk82XS9QRvLjfHLIV6ck8cDGBzgVr+DPAl7pOu3/ibxJqMWp+Ib1RGZYo9sdvGAPkQceg5wOB7nIBhfDvFr8XviJaTYWeWaGdFzyU+c5/J1/Op/j7PFF8MZYXAMlxdwxxDvuyW4/BTWl4v8B6le+JbXxX4U1C303XoYzFKZ0Jiuk6APjPQcZwe3TaCKFp4E8TeJPEuna1481DTpYdOYyWumWCN5Qk4wzM3J5AOOeg7ZBAM7SI2079ouWK7IElz4fRYiT94rszj1/wBW/wCVdb8VbmG1+F3iF58bWtTGM/3mIVf1IqPx34Fl8TTadq2kXy6b4g0x99reFNwK/wBxh3XPsep4OTXP3Pgbxt40uLODxxqulLo9pMsr2WmI/wDpRXP32bBAOe3qeAcEAHX/AA7hkg+HHhxJc7/7PhPPYFQQPyIrjvjbZw6iPB9jcrugudbihkXOMq3BH5GvVURI41jjUKigBVUYAA7CuO8e+FNQ8T3XhqSxkt1XTNVivJ/OYjKKeQuAcn8qAOW+OmhaZb/DRLm2soLeXT7iL7M0MYQxgnaVGOg5zj1A9K0Pij4Y0ay+Duo2ltp9vFHYQxtblIwCjB1GQfUjOT3ya3Pib4Wv/GPgm40bTXgS5kljdWnYquFYE8gE/pV7x3oV14l8E6po1k0S3N1EEjaViFB3A8kAnt6UAee+KZ5brwL8K7idy8sup6W7uerMYsk/nWr4v/5Ll4B/65Xf/os1d1XwPql94U8DaZFLaifQrqymuizsFZYU2tsOOTnpnH4Vf17wpqGp/Enwx4hgktxZ6Wk6zq7EOS6EDaMYPJ7kUAefa7qF3dfHzUS/hmbxAuk2MaWtoJFCxblRjLhuDy5H5egxYu7fxJqfxH8OeIbHwJeaNJBP5WoTCePE8LEA7gpGdo3H349BXX+K/BGr3Hiq38W+E9RgstajhNvPHdhjBcx9g20Z9PyHTFRaT4c8dan4ms9X8Wa1aW9rZAmLTdHeRY5mPeUt1A44ORx25yAZni3RPEWkfE6HxrpmhR+IbT7D9me18xVltzn70eR/LJ+ZhxnNWPBGr+Eda8dX97aaVf6L4oa22XVleRmIvHlfmC9CeF54Pt1q94j8MeLoPFp8SeENWtQ80IiutO1N5DA2MYZQvQ8D0788mm+GfB3iBvG0njDxbd6c+oi1+yW9tpyMIokzkkluSeWHfr16AAHoBOATgn2FeR/BHT7PV9H1bxRfwxXOr3+oSiWSUb2iUAYj+bp94njsQO1eu15efA/i/wAJ63qV34F1HTDp2oymeXT9TD7YpT1ZCv8A9bgAHOBQBW0ixt/DX7Ql5p2kxGKx1PSPtVxbxcRxyB8btvQfdP8A38PrUXg7RdO1H42eO729tIbia0eBYTKgYJvU7iAe/wAo5+vrXS+CvA9/o+t6h4m8R6imo+Ib9BEzwgrDBFwfLQHGRkDkgdB7kzeGPCmoaN488Wa3cyW7WurvA1usbEuAgYHcCAB17E0AdkqhVCqAFAwAOgrw/wCLtlqF18WPB8NjevYPeRPapdqcGPcxVyv+1tfjpyRg17jXKePPBMPjXSIYVunstRs5RcWV7GPmhkH64PHQ9QD2oA5HX/gl4WtPDlzc6MLqw1a0haaG/wDtbli6jOWycDOOSAMZrmfF2tah4u/ZssdXvcyXSXKC5k243bZGj3enOVzjuTXTX3hr4s+IdKOh6treg2ljIojubuzWQzTJ3GMAc98bc9Old1beDdGt/BS+EjbmXShbmBkc/MwPJbP97d82R0PIoA2LOeK6sbe4hIMUsSuhByCpGR+leYfDp1u/i58RLuDi3WeGE46F13A/qrfnTdP8I/E/w7py+H9G8RaPLpSDZBd3ULfaLdPQDBU4zxnP4DFdl4F8GWngjw8unQSG4uJHMt1dMMNPIepPXA7Af1JNAEXxN/5Jn4i/68ZP5Vg+FvCeiSfBO1tG063KXulCedjGCzSNHu3565BPB7YGOldb4x0i41/wdq2k2jRrcXds0UZlJCgkdyAePwpuh6Lc6b4DsNEnaI3VvpyWrshJTeI9pwcZxn2oA4v4LaBpU3wos557C3mk1HzhdNLGGMirI8YUk9gqgAVj/Cu/udK+DfiuW3Z3bTLq9+zLnldsKsB/30Sfxr0H4c+HL3wn4D03RNQeF7q283e0LFkO6V3GCQD0Ydqzvhv4LvfC3hzVtM1g20327UJrjELFlMboi4OQOflNAGd8HPDulJ8N7K+e3t7u71ISS3dxIm9pSXI2ktnoAAR0yCe9ZHgm2j0Hxn8RvDlgHGlQxpcQxhsxws8ZJUDtndj6J7Vb0/wX8QPBaT6X4Q1bSLjRHlZ7ePVBJ5lru5IBUYIz+pzjk10PhDwHJ4a0fV2u786hrmrlnvbx8qrthgqgdlG4/me2AADnPgZ4b0j/AIVnDey6fbTXGoPL9oeWMOXVXZApz/DgdOnJpPhFbx6b4v8AiDotuAtha6ijQwj7qbzICAOmMKo/Cuv+G/hq98I+BbDRdReB7q3aUu0DFk+aRmGCQD0I7VU8G+EdR8P+MfGGrXclu1vrFzHLbCJyWUKZM7gQMH5x0J70Ac98MY0/4WZ8SfkX5b6DHHTmaquoaHZa5+0kiX8KTw2ukLciKRdyswbaMjvgtn6gVvWfhDxJ4f8AiXqWt6LPpkmi61LE9/Bcb/Oj2g5KY4JyWPJ/ixjjNaEXhTUE+L03isyW/wDZ76ULMJuPmb94bOMYxgetAHK/FHSLPS/GfgbXbCCK1vn1iK2leJAvmoxX7xHXABH0Y1Y8W6J4i0j4nQ+NdM0KPxDafYfsz2vmKstuc/ejyP5ZPzMOM5rovHvhTUPE914aksZLdV0zVYryfzmIyinkLgHJ/KqfiPwx4ug8WnxJ4Q1a1DzQiK607U3kMDYxhlC9DwPTvzyaAMzwfrXg3VvGeo6hDp994f8AEhtgl3bXq+Rujyvzbfu5yF54PtRVjSPh/q+q+KbjxL44n06a7e1FpDaacriKNAwbJZuSc59evXoAUAelUUUUAFFFFABRRRQAUUUUAFI6LIjI6hlYYKkZBHpS0UAcHcfBnwBc3rXT+H0VmbcUjnlRM+yqwAHsMCuzsNPtNLsYbGwtora1hXbHFEoVVHsKs0UAFFFFABRRRQAUUUUAFFFFABRRRQAVl3nh3Sr/AF2w1q5tfM1HTw4tpvMYeWGGG+UHByD3BrUooAKKKKACiiigAooooAKKKKACiiigAooooAKKKKACiiigAooooAKKKKACiiigAooooAKKKKACiiigAooooAKKKKACmSxJPC8Ug3I6lWGcZB4NPooA5/w34I8N+ETK2haVFaPKMPJuZ3I9NzEnHtnFdBRRQAUUUUAFFFFACMqujI6hlYYIPQiobOytdOtIrSyt4re2iG2OKJAqqPQAcCp6KACiiigAooooAKKKKACiiigAooooAKKKKACiiigAooooAKKKKACiiigAooooAKKKKACiiigAooooAKKKKACiiigAooooAKKKKACiiigAooooA//Z']"
            ]
          },
          "metadata": {},
          "execution_count": 57
        }
      ]
    },
    {
      "cell_type": "code",
      "source": [
        "import base64\n",
        "from IPython.display import Image, display\n",
        "\n",
        "def display_base64_image(base64_code):\n",
        "    # Decode the base64 string to binary\n",
        "    image_data = base64.b64decode(base64_code)\n",
        "    # Display the image\n",
        "    display(Image(data=image_data))\n",
        "\n",
        "display_base64_image(table_images[0])"
      ],
      "metadata": {
        "colab": {
          "base_uri": "https://localhost:8080/",
          "height": 368
        },
        "id": "BvtrrbpHoxRv",
        "outputId": "a3f809c5-b9c0-4d16-f754-551975663c1a"
      },
      "execution_count": 58,
      "outputs": [
        {
          "output_type": "display_data",
          "data": {
            "image/jpeg": "[encoded data removed]",
            "text/plain": [
              "<IPython.core.display.Image object>"
            ]
          },
          "metadata": {}
        }
      ]
    },
    {
      "cell_type": "code",
      "source": [
        "# Get the images from the CompositeElement objects\n",
        "def get_images_base64(chunks):\n",
        "    images_b64 = []\n",
        "    for chunk in chunks:\n",
        "        if \"CompositeElement\" in str(type(chunk)):\n",
        "            chunk_els = chunk.metadata.orig_elements\n",
        "            for el in chunk_els:\n",
        "                if \"Image\" in str(type(el)):\n",
        "                    images_b64.append(el.metadata.image_base64)\n",
        "    return images_b64\n",
        "\n",
        "images = get_images_base64(raw_pdf_elements)"
      ],
      "metadata": {
        "id": "Ns0nUSCenizp"
      },
      "execution_count": 36,
      "outputs": []
    },
    {
      "cell_type": "code",
      "source": [
        "images"
      ],
      "metadata": {
        "colab": {
          "base_uri": "https://localhost:8080/"
        },
        "id": "kuNuLcT2o4f2",
        "outputId": "43ed1d4b-e620-4258-ec16-606772d07af8"
      },
      "execution_count": 41,
      "outputs": [
        {
          "output_type": "execute_result",
          "data": {
            "text/plain": [
              "['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']"
            ]
          },
          "metadata": {},
          "execution_count": 41
        }
      ]
    },
    {
      "cell_type": "code",
      "source": [
        "import base64\n",
        "from IPython.display import Image, display\n",
        "\n",
        "def display_base64_image(base64_code):\n",
        "    # Decode the base64 string to binary\n",
        "    image_data = base64.b64decode(base64_code)\n",
        "    # Display the image\n",
        "    display(Image(data=image_data))\n",
        "\n",
        "display_base64_image(images[0])"
      ],
      "metadata": {
        "colab": {
          "base_uri": "https://localhost:8080/",
          "height": 430
        },
        "id": "QG6jzqM1nvsj",
        "outputId": "35e5c173-59a1-45db-d6f9-b2c9eb3bde19"
      },
      "execution_count": 37,
      "outputs": [
        {
          "output_type": "display_data",
          "data": {
            "image/jpeg": "[encoded data removed]",
            "text/plain": [
              "<IPython.core.display.Image object>"
            ]
          },
          "metadata": {}
        }
      ]
    },
    {
      "cell_type": "code",
      "source": [],
      "metadata": {
        "id": "K6od9wCYqYbg"
      },
      "execution_count": null,
      "outputs": []
    },
    {
      "cell_type": "code",
      "source": [],
      "metadata": {
        "id": "ZTHR2jrQqYY3"
      },
      "execution_count": null,
      "outputs": []
    },
    {
      "cell_type": "code",
      "source": [
        "!pip install -qU langchain-groq"
      ],
      "metadata": {
        "id": "jdKlJZC-9MW7",
        "colab": {
          "base_uri": "https://localhost:8080/"
        },
        "outputId": "8f0d9768-5c62-422e-ddea-27dc28ba4108"
      },
      "execution_count": 44,
      "outputs": [
        {
          "output_type": "stream",
          "name": "stdout",
          "text": [
            "\u001b[?25l   \u001b[90m━━━━━━━━━━━━━━━━━━━━━━━━━━━━━━━━━━━━━━━━\u001b[0m \u001b[32m0.0/121.9 kB\u001b[0m \u001b[31m?\u001b[0m eta \u001b[36m-:--:--\u001b[0m\r\u001b[2K   \u001b[90m━━━━━━━━━━━━━━━━━━━━━━━━━━━━━━━━━━━━━━━━\u001b[0m \u001b[32m121.9/121.9 kB\u001b[0m \u001b[31m12.4 MB/s\u001b[0m eta \u001b[36m0:00:00\u001b[0m\n",
            "\u001b[?25h"
          ]
        }
      ]
    },
    {
      "cell_type": "code",
      "source": [
        "from google.colab import userdata\n",
        "groq_api = userdata.get('GROQ_API_KEY').strip()"
      ],
      "metadata": {
        "id": "tjRPKr9W9ShN"
      },
      "execution_count": 45,
      "outputs": []
    },
    {
      "cell_type": "code",
      "source": [
        "from langchain_groq import ChatGroq\n",
        "\n",
        "groq_model = ChatGroq(model=\"llama-3.2-90b-vision-preview\", api_key=groq_api)"
      ],
      "metadata": {
        "id": "CqjlWYBe8URO"
      },
      "execution_count": 49,
      "outputs": []
    },
    {
      "cell_type": "code",
      "source": [],
      "metadata": {
        "id": "7FPrYQArpSiK"
      },
      "execution_count": 49,
      "outputs": []
    },
    {
      "cell_type": "code",
      "source": [],
      "metadata": {
        "id": "blUJMLzip6Y-"
      },
      "execution_count": null,
      "outputs": []
    },
    {
      "cell_type": "code",
      "source": [
        "from google.colab import userdata\n",
        "gemini_api_key = userdata.get('GEMINI_API_KEY').strip()"
      ],
      "metadata": {
        "id": "ZEwnkZ-tpSYM"
      },
      "execution_count": 46,
      "outputs": []
    },
    {
      "cell_type": "code",
      "source": [
        "!pip install -qU langchain-google-genai"
      ],
      "metadata": {
        "id": "PgZoVcUJ-SEV",
        "colab": {
          "base_uri": "https://localhost:8080/"
        },
        "outputId": "bac9b01f-4451-4007-ae76-a89edc8be424"
      },
      "execution_count": 47,
      "outputs": [
        {
          "output_type": "stream",
          "name": "stdout",
          "text": [
            "\u001b[?25l   \u001b[90m━━━━━━━━━━━━━━━━━━━━━━━━━━━━━━━━━━━━━━━━\u001b[0m \u001b[32m0.0/41.7 kB\u001b[0m \u001b[31m?\u001b[0m eta \u001b[36m-:--:--\u001b[0m\r\u001b[2K   \u001b[90m━━━━━━━━━━━━━━━━━━━━━━━━━━━━━━━━━━━━━━━━\u001b[0m \u001b[32m41.7/41.7 kB\u001b[0m \u001b[31m3.6 MB/s\u001b[0m eta \u001b[36m0:00:00\u001b[0m\n",
            "\u001b[?25h"
          ]
        }
      ]
    },
    {
      "cell_type": "code",
      "source": [
        "from langchain_google_genai import ChatGoogleGenerativeAI\n",
        "\n",
        "gemini_model = ChatGoogleGenerativeAI(model = \"gemini-2.0-flash-exp\", api_key = gemini_api_key)"
      ],
      "metadata": {
        "id": "ShQAZKX0pdq5"
      },
      "execution_count": 53,
      "outputs": []
    },
    {
      "cell_type": "code",
      "source": [
        "from langchain_google_genai import GoogleGenerativeAIEmbeddings\n",
        "\n",
        "embeddings = GoogleGenerativeAIEmbeddings(model=\"models/embedding-001\", google_api_key = gemini_api_key)"
      ],
      "metadata": {
        "id": "p7f9vzyupuuj"
      },
      "execution_count": 54,
      "outputs": []
    },
    {
      "cell_type": "code",
      "source": [],
      "metadata": {
        "id": "PWSFbISNp79B"
      },
      "execution_count": null,
      "outputs": []
    },
    {
      "cell_type": "code",
      "source": [],
      "metadata": {
        "id": "CEvux1Gbp8zy"
      },
      "execution_count": null,
      "outputs": []
    },
    {
      "cell_type": "code",
      "source": [
        "!pip install -qU langchain-pinecone"
      ],
      "metadata": {
        "colab": {
          "base_uri": "https://localhost:8080/"
        },
        "id": "dkL3QCMup8xL",
        "outputId": "a4aaad93-1826-4e63-c6e4-770a9f01e098"
      },
      "execution_count": 51,
      "outputs": [
        {
          "output_type": "stream",
          "name": "stdout",
          "text": [
            "\u001b[?25l   \u001b[90m━━━━━━━━━━━━━━━━━━━━━━━━━━━━━━━━━━━━━━━━\u001b[0m \u001b[32m0.0/1.3 MB\u001b[0m \u001b[31m?\u001b[0m eta \u001b[36m-:--:--\u001b[0m\r\u001b[2K   \u001b[90m━━━━━━━━━━━━━━━━━━━━━━━━━━━━━━━━━━━━━━━━\u001b[0m \u001b[32m1.3/1.3 MB\u001b[0m \u001b[31m65.8 MB/s\u001b[0m eta \u001b[36m0:00:00\u001b[0m\n",
            "\u001b[?25h\u001b[?25l   \u001b[90m━━━━━━━━━━━━━━━━━━━━━━━━━━━━━━━━━━━━━━━━\u001b[0m \u001b[32m0.0/413.0 kB\u001b[0m \u001b[31m?\u001b[0m eta \u001b[36m-:--:--\u001b[0m\r\u001b[2K   \u001b[90m━━━━━━━━━━━━━━━━━━━━━━━━━━━━━━━━━━━━━━━━\u001b[0m \u001b[32m413.0/413.0 kB\u001b[0m \u001b[31m35.7 MB/s\u001b[0m eta \u001b[36m0:00:00\u001b[0m\n",
            "\u001b[?25h\u001b[?25l   \u001b[90m━━━━━━━━━━━━━━━━━━━━━━━━━━━━━━━━━━━━━━━━\u001b[0m \u001b[32m0.0/427.3 kB\u001b[0m \u001b[31m?\u001b[0m eta \u001b[36m-:--:--\u001b[0m\r\u001b[2K   \u001b[90m━━━━━━━━━━━━━━━━━━━━━━━━━━━━━━━━━━━━━━━━\u001b[0m \u001b[32m427.3/427.3 kB\u001b[0m \u001b[31m38.0 MB/s\u001b[0m eta \u001b[36m0:00:00\u001b[0m\n",
            "\u001b[2K   \u001b[90m━━━━━━━━━━━━━━━━━━━━━━━━━━━━━━━━━━━━━━━━\u001b[0m \u001b[32m87.5/87.5 kB\u001b[0m \u001b[31m8.3 MB/s\u001b[0m eta \u001b[36m0:00:00\u001b[0m\n",
            "\u001b[2K   \u001b[90m━━━━━━━━━━━━━━━━━━━━━━━━━━━━━━━━━━━━━━━━\u001b[0m \u001b[32m50.3/50.3 kB\u001b[0m \u001b[31m4.5 MB/s\u001b[0m eta \u001b[36m0:00:00\u001b[0m\n",
            "\u001b[?25h"
          ]
        }
      ]
    },
    {
      "cell_type": "code",
      "source": [
        "from langchain_pinecone import PineconeVectorStore\n",
        "from pinecone import Pinecone\n",
        "\n",
        "index_name = \"langchain\"\n",
        "namespace = \"Multivector\"\n",
        "\n",
        "pc = Pinecone(api_key= userdata.get('PINECONE_API'))\n",
        "index = pc.Index(index_name)\n",
        "\n",
        "vector_store = PineconeVectorStore(embedding=embeddings, index=index, namespace=namespace)"
      ],
      "metadata": {
        "id": "BX8yPMIrp_mx"
      },
      "execution_count": 52,
      "outputs": []
    },
    {
      "cell_type": "code",
      "source": [],
      "metadata": {
        "id": "UOBAJHFirAaR"
      },
      "execution_count": null,
      "outputs": []
    },
    {
      "cell_type": "code",
      "source": [],
      "metadata": {
        "id": "8Xy0Ku5vrAS_"
      },
      "execution_count": null,
      "outputs": []
    },
    {
      "cell_type": "code",
      "source": [
        "from langchain_core.prompts import ChatPromptTemplate\n",
        "from langchain_core.output_parsers import StrOutputParser"
      ],
      "metadata": {
        "id": "VekHGW9tqLgx"
      },
      "execution_count": 61,
      "outputs": []
    },
    {
      "cell_type": "code",
      "source": [
        "# Prompt\n",
        "prompt_text = \"\"\"\n",
        "You are an assistant tasked with summarizing tables.\n",
        "Give a concise summary of the table.\n",
        "\n",
        "Respond only with the summary, no additionnal comment.\n",
        "Do not start your message by saying \"Here is a summary\" or anything like that.\n",
        "Just give the summary as it is.\n",
        "\n",
        "Table chunk: {element}\n",
        "\n",
        "\"\"\"\n",
        "prompt = ChatPromptTemplate.from_template(prompt_text)\n",
        "\n",
        "# Summary chain\n",
        "summarize_chain = {\"element\": lambda x: x} | prompt | gemini_model | StrOutputParser()"
      ],
      "metadata": {
        "id": "-OXG8-l-q7jN"
      },
      "execution_count": 62,
      "outputs": []
    },
    {
      "cell_type": "code",
      "source": [
        "table_summaries = summarize_chain.batch(tables, {\"max_concurrency\": 2})"
      ],
      "metadata": {
        "id": "FrUYTxdtsERa"
      },
      "execution_count": 65,
      "outputs": []
    },
    {
      "cell_type": "code",
      "source": [
        "table_summaries"
      ],
      "metadata": {
        "colab": {
          "base_uri": "https://localhost:8080/"
        },
        "id": "j7pxzJDfsluZ",
        "outputId": "2992f8db-7410-47d3-9c16-de8da89de2b3"
      },
      "execution_count": 66,
      "outputs": [
        {
          "output_type": "execute_result",
          "data": {
            "text/plain": [
              "['The table describes the functions of car audio system controls: the power button turns the system on/off, the volume knob adjusts volume, the tuning knob tunes the radio, the source button selects the audio source, and the track skip buttons change tracks.',\n",
              " 'The table outlines a vehicle maintenance schedule, including oil changes and tire rotations every 5,000 miles/6 months, air filter and brake inspections every 10,000 miles/12 months, cabin air filter replacement every 15,000 miles/12 months, battery inspection every 20,000 miles/24 months, spark plug and fuel filter replacement every 30,000 miles/36 months, and timing belt replacement every 60,000 miles/60 months.']"
            ]
          },
          "metadata": {},
          "execution_count": 66
        }
      ]
    },
    {
      "cell_type": "code",
      "source": [
        "# Prompt\n",
        "prompt_text = \"\"\"\n",
        "You are an assistant tasked with summarizing text.\n",
        "Give a concise summary of the text.\n",
        "\n",
        "Respond only with the summary, no additionnal comment.\n",
        "Do not start your message by saying \"Here is a summary\" or anything like that.\n",
        "Just give the summary as it is.\n",
        "\n",
        "Text chunk: {element}\n",
        "\n",
        "\"\"\"\n",
        "prompt = ChatPromptTemplate.from_template(prompt_text)\n",
        "\n",
        "\n",
        "text_summarize_chain = {\"element\": lambda x: x} | prompt | gemini_model | StrOutputParser()"
      ],
      "metadata": {
        "id": "nzlbEOgrrm0y"
      },
      "execution_count": 74,
      "outputs": []
    },
    {
      "cell_type": "code",
      "source": [
        "# Summarize text\n",
        "import time\n",
        "text_summaries = []\n",
        "\n",
        "for text in texts:\n",
        "    s = text_summarize_chain.invoke(text)\n",
        "    text_summaries.append(s)\n",
        "    time.sleep(10)\n"
      ],
      "metadata": {
        "id": "KwVt5TbzsG2B"
      },
      "execution_count": 75,
      "outputs": []
    },
    {
      "cell_type": "code",
      "source": [
        "len(text_summaries)"
      ],
      "metadata": {
        "colab": {
          "base_uri": "https://localhost:8080/"
        },
        "id": "ZI33GYiTt1_4",
        "outputId": "9e7be564-25ab-420b-fd99-0c81051d3e4b"
      },
      "execution_count": 77,
      "outputs": [
        {
          "output_type": "execute_result",
          "data": {
            "text/plain": [
              "22"
            ]
          },
          "metadata": {},
          "execution_count": 77
        }
      ]
    },
    {
      "cell_type": "code",
      "source": [
        "prompt_template = \"\"\"Describe the image in detail. For context,\n",
        "                  the image is part of a Cymbal Starlight 2024: Owner's Manual\"\"\"\n",
        "messages = [\n",
        "    (\n",
        "        \"user\",\n",
        "        [\n",
        "            {\"type\": \"text\", \"text\": prompt_template},\n",
        "            {\n",
        "                \"type\": \"image_url\",\n",
        "                \"image_url\": {\"url\": \"data:image/jpeg;base64,{image}\"},\n",
        "            },\n",
        "        ],\n",
        "    )\n",
        "]\n",
        "\n",
        "prompt = ChatPromptTemplate.from_messages(messages)\n",
        "\n",
        "chain = prompt | gemini_model | StrOutputParser()\n",
        "\n",
        "\n",
        "image_summaries = chain.batch(table_images)"
      ],
      "metadata": {
        "id": "z7i1uRmivcLA"
      },
      "execution_count": 82,
      "outputs": []
    },
    {
      "cell_type": "code",
      "source": [
        "image_summaries"
      ],
      "metadata": {
        "colab": {
          "base_uri": "https://localhost:8080/"
        },
        "id": "4K9If-aewT5v",
        "outputId": "929434b9-014a-4f00-eb14-645d5956fd2c"
      },
      "execution_count": 83,
      "outputs": [
        {
          "output_type": "execute_result",
          "data": {
            "text/plain": [
              "['The image is a table from the Cymbal Starlight 2024 Owner\\'s Manual that lists common audio system controls and their respective functions. The table is divided into two columns, \"Control\" and \"Function,\" and each row describes a different control. The controls listed are the Power button, Volume knob, Tuning knob, Source button, and Track skip buttons. The corresponding functions are: \"Turns the audio system on and off,\" \"Adjusts the volume,\" \"Tunes the radio,\" \"Selects the audio source (e.g., AM/FM radio, CD player, MP3 player, Bluetooth),\" and \"Skips to the next or previous track.\" Each row is separated by a horizontal line.',\n",
              " 'The image is a table outlining the maintenance schedule for a Cymbal Starlight 2024, as found in the owner\\'s manual. The table is presented in a simple, clear format with two columns. The left column lists the type of maintenance required, such as \"Oil change,\" \"Tire rotation,\" \"Air filter replacement,\" \"Cabin air filter replacement,\" \"Brake inspection,\" \"Battery inspection,\" \"Spark plug replacement,\" \"Fuel filter replacement,\" and \"Timing belt replacement.\" The right column specifies the intervals at which the maintenance should be performed. These intervals are given in terms of mileage or time, whichever comes first. For example, \"Oil change\" and \"Tire rotation\" are recommended every 5,000 miles or 6 months, while \"Air filter replacement\" and \"Brake inspection\" are recommended every 10,000 miles or 12 months. The intervals increase with the complexity of the maintenance, with \"Timing belt replacement\" being the longest interval at every 60,000 miles or 60 months. The table is designed to provide owners with a straightforward guide to maintaining their vehicle.']"
            ]
          },
          "metadata": {},
          "execution_count": 83
        }
      ]
    },
    {
      "cell_type": "code",
      "source": [],
      "metadata": {
        "id": "eeCNQI4PwWg3"
      },
      "execution_count": null,
      "outputs": []
    },
    {
      "cell_type": "code",
      "source": [],
      "metadata": {
        "id": "VT_1OzUhwwJz"
      },
      "execution_count": null,
      "outputs": []
    },
    {
      "cell_type": "code",
      "source": [
        "import uuid\n",
        "from langchain.storage import InMemoryStore\n",
        "from langchain.schema.document import Document\n",
        "from langchain.retrievers.multi_vector import MultiVectorRetriever\n",
        "\n",
        "\n",
        "# The storage layer for the parent documents\n",
        "store = InMemoryStore()\n",
        "id_key = \"doc_id\"\n",
        "\n",
        "# The retriever (empty to start)\n",
        "retriever = MultiVectorRetriever(\n",
        "    vectorstore=vector_store,\n",
        "    docstore=store,\n",
        "    id_key=id_key,\n",
        ")"
      ],
      "metadata": {
        "id": "DI23Hsm9wwVg"
      },
      "execution_count": 107,
      "outputs": []
    },
    {
      "cell_type": "code",
      "source": [
        "# Add texts\n",
        "doc_ids = [str(uuid.uuid4()) for _ in texts]\n",
        "summary_texts = [\n",
        "    Document(page_content=summary, metadata={id_key: doc_ids[i]}) for i, summary in enumerate(text_summaries)\n",
        "]\n",
        "retriever.vectorstore.add_documents(summary_texts)\n",
        "retriever.docstore.mset(list(zip(doc_ids, texts)))"
      ],
      "metadata": {
        "id": "DBoiKc-ew3Av"
      },
      "execution_count": 108,
      "outputs": []
    },
    {
      "cell_type": "code",
      "source": [
        "# Add tables\n",
        "table_ids = [str(uuid.uuid4()) for _ in tables]\n",
        "summary_tables = [\n",
        "    Document(page_content=summary, metadata={id_key: table_ids[i]}) for i, summary in enumerate(table_summaries)\n",
        "]\n",
        "retriever.vectorstore.add_documents(summary_tables)\n",
        "retriever.docstore.mset(list(zip(table_ids, tables)))"
      ],
      "metadata": {
        "id": "VNAF2yCBxngY"
      },
      "execution_count": 109,
      "outputs": []
    },
    {
      "cell_type": "code",
      "source": [
        "# Add image summaries\n",
        "img_ids = [str(uuid.uuid4()) for _ in table_images]\n",
        "summary_img = [\n",
        "    Document(page_content=summary, metadata={id_key: img_ids[i]}) for i, summary in enumerate(image_summaries)\n",
        "]\n",
        "retriever.vectorstore.add_documents(summary_img)\n",
        "retriever.docstore.mset(list(zip(img_ids, table_images)))"
      ],
      "metadata": {
        "id": "cZOKFKvqxpGK"
      },
      "execution_count": 110,
      "outputs": []
    },
    {
      "cell_type": "code",
      "source": [],
      "metadata": {
        "id": "Wb5uM8hdxa53"
      },
      "execution_count": null,
      "outputs": []
    },
    {
      "cell_type": "code",
      "source": [],
      "metadata": {
        "id": "xvId5TnVyF7R"
      },
      "execution_count": null,
      "outputs": []
    },
    {
      "cell_type": "code",
      "source": [
        "# Retrieve\n",
        "docs = retriever.invoke(\n",
        "    \"Tell me about Vehicle Stability Control (VSC)\"\n",
        ")"
      ],
      "metadata": {
        "id": "9psrFSEwyF4r"
      },
      "execution_count": 111,
      "outputs": []
    },
    {
      "cell_type": "code",
      "source": [
        "for doc in docs:\n",
        "    print(str(doc))"
      ],
      "metadata": {
        "colab": {
          "base_uri": "https://localhost:8080/"
        },
        "id": "GaoU1UVByRB3",
        "outputId": "c84c3f8c-3e28-4da6-f7e1-ac7fe2f2a1aa"
      },
      "execution_count": 112,
      "outputs": [
        {
          "output_type": "stream",
          "name": "stdout",
          "text": [
            "manual.md\n",
            "\n",
            "manual.md\n",
            "\n",
            "bal\n",
            "\n",
            "Cymbal Starlight 2024: Owner's Manual\n",
            "\n",
            "Chapter 1: Safety\n",
            "\n",
            "Introduction\n",
            "\n",
            "Your safety and the safety of others is paramount. This chapter provides important information to help you\n",
            "\n",
            "operate your Cymbal Starlight 2024 safely and responsibly. Please read and understand this information thoroughly before operating your vehicle.\n",
            "\n",
            "Seat Belts\n",
            "\n",
            "All occupants must wear seat belts at all times.\n",
            "\n",
            "e All occupants must wear seat belts at all times.\n",
            "\n",
            "Adjust the seat belt to fit snugly around your hips and across your chest.\n",
            "\n",
            "Never wear a seat belt under your arm or behind your back.\n",
            "\n",
            "Replace any seat belt that has been damaged or frayed.\n",
            "\n",
            "Airbags\n",
            "\n",
            "Airbags are supplemental restraints and work in conjunction with seat belts to provide additional\n",
            "\n",
            "protection in the event of a collision.\n",
            "\n",
            "Do not place objects on or near the airbag deployment areas (e.g., dashboard, steering wheel, seat\n",
            "\n",
            "backs).\n",
            "\n",
            "Children under the age of 12 should never ride in the front seat.\n",
            "\n",
            "If the airbag warning light illuminates, have the vehicle inspected by a qualified technician\n",
            "\n",
            "immediately.\n",
            "\n",
            "Child Safety\n",
            "\n",
            "Use age- and size-appropriate child restraints for all children.\n",
            "\n",
            "Install child restraints according to the manufacturer's instructions.\n",
            "\n",
            "Never leave a child unattended in the vehicle.\n",
            "\n",
            "Lock all doors and windows when leaving the vehicle parked.\n",
            "\n",
            "Vehicle Stability Control (VSC)\n",
            "\n",
            "VSC is an electronic system that helps control the vehicle's stability during cornering and other\n",
            "\n",
            "maneuvers.\n",
            "\n",
            "1 / 22\n",
            "\n",
            "2024-03-23\n",
            "\n",
            "manual.md\n",
            "\n",
            "manual.md\n",
            "\n",
            "VSC can be turned off by pressing the VSC OFF button on the dashboard. However, it is recommended to leave VSC on for optimal safety.\n",
            "\n",
            "Anti-Lock Braking System (ABS)\n",
            "\n",
            "ABS prevents the wheels from locking during braking, allowing you to maintain control of the vehicle.\n",
            "\n",
            "ABS can be felt as a pulsation in the brake pedal during braking. Do not release the brake pedal; continue applying steady pressure until the vehicle comes to a stop.\n",
            "\n",
            "Tire Safety\n",
            "\n",
            "Maintain proper tire pressure at all times (see the Tire Pressure Information label on the driver's door\n",
            "\n",
            "jamb).\n",
            "\n",
            "Check tire tread depth regularly and replace tires when they reach the minimum tread depth of 2/32\n",
            "\n",
            "inches.\n",
            "\n",
            "Avoid sudden starts, stops, and turns that can cause excessive tire wear.\n",
            "Other Emergency Tips\n",
            "\n",
            "If you are involved in an accident, remain calm and call 911 immediately.\n",
            "\n",
            "e\n",
            "\n",
            "If you are able to move your vehicle, pull over to the side of the road and turn on your hazard lights.\n",
            "\n",
            "Stay in your vehicle and wait for emergency services to arrive.\n",
            "\n",
            "If you are stranded in a remote area, stay with your vehicle and try to attract attention by waving your\n",
            "\n",
            "arms or using a flashlight.\n",
            "\n",
            "10 / 22\n",
            "\n",
            "2024-03-23\n",
            "\n",
            "manual.md\n",
            "\n",
            "manual.md\n",
            "\n",
            "By following these emergency assistance tips, you can help ensure that you and your passengers are safe in the event of an emergency.\n",
            "\n",
            "Chapter 9: Instrument Cluster\n",
            "\n",
            "Introduction\n",
            "\n",
            "The instrument cluster is located directly in front of the driver and provides important information about the vehicle's operation. The instrument cluster in your Cymbal Starlight 2024 includes the following gauges and indicators:\n",
            "\n",
            "Speedometer: The speedometer indicates the vehicle's speed in miles per hour (mph).\n",
            "\n",
            "e\n",
            "\n",
            "Tachometer: The tachometer indicates the engine's speed in revolutions per minute (rpm).\n",
            "\n",
            "Fuel gauge: The fuel gauge indicates the amount of fuel remaining in the fuel tank.\n",
            "\n",
            "Odometer: The odometer indicates the total number of miles the vehicle has traveled.\n",
            "\n",
            "Trip computer: The trip computer provides information about the vehicle's current trip, such as the\n",
            "\n",
            "trip distance, average fuel economy, and estimated time of arrival.\n",
            "\n",
            "In addition to the gauges and indicators listed above, the instrument cluster also includes a number of\n",
            "\n",
            "warning lights and indicators. These lights and indicators are designed to alert the driver to potential problems with the vehicle.\n",
            "\n",
            "Warning Lights and Indicators\n",
            "\n",
            "The following is a list of the warning lights and indicators that may appear in the instrument cluster of your Cymbal Starlight 2024:\n",
            "\n",
            "Check engine light: The check engine light indicates a problem with the vehicle's engine or emissions system.\n",
            "\n",
            "ABS warning light: The ABS warning light indicates a problem with the vehicle's anti-lock braking\n",
            "\n",
            "system.\n",
            "\n",
            "Traction control warning light: The traction control warning light indicates a problem with the\n",
            "\n",
            "vehicle's traction control system.\n",
            "e\n",
            "\n",
            "When driving in hilly terrain, use the \"L\" (Low) gear position to help control the vehicle's speed.\n",
            "\n",
            "When towing a trailer, use the \"S\" (Sport) gear position to provide additional power.\n",
            "\n",
            "By following these tips, you can safely and efficiently operate your Cymbal Starlight 2024 with automatic\n",
            "\n",
            "transmission.\n",
            "\n",
            "Chapter 8: Cruise Control and Automatic Support System\n",
            "\n",
            "8 / 22\n",
            "\n",
            "2024-03-23\n",
            "\n",
            "manual.md\n",
            "\n",
            "manual.md\n",
            "\n",
            "Cruise Control\n",
            "\n",
            "Cruise control is a feature that allows you to set and maintain a desired speed without having to keep your\n",
            "\n",
            "foot on the accelerator pedal. This can be useful on long highway drives, as it can help to reduce fatigue and improve fuel economy.\n",
            "\n",
            "To activate cruise control, follow these steps:\n",
            "\n",
            ". Accelerate to the desired speed.\n",
            "\n",
            ". Press the \"Cruise\" button on the steering wheel.\n",
            "\n",
            ". Set the desired speed using the up and down arrows on the steering wheel.\n",
            "\n",
            "Once cruise control is activated, the vehicle will maintain the set speed until you press the brake pedal, the\n",
            "\n",
            "\"Cancel\" button on the steering wheel, or the \"Set/Accel\" button on the steering wheel.\n",
            "\n",
            "Automatic Support System\n",
            "\n",
            "The automatic support system in your Cymbal Starlight 2024 is a suite of features that can help you to stay\n",
            "\n",
            "in your lane, maintain a safe following distance from the vehicle in front of you, and avoid collisions.\n",
            "\n",
            "The following features are included in the automatic support system:\n",
            "\n",
            "Lane departure warning: This feature warns you if you are drifting out of your lane.\n",
            "\n",
            "Lane keeping assist: This feature helps to keep you in your lane by gently steering the vehicle back into the lane if you start to drift.\n",
            "\n",
            "Adaptive cruise control: This feature automatically adjusts your speed to maintain a safe following\n",
            "\n",
            "distance from the vehicle in front of you.\n",
            "\n",
            "Forward collision warning: This feature warns you if you are approaching another vehicle too\n",
            "\n",
            "quickly.\n",
            "\n",
            "e\n",
            "\n",
            "Automatic emergency braking: This feature can automatically apply the brakes to avoid a collision.\n",
            "\n",
            "Using the Automatic Support System\n",
            "\n",
            "To use the automatic support system, simply activate the cruise control system. The automatic support\n",
            "\n",
            "system will then automatically activate and begin to monitor your driving.\n",
            "\n",
            "If the automatic support system detects that you are drifting out of your lane, it will warn you with a chime\n",
            "\n",
            "and a visual alert. If you do not take corrective action, the lane keeping assist system will gently steer the vehicle back into the lane.\n",
            "\n",
            "If the automatic support system detects that you are approaching another vehicle too quickly, it will warn\n",
            "\n",
            "you with a chime and a visual alert. If you do not take corrective action, the automatic emergency braking system can automatically apply the brakes to avoid a collision.\n",
            "Chapter 7: Driving Procedures with Automatic Transmission\n",
            "\n",
            "Starting the Engine\n",
            "\n",
            ". Sit in the driver's seat and adjust the seat and steering wheel to a comfortable position.\n",
            "\n",
            ". Make sure that the parking brake is engaged.\n",
            "\n",
            ". Shift the gear selector to the \"P\" (Park) position.\n",
            "\n",
            "7 / 22\n",
            "\n",
            "2024-03-23\n",
            "\n",
            "manual.md\n",
            "\n",
            "manual.md\n",
            "\n",
            ". Insert the key into the ignition and turn it to the \"ON\" position.\n",
            "\n",
            ". Depress the brake pedal.\n",
            "\n",
            ". Turn the key to the \"START\" position and hold it there until the engine starts.\n",
            "\n",
            ". Release the key once the engine starts.\n",
            "\n",
            "Shifting Gears\n",
            "\n",
            "Your Cymbal Starlight 2024 is equipped with a six-speed automatic transmission. The transmission shifts\n",
            "\n",
            "gears automatically, but you can also shift gears manually if you wish.\n",
            "\n",
            "To shift gears manually, move the gear selector to the desired gear position. The gear positions are as\n",
            "\n",
            "follows:\n",
            "\n",
            "e\n",
            "\n",
            "P (Park): This position is used to park the vehicle.\n",
            "\n",
            "e\n",
            "\n",
            "R (Reverse): This position is used to move the vehicle in reverse.\n",
            "\n",
            "N (Neutral): This position is used to put the transmission in neutral.\n",
            "\n",
            "e\n",
            "\n",
            "D (Drive): This position is used for normal driving.\n",
            "\n",
            "e\n",
            "\n",
            "S (Sport): This position is used for sportier driving.\n",
            "\n",
            "L (Low): This position is used for driving in low-speed conditions, such as when towing a trailer or\n",
            "\n",
            "driving up a steep hill.\n",
            "\n",
            "Driving\n",
            "\n",
            "Once you have started the engine and shifted into gear, you are ready to drive.\n",
            "\n",
            "To drive, simply depress the accelerator pedal and the vehicle will begin to move. The transmission will\n",
            "\n",
            "automatically shift gears as needed.\n",
            "\n",
            "To brake, simply depress the brake pedal. The harder you depress the brake pedal, the more quickly the\n",
            "\n",
            "vehicle will slow down or stop.\n",
            "\n",
            "Parking\n",
            "\n",
            "To park the vehicle, follow these steps:\n",
            "\n",
            ". Bring the vehicle to a complete stop.\n",
            "\n",
            ". Shift the gear selector to the \"P\" (Park) position.\n",
            "\n",
            ". Engage the parking brake.\n",
            "\n",
            ". Turn off the engine.\n",
            "\n",
            "Tips for Driving with Automatic Transmission\n",
            "\n",
            "Avoid shifting into gear before the vehicle has come to a complete stop.\n",
            "\n",
            "Do not shift into \"P\" (Park) while the vehicle is moving.\n"
          ]
        }
      ]
    },
    {
      "cell_type": "code",
      "source": [
        "from langchain_core.runnables import RunnablePassthrough, RunnableLambda\n",
        "from langchain_core.messages import SystemMessage, HumanMessage\n",
        "from base64 import b64decode\n",
        "\n",
        "\n",
        "def parse_docs(docs):\n",
        "    \"\"\"Split base64-encoded images and texts\"\"\"\n",
        "    b64 = []\n",
        "    text = []\n",
        "    for doc in docs:\n",
        "        try:\n",
        "            b64decode(doc)\n",
        "            b64.append(doc)\n",
        "        except Exception as e:\n",
        "            text.append(doc)\n",
        "    return {\"images\": b64, \"texts\": text}\n",
        "\n",
        "\n",
        "def build_prompt(kwargs):\n",
        "\n",
        "    docs_by_type = kwargs[\"context\"]\n",
        "    user_question = kwargs[\"question\"]\n",
        "\n",
        "    context_text = \"\"\n",
        "    if len(docs_by_type[\"texts\"]) > 0:\n",
        "        for text_element in docs_by_type[\"texts\"]:\n",
        "            context_text += text_element.text\n",
        "\n",
        "    # construct prompt with context (including images)\n",
        "    prompt_template = f\"\"\"\n",
        "    Answer the question based only on the following context, which can include text, tables, and the below image.\n",
        "    Context: {context_text}\n",
        "    Question: {user_question}\n",
        "    \"\"\"\n",
        "\n",
        "    prompt_content = [{\"type\": \"text\", \"text\": prompt_template}]\n",
        "\n",
        "    if len(docs_by_type[\"images\"]) > 0:\n",
        "        for image in docs_by_type[\"images\"]:\n",
        "            prompt_content.append(\n",
        "                {\n",
        "                    \"type\": \"image_url\",\n",
        "                    \"image_url\": {\"url\": f\"data:image/jpeg;base64,{image}\"},\n",
        "                }\n",
        "            )\n",
        "\n",
        "    return ChatPromptTemplate.from_messages(\n",
        "        [\n",
        "            HumanMessage(content=prompt_content),\n",
        "        ]\n",
        "    )\n",
        "\n",
        "\n",
        "chain = (\n",
        "    {\n",
        "        \"context\": retriever | RunnableLambda(parse_docs),\n",
        "        \"question\": RunnablePassthrough(),\n",
        "    }\n",
        "    | RunnableLambda(build_prompt)\n",
        "    | gemini_model\n",
        "    | StrOutputParser()\n",
        ")\n",
        "\n",
        "chain_with_sources = {\n",
        "    \"context\": retriever | RunnableLambda(parse_docs),\n",
        "    \"question\": RunnablePassthrough(),\n",
        "} | RunnablePassthrough().assign(\n",
        "    response=(\n",
        "        RunnableLambda(build_prompt)\n",
        "        | gemini_model\n",
        "        | StrOutputParser()\n",
        "    )\n",
        ")"
      ],
      "metadata": {
        "id": "pRLEOcrgyV-K"
      },
      "execution_count": 113,
      "outputs": []
    },
    {
      "cell_type": "code",
      "source": [
        "response = chain_with_sources.invoke(\n",
        "    \"How many miles I need to change the oil of 2024 Cymbal Starlight\"\n",
        ")\n",
        "\n",
        "print(\"Response:\", response['response'])"
      ],
      "metadata": {
        "colab": {
          "base_uri": "https://localhost:8080/"
        },
        "id": "ol8_TKs-zNlo",
        "outputId": "71a94e5b-ecf7-41d9-d398-061b266e3196"
      },
      "execution_count": 114,
      "outputs": [
        {
          "output_type": "stream",
          "name": "stdout",
          "text": [
            "Response: According to the maintenance schedule, you need to change the oil of 2024 Cymbal Starlight every 5,000 miles.\n"
          ]
        }
      ]
    },
    {
      "cell_type": "code",
      "source": [
        "response = chain_with_sources.invoke(\n",
        "    \"tell me about the car care tips of 2024 Cymbal Starlight\"\n",
        ")\n",
        "\n",
        "print(\"Response:\", response['response'])"
      ],
      "metadata": {
        "colab": {
          "base_uri": "https://localhost:8080/"
        },
        "id": "uTa5dP0vz4Gw",
        "outputId": "32067433-1c76-4239-f232-cb64fd484055"
      },
      "execution_count": 115,
      "outputs": [
        {
          "output_type": "stream",
          "name": "stdout",
          "text": [
            "Response: To keep your Cymbal Starlight 2024 in good condition, you can:\n",
            "\n",
            "*   Wash your vehicle regularly to remove dirt and grime.\n",
            "*   Wax your vehicle twice a year to protect the paint.\n",
            "*   Check the tire pressure regularly and adjust it as needed.\n",
            "*   Inspect the brakes regularly for wear and tear.\n",
            "*   Keep the interior of your vehicle clean and free of debris.\n"
          ]
        }
      ]
    },
    {
      "cell_type": "code",
      "source": [
        "response = chain_with_sources.invoke(\n",
        "    \"How many miles I need to change the oil of 2024 Cymbal Starlight\"\n",
        ")\n",
        "\n",
        "print(\"Response:\", response['response'])\n",
        "\n",
        "print(\"\\n\\nContext:\")\n",
        "for text in response['context']['texts']:\n",
        "    print(text.text)\n",
        "    print(\"Page number: \", text.metadata.page_number)\n",
        "    print(\"\\n\" + \"-\"*50 + \"\\n\")\n",
        "for image in response['context']['images']:\n",
        "    display_base64_image(image)"
      ],
      "metadata": {
        "colab": {
          "base_uri": "https://localhost:8080/",
          "height": 1000
        },
        "id": "mH-AAkKey2DH",
        "outputId": "5995a0cd-ca76-4c02-eced-3e0dcb695434"
      },
      "execution_count": 116,
      "outputs": [
        {
          "output_type": "stream",
          "name": "stdout",
          "text": [
            "Response: According to the maintenance schedule, you need to change the oil of 2024 Cymbal Starlight every 5,000 miles or 6 months.\n",
            "\n",
            "\n",
            "Context:\n",
            "Professional Maintenance\n",
            "\n",
            "It is important to have your Cymbal Starlight 2024 serviced by a qualified technician at least once a year. A\n",
            "\n",
            "qualified technician can perform a thorough inspection of your vehicle and identify any potential problems.\n",
            "\n",
            "Car Care Tips\n",
            "\n",
            "In addition to following the maintenance schedule, there are a number of things you can do to keep your\n",
            "\n",
            "Cymbal Starlight 2024 in good condition. These include:\n",
            "\n",
            "20 / 22\n",
            "\n",
            "2024-03-23\n",
            "\n",
            "manual.md\n",
            "\n",
            "manual.md\n",
            "\n",
            "Wash your vehicle regularly to remove dirt and grime.\n",
            "\n",
            "Wax your vehicle twice a year to protect the paint.\n",
            "\n",
            "Check the tire pressure regularly and adjust it as needed.\n",
            "\n",
            "Inspect the brakes regularly for wear and tear.\n",
            "\n",
            "Keep the interior of your vehicle clean and free of debris.\n",
            "\n",
            "By following these tips, you can help to keep your Cymbal Starlight 2024 in top condition for many years to come.\n",
            "\n",
            "Chapter 18: Emergencies\n",
            "\n",
            "Roadside Assistance\n",
            "\n",
            "If you experience a roadside emergency, such as a flat tire or a dead battery, you can call roadside\n",
            "\n",
            "assistance for help. Roadside assistance is available 24 hours a day, 7 days a week.\n",
            "\n",
            "To call roadside assistance, dial the following number:\n",
            "\n",
            "1-800-555-1212\n",
            "\n",
            "When you call roadside assistance, be prepared to provide the following information:\n",
            "\n",
            "Your name and contact information\n",
            "\n",
            "Your vehicle's make, model, and year\n",
            "\n",
            "Your vehicle's location\n",
            "\n",
            "The nature of the emergency\n",
            "\n",
            "Flat Tire\n",
            "\n",
            "If you experience a flat tire, pull over to the side of the road in a safe location. Turn on your hazard lights and\n",
            "\n",
            "set out flares or reflective triangles to warn other drivers.\n",
            "\n",
            "To change a flat tire, follow these steps:\n",
            "\n",
            ". Gather the necessary tools, including a jack, lug wrench, and spare tire.\n",
            "\n",
            ". Loosen the lug nuts on the flat tire, but do not remove them completely.\n",
            "\n",
            ". Position the jack next to the flat tire and raise the vehicle until there is approximately 6 inches of\n",
            "\n",
            "clearance between the ground and the flat tire.\n",
            "\n",
            ". Remove the lug nuts and take off the flat tire.\n",
            "\n",
            ". Mount the spare tire on the wheel studs and tighten the lug nuts.\n",
            "\n",
            ". Lower the vehicle to the ground and tighten the lug nuts further.\n",
            "Page number:  20\n",
            "\n",
            "--------------------------------------------------\n",
            "\n",
            "Tips for Using the Heating and Air Conditioning System\n",
            "\n",
            "The heating and air conditioning systems in your Cymbal Starlight 2024 are designed to be efficient.\n",
            "\n",
            "However, you can improve the efficiency of the systems by following these tips:\n",
            "\n",
            "Park your vehicle in the shade whenever possible.\n",
            "\n",
            "Use the recirculation mode on the air conditioning system to keep cool air inside the vehicle.\n",
            "\n",
            "o Use the recirculation mode on the air conditioning system to keep cool air inside the vehicle.\n",
            "\n",
            "19 / 22\n",
            "\n",
            "2024-03-23\n",
            "\n",
            "manual.md\n",
            "\n",
            "manual.md\n",
            "\n",
            "Avoid running the heating or air conditioning system at full blast.\n",
            "\n",
            "The heating and air conditioning systems in your Cymbal Starlight 2024 require regular maintenance to ensure that they are operating properly. The following maintenance tasks should be performed at the intervals specified in the maintenance schedule in your vehicle's owner's manual:\n",
            "\n",
            "Replace the cabin air filter\n",
            "\n",
            "Clean the condenser and evaporator coils\n",
            "\n",
            "Check the refrigerant level\n",
            "\n",
            "By following these tips, you can get the most out of the heating and air conditioning system in your Cymbal\n",
            "\n",
            "Starlight 2024 and keep your vehicle comfortable year-round.\n",
            "\n",
            "Chapter 17: Maintenance and Care\n",
            "\n",
            "Maintenance Schedule\n",
            "\n",
            "The following is a maintenance schedule for your Cymbal Starlight 2024. This schedule is based on normal\n",
            "\n",
            "driving conditions. If you drive in severe conditions, you may need to service your vehicle more frequently.\n",
            "\n",
            "Service\n",
            "\n",
            "Service\n",
            "\n",
            "Interval\n",
            "\n",
            "Interval\n",
            "\n",
            "Oil change Every 5,000 miles or 6 months Tire rotation Every 5,000 miles or 6 months Air filter replacement Every 10,000 miles or 12 months Cabin air filter replacement Every 15,000 miles or 12 months Brake inspection Every 10,000 miles or 12 months Battery inspection Every 20,000 miles or 24 months Spark plug replacement Every 30,000 miles or 36 months Fuel filter replacement Every 30,000 miles or 36 months Timing belt replacement Every 60,000 miles or 60 months\n",
            "\n",
            "Do-It-Yourself Maintenance\n",
            "\n",
            "Some maintenance tasks, such as changing the oil and rotating the tires, can be performed by do-it-\n",
            "\n",
            "yourselfers. However, it is important to consult your vehicle's owner's manual before performing any maintenance tasks yourself.\n",
            "Page number:  19\n",
            "\n",
            "--------------------------------------------------\n",
            "\n",
            "Tips for Using Lights and Windshield Wipers\n",
            "\n",
            "Always use your headlights when driving at night or in low-visibility conditions.\n",
            "\n",
            "Use your taillights whenever your headlights are on.\n",
            "\n",
            "Use your brake lights whenever you are slowing down or stopping.\n",
            "\n",
            "Use your turn signals whenever you are turning or changing lanes.\n",
            "\n",
            "e\n",
            "\n",
            "e\n",
            "\n",
            "Use your hazard lights whenever you are parked in a hazardous location or if your vehicle is disabled.\n",
            "\n",
            "e\n",
            "\n",
            "Use your windshield wipers whenever there is rain, snow, or other debris on the windshield.\n",
            "\n",
            "e\n",
            "\n",
            "Replace your windshield wiper blades regularly to ensure that they are working properly.\n",
            "\n",
            "By following these tips, you can safely and effectively use the lights and windshield wipers in your Cymbal\n",
            "\n",
            "Starlight 2024.\n",
            "\n",
            "Chapter 14: Refueling\n",
            "\n",
            "Fuel Type\n",
            "\n",
            "Fuel Type\n",
            "\n",
            "Your Cymbal Starlight 2024 requires unleaded gasoline with an octane rating of 91 or higher.\n",
            "\n",
            "Fuel Capacity\n",
            "\n",
            "The fuel tank in your Cymbal Starlight 2024 has a capacity of 14.5 gallons.\n",
            "\n",
            "Refueling Procedure\n",
            "\n",
            "To refuel your Cymbal Starlight 2024, follow these steps:\n",
            "\n",
            ". Park your vehicle on a level surface.\n",
            "\n",
            ". Turn off the engine.\n",
            "\n",
            ". Open the fuel door using the fuel door release lever located in the driver's footwell.\n",
            "\n",
            ". Insert the fuel nozzle into the fuel filler neck.\n",
            "\n",
            ". Squeeze the trigger on the fuel nozzle to begin refueling.\n",
            "\n",
            ". Once the fuel tank is full, the fuel nozzle will automatically shut off.\n",
            "\n",
            ". Remove the fuel nozzle from the fuel filler neck.\n",
            "\n",
            ". Close the fuel door.\n",
            "\n",
            "Safety Tips\n",
            "\n",
            "16 / 22\n",
            "\n",
            "2024-03-23\n",
            "\n",
            "manual.md\n",
            "\n",
            "manual.md\n",
            "\n",
            "Never smoke or use a cell phone while refueling your vehicle.\n",
            "\n",
            "Do not overfill the fuel tank.\n",
            "\n",
            "If you spill fuel on your skin or clothing, wash it off immediately with soap and water.\n",
            "\n",
            "Keep fuel out of the reach of children.\n",
            "\n",
            "Fuel Economy\n",
            "\n",
            "The fuel economy of your Cymbal Starlight 2024 will vary depending on a number of factors, including:\n",
            "\n",
            "Driving habits\n",
            "\n",
            "Traffic conditions\n",
            "\n",
            "Tire pressure\n",
            "\n",
            "Vehicle weight\n",
            "\n",
            "Fuel quality\n",
            "\n",
            "By following these tips, you can help to improve the fuel economy of your Cymbal Starlight 2024:\n",
            "\n",
            "Drive smoothly and avoid jackrabbit starts and stops.\n",
            "\n",
            "Avoid idling your vehicle for long periods of time.\n",
            "\n",
            "Keep your tires properly inflated.\n",
            "Page number:  16\n",
            "\n",
            "--------------------------------------------------\n",
            "\n"
          ]
        },
        {
          "output_type": "display_data",
          "data": {
            "image/jpeg": "[encoded data removed]",
            "text/plain": [
              "<IPython.core.display.Image object>"
            ]
          },
          "metadata": {}
        }
      ]
    },
    {
      "cell_type": "code",
      "source": [],
      "metadata": {
        "id": "eKLEGMdKy9n2"
      },
      "execution_count": 116,
      "outputs": []
    }
  ]
}