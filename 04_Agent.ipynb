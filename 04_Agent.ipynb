{
  "nbformat": 4,
  "nbformat_minor": 0,
  "metadata": {
    "colab": {
      "provenance": [],
      "authorship_tag": "ABX9TyM1X+FR/wDf4hf9tZcE7ETN",
      "include_colab_link": true
    },
    "kernelspec": {
      "name": "python3",
      "display_name": "Python 3"
    },
    "language_info": {
      "name": "python"
    }
  },
  "cells": [
    {
      "cell_type": "markdown",
      "metadata": {
        "id": "view-in-github",
        "colab_type": "text"
      },
      "source": [
        "<a href=\"https://colab.research.google.com/github/ahsanrazi/LangChain/blob/main/04_Agent.ipynb\" target=\"_parent\"><img src=\"https://colab.research.google.com/assets/colab-badge.svg\" alt=\"Open In Colab\"/></a>"
      ]
    },
    {
      "cell_type": "markdown",
      "source": [
        "# Agent"
      ],
      "metadata": {
        "id": "W4JdTeSDAiw4"
      }
    },
    {
      "cell_type": "code",
      "execution_count": 1,
      "metadata": {
        "id": "dNS6ww2kANy_"
      },
      "outputs": [],
      "source": [
        "# By themselves, language models can't take actions - they just output text.\n",
        "\n",
        "# Agents are systems that use LLMs as reasoning engines to determine which actions to take and the inputs necessary to perform the action.\n",
        "# After executing actions, the results can be fed back into the LLM to determine whether more actions are needed, or whether it is okay to finish.\n",
        "# This is often achieved via tool-calling."
      ]
    },
    {
      "cell_type": "code",
      "source": [
        "# In this we will build an agent that can interact with a search engine."
      ],
      "metadata": {
        "id": "ZdUA8uXYA5pi"
      },
      "execution_count": 2,
      "outputs": []
    },
    {
      "cell_type": "code",
      "source": [
        "%pip install -qU langchain-community\n",
        "%pip install -qU langgraph\n",
        "%pip install -qU langchain-google-genai\n",
        "%pip install -qU tavily-python"
      ],
      "metadata": {
        "colab": {
          "base_uri": "https://localhost:8080/"
        },
        "id": "EkHRiulrA8sw",
        "outputId": "37d871bb-3db2-412f-e842-9af4dd252c29"
      },
      "execution_count": 4,
      "outputs": [
        {
          "output_type": "stream",
          "name": "stdout",
          "text": [
            "\u001b[?25l   \u001b[90m━━━━━━━━━━━━━━━━━━━━━━━━━━━━━━━━━━━━━━━━\u001b[0m \u001b[32m0.0/145.8 kB\u001b[0m \u001b[31m?\u001b[0m eta \u001b[36m-:--:--\u001b[0m\r\u001b[2K   \u001b[91m━━━━━━━━━━━━━━━━━━━━━━━━━━━━━━━━━━━━━━━\u001b[0m\u001b[90m╺\u001b[0m \u001b[32m143.4/145.8 kB\u001b[0m \u001b[31m4.8 MB/s\u001b[0m eta \u001b[36m0:00:01\u001b[0m\r\u001b[2K   \u001b[90m━━━━━━━━━━━━━━━━━━━━━━━━━━━━━━━━━━━━━━━━\u001b[0m \u001b[32m145.8/145.8 kB\u001b[0m \u001b[31m3.4 MB/s\u001b[0m eta \u001b[36m0:00:00\u001b[0m\n",
            "\u001b[?25h\u001b[?25l   \u001b[90m━━━━━━━━━━━━━━━━━━━━━━━━━━━━━━━━━━━━━━━━\u001b[0m \u001b[32m0.0/44.7 kB\u001b[0m \u001b[31m?\u001b[0m eta \u001b[36m-:--:--\u001b[0m\r\u001b[2K   \u001b[90m━━━━━━━━━━━━━━━━━━━━━━━━━━━━━━━━━━━━━━━━\u001b[0m \u001b[32m44.7/44.7 kB\u001b[0m \u001b[31m3.6 MB/s\u001b[0m eta \u001b[36m0:00:00\u001b[0m\n",
            "\u001b[?25h"
          ]
        }
      ]
    },
    {
      "cell_type": "code",
      "source": [
        "from google.colab import userdata\n",
        "import os\n",
        "\n",
        "gemini_api_key = userdata.get('GEMINI_API_KEY').strip()\n",
        "tavily_api_key = userdata.get('TAVILY_API_KEY').strip()\n",
        "\n",
        "# Set the environment variable 'TAVILY_API_KEY'\n",
        "os.environ['TAVILY_API_KEY'] = tavily_api_key"
      ],
      "metadata": {
        "id": "WTLnLAO0DZiW"
      },
      "execution_count": 9,
      "outputs": []
    },
    {
      "cell_type": "markdown",
      "source": [
        "# Define tools"
      ],
      "metadata": {
        "id": "qj8uEoB-DWJG"
      }
    },
    {
      "cell_type": "code",
      "source": [
        "from langchain_community.tools.tavily_search import TavilySearchResults\n",
        "\n",
        "search = TavilySearchResults(max_results=2)\n",
        "search_results = search.invoke(\"what is the weather in SF\")\n",
        "print(search_results)\n",
        "\n",
        "# If we want, we can create other tools.\n",
        "# Once we have all the tools we want, we can put them in a list that we will reference later.\n",
        "tools = [search]"
      ],
      "metadata": {
        "colab": {
          "base_uri": "https://localhost:8080/"
        },
        "id": "QK3P_jjODHmq",
        "outputId": "2b2dbb54-5453-44f5-ef3c-3b7816d58de0"
      },
      "execution_count": 11,
      "outputs": [
        {
          "output_type": "stream",
          "name": "stdout",
          "text": [
            "[{'url': 'https://www.weatherapi.com/', 'content': \"{'location': {'name': 'San Francisco', 'region': 'California', 'country': 'United States of America', 'lat': 37.775, 'lon': -122.4183, 'tz_id': 'America/Los_Angeles', 'localtime_epoch': 1738238266, 'localtime': '2025-01-30 03:57'}, 'current': {'last_updated_epoch': 1738237500, 'last_updated': '2025-01-30 03:45', 'temp_c': 10.1, 'temp_f': 50.2, 'is_day': 0, 'condition': {'text': 'Overcast', 'icon': '//cdn.weatherapi.com/weather/64x64/night/122.png', 'code': 1009}, 'wind_mph': 2.7, 'wind_kph': 4.3, 'wind_degree': 297, 'wind_dir': 'WNW', 'pressure_mb': 1023.0, 'pressure_in': 30.21, 'precip_mm': 0.0, 'precip_in': 0.0, 'humidity': 77, 'cloud': 100, 'feelslike_c': 10.1, 'feelslike_f': 50.2, 'windchill_c': 6.4, 'windchill_f': 43.6, 'heatindex_c': 6.8, 'heatindex_f': 44.2, 'dewpoint_c': 6.1, 'dewpoint_f': 42.9, 'vis_km': 16.0, 'vis_miles': 9.0, 'uv': 0.0, 'gust_mph': 4.3, 'gust_kph': 6.8}}\"}, {'url': 'https://weathershogun.com/weather/usa/ca/san-francisco/480/january/2025-01-30', 'content': 'San Francisco, California weather forecast for Thursday, January 30, 2025. Get the latest on temperature, precipitation, wind speed, and UV. ... Today Tomorrow Hourly 7 days 30 days January San Francisco, California Weather: Thursday, January 30, 2025. Rainy weather, precipitation in the form of water droplets falling from the sky.'}]\n"
          ]
        }
      ]
    },
    {
      "cell_type": "markdown",
      "source": [
        "# Using Language Models"
      ],
      "metadata": {
        "id": "0g5hJeY_G9Lt"
      }
    },
    {
      "cell_type": "code",
      "source": [
        "from langchain_google_genai import ChatGoogleGenerativeAI\n",
        "\n",
        "model = ChatGoogleGenerativeAI(model = \"gemini-2.0-flash-exp\", api_key=gemini_api_key)"
      ],
      "metadata": {
        "id": "cPGisLL2G7sW"
      },
      "execution_count": 24,
      "outputs": []
    },
    {
      "cell_type": "code",
      "source": [
        "from langchain_core.messages import HumanMessage\n",
        "\n",
        "response = model.invoke([HumanMessage(content=\"hi!\")])\n",
        "response.content"
      ],
      "metadata": {
        "colab": {
          "base_uri": "https://localhost:8080/",
          "height": 35
        },
        "id": "0OhIbnDjEhlC",
        "outputId": "a1acfc89-d910-4dcc-f9f1-bde484553b7b"
      },
      "execution_count": 25,
      "outputs": [
        {
          "output_type": "execute_result",
          "data": {
            "text/plain": [
              "'Hi there! How can I help you today? 😊'"
            ],
            "application/vnd.google.colaboratory.intrinsic+json": {
              "type": "string"
            }
          },
          "metadata": {},
          "execution_count": 25
        }
      ]
    },
    {
      "cell_type": "code",
      "source": [
        "# we use .bind_tools to give the language model knowledge of these tools\n",
        "\n",
        "model_with_tools = model.bind_tools(tools)"
      ],
      "metadata": {
        "id": "F1rjj10QJaO9"
      },
      "execution_count": 26,
      "outputs": []
    },
    {
      "cell_type": "code",
      "source": [
        "# Let's first call it with a normal message, and see how it responds. We can look at both the content field as well as the tool_calls field.\n",
        "\n",
        "response = model_with_tools.invoke([HumanMessage(content=\"Hi!\")])\n",
        "\n",
        "print(f\"ContentString: {response.content}\")\n",
        "print(f\"ToolCalls: {response.tool_calls}\")"
      ],
      "metadata": {
        "colab": {
          "base_uri": "https://localhost:8080/"
        },
        "id": "_f-OtLv7JozV",
        "outputId": "fbd5dda6-4c50-42a4-8064-76a9aa7b1d80"
      },
      "execution_count": 37,
      "outputs": [
        {
          "output_type": "stream",
          "name": "stdout",
          "text": [
            "ContentString: Hello! How can I help you today?\n",
            "ToolCalls: []\n"
          ]
        }
      ]
    },
    {
      "cell_type": "code",
      "source": [
        "# let's try calling it with some input that would expect a tool to be called.\n",
        "\n",
        "response = model_with_tools.invoke([HumanMessage(content=\"What's the weather in SF?\")])\n",
        "\n",
        "print(f\"ContentString: {response.content}\")\n",
        "print(f\"ToolCalls: {response.tool_calls}\")"
      ],
      "metadata": {
        "colab": {
          "base_uri": "https://localhost:8080/"
        },
        "id": "6EH9Gt4SLxq1",
        "outputId": "bbb4c22f-8317-4f9b-871d-15221964a5a3"
      },
      "execution_count": 35,
      "outputs": [
        {
          "output_type": "stream",
          "name": "stdout",
          "text": [
            "ContentString: \n",
            "ToolCalls: [{'name': 'tavily_search_results_json', 'args': {'query': 'weather in San Francisco'}, 'id': '5ea752d9-aca6-481c-8b87-5fb1bcc2db6d', 'type': 'tool_call'}]\n"
          ]
        }
      ]
    },
    {
      "cell_type": "markdown",
      "source": [
        "# Create the agent"
      ],
      "metadata": {
        "id": "br5ghR_pNajv"
      }
    },
    {
      "cell_type": "code",
      "source": [
        "# Now that we have defined the tools and the LLM, we can create the agent. We will be using LangGraph to construct the agent.\n",
        "\n",
        "# we are using a high level interface to construct the agent.\n",
        "# we are passing in the \"model\", not \"model_with_tools\". That is because \"create_react_agent\" will call \".bind_tools\" for us under the hood.\n",
        "\n",
        "from langgraph.prebuilt import create_react_agent\n",
        "\n",
        "agent_executor = create_react_agent(model, tools)"
      ],
      "metadata": {
        "id": "V1IVWQN-NLNb"
      },
      "execution_count": 30,
      "outputs": []
    },
    {
      "cell_type": "code",
      "source": [
        "agent_executor"
      ],
      "metadata": {
        "colab": {
          "base_uri": "https://localhost:8080/",
          "height": 266
        },
        "id": "M9qGukYTP1oF",
        "outputId": "01f7483d-c0bd-4afc-d9ca-d9771bd45fc9"
      },
      "execution_count": 33,
      "outputs": [
        {
          "output_type": "execute_result",
          "data": {
            "text/plain": [
              "<langgraph.graph.state.CompiledStateGraph object at 0x7fa0e4535910>"
            ],
            "image/png": "[encoded data removed]"
          },
          "metadata": {},
          "execution_count": 33
        }
      ]
    },
    {
      "cell_type": "markdown",
      "source": [
        "# Run the agent"
      ],
      "metadata": {
        "id": "Dpn-bwONOPts"
      }
    },
    {
      "cell_type": "code",
      "source": [
        "\"\"\"\n",
        "We can now run the agent with a few queries! Note that for now, these are all stateless queries (it won't remember previous interactions).\n",
        "Note that the agent will return the final state at the end of the interaction (which includes any inputs, we will see later on how to get only the outputs).\n",
        "\"\"\"\n",
        "\n",
        "response = agent_executor.invoke({\"messages\": [HumanMessage(content=\"hi!\")]})\n",
        "response[\"messages\"]"
      ],
      "metadata": {
        "colab": {
          "base_uri": "https://localhost:8080/"
        },
        "id": "9c4emXAyOLnV",
        "outputId": "ad710561-a6c7-4084-d9d6-2200559fc4f5"
      },
      "execution_count": 31,
      "outputs": [
        {
          "output_type": "execute_result",
          "data": {
            "text/plain": [
              "[HumanMessage(content='hi!', additional_kwargs={}, response_metadata={}, id='83219e56-fa81-4ea6-a00c-8b7640eca5ee'),\n",
              " AIMessage(content='Hello! How can I help you today?', additional_kwargs={}, response_metadata={'prompt_feedback': {'block_reason': 0, 'safety_ratings': []}, 'finish_reason': 'STOP', 'safety_ratings': [{'category': 'HARM_CATEGORY_HATE_SPEECH', 'probability': 'NEGLIGIBLE', 'blocked': False}, {'category': 'HARM_CATEGORY_DANGEROUS_CONTENT', 'probability': 'NEGLIGIBLE', 'blocked': False}, {'category': 'HARM_CATEGORY_HARASSMENT', 'probability': 'NEGLIGIBLE', 'blocked': False}, {'category': 'HARM_CATEGORY_SEXUALLY_EXPLICIT', 'probability': 'NEGLIGIBLE', 'blocked': False}]}, id='run-431bd07e-6634-4ad8-a575-1d19aa94ea90-0', usage_metadata={'input_tokens': 76, 'output_tokens': 10, 'total_tokens': 86, 'input_token_details': {'cache_read': 0}})]"
            ]
          },
          "metadata": {},
          "execution_count": 31
        }
      ]
    },
    {
      "cell_type": "code",
      "source": [
        "response = agent_executor.invoke({\"messages\": [HumanMessage(content=\"whats the weather in sf?\")]})\n",
        "response[\"messages\"]"
      ],
      "metadata": {
        "colab": {
          "base_uri": "https://localhost:8080/"
        },
        "id": "SNefgkHQOqXU",
        "outputId": "28869377-ce92-4d83-ee50-0d2d699a9b6e"
      },
      "execution_count": 34,
      "outputs": [
        {
          "output_type": "execute_result",
          "data": {
            "text/plain": [
              "[HumanMessage(content='whats the weather in sf?', additional_kwargs={}, response_metadata={}, id='4028c4d8-dd35-48b4-b22d-b3bf2c52b561'),\n",
              " AIMessage(content='', additional_kwargs={'function_call': {'name': 'tavily_search_results_json', 'arguments': '{\"query\": \"weather in San Francisco\"}'}}, response_metadata={'prompt_feedback': {'block_reason': 0, 'safety_ratings': []}, 'finish_reason': 'STOP', 'safety_ratings': [{'category': 'HARM_CATEGORY_HATE_SPEECH', 'probability': 'NEGLIGIBLE', 'blocked': False}, {'category': 'HARM_CATEGORY_DANGEROUS_CONTENT', 'probability': 'NEGLIGIBLE', 'blocked': False}, {'category': 'HARM_CATEGORY_HARASSMENT', 'probability': 'NEGLIGIBLE', 'blocked': False}, {'category': 'HARM_CATEGORY_SEXUALLY_EXPLICIT', 'probability': 'NEGLIGIBLE', 'blocked': False}]}, id='run-de04ec1b-6242-4f8d-962f-d150b9a78bcb-0', tool_calls=[{'name': 'tavily_search_results_json', 'args': {'query': 'weather in San Francisco'}, 'id': '3f580b90-d5e4-48d9-97c0-cdc570824352', 'type': 'tool_call'}], usage_metadata={'input_tokens': 80, 'output_tokens': 13, 'total_tokens': 93, 'input_token_details': {'cache_read': 0}}),\n",
              " ToolMessage(content='[{\"url\": \"https://www.weatherapi.com/\", \"content\": \"{\\'location\\': {\\'name\\': \\'San Francisco\\', \\'region\\': \\'California\\', \\'country\\': \\'United States of America\\', \\'lat\\': 37.775, \\'lon\\': -122.4183, \\'tz_id\\': \\'America/Los_Angeles\\', \\'localtime_epoch\\': 1738241227, \\'localtime\\': \\'2025-01-30 04:47\\'}, \\'current\\': {\\'last_updated_epoch\\': 1738241100, \\'last_updated\\': \\'2025-01-30 04:45\\', \\'temp_c\\': 9.4, \\'temp_f\\': 48.9, \\'is_day\\': 0, \\'condition\\': {\\'text\\': \\'Overcast\\', \\'icon\\': \\'//cdn.weatherapi.com/weather/64x64/night/122.png\\', \\'code\\': 1009}, \\'wind_mph\\': 2.2, \\'wind_kph\\': 3.6, \\'wind_degree\\': 328, \\'wind_dir\\': \\'NNW\\', \\'pressure_mb\\': 1023.0, \\'pressure_in\\': 30.21, \\'precip_mm\\': 0.0, \\'precip_in\\': 0.0, \\'humidity\\': 80, \\'cloud\\': 100, \\'feelslike_c\\': 9.6, \\'feelslike_f\\': 49.2, \\'windchill_c\\': 6.6, \\'windchill_f\\': 43.9, \\'heatindex_c\\': 6.8, \\'heatindex_f\\': 44.2, \\'dewpoint_c\\': 6.1, \\'dewpoint_f\\': 43.0, \\'vis_km\\': 16.0, \\'vis_miles\\': 9.0, \\'uv\\': 0.0, \\'gust_mph\\': 6.7, \\'gust_kph\\': 10.8}}\"}, {\"url\": \"https://weathershogun.com/weather/usa/ca/san-francisco/480/january/2025-01-30\", \"content\": \"San Francisco, California weather forecast for Thursday, January 30, 2025. Get the latest on temperature, precipitation, wind speed, and UV. Plan your day with accurate weather updates.\"}]', name='tavily_search_results_json', id='948f3622-c1df-4ceb-b643-77d7c60490b5', tool_call_id='3f580b90-d5e4-48d9-97c0-cdc570824352', artifact={'query': 'weather in San Francisco', 'follow_up_questions': None, 'answer': None, 'images': [], 'results': [{'title': 'Weather in San Francisco', 'url': 'https://www.weatherapi.com/', 'content': \"{'location': {'name': 'San Francisco', 'region': 'California', 'country': 'United States of America', 'lat': 37.775, 'lon': -122.4183, 'tz_id': 'America/Los_Angeles', 'localtime_epoch': 1738241227, 'localtime': '2025-01-30 04:47'}, 'current': {'last_updated_epoch': 1738241100, 'last_updated': '2025-01-30 04:45', 'temp_c': 9.4, 'temp_f': 48.9, 'is_day': 0, 'condition': {'text': 'Overcast', 'icon': '//cdn.weatherapi.com/weather/64x64/night/122.png', 'code': 1009}, 'wind_mph': 2.2, 'wind_kph': 3.6, 'wind_degree': 328, 'wind_dir': 'NNW', 'pressure_mb': 1023.0, 'pressure_in': 30.21, 'precip_mm': 0.0, 'precip_in': 0.0, 'humidity': 80, 'cloud': 100, 'feelslike_c': 9.6, 'feelslike_f': 49.2, 'windchill_c': 6.6, 'windchill_f': 43.9, 'heatindex_c': 6.8, 'heatindex_f': 44.2, 'dewpoint_c': 6.1, 'dewpoint_f': 43.0, 'vis_km': 16.0, 'vis_miles': 9.0, 'uv': 0.0, 'gust_mph': 6.7, 'gust_kph': 10.8}}\", 'score': 0.9822775, 'raw_content': None}, {'title': 'Thursday, January 30, 2025. San Francisco, CA - Weather Forecast', 'url': 'https://weathershogun.com/weather/usa/ca/san-francisco/480/january/2025-01-30', 'content': 'San Francisco, California weather forecast for Thursday, January 30, 2025. Get the latest on temperature, precipitation, wind speed, and UV. Plan your day with accurate weather updates.', 'score': 0.95468557, 'raw_content': None}], 'response_time': 2.54}),\n",
              " AIMessage(content='The weather in San Francisco, California is currently overcast with a temperature of 9.4 degrees Celsius (48.9 degrees Fahrenheit). The wind is coming from the NNW at 2.2 mph, and the humidity is 80%.', additional_kwargs={}, response_metadata={'prompt_feedback': {'block_reason': 0, 'safety_ratings': []}, 'finish_reason': 'STOP', 'safety_ratings': [{'category': 'HARM_CATEGORY_HATE_SPEECH', 'probability': 'NEGLIGIBLE', 'blocked': False}, {'category': 'HARM_CATEGORY_DANGEROUS_CONTENT', 'probability': 'NEGLIGIBLE', 'blocked': False}, {'category': 'HARM_CATEGORY_HARASSMENT', 'probability': 'NEGLIGIBLE', 'blocked': False}, {'category': 'HARM_CATEGORY_SEXUALLY_EXPLICIT', 'probability': 'NEGLIGIBLE', 'blocked': False}]}, id='run-f8c460f1-8377-4735-bb65-805d72d7fc81-0', usage_metadata={'input_tokens': 750, 'output_tokens': 52, 'total_tokens': 802, 'input_token_details': {'cache_read': 0}})]"
            ]
          },
          "metadata": {},
          "execution_count": 34
        }
      ]
    },
    {
      "cell_type": "markdown",
      "source": [
        "# Streaming Messages"
      ],
      "metadata": {
        "id": "O0TnS2iIRDbf"
      }
    },
    {
      "cell_type": "code",
      "source": [
        "for chunk in agent_executor.stream({\"messages\": [HumanMessage(content=\"whats the weather in sf?\")]}):\n",
        "    print(chunk)\n",
        "    print(\"----\")"
      ],
      "metadata": {
        "colab": {
          "base_uri": "https://localhost:8080/"
        },
        "id": "YjCKlJuAQMkT",
        "outputId": "7413ab4f-53d0-4b55-b27e-25d8f110331f"
      },
      "execution_count": 39,
      "outputs": [
        {
          "output_type": "stream",
          "name": "stdout",
          "text": [
            "{'agent': {'messages': [AIMessage(content='', additional_kwargs={'function_call': {'name': 'tavily_search_results_json', 'arguments': '{\"query\": \"weather in san francisco\"}'}}, response_metadata={'prompt_feedback': {'block_reason': 0, 'safety_ratings': []}, 'finish_reason': 'STOP', 'safety_ratings': [{'category': 'HARM_CATEGORY_HATE_SPEECH', 'probability': 'NEGLIGIBLE', 'blocked': False}, {'category': 'HARM_CATEGORY_DANGEROUS_CONTENT', 'probability': 'NEGLIGIBLE', 'blocked': False}, {'category': 'HARM_CATEGORY_HARASSMENT', 'probability': 'NEGLIGIBLE', 'blocked': False}, {'category': 'HARM_CATEGORY_SEXUALLY_EXPLICIT', 'probability': 'NEGLIGIBLE', 'blocked': False}]}, id='run-b1b08c9a-547b-4317-aa56-cacc388d80b5-0', tool_calls=[{'name': 'tavily_search_results_json', 'args': {'query': 'weather in san francisco'}, 'id': 'f9551967-8c71-4574-9827-7ca3a6a086ed', 'type': 'tool_call'}], usage_metadata={'input_tokens': 80, 'output_tokens': 13, 'total_tokens': 93, 'input_token_details': {'cache_read': 0}})]}}\n",
            "----\n",
            "{'tools': {'messages': [ToolMessage(content='[{\"url\": \"https://www.weatherapi.com/\", \"content\": \"{\\'location\\': {\\'name\\': \\'San Francisco\\', \\'region\\': \\'California\\', \\'country\\': \\'United States of America\\', \\'lat\\': 37.775, \\'lon\\': -122.4183, \\'tz_id\\': \\'America/Los_Angeles\\', \\'localtime_epoch\\': 1738241539, \\'localtime\\': \\'2025-01-30 04:52\\'}, \\'current\\': {\\'last_updated_epoch\\': 1738241100, \\'last_updated\\': \\'2025-01-30 04:45\\', \\'temp_c\\': 9.4, \\'temp_f\\': 48.9, \\'is_day\\': 0, \\'condition\\': {\\'text\\': \\'Overcast\\', \\'icon\\': \\'//cdn.weatherapi.com/weather/64x64/night/122.png\\', \\'code\\': 1009}, \\'wind_mph\\': 2.2, \\'wind_kph\\': 3.6, \\'wind_degree\\': 328, \\'wind_dir\\': \\'NNW\\', \\'pressure_mb\\': 1023.0, \\'pressure_in\\': 30.21, \\'precip_mm\\': 0.0, \\'precip_in\\': 0.0, \\'humidity\\': 80, \\'cloud\\': 100, \\'feelslike_c\\': 9.6, \\'feelslike_f\\': 49.2, \\'windchill_c\\': 6.6, \\'windchill_f\\': 43.9, \\'heatindex_c\\': 6.8, \\'heatindex_f\\': 44.2, \\'dewpoint_c\\': 6.1, \\'dewpoint_f\\': 43.0, \\'vis_km\\': 16.0, \\'vis_miles\\': 9.0, \\'uv\\': 0.0, \\'gust_mph\\': 6.7, \\'gust_kph\\': 10.8}}\"}, {\"url\": \"https://weathershogun.com/weather/usa/ca/san-francisco/480/january/2025-01-30\", \"content\": \"San Francisco, California weather forecast for Thursday, January 30, 2025. Get the latest on temperature, precipitation, wind speed, and UV. Plan your day with accurate weather updates.\"}]', name='tavily_search_results_json', id='95d2c771-0881-4f6d-9d8c-444846596e04', tool_call_id='f9551967-8c71-4574-9827-7ca3a6a086ed', artifact={'query': 'weather in san francisco', 'follow_up_questions': None, 'answer': None, 'images': [], 'results': [{'title': 'Weather in San Francisco', 'url': 'https://www.weatherapi.com/', 'content': \"{'location': {'name': 'San Francisco', 'region': 'California', 'country': 'United States of America', 'lat': 37.775, 'lon': -122.4183, 'tz_id': 'America/Los_Angeles', 'localtime_epoch': 1738241539, 'localtime': '2025-01-30 04:52'}, 'current': {'last_updated_epoch': 1738241100, 'last_updated': '2025-01-30 04:45', 'temp_c': 9.4, 'temp_f': 48.9, 'is_day': 0, 'condition': {'text': 'Overcast', 'icon': '//cdn.weatherapi.com/weather/64x64/night/122.png', 'code': 1009}, 'wind_mph': 2.2, 'wind_kph': 3.6, 'wind_degree': 328, 'wind_dir': 'NNW', 'pressure_mb': 1023.0, 'pressure_in': 30.21, 'precip_mm': 0.0, 'precip_in': 0.0, 'humidity': 80, 'cloud': 100, 'feelslike_c': 9.6, 'feelslike_f': 49.2, 'windchill_c': 6.6, 'windchill_f': 43.9, 'heatindex_c': 6.8, 'heatindex_f': 44.2, 'dewpoint_c': 6.1, 'dewpoint_f': 43.0, 'vis_km': 16.0, 'vis_miles': 9.0, 'uv': 0.0, 'gust_mph': 6.7, 'gust_kph': 10.8}}\", 'score': 0.9043975, 'raw_content': None}, {'title': 'Thursday, January 30, 2025. San Francisco, CA - Weather Forecast', 'url': 'https://weathershogun.com/weather/usa/ca/san-francisco/480/january/2025-01-30', 'content': 'San Francisco, California weather forecast for Thursday, January 30, 2025. Get the latest on temperature, precipitation, wind speed, and UV. Plan your day with accurate weather updates.', 'score': 0.8976328, 'raw_content': None}], 'response_time': 2.3})]}}\n",
            "----\n",
            "{'agent': {'messages': [AIMessage(content='The weather in San Francisco, California is currently overcast with a temperature of 9.4°C (48.9°F). The wind is coming from the NNW at 3.6 kph (2.2 mph). The humidity is 80% and there is no precipitation.', additional_kwargs={}, response_metadata={'prompt_feedback': {'block_reason': 0, 'safety_ratings': []}, 'finish_reason': 'STOP', 'safety_ratings': [{'category': 'HARM_CATEGORY_HATE_SPEECH', 'probability': 'NEGLIGIBLE', 'blocked': False}, {'category': 'HARM_CATEGORY_DANGEROUS_CONTENT', 'probability': 'NEGLIGIBLE', 'blocked': False}, {'category': 'HARM_CATEGORY_HARASSMENT', 'probability': 'NEGLIGIBLE', 'blocked': False}, {'category': 'HARM_CATEGORY_SEXUALLY_EXPLICIT', 'probability': 'NEGLIGIBLE', 'blocked': False}]}, id='run-558db728-fc74-4059-b311-eb4b01eba94c-0', usage_metadata={'input_tokens': 750, 'output_tokens': 63, 'total_tokens': 813, 'input_token_details': {'cache_read': 0}})]}}\n",
            "----\n"
          ]
        }
      ]
    },
    {
      "cell_type": "markdown",
      "source": [
        "# Adding in memory"
      ],
      "metadata": {
        "id": "-cR4ga1PRxxr"
      }
    },
    {
      "cell_type": "code",
      "source": [
        "# As mentioned earlier, this agent is stateless. This means it does not remember previous interactions.\n",
        "# To give it memory we need to pass in a checkpointer.\n",
        "\n",
        "from langgraph.checkpoint.memory import MemorySaver\n",
        "\n",
        "memory = MemorySaver()"
      ],
      "metadata": {
        "id": "LIQz4Gc5RP2T"
      },
      "execution_count": 40,
      "outputs": []
    },
    {
      "cell_type": "code",
      "source": [
        "agent_executor = create_react_agent(model, tools, checkpointer=memory)\n",
        "\n",
        "config = {\"configurable\": {\"thread_id\": \"abc123\"}}"
      ],
      "metadata": {
        "id": "L8iKbonsVPYy"
      },
      "execution_count": 41,
      "outputs": []
    },
    {
      "cell_type": "code",
      "source": [
        "for chunk in agent_executor.stream(\n",
        "    {\"messages\": [HumanMessage(content=\"hi im bob!\")]}, config\n",
        "):\n",
        "    print(chunk)\n",
        "    print(\"----\")"
      ],
      "metadata": {
        "colab": {
          "base_uri": "https://localhost:8080/"
        },
        "id": "e-0PzoiLVQkh",
        "outputId": "168992ef-46ad-4fe4-89cd-56271c175a03"
      },
      "execution_count": 42,
      "outputs": [
        {
          "output_type": "stream",
          "name": "stdout",
          "text": [
            "{'agent': {'messages': [AIMessage(content='Hello Bob! How can I help you today?', additional_kwargs={}, response_metadata={'prompt_feedback': {'block_reason': 0, 'safety_ratings': []}, 'finish_reason': 'STOP', 'safety_ratings': [{'category': 'HARM_CATEGORY_HATE_SPEECH', 'probability': 'NEGLIGIBLE', 'blocked': False}, {'category': 'HARM_CATEGORY_DANGEROUS_CONTENT', 'probability': 'NEGLIGIBLE', 'blocked': False}, {'category': 'HARM_CATEGORY_HARASSMENT', 'probability': 'NEGLIGIBLE', 'blocked': False}, {'category': 'HARM_CATEGORY_SEXUALLY_EXPLICIT', 'probability': 'NEGLIGIBLE', 'blocked': False}]}, id='run-ffdf9fa8-6840-451c-a0fe-b74612cedae0-0', usage_metadata={'input_tokens': 78, 'output_tokens': 11, 'total_tokens': 89, 'input_token_details': {'cache_read': 0}})]}}\n",
            "----\n"
          ]
        }
      ]
    },
    {
      "cell_type": "code",
      "source": [
        "for chunk in agent_executor.stream(\n",
        "    {\"messages\": [HumanMessage(content=\"whats my name?\")]}, config):\n",
        "    print(chunk)\n",
        "    print(\"----\")"
      ],
      "metadata": {
        "colab": {
          "base_uri": "https://localhost:8080/"
        },
        "id": "we9CDHbMVSgx",
        "outputId": "4695a77c-8989-4115-eceb-37c4b4d01015"
      },
      "execution_count": 43,
      "outputs": [
        {
          "output_type": "stream",
          "name": "stdout",
          "text": [
            "{'agent': {'messages': [AIMessage(content='Your name is Bob.', additional_kwargs={}, response_metadata={'prompt_feedback': {'block_reason': 0, 'safety_ratings': []}, 'finish_reason': 'STOP', 'safety_ratings': [{'category': 'HARM_CATEGORY_HATE_SPEECH', 'probability': 'NEGLIGIBLE', 'blocked': False}, {'category': 'HARM_CATEGORY_DANGEROUS_CONTENT', 'probability': 'NEGLIGIBLE', 'blocked': False}, {'category': 'HARM_CATEGORY_HARASSMENT', 'probability': 'NEGLIGIBLE', 'blocked': False}, {'category': 'HARM_CATEGORY_SEXUALLY_EXPLICIT', 'probability': 'NEGLIGIBLE', 'blocked': False}]}, id='run-d27639e5-9d22-404c-86ac-81bf188b9a10-0', usage_metadata={'input_tokens': 94, 'output_tokens': 6, 'total_tokens': 100, 'input_token_details': {'cache_read': 0}})]}}\n",
            "----\n"
          ]
        }
      ]
    },
    {
      "cell_type": "code",
      "source": [
        "# If you want to start a new conversation, all you have to do is change the thread_id used\n",
        "\n",
        "config = {\"configurable\": {\"thread_id\": \"xyz123\"}}\n",
        "for chunk in agent_executor.stream(\n",
        "    {\"messages\": [HumanMessage(content=\"whats my name?\")]}, config\n",
        "):\n",
        "    print(chunk)\n",
        "    print(\"----\")"
      ],
      "metadata": {
        "colab": {
          "base_uri": "https://localhost:8080/"
        },
        "id": "kcl50FGmVUyR",
        "outputId": "622d1a5f-3925-44cb-a0c0-b98ddf25aa92"
      },
      "execution_count": 44,
      "outputs": [
        {
          "output_type": "stream",
          "name": "stdout",
          "text": [
            "{'agent': {'messages': [AIMessage(content=\"I do not have access to personal information, so I don't know your name.\", additional_kwargs={}, response_metadata={'prompt_feedback': {'block_reason': 0, 'safety_ratings': []}, 'finish_reason': 'STOP', 'safety_ratings': [{'category': 'HARM_CATEGORY_HATE_SPEECH', 'probability': 'NEGLIGIBLE', 'blocked': False}, {'category': 'HARM_CATEGORY_DANGEROUS_CONTENT', 'probability': 'NEGLIGIBLE', 'blocked': False}, {'category': 'HARM_CATEGORY_HARASSMENT', 'probability': 'NEGLIGIBLE', 'blocked': False}, {'category': 'HARM_CATEGORY_SEXUALLY_EXPLICIT', 'probability': 'NEGLIGIBLE', 'blocked': False}]}, id='run-10c69ce6-189b-4bcf-b05d-d542e275410e-0', usage_metadata={'input_tokens': 78, 'output_tokens': 19, 'total_tokens': 97, 'input_token_details': {'cache_read': 0}})]}}\n",
            "----\n"
          ]
        }
      ]
    },
    {
      "cell_type": "markdown",
      "source": [
        "# Adding Prompt Template"
      ],
      "metadata": {
        "id": "fUz4Ep1NX3Ta"
      }
    },
    {
      "cell_type": "code",
      "source": [
        "# Step 1: Import Required Modules\n",
        "from langchain_core.prompts import ChatPromptTemplate\n",
        "\n",
        "# Step 2: Define the Chat Prompt Template\n",
        "prompt = ChatPromptTemplate.from_messages([\n",
        "    (\"system\", \"You are a helpful assistant.\"),\n",
        "    (\"placeholder\", \"{messages}\"),\n",
        "])\n",
        "\n",
        "agent_executor = create_react_agent(model, tools, prompt=prompt, checkpointer=memory)\n",
        "\n",
        "config = {\"configurable\": {\"thread_id\": \"abc13\"}}\n"
      ],
      "metadata": {
        "id": "G_8Fdk3BVaPf"
      },
      "execution_count": 74,
      "outputs": []
    },
    {
      "cell_type": "code",
      "source": [
        "# Step 4: Invoke the Agent with a User Message\n",
        "response = agent_executor.invoke({\"messages\": [HumanMessage(content=\"What is my name\")]}, config)"
      ],
      "metadata": {
        "id": "o0uSxBvaWIxZ"
      },
      "execution_count": 75,
      "outputs": []
    },
    {
      "cell_type": "code",
      "source": [
        "# Accessing and printing the response messages\n",
        "print(response[\"messages\"])"
      ],
      "metadata": {
        "colab": {
          "base_uri": "https://localhost:8080/"
        },
        "id": "3KZ4fms1WmGg",
        "outputId": "1583ec0e-b737-4c36-dcbe-2b04bb8f1c54"
      },
      "execution_count": 76,
      "outputs": [
        {
          "output_type": "stream",
          "name": "stdout",
          "text": [
            "[HumanMessage(content='Hi I am Ahsan', additional_kwargs={}, response_metadata={}, id='a1740264-0161-4c5a-8832-6852bc29ad63'), AIMessage(content=\"Hello Ahsan, it's nice to meet you! How can I help you today?\", additional_kwargs={}, response_metadata={'prompt_feedback': {'block_reason': 0, 'safety_ratings': []}, 'finish_reason': 'STOP', 'safety_ratings': [{'category': 'HARM_CATEGORY_HATE_SPEECH', 'probability': 'NEGLIGIBLE', 'blocked': False}, {'category': 'HARM_CATEGORY_DANGEROUS_CONTENT', 'probability': 'NEGLIGIBLE', 'blocked': False}, {'category': 'HARM_CATEGORY_HARASSMENT', 'probability': 'NEGLIGIBLE', 'blocked': False}, {'category': 'HARM_CATEGORY_SEXUALLY_EXPLICIT', 'probability': 'NEGLIGIBLE', 'blocked': False}]}, id='run-50fa38d6-84fc-4f6b-bd0d-6b6d109d79f9-0', usage_metadata={'input_tokens': 85, 'output_tokens': 20, 'total_tokens': 105, 'input_token_details': {'cache_read': 0}}), HumanMessage(content='What is my name', additional_kwargs={}, response_metadata={}, id='5f08d8e4-125d-4593-8e2c-931ca08b82d6'), AIMessage(content='Your name is Ahsan.', additional_kwargs={}, response_metadata={'prompt_feedback': {'block_reason': 0, 'safety_ratings': []}, 'finish_reason': 'STOP', 'safety_ratings': [{'category': 'HARM_CATEGORY_HATE_SPEECH', 'probability': 'NEGLIGIBLE', 'blocked': False}, {'category': 'HARM_CATEGORY_DANGEROUS_CONTENT', 'probability': 'NEGLIGIBLE', 'blocked': False}, {'category': 'HARM_CATEGORY_HARASSMENT', 'probability': 'NEGLIGIBLE', 'blocked': False}, {'category': 'HARM_CATEGORY_SEXUALLY_EXPLICIT', 'probability': 'NEGLIGIBLE', 'blocked': False}]}, id='run-03f4b439-2e76-4b5b-804c-1ac2a34eaebf-0', usage_metadata={'input_tokens': 110, 'output_tokens': 7, 'total_tokens': 117, 'input_token_details': {'cache_read': 0}}), HumanMessage(content='What is my name', additional_kwargs={}, response_metadata={}, id='32ae103c-dc8d-436d-995c-cbbe7895f17e'), AIMessage(content='Your name is Ahsan.', additional_kwargs={}, response_metadata={'prompt_feedback': {'block_reason': 0, 'safety_ratings': []}, 'finish_reason': 'STOP', 'safety_ratings': [{'category': 'HARM_CATEGORY_HATE_SPEECH', 'probability': 'NEGLIGIBLE', 'blocked': False}, {'category': 'HARM_CATEGORY_DANGEROUS_CONTENT', 'probability': 'NEGLIGIBLE', 'blocked': False}, {'category': 'HARM_CATEGORY_HARASSMENT', 'probability': 'NEGLIGIBLE', 'blocked': False}, {'category': 'HARM_CATEGORY_SEXUALLY_EXPLICIT', 'probability': 'NEGLIGIBLE', 'blocked': False}]}, id='run-5b324001-6671-4721-aad4-e4bb37fac20f-0', usage_metadata={'input_tokens': 122, 'output_tokens': 7, 'total_tokens': 129, 'input_token_details': {'cache_read': 0}}), HumanMessage(content='What is my name', additional_kwargs={}, response_metadata={}, id='214ff4a1-51c3-4bf6-8212-e5760d236173'), AIMessage(content='Your name is Ahsan.', additional_kwargs={}, response_metadata={'prompt_feedback': {'block_reason': 0, 'safety_ratings': []}, 'finish_reason': 'STOP', 'safety_ratings': [{'category': 'HARM_CATEGORY_HATE_SPEECH', 'probability': 'NEGLIGIBLE', 'blocked': False}, {'category': 'HARM_CATEGORY_DANGEROUS_CONTENT', 'probability': 'NEGLIGIBLE', 'blocked': False}, {'category': 'HARM_CATEGORY_HARASSMENT', 'probability': 'NEGLIGIBLE', 'blocked': False}, {'category': 'HARM_CATEGORY_SEXUALLY_EXPLICIT', 'probability': 'NEGLIGIBLE', 'blocked': False}]}, id='run-38e02683-6273-483b-8c38-a9ebfa144e9b-0', usage_metadata={'input_tokens': 134, 'output_tokens': 7, 'total_tokens': 141, 'input_token_details': {'cache_read': 0}})]\n"
          ]
        }
      ]
    }
  ]
}