{
  "nbformat": 4,
  "nbformat_minor": 0,
  "metadata": {
    "colab": {
      "provenance": [],
      "authorship_tag": "ABX9TyO3gkbqdQrbwFsxzWwSEZ1V",
      "include_colab_link": true
    },
    "kernelspec": {
      "name": "python3",
      "display_name": "Python 3"
    },
    "language_info": {
      "name": "python"
    }
  },
  "cells": [
    {
      "cell_type": "markdown",
      "metadata": {
        "id": "view-in-github",
        "colab_type": "text"
      },
      "source": [
        "<a href=\"https://colab.research.google.com/github/ahsanrazi/LangChain/blob/main/09_Multimodal.ipynb\" target=\"_parent\"><img src=\"https://colab.research.google.com/assets/colab-badge.svg\" alt=\"Open In Colab\"/></a>"
      ]
    },
    {
      "cell_type": "markdown",
      "source": [
        "# Multimodality"
      ],
      "metadata": {
        "id": "FHpnumMFSoS-"
      }
    },
    {
      "cell_type": "code",
      "source": [
        "from google.colab import userdata\n",
        "gemini_api_key = userdata.get('GEMINI_API_KEY').strip()"
      ],
      "metadata": {
        "id": "ILjrjhlzTr8t"
      },
      "execution_count": 9,
      "outputs": []
    },
    {
      "cell_type": "code",
      "source": [
        "!pip install -qU langchain-google-genai"
      ],
      "metadata": {
        "id": "vwKFYirdTac2",
        "colab": {
          "base_uri": "https://localhost:8080/"
        },
        "outputId": "fce602bb-6b0e-4e06-da60-8b6c9e9ae88b"
      },
      "execution_count": 2,
      "outputs": [
        {
          "output_type": "stream",
          "name": "stdout",
          "text": [
            "\u001b[?25l   \u001b[90m━━━━━━━━━━━━━━━━━━━━━━━━━━━━━━━━━━━━━━━━\u001b[0m \u001b[32m0.0/41.7 kB\u001b[0m \u001b[31m?\u001b[0m eta \u001b[36m-:--:--\u001b[0m\r\u001b[2K   \u001b[90m━━━━━━━━━━━━━━━━━━━━━━━━━━━━━━━━━━━━━━━━\u001b[0m \u001b[32m41.7/41.7 kB\u001b[0m \u001b[31m2.7 MB/s\u001b[0m eta \u001b[36m0:00:00\u001b[0m\n",
            "\u001b[?25h"
          ]
        }
      ]
    },
    {
      "cell_type": "code",
      "source": [
        "# Multimodality refers to the ability to work with data that comes in different forms, such as text, audio, images, and video."
      ],
      "metadata": {
        "id": "y1dTqg8GVG4r"
      },
      "execution_count": 3,
      "outputs": []
    },
    {
      "cell_type": "code",
      "source": [
        "from langchain_google_genai import ChatGoogleGenerativeAI\n",
        "\n",
        "model = ChatGoogleGenerativeAI(model = \"gemini-2.0-flash-exp\", api_key = gemini_api_key)"
      ],
      "metadata": {
        "id": "RueKRSKAUQHa"
      },
      "execution_count": 10,
      "outputs": []
    },
    {
      "cell_type": "code",
      "source": [
        "image_url = \"https://images.ctfassets.net/hrltx12pl8hq/28ECAQiPJZ78hxatLTa7Ts/2f695d869736ae3b0de3e56ceaca3958/free-nature-images.jpg?fit=fill&w=1200&h=630\""
      ],
      "metadata": {
        "id": "oIgWVYhXVATL"
      },
      "execution_count": 25,
      "outputs": []
    },
    {
      "cell_type": "code",
      "source": [
        "from langchain_core.messages import HumanMessage\n",
        "\n",
        "message = HumanMessage(\n",
        "    content=[\n",
        "        {\"type\": \"text\", \"text\": \"describe the weather in this image\"},\n",
        "        {\"type\": \"image_url\", \"image_url\": {\"url\": image_url}},\n",
        "    ],\n",
        ")\n",
        "response = model.invoke([message])"
      ],
      "metadata": {
        "id": "sKNBBGCKUir1"
      },
      "execution_count": 26,
      "outputs": []
    },
    {
      "cell_type": "code",
      "source": [
        "response.content"
      ],
      "metadata": {
        "colab": {
          "base_uri": "https://localhost:8080/",
          "height": 35
        },
        "id": "sO-jl92hVIvk",
        "outputId": "2a43f205-0510-4e05-9008-a85eb082a2c7"
      },
      "execution_count": 27,
      "outputs": [
        {
          "output_type": "execute_result",
          "data": {
            "text/plain": [
              "'The weather in the image appears to be sunny with a clear blue sky and some fluffy white clouds. It looks like a pleasant, bright day.'"
            ],
            "application/vnd.google.colaboratory.intrinsic+json": {
              "type": "string"
            }
          },
          "metadata": {},
          "execution_count": 27
        }
      ]
    },
    {
      "cell_type": "code",
      "source": [
        "# The most commonly supported way to pass in images is to pass it in as a byte string. This should work for most model integrations.\n",
        "\n",
        "import base64\n",
        "import httpx\n",
        "\n",
        "image_data = base64.b64encode(httpx.get(image_url).content).decode(\"utf-8\")\n",
        "image_data[:500]"
      ],
      "metadata": {
        "colab": {
          "base_uri": "https://localhost:8080/",
          "height": 87
        },
        "id": "ElAhyz9gWnkS",
        "outputId": "57712a0d-285d-47fd-c728-373cf26cc8cc"
      },
      "execution_count": 28,
      "outputs": [
        {
          "output_type": "execute_result",
          "data": {
            "text/plain": [
              "'/9j/4AAQSkZJRgABAQAAAQABAAD/2wBDAAMCAgMCAgMDAwMEAwMEBQgFBQQEBQoHBwYIDAoMDAsKCwsNDhIQDQ4RDgsLEBYQERMUFRUVDA8XGBYUGBIUFRT/2wBDAQMEBAUEBQkFBQkUDQsNFBQUFBQUFBQUFBQUFBQUFBQUFBQUFBQUFBQUFBQUFBQUFBQUFBQUFBQUFBQUFBQUFBT/wAARCAJ2BLADAREAAhEBAxEB/8QAHgAAAgMBAQEBAQEAAAAAAAAAAwQBAgUABgcICQr/xABJEAACAQMDAgQEAwYEBgEBBQkBAgMABBEFEiExQQYTUWEUInGBBzKRCBUjQqHBUrHR8BYkM2Lh8XJDCRclU4KSosI0sjVEc2P/xAAcAQADAQEBAQEBAAAAAAAAAAABAgMABAUGBwj/xABEEQACAgICAQMCAwYFAQcDAQkAAQIRAyESMUEEE1EiYQUycQYUgZGh8CNCscHR4QcVM1KCkvEWctIk'"
            ],
            "application/vnd.google.colaboratory.intrinsic+json": {
              "type": "string"
            }
          },
          "metadata": {},
          "execution_count": 28
        }
      ]
    },
    {
      "cell_type": "code",
      "source": [
        "message = HumanMessage(\n",
        "    content=[\n",
        "        {\"type\": \"text\", \"text\": \"describe the weather in this image\"},\n",
        "        {\"type\": \"image_url\", \"image_url\": {\"url\": f\"data:image/jpeg;base64,{image_data}\"}},\n",
        "    ],\n",
        ")\n",
        "response = model.invoke([message])\n",
        "print(response.content)"
      ],
      "metadata": {
        "colab": {
          "base_uri": "https://localhost:8080/"
        },
        "id": "pytcnatrXiX6",
        "outputId": "272662af-d11a-4c9a-ac03-c9a90f26ea06"
      },
      "execution_count": 29,
      "outputs": [
        {
          "output_type": "stream",
          "name": "stdout",
          "text": [
            "The weather in the image appears to be sunny with a clear blue sky and some scattered white, fluffy clouds. The presence of a shadow cast by the tree suggests that the sun is shining brightly. It looks like a pleasant and mild day.\n"
          ]
        }
      ]
    },
    {
      "cell_type": "markdown",
      "source": [
        "# How to use multimodal prompts"
      ],
      "metadata": {
        "id": "f5QPQvWdYpY5"
      }
    },
    {
      "cell_type": "code",
      "source": [
        "from langchain_core.prompts import ChatPromptTemplate\n",
        "\n",
        "prompt = ChatPromptTemplate.from_messages(\n",
        "    [\n",
        "        (\"system\", \"Describe the image provided\"),\n",
        "        (\n",
        "            \"user\",\n",
        "            [\n",
        "                {\"type\": \"text\", \"text\": \"Describe this image\"},\n",
        "                {\"type\": \"image_url\", \"image_url\": {\"url\": \"data:image/jpeg;base64,{image_data}\"}},\n",
        "            ],\n",
        "        ),\n",
        "    ]\n",
        ")"
      ],
      "metadata": {
        "id": "77AoYbaHZMBh"
      },
      "execution_count": 30,
      "outputs": []
    },
    {
      "cell_type": "code",
      "source": [
        "chain = prompt | model\n",
        "\n",
        "response = chain.invoke({\"image_data\": image_data})\n",
        "print(response.content)"
      ],
      "metadata": {
        "colab": {
          "base_uri": "https://localhost:8080/"
        },
        "id": "AP1Tg3deaa5M",
        "outputId": "73c829b3-63f9-468b-9464-60e8f8a1f44f"
      },
      "execution_count": 31,
      "outputs": [
        {
          "output_type": "stream",
          "name": "stdout",
          "text": [
            "The image showcases a serene and picturesque landscape. A solitary, full-bodied tree stands prominently in the center of the scene, casting a shadow on the vibrant green, rolling hills that stretch across the foreground. Above, a bright blue sky is dotted with fluffy white clouds, adding depth and dimension to the composition. The overall impression is one of tranquility and natural beauty.\n"
          ]
        }
      ]
    }
  ]
}