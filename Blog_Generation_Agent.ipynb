{
  "nbformat": 4,
  "nbformat_minor": 0,
  "metadata": {
    "colab": {
      "provenance": [],
      "authorship_tag": "ABX9TyPsYvQ8ddrZT6MrLs+h/2CY",
      "include_colab_link": true
    },
    "kernelspec": {
      "name": "python3",
      "display_name": "Python 3"
    },
    "language_info": {
      "name": "python"
    }
  },
  "cells": [
    {
      "cell_type": "markdown",
      "metadata": {
        "id": "view-in-github",
        "colab_type": "text"
      },
      "source": [
        "<a href=\"https://colab.research.google.com/github/ahsanrazi/LangChain/blob/main/Blog_Generation_Agent.ipynb\" target=\"_parent\"><img src=\"https://colab.research.google.com/assets/colab-badge.svg\" alt=\"Open In Colab\"/></a>"
      ]
    },
    {
      "cell_type": "code",
      "execution_count": 2,
      "metadata": {
        "id": "Wgls9mSQBOAm"
      },
      "outputs": [],
      "source": [
        "!pip install -qU langchain_google_genai\n",
        "!pip install -qU langgraph\n",
        "!pip install -qU langchain_core\n",
        "!pip install -qU langchain-community\n",
        "!pip install -qU duckduckgo-search"
      ]
    },
    {
      "cell_type": "code",
      "source": [
        "import textwrap\n",
        "from IPython.display import Markdown\n",
        "\n",
        "def to_markdown(text) -> Markdown:\n",
        "    text: str = text.replace(\"•\", \"  *\")\n",
        "    return Markdown(textwrap.indent(text, \"> \", predicate=lambda _: True))"
      ],
      "metadata": {
        "id": "5rziX1egBHHy"
      },
      "execution_count": 7,
      "outputs": []
    },
    {
      "cell_type": "code",
      "source": [
        "from google.colab import userdata\n",
        "gemini_api_key = userdata.get('GEMINI_API_KEY').strip()"
      ],
      "metadata": {
        "id": "-nVz54JCBP9f"
      },
      "execution_count": 8,
      "outputs": []
    },
    {
      "cell_type": "code",
      "source": [
        "from typing import List, Dict\n",
        "from typing_extensions import TypedDict\n",
        "\n",
        "# Define State\n",
        "class BlogState(TypedDict):\n",
        "    topic: str\n",
        "    search_queries: List[str]\n",
        "    blog_topics: List[str]\n",
        "    final_topic: str\n",
        "    blog_content: str\n",
        "    image_formated_blog: str\n",
        "    prompts: Dict[str, str]"
      ],
      "metadata": {
        "id": "mcBKst0jBX6F"
      },
      "execution_count": 24,
      "outputs": []
    },
    {
      "cell_type": "code",
      "source": [
        "from langchain_google_genai import ChatGoogleGenerativeAI\n",
        "llm = ChatGoogleGenerativeAI(model=\"gemini-2.0-flash-exp\", api_key = gemini_api_key)"
      ],
      "metadata": {
        "id": "CE3jLdMjBffk"
      },
      "execution_count": 25,
      "outputs": []
    },
    {
      "cell_type": "code",
      "source": [
        "from langchain_core.prompts import PromptTemplate\n",
        "\n",
        "queries_prompt_template = PromptTemplate.from_template(\"\"\"\n",
        "You are an expert in generating effective search queries to discover the latest trends, news, laws, regulations, and recent developments in {year} related to a Topic in United Kingdom.\n",
        "Based on the Topic provided, create a comprehensive and highly relevant search queries that can be used in search engines to find up-to-date information.\n",
        "\n",
        "# The queries should cover:\n",
        "- Latest trends and emerging topics\n",
        "- Recent news and noteworthy events\n",
        "- New or updated laws and regulations\n",
        "- Market insights and innovations\n",
        "- Expert opinions and industry reports\n",
        "\n",
        "# Generate at least 5 specific, diverse, and concise search queries that capture different aspects of the Topic.\n",
        "# Use variations in phrasing to ensure comprehensive search results.\n",
        "# Make sure the queries are unique So that we get diverse search results.\n",
        "# Don't include any irrelevant information in the queries like Markdown, Newlines etc. Only give the search queries.\n",
        "\n",
        "Topic = {topic}\n",
        "\"\"\")"
      ],
      "metadata": {
        "id": "2MfMoA0DBh90"
      },
      "execution_count": 26,
      "outputs": []
    },
    {
      "cell_type": "code",
      "source": [
        "# Generate Queries\n",
        "from datetime import date\n",
        "current_year = date.today().strftime(\"%Y\")\n",
        "\n",
        "def queries(state: BlogState):\n",
        "  topic = state[\"topic\"][0].content\n",
        "  prompt = queries_prompt_template.invoke({\"topic\": topic, \"year\": current_year})\n",
        "  response = llm.invoke(prompt)\n",
        "  content = response.content\n",
        "  response_list = [item.strip('\"') for item in content.split('\\n')]\n",
        "  print(response_list)\n",
        "  return {\"search_queries\": response_list}"
      ],
      "metadata": {
        "id": "fanMN_HcBkLM"
      },
      "execution_count": 27,
      "outputs": []
    },
    {
      "cell_type": "code",
      "source": [
        "from langchain_community.tools import DuckDuckGoSearchResults\n",
        "import time\n",
        "\n",
        "def search_topics(queries):\n",
        "  titles = []\n",
        "  search = DuckDuckGoSearchResults(output_format=\"list\")\n",
        "  for query in queries:\n",
        "    time.sleep(5)\n",
        "    response = search.invoke(query)\n",
        "    for r in response:\n",
        "      titles.append(r['title'])\n",
        "\n",
        "  return titles"
      ],
      "metadata": {
        "id": "QXVapEecBrI8"
      },
      "execution_count": 28,
      "outputs": []
    },
    {
      "cell_type": "code",
      "source": [
        "# DuckDuckGo Search Queries\n",
        "from langchain_community.tools import DuckDuckGoSearchRun\n",
        "\n",
        "def blog_topic(state: BlogState):\n",
        "  queries = state[\"search_queries\"]\n",
        "  topics = search_topics(queries)\n",
        "  print(topics)\n",
        "  return {\"blog_topics\": topics}"
      ],
      "metadata": {
        "id": "rRWoRBEOBmds"
      },
      "execution_count": 29,
      "outputs": []
    },
    {
      "cell_type": "code",
      "source": [
        "from langchain_core.prompts import PromptTemplate\n",
        "\n",
        "final_topic_prompt_template = PromptTemplate.from_template(\"\"\"\n",
        "## Role:\n",
        "You are an **expert content strategist** tasked with selecting the most **engaging and informative** blog topic from the provided list. Your objective is to **maximize audience interest, deliver valuable insights, and encourage readers to click and read the full article**.\n",
        "\n",
        "## Selection Criteria:\n",
        "The chosen topic should meet the following standards:\n",
        "- **High Relevance**: Aligns with current events, trends, or regulations.\n",
        "- **Clear Value Proposition**: Provides useful information or solutions.\n",
        "- **Addresses Common Questions**: Solves widespread confusion or concerns.\n",
        "- **Emotional or Practical Appeal**: Resonates with the target audience, sparking curiosity or urgency.\n",
        "\n",
        "## Instructions:\n",
        "1. **Analyze** the provided list of blog topics.\n",
        "2. **Select** the topic that best meets the selection criteria.\n",
        "3. **Enhance** the chosen title to be more engaging, clickable, and reader-friendly.\n",
        "4. **Keep the final title concise, compelling, and optimized for high engagement.**\n",
        "\n",
        "## Example Blog Titles:\n",
        "- Is It Time To Replace Your Boiler?\n",
        "- Cold Radiators? Let’s Look at the Reasons\n",
        "- Modern Oil Boilers - A Reliable Heating Solution for Homes Across Devon\n",
        "- Why Invest in a New Central Heating System\n",
        "- When Is the Right Time to Replace Your Boiler?\n",
        "- Common Boiler Faults That Are Repaired by Gas Engineers\n",
        "- Air Source Heat Pumps vs. Traditional Boilers: Which Is Right for You?\n",
        "- What Are Smart Thermostats and Are They Worth Installing?\n",
        "- Telltale Signs It’s Time to Replace Your Boiler\n",
        "- Is It Worth Investing in a New Central Heating System?\n",
        "- Common Boiler Faults That Are Repaired by Gas Engineers\n",
        "- Are Smart Thermostats Worth Installing for Gas Central Heating?\n",
        "\n",
        "## Output Format:\n",
        "- **Only provide the final enhanced blog title.**\n",
        "- **Do not include explanations, reasoning, additional text or any pucntuation mark in the blog title.**\n",
        "\n",
        "**List = {list}**\n",
        "\"\"\")"
      ],
      "metadata": {
        "id": "Hlf7QSi1NJYd"
      },
      "execution_count": 30,
      "outputs": []
    },
    {
      "cell_type": "code",
      "source": [
        "# Finalize the topic\n",
        "\n",
        "def final_topic(state: BlogState):\n",
        "  topics = state[\"blog_topics\"]\n",
        "  prompt = final_topic_prompt_template.invoke({\"list\": topics})\n",
        "  response = llm.invoke(prompt)\n",
        "  content = response.content\n",
        "  print(content)\n",
        "\n",
        "  return {\"final_topic\": content}"
      ],
      "metadata": {
        "id": "7UI7gxIoMKDu"
      },
      "execution_count": 31,
      "outputs": []
    },
    {
      "cell_type": "code",
      "source": [
        "def blog_agent(state: BlogState):\n",
        "  from langgraph.graph import MessagesState\n",
        "  from langchain_community.tools import DuckDuckGoSearchRun\n",
        "  from langchain_google_genai import ChatGoogleGenerativeAI\n",
        "  from langchain_core.messages import HumanMessage, SystemMessage\n",
        "  topic = state[\"final_topic\"]\n",
        "  # tool\n",
        "  def duckduckgo_search(query: str) -> str:\n",
        "    \"\"\"\n",
        "    Performs a search on DuckDuckGo using the provided query.\n",
        "    Args:\n",
        "        query (str): The search query to be executed.\n",
        "    Returns:\n",
        "        str: The result of the search query.\n",
        "    \"\"\"\n",
        "    search = DuckDuckGoSearchRun()\n",
        "    result = search.invoke(query)\n",
        "    return result\n",
        "\n",
        "  tool = [duckduckgo_search]\n",
        "  llm = ChatGoogleGenerativeAI(model=\"gemini-2.0-flash-exp\", api_key =  gemini_api_key)\n",
        "  llm_with_tools = llm.bind_tools(tool)\n",
        "\n",
        "\n",
        "\n",
        "# System message\n",
        "  sys_msg = SystemMessage(content=\"\"\"\n",
        "Task: You are an expert Blog post generator. Generate a blog post on the topic given to you by using the examples below as a guide.\n",
        "\n",
        "\n",
        "Examples:\n",
        "\n",
        "Example 1:\n",
        "# Is It Time To Replace Your Boiler?\n",
        "\n",
        "A boiler is the heart of your home’s heating system, working tirelessly behind the scenes to provide hot water and warmth. Often taken for granted, it operates quietly and efficiently—until something goes wrong. Like any appliance, boilers have a limited lifespan and will eventually show signs of wear and tear. Neglecting these warning signs can lead to higher energy bills, costly repairs, and even unexpected breakdowns, leaving you without heat or hot water when you need it most.\n",
        "\n",
        "Recognising when to replace your boiler is crucial to maintaining a safe, efficient, and comfortable home. By upgrading to a modern, energy-efficient model, you can enjoy lower energy costs, better performance, and peace of mind. In this guide, we’ll highlight the key indicators that it might be time to retire your old boiler and invest in a replacement.\n",
        "\n",
        "## 1. Your Boiler is Over 10-15 Years Old\n",
        "\n",
        "The typical lifespan of a boiler is around 10-15 years, depending on the make, model, and maintenance history. Older boilers are often less efficient, costing more to run and repair. Even if your boiler appears to be functioning, upgrading to a modern, energy-efficient model is worth considering. Newer boilers are typically A-rated for efficiency and can save you a significant amount on your energy bills over time.\n",
        "\n",
        "## 2. Frequent Breakdowns and Repairs\n",
        "\n",
        "Regular breakdowns are a clear sign that your boiler is nearing the end of its life. While occasional repairs are to be expected, frequent callouts can quickly become expensive. If you find yourself repeatedly fixing the same issues or spending more than half the cost of a new boiler on repairs, it’s time to invest in a replacement.\n",
        "\n",
        "## 3. Increasing Energy Bills\n",
        "\n",
        "If your energy bills are creeping up despite consistent usage, your boiler might be losing efficiency. As boilers age, their components wear out, making them work harder to produce the same amount of heat. This inefficiency not only affects your wallet but also increases your carbon footprint.\n",
        "\n",
        "## 4. Strange Noises\n",
        "\n",
        "While no boiler is entirely silent, unusual sounds like banging, whistling, or gurgling could indicate a serious problem. These noises may be caused by internal components wearing out, sediment build-up, or even air in the system. Although some of these issues can be repaired, persistent noises are often a sign that your boiler is on its last legs.\n",
        "\n",
        "## 5. Uneven Heating in Your Home\n",
        "\n",
        "If some rooms in your house feel colder than others, it might be a sign that your boiler is struggling to distribute heat effectively. Poor performance can be caused by wear and tear, blockages, or an inability to meet your home’s heating demands. A new boiler can resolve these issues, ensuring consistent warmth throughout your home.\n",
        "\n",
        "## 6. Yellow Flame or Pilot Light Issues\n",
        "\n",
        "A healthy boiler flame should burn bright blue. If you notice a yellow or orange flame, it could indicate incomplete combustion, which may lead to carbon monoxide production. Carbon monoxide is a highly dangerous gas that’s odourless and colourless. If your boiler’s pilot light frequently goes out or the flame changes colour, seek professional help immediately and consider a replacement.\n",
        "\n",
        "## 7. Leaks and Corrosion\n",
        "\n",
        "Water leaks around your boiler or visible signs of corrosion are clear indicators of serious issues. Leaks can damage other components, lead to inefficiency, and even cause structural damage to your home. While small leaks might be repairable, widespread corrosion often means your boiler needs to be replaced.\n",
        "\n",
        "## 8. Outdated Technology\n",
        "\n",
        "Older boilers lack the modern technology found in newer models, such as smart controls, weather compensation, and energy monitoring. These features not only improve convenience but also help optimise efficiency and reduce running costs. If your boiler doesn’t support these advancements, upgrading could be a wise decision.\n",
        "\n",
        "## 9. Failing to Meet Your Heating and Hot Water Needs\n",
        "\n",
        "If your boiler takes longer to heat up, struggles to provide enough hot water, or fails to keep your home warm, it’s time to consider a replacement. Boilers that can no longer cope with your household’s demands are not only inconvenient but also inefficient.\n",
        "\n",
        "## Key Signs You Need a New Boiler\n",
        "\n",
        "Replacing your boiler might seem like a significant investment, but it can save you money and provide peace of mind in the long run. An energy-efficient boiler reduces your heating costs, lowers your carbon footprint, and ensures reliable performance. If you recognise any of the signs above, it’s worth consulting a professional heating engineer to discuss your options. Don’t wait for a complete breakdown—a proactive approach can prevent inconvenience and additional costs during the colder months. The team at South Coast Plumbing and Heating will give you an honest opinion about replacing your boiler - contact us today.\n",
        "\n",
        "\n",
        "Example 2:\n",
        "# When Is the Right Time to Replace Your Boiler?\n",
        "\n",
        "Your boiler is one of the most important appliances in your home, providing hot water and central heating throughout the year. However, like any other household system, boilers don’t last forever. Knowing when to replace your boiler can save you from unexpected breakdowns, costly repairs, and inefficient energy use. In this guide, we’ll explore the key signs that indicate it might be time for an upgrade.\n",
        "\n",
        "## How Long Does a Boiler Last?\n",
        "\n",
        "Most boilers have a lifespan of around 10 to 15 years, depending on the make, model, and how well they’ve been maintained. If your boiler is reaching or exceeding this age, it’s worth considering a replacement, even if it appears to be functioning normally. Older boilers tend to be less efficient, leading to higher energy bills, and they are more prone to faults.\n",
        "\n",
        "Regular servicing can help extend the life of your boiler, but eventually, wear and tear will take its toll. If your boiler is over a decade old, it may not comply with modern energy efficiency standards, meaning you could be spending more on heating than necessary.\n",
        "\n",
        "## Signs You Need a New Boiler\n",
        "\n",
        "If you’re unsure whether your boiler needs replacing, look out for these warning signs:\n",
        "\n",
        "- **Frequent Breakdowns**: If your boiler is constantly needing repairs, replacing it could be more cost-effective in the long run.\n",
        "- **Rising Energy Bills**: An older, inefficient boiler will use more fuel to heat your home, increasing your energy costs.\n",
        "- **Strange Noises**: Banging, whistling, or gurgling sounds could indicate serious internal problems.\n",
        "- **Uneven Heating**: If some rooms are colder than others, your boiler may be struggling to distribute heat effectively.\n",
        "- **Leaks or Corrosion**: Visible signs of damage, such as water leaks or rusting components, suggest your boiler is deteriorating.\n",
        "- **Difficulties Finding Spare Parts**: If your boiler model has been discontinued, sourcing replacement parts can become expensive and difficult.\n",
        "- **Your Boiler Has a Low Efficiency Rating**: Older boilers typically have lower efficiency ratings (G-rated, for example), meaning they waste more energy compared to modern A-rated models.\n",
        "\n",
        "## Benefits of Replacing Your Boiler\n",
        "\n",
        "Investing in a new boiler comes with several advantages. Firstly, modern boilers are far more energy-efficient, which can significantly lower your heating bills. New models are designed to work with smart thermostats, allowing you to control your heating more effectively and reduce unnecessary energy consumption.\n",
        "\n",
        "A new boiler also improves the overall comfort of your home. You’ll enjoy a more consistent and reliable heating system, with fewer disruptions and repairs. Additionally, newer boilers are quieter, take up less space, and are better for the environment due to lower carbon emissions.\n",
        "\n",
        "## Choosing the Right Boiler for Your Home\n",
        "\n",
        "If you’ve decided it’s time to replace your boiler, choosing the right model is essential. Factors to consider include the size of your home, the number of bathrooms, and your household’s hot water demands. Combi boilers are ideal for smaller homes with one bathroom, while system or regular boilers are better suited for larger properties with higher water usage.\n",
        "\n",
        "It’s always best to consult a professional heating engineer before making a decision. At Cheltenham Heating Solutions, we can assess your needs and recommend the most efficient and cost-effective option for your home.\n",
        "\n",
        "## Final Thoughts\n",
        "\n",
        "Replacing your boiler is a big investment, but it’s one that can bring significant benefits in terms of efficiency, comfort, and cost savings. If your boiler is old, unreliable, or struggling to keep up with your heating demands, now might be the right time to upgrade. Speak to our qualified heating experts to explore your options and ensure you get the best system for your requirements.\n",
        "\n",
        "\n",
        "Context:\n",
        "- The blog post should be informative and engaging.\n",
        "- Always Use the attached tool duckduckgo_search to get the latest information about the topic.\n",
        "\n",
        "Constraints:\n",
        "- The blog post should be between 700 to 800 words.\n",
        "- Use clear headings without punctuation marks, similar to the example blogs.\n",
        "- Dont include any punctuation mark in the headings.\n",
        "- Maintain a professional tone throughout the blog.\n",
        "- Keep the Blog Title same as topic don't change it.\n",
        "\n",
        "Output Format:\n",
        "- A well-structured blog post in the Markdown format.\n",
        "- Well-structured sections with clear subheadings.\n",
        "\n",
        "\"\"\")\n",
        "\n",
        "# Node\n",
        "  def assistant(state: MessagesState) -> MessagesState:\n",
        "    return {\"messages\": [llm_with_tools.invoke([sys_msg] + state[\"messages\"])]}\n",
        "\n",
        "  from langgraph.graph import START, StateGraph\n",
        "  from langgraph.prebuilt import tools_condition\n",
        "  from langgraph.prebuilt import ToolNode\n",
        "  from langgraph.graph.state import CompiledStateGraph\n",
        "\n",
        "  builder: StateGraph = StateGraph(MessagesState)\n",
        "\n",
        "  builder.add_node(\"assistant\", assistant)\n",
        "  builder.add_node(\"tools\", ToolNode(tool))\n",
        "\n",
        "\n",
        "  builder.add_edge(START, \"assistant\")\n",
        "  builder.add_conditional_edges(\n",
        "    \"assistant\",\n",
        "    tools_condition,\n",
        "  )\n",
        "  builder.add_edge(\"tools\", \"assistant\")\n",
        "  react_graph: CompiledStateGraph = builder.compile()\n",
        "\n",
        "  message = [HumanMessage(content=f\"Search this query: {topic}\")]\n",
        "  messages = react_graph.invoke({\"messages\": message})\n",
        "  print(messages['messages'][3].content)\n",
        "  return {\"blog_content\": messages['messages'][3].content}"
      ],
      "metadata": {
        "id": "lZILE0VR_cfz"
      },
      "execution_count": 32,
      "outputs": []
    },
    {
      "cell_type": "code",
      "source": [
        "from langchain_core.prompts import PromptTemplate\n",
        "\n",
        "image_blog_prompt_template = PromptTemplate.from_template(\"\"\"\n",
        "Task: You are an expert in enhancing blog posts by strategically placing images to improve reader engagement and visual appeal. Your task is to read and understand the provided Blog content and determine the optimal positions for three images within the text.\n",
        "\n",
        "Instructions:\n",
        "- Carefully read the Blog content to understand its structure, flow, and key points.\n",
        "- Place the first image directly below the Blog title heading.\n",
        "- Identify two additional suitable locations within the Blog content where images can enhance the narrative or emphasize important information.\n",
        "- Insert the marker **### (Image_1 Here) (Image_2 Here) (Image_3 Here)** dynamically at the three chosen locations in the Blog content.\n",
        "\n",
        "Constraints:\n",
        "- Don't change the Blog content. Keep it as it is.\n",
        "- There must be three pictures in the Blog not more than three.\n",
        "- One picture must be below the Blog title heading.\n",
        "- Don't incude any extra information.\n",
        "\n",
        "Blog = {blog}\n",
        "\n",
        "\"\"\")"
      ],
      "metadata": {
        "id": "o7E964O4lsQD"
      },
      "execution_count": 50,
      "outputs": []
    },
    {
      "cell_type": "code",
      "source": [
        "def image_formatted_blog(state: BlogState):\n",
        "  blog = state[\"blog_content\"]\n",
        "  prompt = image_blog_prompt_template.invoke({\"blog\": blog})\n",
        "  response = llm.invoke(prompt)\n",
        "  content = response.content\n",
        "  print(content)\n",
        "  return {\"image_formated_blog\": content}"
      ],
      "metadata": {
        "id": "HABIw2k-lvkq"
      },
      "execution_count": 51,
      "outputs": []
    },
    {
      "cell_type": "code",
      "source": [
        "from langchain_core.prompts import PromptTemplate\n",
        "\n",
        "image_prompt_template = PromptTemplate.from_template(\"\"\"\n",
        "Task: You are an expert in enhancing blog posts by strategically generating images generation prompt to improve reader engagement and visual appeal. Your task is to read and understand the provided Blog content and generate image generation prompt for the model according to the above and below context of the Blog.\n",
        "\n",
        "Instructions:\n",
        "- Carefully read the Blog content to understand its structure, flow, and key points.\n",
        "- Generate image generation prompt for the Model according to the above and below context of the Blog.\n",
        "- Generate image prompt at the the marker **(Image_1 Here) (Image_2 Here) (Image_3 Here)** in the Blog.\n",
        "\n",
        "Constraints:\n",
        "- Don't change the Blog content. Keep it as it is.\n",
        "- The images prompts must align with the Blog content and specific portion in the Blog.\n",
        "- Don't incude any extra information.\n",
        "\n",
        "Output format:\n",
        "- Give the prompts in the dictionary format like image_1 key and prompt value and so on.\n",
        "\n",
        "Blog = {blog}\n",
        "\n",
        "\"\"\")"
      ],
      "metadata": {
        "id": "i8WbE-3N24tp"
      },
      "execution_count": 52,
      "outputs": []
    },
    {
      "cell_type": "code",
      "source": [
        "def image_prompts(state: BlogState):\n",
        "  blog = state[\"image_formated_blog\"]\n",
        "  prompt = image_prompt_template.invoke({\"blog\": blog})\n",
        "  response = llm.invoke(prompt)\n",
        "  content = response.content\n",
        "  print(content)\n",
        "  return {\"prompts\": content}"
      ],
      "metadata": {
        "id": "DuQ41xnb5yvT"
      },
      "execution_count": 53,
      "outputs": []
    },
    {
      "cell_type": "code",
      "source": [
        "from langgraph.graph import START, StateGraph, END\n",
        "from IPython.display import Image, display\n",
        "from langgraph.graph.state import CompiledStateGraph\n",
        "\n",
        "# Graph\n",
        "builder = StateGraph(BlogState)\n",
        "\n",
        "# Define nodes: these do the work\n",
        "builder.add_node(\"queries\", queries)\n",
        "builder.add_node(\"blog_topic\", blog_topic)\n",
        "builder.add_node(\"final_blog_topic\", final_topic)\n",
        "builder.add_node(\"blog_agent\", blog_agent)\n",
        "builder.add_node(\"image_formatted_blog\", image_formatted_blog)\n",
        "builder.add_node(\"image_prompts\", image_prompts)\n",
        "\n",
        "# Define edges: these determine how the control flow moves\n",
        "builder.add_edge(START, \"queries\")\n",
        "builder.add_edge(\"queries\", \"blog_topic\")\n",
        "builder.add_edge(\"blog_topic\", \"final_blog_topic\")\n",
        "builder.add_edge(\"final_blog_topic\", \"blog_agent\")\n",
        "builder.add_edge(\"blog_agent\", \"image_formatted_blog\")\n",
        "builder.add_edge(\"image_formatted_blog\", \"image_prompts\")\n",
        "builder.add_edge(\"image_prompts\", END)\n",
        "\n",
        "graph= builder.compile()\n",
        "\n",
        "# Show\n",
        "display(Image(graph.get_graph(xray=True).draw_mermaid_png()))"
      ],
      "metadata": {
        "colab": {
          "base_uri": "https://localhost:8080/",
          "height": 747
        },
        "id": "6c4y57WpBpKz",
        "outputId": "37a385de-3efa-467e-af93-6f63f795d804"
      },
      "execution_count": 54,
      "outputs": [
        {
          "output_type": "display_data",
          "data": {
            "image/png": "[encoded data removed]",
            "text/plain": [
              "<IPython.core.display.Image object>"
            ]
          },
          "metadata": {}
        }
      ]
    },
    {
      "cell_type": "code",
      "source": [
        "from langchain_core.messages import HumanMessage\n",
        "\n",
        "topic = [HumanMessage(content=\"Gas Boilers\")]\n",
        "result = graph.invoke({\"topic\": topic})"
      ],
      "metadata": {
        "colab": {
          "base_uri": "https://localhost:8080/"
        },
        "id": "IXoLH5PVBuQU",
        "outputId": "95a02ff3-45e5-476b-8a86-fab7e815b214"
      },
      "execution_count": 55,
      "outputs": [
        {
          "output_type": "stream",
          "name": "stdout",
          "text": [
            "['Gas boiler ban UK 2025', 'UK gas boiler replacement regulations 2025', 'Heat pump incentives UK 2025 gas boiler alternative', 'Future of gas boilers UK 2025 government policy', 'Gas boiler market trends UK 2025']\n",
            "['What is the gas boiler ban and will it take affect in 2027 ...', 'Gas Boiler Ban: Will They Be Phased Out in 2025 or 2035? - Boiler Guide', 'UK scraps plan to ban gas boilers by 2035: Can the ... - Euronews', 'UK Gas Boiler Ban - Gas Boilers Phased Out 2025-2035 - Heatable', 'UK Gas Boiler Ban - In Effect from 2025 or 2035? - GreenMatch.co.uk', \"What Will Replace Gas Boilers in 2025? (Don't Worry, You Can ... - Heatable\", 'Gas Boiler Ban UK - Should You Replace Yours By 2025? - Energy Guide', 'Gas Boiler Ban: Will They Be Phased Out in 2025 or 2035? - Boiler Guide', 'Plans, policies, and incentives: What to expect from the heat pump ...', 'Boiler Upgrade Scheme (BUS) 2025: Eligibility, Grants & How to Apply', 'Heat Pump UK Government Grants 2025 | How to Apply - The Eco Experts', 'Who Qualifies for a Boiler Grant in 2025? - iheat.co.uk', 'UK scraps plan to ban gas boilers by 2035: Can the government boost ...', 'What is the gas boiler ban and will it take affect in 2027? | Homebuilding', 'UK Gas Boiler Ban - In Effect from 2025 or 2035? - GreenMatch.co.uk', \"The future of gas boilers, the 2035 'ban' and the response from government\", 'UK Gas Boiler Ban - In Effect from 2025 or 2035? - GreenMatch.co.uk', 'What Will Replace Gas Boilers in 2025? - Cooper Magazine', 'Boiler Statistics & Trends (UK & Beyond) - Heatable', \"What Will Replace Gas Boilers in 2025? (Don't Worry, You Can ... - Heatable\"]\n",
            "Gas Boiler Ban 2025 or 2035 What You Need to Know\n",
            "# Gas Boiler Ban 2025 or 2035 What You Need to Know\n",
            "\n",
            "The future of home heating is a topic of much discussion, especially when it comes to gas boilers. With increasing focus on reducing carbon emissions and promoting sustainable energy solutions, many homeowners are wondering about the future of their heating systems. Concerns about potential bans on gas boilers have been circulating, and it's essential to stay informed to make the best decisions for your home and budget.\n",
            "\n",
            "## Understanding the Proposed Ban\n",
            "\n",
            "Originally, there were discussions around phasing out gas boilers as early as 2025 for new builds, with a more comprehensive ban expected by 2035. These proposals were part of broader initiatives like the Future Homes Standard and the Warm Homes Plan, aimed at encouraging the adoption of low-carbon heating alternatives such as heat pumps. The goal was to reduce the UK's carbon footprint and meet climate change targets. However, recent reports indicate a shift in the government's approach.\n",
            "\n",
            "## Current Status A Change of Plans\n",
            "\n",
            "As of recent updates, the UK government has reportedly scrapped the proposed ban on gas boilers by 2035. Instead of enforcing a ban, the focus is now on encouraging homeowners to switch to greener heating options through incentives and support schemes. This change provides homeowners with more flexibility and choice regarding their heating systems. For those who prefer to stick with gas boilers, this means you can still replace your existing boiler with a new one when the time comes.\n",
            "\n",
            "## Why the Shift\n",
            "\n",
            "The decision to move away from an outright ban comes from a need to ensure a balanced and practical transition to low-carbon heating. Concerns about the cost and feasibility of replacing gas boilers with alternatives like heat pumps for all homes have played a significant role. By prioritizing incentives over mandates, the government aims to encourage a gradual shift towards more sustainable solutions without burdening homeowners with hefty upfront costs.\n",
            "\n",
            "## Implications for Homeowners\n",
            "\n",
            "So, what does this mean for you? Here are the key takeaways:\n",
            "\n",
            "### Continued Use of Gas Boilers\n",
            "You can continue using gas boilers, and when your current boiler reaches the end of its life, replacing it with a new gas boiler remains a viable option.\n",
            "\n",
            "### No Forced Upgrades\n",
            "There will be no mandatory replacement of gas boilers with low-carbon alternatives before you are ready or able to do so.\n",
            "\n",
            "### Incentives for Green Alternatives\n",
            "The government is likely to introduce or expand schemes that offer financial support for homeowners who choose to install heat pumps or other renewable heating systems.\n",
            "\n",
            "### Future Homes Standard\n",
            "New builds will still need to comply with the Future Homes Standard, which promotes energy efficiency and the use of low-carbon heating technologies.\n",
            "\n",
            "## Exploring Low-Carbon Heating Alternatives\n",
            "\n",
            "While gas boilers remain an option, it's worth exploring alternative heating solutions that can reduce your carbon footprint and potentially lower your energy bills in the long run. Some popular options include:\n",
            "\n",
            "### Heat Pumps\n",
            "Heat pumps extract heat from the outside air or ground and transfer it into your home. They are highly efficient and can significantly reduce carbon emissions.\n",
            "\n",
            "### Solar Thermal Systems\n",
            "Solar thermal systems use solar panels to heat water, which can then be used for heating and hot water.\n",
            "\n",
            "### Biomass Boilers\n",
            "Biomass boilers burn wood pellets or other organic materials to generate heat. They are a renewable energy source, but it’s important to ensure they meet emission standards.\n",
            "\n",
            "### Hybrid Systems\n",
            "Hybrid systems combine a gas boiler with a renewable energy source, such as a heat pump, to provide efficient and reliable heating.\n",
            "\n",
            "## Government Support and Incentives\n",
            "\n",
            "To encourage the adoption of low-carbon heating systems, the government offers various incentives and support schemes. One notable example is the Boiler Upgrade Scheme, which provides grants to homeowners who install heat pumps. Keep an eye out for new or expanded schemes that could help you transition to a more sustainable heating solution.\n",
            "\n",
            "## Making Informed Decisions\n",
            "\n",
            "Choosing the right heating system for your home depends on various factors, including your budget, the size of your property, and your energy needs. It's essential to do your research and consider the long-term costs and benefits of each option. Consulting with a qualified heating engineer can provide valuable insights and help you make an informed decision.\n",
            "\n",
            "## Staying Updated\n",
            "\n",
            "The energy landscape is constantly evolving, with new technologies and policies emerging regularly. Stay informed about the latest developments by following industry news, government announcements, and expert opinions. This will enable you to make proactive decisions that align with your needs and contribute to a more sustainable future.\n",
            "\n",
            "In conclusion, while the initial plans for a gas boiler ban have been adjusted, the focus on promoting greener heating solutions remains strong. Homeowners now have the flexibility to choose the best option for their circumstances, with continued support and incentives for those who opt for low-carbon alternatives.\n",
            "# Gas Boiler Ban 2025 or 2035 What You Need to Know\n",
            "\n",
            "### (Image_1 Here)\n",
            "\n",
            "The future of home heating is a topic of much discussion, especially when it comes to gas boilers. With increasing focus on reducing carbon emissions and promoting sustainable energy solutions, many homeowners are wondering about the future of their heating systems. Concerns about potential bans on gas boilers have been circulating, and it's essential to stay informed to make the best decisions for your home and budget.\n",
            "\n",
            "## Understanding the Proposed Ban\n",
            "\n",
            "Originally, there were discussions around phasing out gas boilers as early as 2025 for new builds, with a more comprehensive ban expected by 2035. These proposals were part of broader initiatives like the Future Homes Standard and the Warm Homes Plan, aimed at encouraging the adoption of low-carbon heating alternatives such as heat pumps. The goal was to reduce the UK's carbon footprint and meet climate change targets. However, recent reports indicate a shift in the government's approach.\n",
            "\n",
            "## Current Status A Change of Plans\n",
            "\n",
            "As of recent updates, the UK government has reportedly scrapped the proposed ban on gas boilers by 2035. Instead of enforcing a ban, the focus is now on encouraging homeowners to switch to greener heating options through incentives and support schemes. This change provides homeowners with more flexibility and choice regarding their heating systems. For those who prefer to stick with gas boilers, this means you can still replace your existing boiler with a new one when the time comes.\n",
            "\n",
            "## Why the Shift\n",
            "\n",
            "The decision to move away from an outright ban comes from a need to ensure a balanced and practical transition to low-carbon heating. Concerns about the cost and feasibility of replacing gas boilers with alternatives like heat pumps for all homes have played a significant role. By prioritizing incentives over mandates, the government aims to encourage a gradual shift towards more sustainable solutions without burdening homeowners with hefty upfront costs.\n",
            "\n",
            "## Implications for Homeowners\n",
            "\n",
            "So, what does this mean for you? Here are the key takeaways:\n",
            "\n",
            "### Continued Use of Gas Boilers\n",
            "You can continue using gas boilers, and when your current boiler reaches the end of its life, replacing it with a new gas boiler remains a viable option.\n",
            "\n",
            "### No Forced Upgrades\n",
            "There will be no mandatory replacement of gas boilers with low-carbon alternatives before you are ready or able to do so.\n",
            "\n",
            "### Incentives for Green Alternatives\n",
            "The government is likely to introduce or expand schemes that offer financial support for homeowners who choose to install heat pumps or other renewable heating systems.\n",
            "\n",
            "### Future Homes Standard\n",
            "New builds will still need to comply with the Future Homes Standard, which promotes energy efficiency and the use of low-carbon heating technologies.\n",
            "\n",
            "### (Image_2 Here)\n",
            "\n",
            "## Exploring Low-Carbon Heating Alternatives\n",
            "\n",
            "While gas boilers remain an option, it's worth exploring alternative heating solutions that can reduce your carbon footprint and potentially lower your energy bills in the long run. Some popular options include:\n",
            "\n",
            "### Heat Pumps\n",
            "Heat pumps extract heat from the outside air or ground and transfer it into your home. They are highly efficient and can significantly reduce carbon emissions.\n",
            "\n",
            "### Solar Thermal Systems\n",
            "Solar thermal systems use solar panels to heat water, which can then be used for heating and hot water.\n",
            "\n",
            "### Biomass Boilers\n",
            "Biomass boilers burn wood pellets or other organic materials to generate heat. They are a renewable energy source, but it’s important to ensure they meet emission standards.\n",
            "\n",
            "### Hybrid Systems\n",
            "Hybrid systems combine a gas boiler with a renewable energy source, such as a heat pump, to provide efficient and reliable heating.\n",
            "\n",
            "## Government Support and Incentives\n",
            "\n",
            "To encourage the adoption of low-carbon heating systems, the government offers various incentives and support schemes. One notable example is the Boiler Upgrade Scheme, which provides grants to homeowners who install heat pumps. Keep an eye out for new or expanded schemes that could help you transition to a more sustainable heating solution.\n",
            "\n",
            "### (Image_3 Here)\n",
            "\n",
            "## Making Informed Decisions\n",
            "\n",
            "Choosing the right heating system for your home depends on various factors, including your budget, the size of your property, and your energy needs. It's essential to do your research and consider the long-term costs and benefits of each option. Consulting with a qualified heating engineer can provide valuable insights and help you make an informed decision.\n",
            "\n",
            "## Staying Updated\n",
            "\n",
            "The energy landscape is constantly evolving, with new technologies and policies emerging regularly. Stay informed about the latest developments by following industry news, government announcements, and expert opinions. This will enable you to make proactive decisions that align with your needs and contribute to a more sustainable future.\n",
            "\n",
            "In conclusion, while the initial plans for a gas boiler ban have been adjusted, the focus on promoting greener heating solutions remains strong. Homeowners now have the flexibility to choose the best option for their circumstances, with continued support and incentives for those who opt for low-carbon alternatives.\n",
            "```json\n",
            "{\n",
            "\"image_1\": \"A cozy home interior with a traditional gas boiler in the background, contrasted with a futuristic, energy-efficient home showcasing solar panels and a modern heat pump. The image should convey the transition from old to new heating technologies.\",\n",
            "\"image_2\": \"A split-screen image showcasing a traditional gas boiler on one side and a modern heat pump system on the other. The heat pump side should highlight its eco-friendly features and sleek design, emphasizing energy efficiency and sustainability.\",\n",
            "\"image_3\": \"A homeowner in consultation with a qualified heating engineer, reviewing options for a new heating system. The setting is a well-lit, modern home office with brochures and technical diagrams visible. The image should convey trust, expertise, and informed decision-making.\"\n",
            "}\n",
            "```\n"
          ]
        }
      ]
    },
    {
      "cell_type": "code",
      "source": [
        "result"
      ],
      "metadata": {
        "colab": {
          "base_uri": "https://localhost:8080/"
        },
        "id": "QYWBDiTzE89E",
        "outputId": "08518370-f307-4913-ae4b-ecb30ed5a7d1"
      },
      "execution_count": 56,
      "outputs": [
        {
          "output_type": "execute_result",
          "data": {
            "text/plain": [
              "{'topic': [HumanMessage(content='Gas Boilers', additional_kwargs={}, response_metadata={})],\n",
              " 'search_queries': ['Gas boiler ban UK 2025',\n",
              "  'UK gas boiler replacement regulations 2025',\n",
              "  'Heat pump incentives UK 2025 gas boiler alternative',\n",
              "  'Future of gas boilers UK 2025 government policy',\n",
              "  'Gas boiler market trends UK 2025'],\n",
              " 'blog_topics': ['What is the gas boiler ban and will it take affect in 2027 ...',\n",
              "  'Gas Boiler Ban: Will They Be Phased Out in 2025 or 2035? - Boiler Guide',\n",
              "  'UK scraps plan to ban gas boilers by 2035: Can the ... - Euronews',\n",
              "  'UK Gas Boiler Ban - Gas Boilers Phased Out 2025-2035 - Heatable',\n",
              "  'UK Gas Boiler Ban - In Effect from 2025 or 2035? - GreenMatch.co.uk',\n",
              "  \"What Will Replace Gas Boilers in 2025? (Don't Worry, You Can ... - Heatable\",\n",
              "  'Gas Boiler Ban UK - Should You Replace Yours By 2025? - Energy Guide',\n",
              "  'Gas Boiler Ban: Will They Be Phased Out in 2025 or 2035? - Boiler Guide',\n",
              "  'Plans, policies, and incentives: What to expect from the heat pump ...',\n",
              "  'Boiler Upgrade Scheme (BUS) 2025: Eligibility, Grants & How to Apply',\n",
              "  'Heat Pump UK Government Grants 2025 | How to Apply - The Eco Experts',\n",
              "  'Who Qualifies for a Boiler Grant in 2025? - iheat.co.uk',\n",
              "  'UK scraps plan to ban gas boilers by 2035: Can the government boost ...',\n",
              "  'What is the gas boiler ban and will it take affect in 2027? | Homebuilding',\n",
              "  'UK Gas Boiler Ban - In Effect from 2025 or 2035? - GreenMatch.co.uk',\n",
              "  \"The future of gas boilers, the 2035 'ban' and the response from government\",\n",
              "  'UK Gas Boiler Ban - In Effect from 2025 or 2035? - GreenMatch.co.uk',\n",
              "  'What Will Replace Gas Boilers in 2025? - Cooper Magazine',\n",
              "  'Boiler Statistics & Trends (UK & Beyond) - Heatable',\n",
              "  \"What Will Replace Gas Boilers in 2025? (Don't Worry, You Can ... - Heatable\"],\n",
              " 'final_topic': 'Gas Boiler Ban 2025 or 2035 What You Need to Know',\n",
              " 'blog_content': \"# Gas Boiler Ban 2025 or 2035 What You Need to Know\\n\\nThe future of home heating is a topic of much discussion, especially when it comes to gas boilers. With increasing focus on reducing carbon emissions and promoting sustainable energy solutions, many homeowners are wondering about the future of their heating systems. Concerns about potential bans on gas boilers have been circulating, and it's essential to stay informed to make the best decisions for your home and budget.\\n\\n## Understanding the Proposed Ban\\n\\nOriginally, there were discussions around phasing out gas boilers as early as 2025 for new builds, with a more comprehensive ban expected by 2035. These proposals were part of broader initiatives like the Future Homes Standard and the Warm Homes Plan, aimed at encouraging the adoption of low-carbon heating alternatives such as heat pumps. The goal was to reduce the UK's carbon footprint and meet climate change targets. However, recent reports indicate a shift in the government's approach.\\n\\n## Current Status A Change of Plans\\n\\nAs of recent updates, the UK government has reportedly scrapped the proposed ban on gas boilers by 2035. Instead of enforcing a ban, the focus is now on encouraging homeowners to switch to greener heating options through incentives and support schemes. This change provides homeowners with more flexibility and choice regarding their heating systems. For those who prefer to stick with gas boilers, this means you can still replace your existing boiler with a new one when the time comes.\\n\\n## Why the Shift\\n\\nThe decision to move away from an outright ban comes from a need to ensure a balanced and practical transition to low-carbon heating. Concerns about the cost and feasibility of replacing gas boilers with alternatives like heat pumps for all homes have played a significant role. By prioritizing incentives over mandates, the government aims to encourage a gradual shift towards more sustainable solutions without burdening homeowners with hefty upfront costs.\\n\\n## Implications for Homeowners\\n\\nSo, what does this mean for you? Here are the key takeaways:\\n\\n### Continued Use of Gas Boilers\\nYou can continue using gas boilers, and when your current boiler reaches the end of its life, replacing it with a new gas boiler remains a viable option.\\n\\n### No Forced Upgrades\\nThere will be no mandatory replacement of gas boilers with low-carbon alternatives before you are ready or able to do so.\\n\\n### Incentives for Green Alternatives\\nThe government is likely to introduce or expand schemes that offer financial support for homeowners who choose to install heat pumps or other renewable heating systems.\\n\\n### Future Homes Standard\\nNew builds will still need to comply with the Future Homes Standard, which promotes energy efficiency and the use of low-carbon heating technologies.\\n\\n## Exploring Low-Carbon Heating Alternatives\\n\\nWhile gas boilers remain an option, it's worth exploring alternative heating solutions that can reduce your carbon footprint and potentially lower your energy bills in the long run. Some popular options include:\\n\\n### Heat Pumps\\nHeat pumps extract heat from the outside air or ground and transfer it into your home. They are highly efficient and can significantly reduce carbon emissions.\\n\\n### Solar Thermal Systems\\nSolar thermal systems use solar panels to heat water, which can then be used for heating and hot water.\\n\\n### Biomass Boilers\\nBiomass boilers burn wood pellets or other organic materials to generate heat. They are a renewable energy source, but it’s important to ensure they meet emission standards.\\n\\n### Hybrid Systems\\nHybrid systems combine a gas boiler with a renewable energy source, such as a heat pump, to provide efficient and reliable heating.\\n\\n## Government Support and Incentives\\n\\nTo encourage the adoption of low-carbon heating systems, the government offers various incentives and support schemes. One notable example is the Boiler Upgrade Scheme, which provides grants to homeowners who install heat pumps. Keep an eye out for new or expanded schemes that could help you transition to a more sustainable heating solution.\\n\\n## Making Informed Decisions\\n\\nChoosing the right heating system for your home depends on various factors, including your budget, the size of your property, and your energy needs. It's essential to do your research and consider the long-term costs and benefits of each option. Consulting with a qualified heating engineer can provide valuable insights and help you make an informed decision.\\n\\n## Staying Updated\\n\\nThe energy landscape is constantly evolving, with new technologies and policies emerging regularly. Stay informed about the latest developments by following industry news, government announcements, and expert opinions. This will enable you to make proactive decisions that align with your needs and contribute to a more sustainable future.\\n\\nIn conclusion, while the initial plans for a gas boiler ban have been adjusted, the focus on promoting greener heating solutions remains strong. Homeowners now have the flexibility to choose the best option for their circumstances, with continued support and incentives for those who opt for low-carbon alternatives.\",\n",
              " 'image_formated_blog': \"# Gas Boiler Ban 2025 or 2035 What You Need to Know\\n\\n### (Image_1 Here)\\n\\nThe future of home heating is a topic of much discussion, especially when it comes to gas boilers. With increasing focus on reducing carbon emissions and promoting sustainable energy solutions, many homeowners are wondering about the future of their heating systems. Concerns about potential bans on gas boilers have been circulating, and it's essential to stay informed to make the best decisions for your home and budget.\\n\\n## Understanding the Proposed Ban\\n\\nOriginally, there were discussions around phasing out gas boilers as early as 2025 for new builds, with a more comprehensive ban expected by 2035. These proposals were part of broader initiatives like the Future Homes Standard and the Warm Homes Plan, aimed at encouraging the adoption of low-carbon heating alternatives such as heat pumps. The goal was to reduce the UK's carbon footprint and meet climate change targets. However, recent reports indicate a shift in the government's approach.\\n\\n## Current Status A Change of Plans\\n\\nAs of recent updates, the UK government has reportedly scrapped the proposed ban on gas boilers by 2035. Instead of enforcing a ban, the focus is now on encouraging homeowners to switch to greener heating options through incentives and support schemes. This change provides homeowners with more flexibility and choice regarding their heating systems. For those who prefer to stick with gas boilers, this means you can still replace your existing boiler with a new one when the time comes.\\n\\n## Why the Shift\\n\\nThe decision to move away from an outright ban comes from a need to ensure a balanced and practical transition to low-carbon heating. Concerns about the cost and feasibility of replacing gas boilers with alternatives like heat pumps for all homes have played a significant role. By prioritizing incentives over mandates, the government aims to encourage a gradual shift towards more sustainable solutions without burdening homeowners with hefty upfront costs.\\n\\n## Implications for Homeowners\\n\\nSo, what does this mean for you? Here are the key takeaways:\\n\\n### Continued Use of Gas Boilers\\nYou can continue using gas boilers, and when your current boiler reaches the end of its life, replacing it with a new gas boiler remains a viable option.\\n\\n### No Forced Upgrades\\nThere will be no mandatory replacement of gas boilers with low-carbon alternatives before you are ready or able to do so.\\n\\n### Incentives for Green Alternatives\\nThe government is likely to introduce or expand schemes that offer financial support for homeowners who choose to install heat pumps or other renewable heating systems.\\n\\n### Future Homes Standard\\nNew builds will still need to comply with the Future Homes Standard, which promotes energy efficiency and the use of low-carbon heating technologies.\\n\\n### (Image_2 Here)\\n\\n## Exploring Low-Carbon Heating Alternatives\\n\\nWhile gas boilers remain an option, it's worth exploring alternative heating solutions that can reduce your carbon footprint and potentially lower your energy bills in the long run. Some popular options include:\\n\\n### Heat Pumps\\nHeat pumps extract heat from the outside air or ground and transfer it into your home. They are highly efficient and can significantly reduce carbon emissions.\\n\\n### Solar Thermal Systems\\nSolar thermal systems use solar panels to heat water, which can then be used for heating and hot water.\\n\\n### Biomass Boilers\\nBiomass boilers burn wood pellets or other organic materials to generate heat. They are a renewable energy source, but it’s important to ensure they meet emission standards.\\n\\n### Hybrid Systems\\nHybrid systems combine a gas boiler with a renewable energy source, such as a heat pump, to provide efficient and reliable heating.\\n\\n## Government Support and Incentives\\n\\nTo encourage the adoption of low-carbon heating systems, the government offers various incentives and support schemes. One notable example is the Boiler Upgrade Scheme, which provides grants to homeowners who install heat pumps. Keep an eye out for new or expanded schemes that could help you transition to a more sustainable heating solution.\\n\\n### (Image_3 Here)\\n\\n## Making Informed Decisions\\n\\nChoosing the right heating system for your home depends on various factors, including your budget, the size of your property, and your energy needs. It's essential to do your research and consider the long-term costs and benefits of each option. Consulting with a qualified heating engineer can provide valuable insights and help you make an informed decision.\\n\\n## Staying Updated\\n\\nThe energy landscape is constantly evolving, with new technologies and policies emerging regularly. Stay informed about the latest developments by following industry news, government announcements, and expert opinions. This will enable you to make proactive decisions that align with your needs and contribute to a more sustainable future.\\n\\nIn conclusion, while the initial plans for a gas boiler ban have been adjusted, the focus on promoting greener heating solutions remains strong. Homeowners now have the flexibility to choose the best option for their circumstances, with continued support and incentives for those who opt for low-carbon alternatives.\",\n",
              " 'prompts': '```json\\n{\\n\"image_1\": \"A cozy home interior with a traditional gas boiler in the background, contrasted with a futuristic, energy-efficient home showcasing solar panels and a modern heat pump. The image should convey the transition from old to new heating technologies.\",\\n\"image_2\": \"A split-screen image showcasing a traditional gas boiler on one side and a modern heat pump system on the other. The heat pump side should highlight its eco-friendly features and sleek design, emphasizing energy efficiency and sustainability.\",\\n\"image_3\": \"A homeowner in consultation with a qualified heating engineer, reviewing options for a new heating system. The setting is a well-lit, modern home office with brochures and technical diagrams visible. The image should convey trust, expertise, and informed decision-making.\"\\n}\\n```'}"
            ]
          },
          "metadata": {},
          "execution_count": 56
        }
      ]
    },
    {
      "cell_type": "code",
      "source": [
        "to_markdown(result['blog_content'])"
      ],
      "metadata": {
        "colab": {
          "base_uri": "https://localhost:8080/",
          "height": 1000
        },
        "id": "FKBRF4OOamfF",
        "outputId": "44b36a74-0a04-468f-dd6f-0d011ed0f714"
      },
      "execution_count": 57,
      "outputs": [
        {
          "output_type": "execute_result",
          "data": {
            "text/plain": [
              "<IPython.core.display.Markdown object>"
            ],
            "text/markdown": "> # Gas Boiler Ban 2025 or 2035 What You Need to Know\n> \n> The future of home heating is a topic of much discussion, especially when it comes to gas boilers. With increasing focus on reducing carbon emissions and promoting sustainable energy solutions, many homeowners are wondering about the future of their heating systems. Concerns about potential bans on gas boilers have been circulating, and it's essential to stay informed to make the best decisions for your home and budget.\n> \n> ## Understanding the Proposed Ban\n> \n> Originally, there were discussions around phasing out gas boilers as early as 2025 for new builds, with a more comprehensive ban expected by 2035. These proposals were part of broader initiatives like the Future Homes Standard and the Warm Homes Plan, aimed at encouraging the adoption of low-carbon heating alternatives such as heat pumps. The goal was to reduce the UK's carbon footprint and meet climate change targets. However, recent reports indicate a shift in the government's approach.\n> \n> ## Current Status A Change of Plans\n> \n> As of recent updates, the UK government has reportedly scrapped the proposed ban on gas boilers by 2035. Instead of enforcing a ban, the focus is now on encouraging homeowners to switch to greener heating options through incentives and support schemes. This change provides homeowners with more flexibility and choice regarding their heating systems. For those who prefer to stick with gas boilers, this means you can still replace your existing boiler with a new one when the time comes.\n> \n> ## Why the Shift\n> \n> The decision to move away from an outright ban comes from a need to ensure a balanced and practical transition to low-carbon heating. Concerns about the cost and feasibility of replacing gas boilers with alternatives like heat pumps for all homes have played a significant role. By prioritizing incentives over mandates, the government aims to encourage a gradual shift towards more sustainable solutions without burdening homeowners with hefty upfront costs.\n> \n> ## Implications for Homeowners\n> \n> So, what does this mean for you? Here are the key takeaways:\n> \n> ### Continued Use of Gas Boilers\n> You can continue using gas boilers, and when your current boiler reaches the end of its life, replacing it with a new gas boiler remains a viable option.\n> \n> ### No Forced Upgrades\n> There will be no mandatory replacement of gas boilers with low-carbon alternatives before you are ready or able to do so.\n> \n> ### Incentives for Green Alternatives\n> The government is likely to introduce or expand schemes that offer financial support for homeowners who choose to install heat pumps or other renewable heating systems.\n> \n> ### Future Homes Standard\n> New builds will still need to comply with the Future Homes Standard, which promotes energy efficiency and the use of low-carbon heating technologies.\n> \n> ## Exploring Low-Carbon Heating Alternatives\n> \n> While gas boilers remain an option, it's worth exploring alternative heating solutions that can reduce your carbon footprint and potentially lower your energy bills in the long run. Some popular options include:\n> \n> ### Heat Pumps\n> Heat pumps extract heat from the outside air or ground and transfer it into your home. They are highly efficient and can significantly reduce carbon emissions.\n> \n> ### Solar Thermal Systems\n> Solar thermal systems use solar panels to heat water, which can then be used for heating and hot water.\n> \n> ### Biomass Boilers\n> Biomass boilers burn wood pellets or other organic materials to generate heat. They are a renewable energy source, but it’s important to ensure they meet emission standards.\n> \n> ### Hybrid Systems\n> Hybrid systems combine a gas boiler with a renewable energy source, such as a heat pump, to provide efficient and reliable heating.\n> \n> ## Government Support and Incentives\n> \n> To encourage the adoption of low-carbon heating systems, the government offers various incentives and support schemes. One notable example is the Boiler Upgrade Scheme, which provides grants to homeowners who install heat pumps. Keep an eye out for new or expanded schemes that could help you transition to a more sustainable heating solution.\n> \n> ## Making Informed Decisions\n> \n> Choosing the right heating system for your home depends on various factors, including your budget, the size of your property, and your energy needs. It's essential to do your research and consider the long-term costs and benefits of each option. Consulting with a qualified heating engineer can provide valuable insights and help you make an informed decision.\n> \n> ## Staying Updated\n> \n> The energy landscape is constantly evolving, with new technologies and policies emerging regularly. Stay informed about the latest developments by following industry news, government announcements, and expert opinions. This will enable you to make proactive decisions that align with your needs and contribute to a more sustainable future.\n> \n> In conclusion, while the initial plans for a gas boiler ban have been adjusted, the focus on promoting greener heating solutions remains strong. Homeowners now have the flexibility to choose the best option for their circumstances, with continued support and incentives for those who opt for low-carbon alternatives."
          },
          "metadata": {},
          "execution_count": 57
        }
      ]
    },
    {
      "cell_type": "code",
      "source": [
        "to_markdown(result['image_formated_blog'])"
      ],
      "metadata": {
        "colab": {
          "base_uri": "https://localhost:8080/",
          "height": 1000
        },
        "id": "hITHCJCRkBMc",
        "outputId": "806847c1-0cc5-413f-9907-aa2c0d5ebf55"
      },
      "execution_count": 58,
      "outputs": [
        {
          "output_type": "execute_result",
          "data": {
            "text/plain": [
              "<IPython.core.display.Markdown object>"
            ],
            "text/markdown": "> # Gas Boiler Ban 2025 or 2035 What You Need to Know\n> \n> ### (Image_1 Here)\n> \n> The future of home heating is a topic of much discussion, especially when it comes to gas boilers. With increasing focus on reducing carbon emissions and promoting sustainable energy solutions, many homeowners are wondering about the future of their heating systems. Concerns about potential bans on gas boilers have been circulating, and it's essential to stay informed to make the best decisions for your home and budget.\n> \n> ## Understanding the Proposed Ban\n> \n> Originally, there were discussions around phasing out gas boilers as early as 2025 for new builds, with a more comprehensive ban expected by 2035. These proposals were part of broader initiatives like the Future Homes Standard and the Warm Homes Plan, aimed at encouraging the adoption of low-carbon heating alternatives such as heat pumps. The goal was to reduce the UK's carbon footprint and meet climate change targets. However, recent reports indicate a shift in the government's approach.\n> \n> ## Current Status A Change of Plans\n> \n> As of recent updates, the UK government has reportedly scrapped the proposed ban on gas boilers by 2035. Instead of enforcing a ban, the focus is now on encouraging homeowners to switch to greener heating options through incentives and support schemes. This change provides homeowners with more flexibility and choice regarding their heating systems. For those who prefer to stick with gas boilers, this means you can still replace your existing boiler with a new one when the time comes.\n> \n> ## Why the Shift\n> \n> The decision to move away from an outright ban comes from a need to ensure a balanced and practical transition to low-carbon heating. Concerns about the cost and feasibility of replacing gas boilers with alternatives like heat pumps for all homes have played a significant role. By prioritizing incentives over mandates, the government aims to encourage a gradual shift towards more sustainable solutions without burdening homeowners with hefty upfront costs.\n> \n> ## Implications for Homeowners\n> \n> So, what does this mean for you? Here are the key takeaways:\n> \n> ### Continued Use of Gas Boilers\n> You can continue using gas boilers, and when your current boiler reaches the end of its life, replacing it with a new gas boiler remains a viable option.\n> \n> ### No Forced Upgrades\n> There will be no mandatory replacement of gas boilers with low-carbon alternatives before you are ready or able to do so.\n> \n> ### Incentives for Green Alternatives\n> The government is likely to introduce or expand schemes that offer financial support for homeowners who choose to install heat pumps or other renewable heating systems.\n> \n> ### Future Homes Standard\n> New builds will still need to comply with the Future Homes Standard, which promotes energy efficiency and the use of low-carbon heating technologies.\n> \n> ### (Image_2 Here)\n> \n> ## Exploring Low-Carbon Heating Alternatives\n> \n> While gas boilers remain an option, it's worth exploring alternative heating solutions that can reduce your carbon footprint and potentially lower your energy bills in the long run. Some popular options include:\n> \n> ### Heat Pumps\n> Heat pumps extract heat from the outside air or ground and transfer it into your home. They are highly efficient and can significantly reduce carbon emissions.\n> \n> ### Solar Thermal Systems\n> Solar thermal systems use solar panels to heat water, which can then be used for heating and hot water.\n> \n> ### Biomass Boilers\n> Biomass boilers burn wood pellets or other organic materials to generate heat. They are a renewable energy source, but it’s important to ensure they meet emission standards.\n> \n> ### Hybrid Systems\n> Hybrid systems combine a gas boiler with a renewable energy source, such as a heat pump, to provide efficient and reliable heating.\n> \n> ## Government Support and Incentives\n> \n> To encourage the adoption of low-carbon heating systems, the government offers various incentives and support schemes. One notable example is the Boiler Upgrade Scheme, which provides grants to homeowners who install heat pumps. Keep an eye out for new or expanded schemes that could help you transition to a more sustainable heating solution.\n> \n> ### (Image_3 Here)\n> \n> ## Making Informed Decisions\n> \n> Choosing the right heating system for your home depends on various factors, including your budget, the size of your property, and your energy needs. It's essential to do your research and consider the long-term costs and benefits of each option. Consulting with a qualified heating engineer can provide valuable insights and help you make an informed decision.\n> \n> ## Staying Updated\n> \n> The energy landscape is constantly evolving, with new technologies and policies emerging regularly. Stay informed about the latest developments by following industry news, government announcements, and expert opinions. This will enable you to make proactive decisions that align with your needs and contribute to a more sustainable future.\n> \n> In conclusion, while the initial plans for a gas boiler ban have been adjusted, the focus on promoting greener heating solutions remains strong. Homeowners now have the flexibility to choose the best option for their circumstances, with continued support and incentives for those who opt for low-carbon alternatives."
          },
          "metadata": {},
          "execution_count": 58
        }
      ]
    },
    {
      "cell_type": "code",
      "source": [
        "to_markdown(result['prompts'])"
      ],
      "metadata": {
        "colab": {
          "base_uri": "https://localhost:8080/",
          "height": 152
        },
        "id": "E5OBF0QanKFQ",
        "outputId": "714d0be4-6df3-41f9-e7a5-22a6f7a0c26a"
      },
      "execution_count": 59,
      "outputs": [
        {
          "output_type": "execute_result",
          "data": {
            "text/plain": [
              "<IPython.core.display.Markdown object>"
            ],
            "text/markdown": "> ```json\n> {\n> \"image_1\": \"A cozy home interior with a traditional gas boiler in the background, contrasted with a futuristic, energy-efficient home showcasing solar panels and a modern heat pump. The image should convey the transition from old to new heating technologies.\",\n> \"image_2\": \"A split-screen image showcasing a traditional gas boiler on one side and a modern heat pump system on the other. The heat pump side should highlight its eco-friendly features and sleek design, emphasizing energy efficiency and sustainability.\",\n> \"image_3\": \"A homeowner in consultation with a qualified heating engineer, reviewing options for a new heating system. The setting is a well-lit, modern home office with brochures and technical diagrams visible. The image should convey trust, expertise, and informed decision-making.\"\n> }\n> ```"
          },
          "metadata": {},
          "execution_count": 59
        }
      ]
    },
    {
      "cell_type": "code",
      "source": [
        "result['prompts']"
      ],
      "metadata": {
        "id": "SUS28M877_JR",
        "colab": {
          "base_uri": "https://localhost:8080/",
          "height": 122
        },
        "outputId": "0a15d5c7-4fb4-4ff6-c01a-8acfcc5f03ce"
      },
      "execution_count": 60,
      "outputs": [
        {
          "output_type": "execute_result",
          "data": {
            "text/plain": [
              "'```json\\n{\\n\"image_1\": \"A cozy home interior with a traditional gas boiler in the background, contrasted with a futuristic, energy-efficient home showcasing solar panels and a modern heat pump. The image should convey the transition from old to new heating technologies.\",\\n\"image_2\": \"A split-screen image showcasing a traditional gas boiler on one side and a modern heat pump system on the other. The heat pump side should highlight its eco-friendly features and sleek design, emphasizing energy efficiency and sustainability.\",\\n\"image_3\": \"A homeowner in consultation with a qualified heating engineer, reviewing options for a new heating system. The setting is a well-lit, modern home office with brochures and technical diagrams visible. The image should convey trust, expertise, and informed decision-making.\"\\n}\\n```'"
            ],
            "application/vnd.google.colaboratory.intrinsic+json": {
              "type": "string"
            }
          },
          "metadata": {},
          "execution_count": 60
        }
      ]
    },
    {
      "cell_type": "code",
      "source": [
        "# str = r.replace(\"json\", \"\").replace(\"```\", \"\").strip()"
      ],
      "metadata": {
        "id": "tGq-jtE338o4"
      },
      "execution_count": null,
      "outputs": []
    },
    {
      "cell_type": "code",
      "source": [
        "# import json\n",
        "\n",
        "# image_prompt_dict = json.loads(str)\n",
        "# print(image_prompt_dict)"
      ],
      "metadata": {
        "id": "pIygEVGwCF71"
      },
      "execution_count": null,
      "outputs": []
    },
    {
      "cell_type": "code",
      "source": [
        "# !pip install -qU leptonai"
      ],
      "metadata": {
        "id": "MFr_iE5UCsxD"
      },
      "execution_count": null,
      "outputs": []
    },
    {
      "cell_type": "code",
      "source": [
        "# import os\n",
        "# from leptonai.client import Client\n",
        "\n",
        "# os.environ['LEPTON_API_TOKEN'] = '6d1roqlBJnR7X8zbl0NzkphEL0AKQjU6'\n",
        "# api_token = os.environ.get('LEPTON_API_TOKEN')\n",
        "\n",
        "# c = Client(\"https://sdxl.lepton.run\", token=api_token)\n",
        "\n",
        "# image = c.run(\n",
        "#     prompt=\"A homeowner in conversation with a heating professional, reviewing plans and options for a home heating system upgrade, emphasizing informed decision-making.\",\n",
        "#     height=1024,\n",
        "#     width=1024,\n",
        "#     guidance_scale=7,\n",
        "#     steps=50,\n",
        "# )"
      ],
      "metadata": {
        "id": "hENqayjwCplM"
      },
      "execution_count": null,
      "outputs": []
    },
    {
      "cell_type": "code",
      "source": [
        "# import time\n",
        "\n",
        "# # Iterating over key-value pairs\n",
        "# for key, value in image_prompt_dict.items():\n",
        "#     print(f\"{value}\")\n",
        "#     time.sleep(5)\n",
        "#     image = c.run(prompt=f\"{value}\",height=1024,width=1024,guidance_scale=7,steps=50,)\n",
        "#     with open(f'{key}.png', 'wb') as f:\n",
        "#       f.write(image)"
      ],
      "metadata": {
        "id": "161xq3RICz5y"
      },
      "execution_count": null,
      "outputs": []
    },
    {
      "cell_type": "code",
      "source": [
        "# import os\n",
        "\n",
        "# def get_image_paths(folder_path):\n",
        "#     image_paths = {}\n",
        "#     if not os.path.isdir(folder_path):\n",
        "#         print(f\"Error: Folder '{folder_path}' not found.\")\n",
        "#         return image_paths\n",
        "\n",
        "#     image_counter = 1\n",
        "#     for filename in os.listdir(folder_path):\n",
        "#         filepath = os.path.join(folder_path, filename)\n",
        "#         if os.path.isfile(filepath) and filename.lower().endswith(('.png', '.jpg', '.jpeg', '.gif', '.bmp')):\n",
        "#             key = f\"image{image_counter}\"\n",
        "#             image_paths[key] = filepath\n",
        "#             image_counter += 1\n",
        "\n",
        "#     return image_paths\n",
        "\n",
        "# # Example usage:\n",
        "# folder_path = '/content'\n",
        "# image_dict = get_image_paths(folder_path)\n",
        "# print(image_dict)"
      ],
      "metadata": {
        "id": "-JRremNJC5Yz"
      },
      "execution_count": null,
      "outputs": []
    },
    {
      "cell_type": "code",
      "source": [
        "# from IPython.display import Image\n",
        "\n",
        "# for key, image_path  in image_dict.items():\n",
        "#     display(Image(filename=image_path, width=400, height=300))\n",
        "#     # Image(filename=image_path, width=400, height=300)"
      ],
      "metadata": {
        "id": "FWvYpAoJC8C9"
      },
      "execution_count": null,
      "outputs": []
    },
    {
      "cell_type": "code",
      "source": [
        "# Stability AI\n",
        "# https://colab.research.google.com/github/stability-ai/stability-sdk/blob/main/nbs/Stable_Image_API_Public.ipynb#scrollTo=pVBZ1o3fH1HX"
      ],
      "metadata": {
        "id": "JMmFSwzGDAwS"
      },
      "execution_count": null,
      "outputs": []
    }
  ]
}