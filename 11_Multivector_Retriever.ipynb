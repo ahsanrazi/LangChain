{
  "nbformat": 4,
  "nbformat_minor": 0,
  "metadata": {
    "colab": {
      "provenance": [],
      "authorship_tag": "ABX9TyO5BR0q6qTa5uWZyZtNvh4c",
      "include_colab_link": true
    },
    "kernelspec": {
      "name": "python3",
      "display_name": "Python 3"
    },
    "language_info": {
      "name": "python"
    }
  },
  "cells": [
    {
      "cell_type": "markdown",
      "metadata": {
        "id": "view-in-github",
        "colab_type": "text"
      },
      "source": [
        "<a href=\"https://colab.research.google.com/github/ahsanrazi/LangChain/blob/main/11_Multivector_Retriever.ipynb\" target=\"_parent\"><img src=\"https://colab.research.google.com/assets/colab-badge.svg\" alt=\"Open In Colab\"/></a>"
      ]
    },
    {
      "cell_type": "code",
      "execution_count": 1,
      "metadata": {
        "id": "bCVHBgPRkHlk"
      },
      "outputs": [],
      "source": [
        "from google.colab import userdata\n",
        "gemini_api_key = userdata.get('GEMINI_API_KEY').strip()"
      ]
    },
    {
      "cell_type": "code",
      "source": [
        "!pip install -qU langchain-google-genai"
      ],
      "metadata": {
        "colab": {
          "base_uri": "https://localhost:8080/"
        },
        "id": "3wAC-1KKkhyx",
        "outputId": "9f59b4eb-58a1-4a79-8117-28b3dd252eb5"
      },
      "execution_count": 2,
      "outputs": [
        {
          "output_type": "stream",
          "name": "stdout",
          "text": [
            "\u001b[?25l   \u001b[90m━━━━━━━━━━━━━━━━━━━━━━━━━━━━━━━━━━━━━━━━\u001b[0m \u001b[32m0.0/41.7 kB\u001b[0m \u001b[31m?\u001b[0m eta \u001b[36m-:--:--\u001b[0m\r\u001b[2K   \u001b[90m━━━━━━━━━━━━━━━━━━━━━━━━━━━━━━━━━━━━━━━━\u001b[0m \u001b[32m41.7/41.7 kB\u001b[0m \u001b[31m1.4 MB/s\u001b[0m eta \u001b[36m0:00:00\u001b[0m\n",
            "\u001b[?25h"
          ]
        }
      ]
    },
    {
      "cell_type": "code",
      "source": [
        "from langchain_google_genai import ChatGoogleGenerativeAI\n",
        "\n",
        "model = ChatGoogleGenerativeAI(model = \"gemini-2.0-flash-exp\", api_key = gemini_api_key)"
      ],
      "metadata": {
        "id": "m7XMcglyknSw"
      },
      "execution_count": 3,
      "outputs": []
    },
    {
      "cell_type": "code",
      "source": [
        "from langchain_google_genai import GoogleGenerativeAIEmbeddings\n",
        "\n",
        "embeddings = GoogleGenerativeAIEmbeddings(model=\"models/embedding-001\", google_api_key = gemini_api_key)"
      ],
      "metadata": {
        "id": "3Q-kquX_kpLH"
      },
      "execution_count": 4,
      "outputs": []
    },
    {
      "cell_type": "code",
      "source": [
        "!pip install -qU langchain-pinecone"
      ],
      "metadata": {
        "colab": {
          "base_uri": "https://localhost:8080/"
        },
        "id": "G6RlaQ5BkzIh",
        "outputId": "c1a8f50c-a0b5-4c13-cc76-ade5654f8a40"
      },
      "execution_count": 5,
      "outputs": [
        {
          "output_type": "stream",
          "name": "stdout",
          "text": [
            "\u001b[2K   \u001b[90m━━━━━━━━━━━━━━━━━━━━━━━━━━━━━━━━━━━━━━━━\u001b[0m \u001b[32m1.3/1.3 MB\u001b[0m \u001b[31m14.0 MB/s\u001b[0m eta \u001b[36m0:00:00\u001b[0m\n",
            "\u001b[2K   \u001b[90m━━━━━━━━━━━━━━━━━━━━━━━━━━━━━━━━━━━━━━━━\u001b[0m \u001b[32m413.0/413.0 kB\u001b[0m \u001b[31m24.1 MB/s\u001b[0m eta \u001b[36m0:00:00\u001b[0m\n",
            "\u001b[2K   \u001b[90m━━━━━━━━━━━━━━━━━━━━━━━━━━━━━━━━━━━━━━━━\u001b[0m \u001b[32m427.3/427.3 kB\u001b[0m \u001b[31m26.7 MB/s\u001b[0m eta \u001b[36m0:00:00\u001b[0m\n",
            "\u001b[2K   \u001b[90m━━━━━━━━━━━━━━━━━━━━━━━━━━━━━━━━━━━━━━━━\u001b[0m \u001b[32m87.5/87.5 kB\u001b[0m \u001b[31m7.0 MB/s\u001b[0m eta \u001b[36m0:00:00\u001b[0m\n",
            "\u001b[2K   \u001b[90m━━━━━━━━━━━━━━━━━━━━━━━━━━━━━━━━━━━━━━━━\u001b[0m \u001b[32m50.3/50.3 kB\u001b[0m \u001b[31m3.5 MB/s\u001b[0m eta \u001b[36m0:00:00\u001b[0m\n",
            "\u001b[?25h"
          ]
        }
      ]
    },
    {
      "cell_type": "code",
      "source": [
        "from langchain_pinecone import PineconeVectorStore\n",
        "from pinecone import Pinecone\n",
        "\n",
        "index_name = \"langchain\"\n",
        "namespace = \"Multivector_Retriever_Summary\"\n",
        "\n",
        "pc = Pinecone(api_key= userdata.get('PINECONE_API'))\n",
        "index = pc.Index(index_name)\n",
        "\n",
        "vector_store = PineconeVectorStore(embedding=embeddings, index=index, namespace=namespace)"
      ],
      "metadata": {
        "id": "D-h35E6Uk2_3"
      },
      "execution_count": 53,
      "outputs": []
    },
    {
      "cell_type": "code",
      "source": [
        "!pip install -qU langchain langchain_community"
      ],
      "metadata": {
        "colab": {
          "base_uri": "https://localhost:8080/"
        },
        "id": "dRDFRU7JlZlg",
        "outputId": "6e69eb39-a8f8-4c3e-ea78-aafbbb95d97f"
      },
      "execution_count": 9,
      "outputs": [
        {
          "output_type": "stream",
          "name": "stdout",
          "text": [
            "\u001b[?25l   \u001b[90m━━━━━━━━━━━━━━━━━━━━━━━━━━━━━━━━━━━━━━━━\u001b[0m \u001b[32m0.0/2.5 MB\u001b[0m \u001b[31m?\u001b[0m eta \u001b[36m-:--:--\u001b[0m\r\u001b[2K   \u001b[91m━━━━━━━━━\u001b[0m\u001b[91m╸\u001b[0m\u001b[90m━━━━━━━━━━━━━━━━━━━━━━━━━━━━━━\u001b[0m \u001b[32m0.6/2.5 MB\u001b[0m \u001b[31m18.3 MB/s\u001b[0m eta \u001b[36m0:00:01\u001b[0m\r\u001b[2K   \u001b[91m━━━━━━━━━━━━━━━━━━━━━━━━━━━━━━━━━━━━━━━\u001b[0m\u001b[91m╸\u001b[0m \u001b[32m2.5/2.5 MB\u001b[0m \u001b[31m41.7 MB/s\u001b[0m eta \u001b[36m0:00:01\u001b[0m\r\u001b[2K   \u001b[90m━━━━━━━━━━━━━━━━━━━━━━━━━━━━━━━━━━━━━━━━\u001b[0m \u001b[32m2.5/2.5 MB\u001b[0m \u001b[31m28.9 MB/s\u001b[0m eta \u001b[36m0:00:00\u001b[0m\n",
            "\u001b[?25h\u001b[?25l   \u001b[90m━━━━━━━━━━━━━━━━━━━━━━━━━━━━━━━━━━━━━━━━\u001b[0m \u001b[32m0.0/50.9 kB\u001b[0m \u001b[31m?\u001b[0m eta \u001b[36m-:--:--\u001b[0m\r\u001b[2K   \u001b[90m━━━━━━━━━━━━━━━━━━━━━━━━━━━━━━━━━━━━━━━━\u001b[0m \u001b[32m50.9/50.9 kB\u001b[0m \u001b[31m3.4 MB/s\u001b[0m eta \u001b[36m0:00:00\u001b[0m\n",
            "\u001b[?25h"
          ]
        }
      ]
    },
    {
      "cell_type": "code",
      "source": [
        "from langchain.storage import InMemoryByteStore\n",
        "from langchain_community.document_loaders import TextLoader\n",
        "from langchain_text_splitters import RecursiveCharacterTextSplitter\n",
        "\n",
        "loaders = [\n",
        "    TextLoader(\"/content/Bot Name Jasmine.txt\")\n",
        "]\n",
        "docs = []\n",
        "for loader in loaders:\n",
        "    docs.extend(loader.load())\n",
        "text_splitter = RecursiveCharacterTextSplitter(chunk_size=1000)\n",
        "docs = text_splitter.split_documents(docs)"
      ],
      "metadata": {
        "id": "uxnMQm88ktBA"
      },
      "execution_count": 41,
      "outputs": []
    },
    {
      "cell_type": "code",
      "source": [
        "docs"
      ],
      "metadata": {
        "colab": {
          "base_uri": "https://localhost:8080/"
        },
        "id": "LpY2p1C0lgZg",
        "outputId": "2b4d4e3c-5ee3-4e64-f110-d571476ac582"
      },
      "execution_count": 44,
      "outputs": [
        {
          "output_type": "execute_result",
          "data": {
            "text/plain": [
              "[Document(metadata={'source': '/content/Bot Name Jasmine.txt'}, page_content='We Build Trades is a UK-based digital marketing and software agency founded in 2017 by Daniel Brown. \\nIt specializes in comprehensive marketing solutions for trade businesses, helping clients manage sales, \\nmarketing, and operations effectively through innovative tools and strategies.\\nServices\\nWe Build Trades offers tailored solutions for ambitious trade business owners in the UK, Ireland, the US, \\nand Canada. Their key services include:\\n1. Website Design\\no Creation of custom, conversion-focused websites to help businesses stand out.\\n2. Copywriting\\no Professionally crafted copy showcasing industry expertise.\\n3. Automated Systems\\no Tools like Trades Gang to streamline lead follow-ups and operations.\\n4. Data & Tracking\\no Proprietary analytics systems to measure and report key business metrics.\\n5. Paid Advertising\\no Customized marketing campaigns on platforms such as Google and Facebook.\\n6. SEO Services\\no In-house strategies to improve organic search visibility and rankings.'),\n",
              " Document(metadata={'source': '/content/Bot Name Jasmine.txt'}, page_content='5. Paid Advertising\\no Customized marketing campaigns on platforms such as Google and Facebook.\\n6. SEO Services\\no In-house strategies to improve organic search visibility and rankings.\\n7. Graphics & Videos\\no Professional design and video creation to elevate brand presentation.\\n8. Job Management\\no Seamless integration with leading CRM systems for efficient operations.\\n9. Coaching & Support\\no Access to community resources, events, and ongoing support for continued growth.\\nCore Values\\nWe Build Trades operates with the following principles:\\n1. Client Obsession\\no Always prioritizing what is best for clients.\\n2. Full Transparency\\no Maintaining honesty and openness in all dealings.\\n3. Long-Term Thinking\\no Emphasizing sustainable growth over short-term gains.\\n4. Relentless Ambition\\no Continuously striving for excellence and improvement.\\nFounder: Daniel Brown\\n• Role: Founder and CEO of We Build Trades.\\n• Career Start: Former senior marketing consultant.'),\n",
              " Document(metadata={'source': '/content/Bot Name Jasmine.txt'}, page_content='4. Relentless Ambition\\no Continuously striving for excellence and improvement.\\nFounder: Daniel Brown\\n• Role: Founder and CEO of We Build Trades.\\n• Career Start: Former senior marketing consultant.\\n• Journey: Founded We Build Trades in 2017 with limited resources but strong mentorship and a \\npassion for learning.\\n• Achievements: Under his leadership, the agency has served over 60 clients and expanded \\ninternationally.\\nKey Differentiators\\n1. Specialization: Exclusive focus on trade businesses.\\n2. International Reach: Services available across the UK, Ireland, the US, and Canada.\\n3. Proprietary Tools: Unique solutions like Trades Gang and advanced analytics.\\nUse Cases\\n• For Trade Business Owners: Looking for a centralized solution to manage marketing and \\noperations.\\n• For Growth-Focused Entrepreneurs: Seeking tools and strategies to expand and streamline their \\nbusinesses.\\n• For Branding Enhancement: Leveraging professional design, SEO, and advertising to boost \\nvisibility.'),\n",
              " Document(metadata={'source': '/content/Bot Name Jasmine.txt'}, page_content='businesses.\\n• For Branding Enhancement: Leveraging professional design, SEO, and advertising to boost \\nvisibility.\\nWhat Makes We Build Trades Unique\\nDifferentiators of We Build Trades\\nWe Build Trades stands out from other digital marketing agencies by offering specialized, comprehensive, \\nand client-focused solutions specifically designed for trade businesses.\\nKey Differentiation Factors\\n1. Specialized Focus on Trade Businesses\\no Deep understanding of the challenges and opportunities within the trade sector.\\no Customized marketing strategies that align with the unique needs and target audiences \\nof trade businesses.\\n2. Comprehensive All-in-One Solutions\\no Offers a full range of services, including:\\n▪ Website Design\\n▪ SEO\\n▪ Paid Advertising\\n▪ Copywriting\\n▪ Automated lead management tools like Trades Gang.\\no Provides a centralized system for managing sales, marketing, and operations, enabling \\nbusiness owners to focus on their core activities.\\n3. Commitment to Client Success'),\n",
              " Document(metadata={'source': '/content/Bot Name Jasmine.txt'}, page_content=\"o Provides a centralized system for managing sales, marketing, and operations, enabling \\nbusiness owners to focus on their core activities.\\n3. Commitment to Client Success\\no Operates with a client-obsessed philosophy, always prioritizing clients' best interests.\\no Ensures transparent communication and ongoing support.\\no Builds partnerships aimed at fostering long-term growth and success.\\n4. Lean and Agile Methodology\\no Implements a nimble approach to operations.\\no Quickly adapts to market changes and evolving client needs.\\no Designed to accommodate the varying demands of trade businesses.\\n5. Proven Track Record and Testimonials\\no Serves a portfolio of over 60 satisfied clients.\\no Showcases numerous success stories and measurable results.\\no Focus on continuous self-improvement and maintaining high standards.\\nClient Success Stories\\nWe Build Trades has a proven track record of helping clients achieve remarkable growth and business\"),\n",
              " Document(metadata={'source': '/content/Bot Name Jasmine.txt'}, page_content='o Focus on continuous self-improvement and maintaining high standards.\\nClient Success Stories\\nWe Build Trades has a proven track record of helping clients achieve remarkable growth and business \\ntransformation. Below are some notable success stories from clients who have benefited from their \\ntailored digital marketing solutions and support.\\nClient Success Stories\\n1. Daniel Lambert\\no Achieved a business transformation, turning it into a \"lead-generating marketing \\nmachine.\"\\no Praised the agency for exceeding his expectations by creating a high-performing lead\\x02generating website.\\n2. Ashley Hale\\no Sold 10 boilers in just four days after partnering with We Build Trades.\\no Highlighted the team\\'s professionalism and support as key factors in achieving this rapid \\ngrowth.\\n3. Alex Slater\\no Secured over 20 inquiries and five jobs in just 15 days, generating £13,800.\\no Credited the agency\\'s user-friendly systems and excellent support for these quick results.\\n4. Tristan Spence'),\n",
              " Document(metadata={'source': '/content/Bot Name Jasmine.txt'}, page_content=\"o Secured over 20 inquiries and five jobs in just 15 days, generating £13,800.\\no Credited the agency's user-friendly systems and excellent support for these quick results.\\n4. Tristan Spence\\no Experienced a substantial increase in leads since joining We Build Trades in 2021.\\no Benefited from a newly designed website with 24/7 instant quote functionality.\\no The integration of AI and the Trades Gang platform streamlined his business operations \\nsignificantly.\\n5. Stephen Dunn\\no Gained confidence in growing his business through the agency's knowledgeable and \\nmotivated team.\\no Appreciated the community aspect of the service, which connected him with like\\x02minded professionals.\\n6. Matt Hancock\\no Highlighted the reliability and dedication of the We Build Trades team.\\no Credited the agency for delivering on their promises and helping him develop a clear \\nvision for his business.\\n7. Nathaniel Smith\\no Reported significant business growth since collaborating with We Build Trades.\"),\n",
              " Document(metadata={'source': '/content/Bot Name Jasmine.txt'}, page_content='vision for his business.\\n7. Nathaniel Smith\\no Reported significant business growth since collaborating with We Build Trades.\\no Described his overall experience as overwhelmingly positive.')]"
            ]
          },
          "metadata": {},
          "execution_count": 44
        }
      ]
    },
    {
      "cell_type": "code",
      "source": [
        "len(docs)"
      ],
      "metadata": {
        "colab": {
          "base_uri": "https://localhost:8080/"
        },
        "id": "IPJ8staUAxx1",
        "outputId": "45b3c182-3409-429e-d05b-fd9f17407a40"
      },
      "execution_count": 71,
      "outputs": [
        {
          "output_type": "execute_result",
          "data": {
            "text/plain": [
              "8"
            ]
          },
          "metadata": {},
          "execution_count": 71
        }
      ]
    },
    {
      "cell_type": "code",
      "source": [
        "import uuid\n",
        "\n",
        "from langchain.retrievers.multi_vector import MultiVectorRetriever\n",
        "\n",
        "# The storage layer for the parent documents\n",
        "store = InMemoryByteStore()\n",
        "id_key = \"doc_id\"\n",
        "\n",
        "# The retriever (empty to start)\n",
        "retriever = MultiVectorRetriever(\n",
        "    vectorstore=vector_store,\n",
        "    byte_store=store,\n",
        "    id_key=id_key,\n",
        ")\n",
        "\n",
        "doc_ids = [str(uuid.uuid4()) for _ in docs]"
      ],
      "metadata": {
        "id": "0uPgcby8my2k"
      },
      "execution_count": 45,
      "outputs": []
    },
    {
      "cell_type": "code",
      "source": [
        "doc_ids"
      ],
      "metadata": {
        "colab": {
          "base_uri": "https://localhost:8080/"
        },
        "id": "HyeHo_p5A1ME",
        "outputId": "e3d3164a-0d71-47e0-a6a3-bd2d2b746616"
      },
      "execution_count": 72,
      "outputs": [
        {
          "output_type": "execute_result",
          "data": {
            "text/plain": [
              "['0b537407-338a-400c-9299-269dfeda113d',\n",
              " 'b512ab84-93b2-4ed0-8b72-9b1d9b252c60',\n",
              " '27e4d90a-f2aa-487c-bd6f-0f3ea264496b',\n",
              " 'be8df8be-440d-4dc2-a2cf-ef2fb6b85128',\n",
              " 'a751febb-7a85-4ca3-ab3d-d6aaaa293817',\n",
              " '09e20cd7-af95-4c56-b843-2eea046b4ad0',\n",
              " '674f3a5e-1bc5-47ad-913a-db9253d86f0d',\n",
              " '56b6c743-527f-4ce8-ac37-8e56edf3a539']"
            ]
          },
          "metadata": {},
          "execution_count": 72
        }
      ]
    },
    {
      "cell_type": "code",
      "source": [
        "# The splitter to use to create smaller chunks\n",
        "child_text_splitter = RecursiveCharacterTextSplitter(chunk_size=750)\n",
        "\n",
        "sub_docs = []\n",
        "for i, doc in enumerate(docs):\n",
        "    _id = doc_ids[i]\n",
        "    _sub_docs = child_text_splitter.split_documents([doc])\n",
        "    for _doc in _sub_docs:\n",
        "        _doc.metadata[id_key] = _id\n",
        "    sub_docs.extend(_sub_docs)"
      ],
      "metadata": {
        "id": "6UV2fuwcnRlg"
      },
      "execution_count": 46,
      "outputs": []
    },
    {
      "cell_type": "code",
      "source": [
        "len(sub_docs)"
      ],
      "metadata": {
        "colab": {
          "base_uri": "https://localhost:8080/"
        },
        "id": "v-jnC3fHnx9P",
        "outputId": "ddd9e7aa-68ac-4767-ad63-501a1cbabe96"
      },
      "execution_count": 47,
      "outputs": [
        {
          "output_type": "execute_result",
          "data": {
            "text/plain": [
              "15"
            ]
          },
          "metadata": {},
          "execution_count": 47
        }
      ]
    },
    {
      "cell_type": "code",
      "source": [
        "sub_docs"
      ],
      "metadata": {
        "colab": {
          "base_uri": "https://localhost:8080/"
        },
        "id": "avuuEkaHn0dX",
        "outputId": "f90b03cc-c8af-4e06-d0ad-09fde245794a"
      },
      "execution_count": 48,
      "outputs": [
        {
          "output_type": "execute_result",
          "data": {
            "text/plain": [
              "[Document(metadata={'source': '/content/Bot Name Jasmine.txt', 'doc_id': 'cd3178a9-2442-402b-af2b-7d512bc96a01'}, page_content='We Build Trades is a UK-based digital marketing and software agency founded in 2017 by Daniel Brown. \\nIt specializes in comprehensive marketing solutions for trade businesses, helping clients manage sales, \\nmarketing, and operations effectively through innovative tools and strategies.\\nServices\\nWe Build Trades offers tailored solutions for ambitious trade business owners in the UK, Ireland, the US, \\nand Canada. Their key services include:\\n1. Website Design\\no Creation of custom, conversion-focused websites to help businesses stand out.\\n2. Copywriting\\no Professionally crafted copy showcasing industry expertise.\\n3. Automated Systems\\no Tools like Trades Gang to streamline lead follow-ups and operations.\\n4. Data & Tracking'),\n",
              " Document(metadata={'source': '/content/Bot Name Jasmine.txt', 'doc_id': 'cd3178a9-2442-402b-af2b-7d512bc96a01'}, page_content='2. Copywriting\\no Professionally crafted copy showcasing industry expertise.\\n3. Automated Systems\\no Tools like Trades Gang to streamline lead follow-ups and operations.\\n4. Data & Tracking\\no Proprietary analytics systems to measure and report key business metrics.\\n5. Paid Advertising\\no Customized marketing campaigns on platforms such as Google and Facebook.\\n6. SEO Services\\no In-house strategies to improve organic search visibility and rankings.'),\n",
              " Document(metadata={'source': '/content/Bot Name Jasmine.txt', 'doc_id': '4c0bf6b8-46e4-4065-a461-c922543e35a4'}, page_content='5. Paid Advertising\\no Customized marketing campaigns on platforms such as Google and Facebook.\\n6. SEO Services\\no In-house strategies to improve organic search visibility and rankings.\\n7. Graphics & Videos\\no Professional design and video creation to elevate brand presentation.\\n8. Job Management\\no Seamless integration with leading CRM systems for efficient operations.\\n9. Coaching & Support\\no Access to community resources, events, and ongoing support for continued growth.\\nCore Values\\nWe Build Trades operates with the following principles:\\n1. Client Obsession\\no Always prioritizing what is best for clients.\\n2. Full Transparency\\no Maintaining honesty and openness in all dealings.\\n3. Long-Term Thinking'),\n",
              " Document(metadata={'source': '/content/Bot Name Jasmine.txt', 'doc_id': '4c0bf6b8-46e4-4065-a461-c922543e35a4'}, page_content='1. Client Obsession\\no Always prioritizing what is best for clients.\\n2. Full Transparency\\no Maintaining honesty and openness in all dealings.\\n3. Long-Term Thinking\\no Emphasizing sustainable growth over short-term gains.\\n4. Relentless Ambition\\no Continuously striving for excellence and improvement.\\nFounder: Daniel Brown\\n• Role: Founder and CEO of We Build Trades.\\n• Career Start: Former senior marketing consultant.'),\n",
              " Document(metadata={'source': '/content/Bot Name Jasmine.txt', 'doc_id': '2e6f9200-8e8f-4561-9d08-7f96b9c97edd'}, page_content='4. Relentless Ambition\\no Continuously striving for excellence and improvement.\\nFounder: Daniel Brown\\n• Role: Founder and CEO of We Build Trades.\\n• Career Start: Former senior marketing consultant.\\n• Journey: Founded We Build Trades in 2017 with limited resources but strong mentorship and a \\npassion for learning.\\n• Achievements: Under his leadership, the agency has served over 60 clients and expanded \\ninternationally.\\nKey Differentiators\\n1. Specialization: Exclusive focus on trade businesses.\\n2. International Reach: Services available across the UK, Ireland, the US, and Canada.\\n3. Proprietary Tools: Unique solutions like Trades Gang and advanced analytics.\\nUse Cases'),\n",
              " Document(metadata={'source': '/content/Bot Name Jasmine.txt', 'doc_id': '2e6f9200-8e8f-4561-9d08-7f96b9c97edd'}, page_content='2. International Reach: Services available across the UK, Ireland, the US, and Canada.\\n3. Proprietary Tools: Unique solutions like Trades Gang and advanced analytics.\\nUse Cases\\n• For Trade Business Owners: Looking for a centralized solution to manage marketing and \\noperations.\\n• For Growth-Focused Entrepreneurs: Seeking tools and strategies to expand and streamline their \\nbusinesses.\\n• For Branding Enhancement: Leveraging professional design, SEO, and advertising to boost \\nvisibility.'),\n",
              " Document(metadata={'source': '/content/Bot Name Jasmine.txt', 'doc_id': 'ee0a6b18-7277-476c-9594-08ac7067d4df'}, page_content='businesses.\\n• For Branding Enhancement: Leveraging professional design, SEO, and advertising to boost \\nvisibility.\\nWhat Makes We Build Trades Unique\\nDifferentiators of We Build Trades\\nWe Build Trades stands out from other digital marketing agencies by offering specialized, comprehensive, \\nand client-focused solutions specifically designed for trade businesses.\\nKey Differentiation Factors\\n1. Specialized Focus on Trade Businesses\\no Deep understanding of the challenges and opportunities within the trade sector.\\no Customized marketing strategies that align with the unique needs and target audiences \\nof trade businesses.\\n2. Comprehensive All-in-One Solutions\\no Offers a full range of services, including:\\n▪ Website Design\\n▪ SEO\\n▪ Paid Advertising'),\n",
              " Document(metadata={'source': '/content/Bot Name Jasmine.txt', 'doc_id': 'ee0a6b18-7277-476c-9594-08ac7067d4df'}, page_content='of trade businesses.\\n2. Comprehensive All-in-One Solutions\\no Offers a full range of services, including:\\n▪ Website Design\\n▪ SEO\\n▪ Paid Advertising\\n▪ Copywriting\\n▪ Automated lead management tools like Trades Gang.\\no Provides a centralized system for managing sales, marketing, and operations, enabling \\nbusiness owners to focus on their core activities.\\n3. Commitment to Client Success'),\n",
              " Document(metadata={'source': '/content/Bot Name Jasmine.txt', 'doc_id': 'a8494676-00b5-443a-a7df-82f6cb77af75'}, page_content=\"o Provides a centralized system for managing sales, marketing, and operations, enabling \\nbusiness owners to focus on their core activities.\\n3. Commitment to Client Success\\no Operates with a client-obsessed philosophy, always prioritizing clients' best interests.\\no Ensures transparent communication and ongoing support.\\no Builds partnerships aimed at fostering long-term growth and success.\\n4. Lean and Agile Methodology\\no Implements a nimble approach to operations.\\no Quickly adapts to market changes and evolving client needs.\\no Designed to accommodate the varying demands of trade businesses.\\n5. Proven Track Record and Testimonials\\no Serves a portfolio of over 60 satisfied clients.\\no Showcases numerous success stories and measurable results.\"),\n",
              " Document(metadata={'source': '/content/Bot Name Jasmine.txt', 'doc_id': 'a8494676-00b5-443a-a7df-82f6cb77af75'}, page_content='5. Proven Track Record and Testimonials\\no Serves a portfolio of over 60 satisfied clients.\\no Showcases numerous success stories and measurable results.\\no Focus on continuous self-improvement and maintaining high standards.\\nClient Success Stories\\nWe Build Trades has a proven track record of helping clients achieve remarkable growth and business'),\n",
              " Document(metadata={'source': '/content/Bot Name Jasmine.txt', 'doc_id': '5cfc3b58-32e6-4480-8f8a-758466924ef9'}, page_content='o Focus on continuous self-improvement and maintaining high standards.\\nClient Success Stories\\nWe Build Trades has a proven track record of helping clients achieve remarkable growth and business \\ntransformation. Below are some notable success stories from clients who have benefited from their \\ntailored digital marketing solutions and support.\\nClient Success Stories\\n1. Daniel Lambert\\no Achieved a business transformation, turning it into a \"lead-generating marketing \\nmachine.\"\\no Praised the agency for exceeding his expectations by creating a high-performing lead\\x02generating website.\\n2. Ashley Hale\\no Sold 10 boilers in just four days after partnering with We Build Trades.'),\n",
              " Document(metadata={'source': '/content/Bot Name Jasmine.txt', 'doc_id': '5cfc3b58-32e6-4480-8f8a-758466924ef9'}, page_content=\"o Praised the agency for exceeding his expectations by creating a high-performing lead\\x02generating website.\\n2. Ashley Hale\\no Sold 10 boilers in just four days after partnering with We Build Trades.\\no Highlighted the team's professionalism and support as key factors in achieving this rapid \\ngrowth.\\n3. Alex Slater\\no Secured over 20 inquiries and five jobs in just 15 days, generating £13,800.\\no Credited the agency's user-friendly systems and excellent support for these quick results.\\n4. Tristan Spence\"),\n",
              " Document(metadata={'source': '/content/Bot Name Jasmine.txt', 'doc_id': '13edaa5a-bc89-4d4d-a223-0546a72d2cda'}, page_content=\"o Secured over 20 inquiries and five jobs in just 15 days, generating £13,800.\\no Credited the agency's user-friendly systems and excellent support for these quick results.\\n4. Tristan Spence\\no Experienced a substantial increase in leads since joining We Build Trades in 2021.\\no Benefited from a newly designed website with 24/7 instant quote functionality.\\no The integration of AI and the Trades Gang platform streamlined his business operations \\nsignificantly.\\n5. Stephen Dunn\\no Gained confidence in growing his business through the agency's knowledgeable and \\nmotivated team.\\no Appreciated the community aspect of the service, which connected him with like\\x02minded professionals.\\n6. Matt Hancock\"),\n",
              " Document(metadata={'source': '/content/Bot Name Jasmine.txt', 'doc_id': '13edaa5a-bc89-4d4d-a223-0546a72d2cda'}, page_content='motivated team.\\no Appreciated the community aspect of the service, which connected him with like\\x02minded professionals.\\n6. Matt Hancock\\no Highlighted the reliability and dedication of the We Build Trades team.\\no Credited the agency for delivering on their promises and helping him develop a clear \\nvision for his business.\\n7. Nathaniel Smith\\no Reported significant business growth since collaborating with We Build Trades.'),\n",
              " Document(metadata={'source': '/content/Bot Name Jasmine.txt', 'doc_id': 'f44ca630-9fbb-481e-ae3f-4ab22ec489be'}, page_content='vision for his business.\\n7. Nathaniel Smith\\no Reported significant business growth since collaborating with We Build Trades.\\no Described his overall experience as overwhelmingly positive.')]"
            ]
          },
          "metadata": {},
          "execution_count": 48
        }
      ]
    },
    {
      "cell_type": "code",
      "source": [
        "retriever.vectorstore.add_documents(sub_docs)\n",
        "retriever.docstore.mset(list(zip(doc_ids, docs)))"
      ],
      "metadata": {
        "id": "vaGPVjdGn6TX"
      },
      "execution_count": 49,
      "outputs": []
    },
    {
      "cell_type": "code",
      "source": [
        "retriever.vectorstore.similarity_search(\"Founder of We Build Trade\")[0]"
      ],
      "metadata": {
        "colab": {
          "base_uri": "https://localhost:8080/"
        },
        "id": "KKaVN1VioC0u",
        "outputId": "30fcf6ff-221d-4366-ddb7-4aa0cf80bb95"
      },
      "execution_count": 51,
      "outputs": [
        {
          "output_type": "execute_result",
          "data": {
            "text/plain": [
              "Document(id='14814ee9-418c-4fbb-8678-d7e35f2e2651', metadata={'doc_id': '4c0bf6b8-46e4-4065-a461-c922543e35a4', 'source': '/content/Bot Name Jasmine.txt'}, page_content='1. Client Obsession\\no Always prioritizing what is best for clients.\\n2. Full Transparency\\no Maintaining honesty and openness in all dealings.\\n3. Long-Term Thinking\\no Emphasizing sustainable growth over short-term gains.\\n4. Relentless Ambition\\no Continuously striving for excellence and improvement.\\nFounder: Daniel Brown\\n• Role: Founder and CEO of We Build Trades.\\n• Career Start: Former senior marketing consultant.')"
            ]
          },
          "metadata": {},
          "execution_count": 51
        }
      ]
    },
    {
      "cell_type": "code",
      "source": [],
      "metadata": {
        "id": "QNtWZqt8o8TX"
      },
      "execution_count": null,
      "outputs": []
    },
    {
      "cell_type": "code",
      "source": [],
      "metadata": {
        "id": "SJCLcPxuo8RG"
      },
      "execution_count": null,
      "outputs": []
    },
    {
      "cell_type": "code",
      "source": [],
      "metadata": {
        "id": "-llAK3XFo8Of"
      },
      "execution_count": null,
      "outputs": []
    },
    {
      "cell_type": "code",
      "source": [
        "import uuid\n",
        "\n",
        "from langchain_core.documents import Document\n",
        "from langchain_core.output_parsers import StrOutputParser\n",
        "from langchain_core.prompts import ChatPromptTemplate\n",
        "\n",
        "chain = (\n",
        "    {\"doc\": lambda x: x.page_content}\n",
        "    | ChatPromptTemplate.from_template(\"Summarize the following document:\\n\\n{doc}\")\n",
        "    | model\n",
        "    | StrOutputParser()\n",
        ")"
      ],
      "metadata": {
        "id": "MrBmqGT5oP0o"
      },
      "execution_count": 52,
      "outputs": []
    },
    {
      "cell_type": "code",
      "source": [
        "summaries = chain.batch(docs, {\"max_concurrency\": 2})"
      ],
      "metadata": {
        "id": "tyxu7zvBpfow"
      },
      "execution_count": 54,
      "outputs": []
    },
    {
      "cell_type": "code",
      "source": [
        "summaries"
      ],
      "metadata": {
        "colab": {
          "base_uri": "https://localhost:8080/"
        },
        "id": "PBsxLVmNqXbP",
        "outputId": "e435c483-0fb7-4b13-d5f4-6de85218d09f"
      },
      "execution_count": 55,
      "outputs": [
        {
          "output_type": "execute_result",
          "data": {
            "text/plain": [
              "['We Build Trades, founded in 2017, is a UK-based digital marketing and software agency specializing in providing comprehensive solutions for trade businesses in the UK, Ireland, the US, and Canada. They offer services like website design, copywriting, automated systems (including Trades Gang), data & tracking analytics, paid advertising, and SEO to help businesses manage sales, marketing, and operations effectively. Their focus is on creating custom, conversion-focused strategies to help trade businesses stand out and improve their overall performance.',\n",
              " 'We Build Trades, founded by former senior marketing consultant Daniel Brown, offers services aimed at helping trades businesses grow. These services include paid advertising on platforms like Google and Facebook, SEO services to improve organic search rankings, professional graphics and video creation, job management through CRM integration, and coaching & support resources. The company operates with core values of client obsession, full transparency, long-term thinking, and relentless ambition.',\n",
              " 'This document describes We Build Trades, a marketing agency founded in 2017 by Daniel Brown, a former marketing consultant. Brown\\'s \"relentless ambition\" has driven the agency\\'s growth, serving over 60 clients and expanding internationally to the UK, Ireland, US, and Canada. We Build Trades differentiates itself through its exclusive focus on trade businesses, international reach, and proprietary tools like Trades Gang and advanced analytics. It targets trade business owners seeking centralized marketing and operations solutions, growth-focused entrepreneurs looking to expand and streamline, and those wanting to enhance their branding through professional design, SEO, and advertising.',\n",
              " 'We Build Trades distinguishes itself from other digital marketing agencies by specializing in providing comprehensive, client-focused solutions tailored specifically for trade businesses. Their key differentiators include: a deep understanding of the trade sector leading to customized marketing strategies, a full range of services encompassing website design, SEO, paid advertising, copywriting, and automated lead management tools, and a commitment to client success through centralized management of sales, marketing, and operations. This allows trade business owners to focus on their core activities while We Build Trades enhances their branding and visibility.',\n",
              " 'We Build Trades offers a centralized sales, marketing, and operations management system designed to help business owners focus on their core activities. They are committed to client success through transparent communication, ongoing support, and long-term partnerships. Utilizing a lean and agile methodology, they quickly adapt to market changes and client needs. With a proven track record of over 60 satisfied clients, they showcase numerous success stories and prioritize continuous improvement.',\n",
              " \"We Build Trades boasts a strong track record of client success in digital marketing, as evidenced by testimonials. Clients like Daniel Lambert achieved business transformation with high-performing websites. Ashley Hale sold 10 boilers in four days thanks to We Build Trades' professionalism. Alex Slater secured over 20 inquiries and five jobs in just 15 days, generating £13,800, attributing his success to the agency's user-friendly systems and support. The document emphasizes continuous self-improvement and maintaining high standards, likely within the context of the agency's service delivery.\",\n",
              " 'This document highlights the positive experiences of several clients of \"We Build Trades.\" These clients attribute their business success and growth to the agency\\'s user-friendly systems, excellent support, newly designed website with instant quote functionality, integration of AI and the Trades Gang platform, knowledgeable team, and community aspect. Specific examples include generating £13,800 in 15 days, a substantial increase in leads, streamlined business operations, and increased confidence in business growth. Clients also emphasize the agency\\'s reliability, dedication, and ability to deliver on promises, helping them develop a clear business vision.',\n",
              " 'The document highlights the positive impact of \"We Build Trades\" on businesses. Specifically, Nathaniel Smith reported significant business growth and an overwhelmingly positive experience as a result of collaborating with We Build Trades.']"
            ]
          },
          "metadata": {},
          "execution_count": 55
        }
      ]
    },
    {
      "cell_type": "code",
      "source": [
        "len(summaries)"
      ],
      "metadata": {
        "colab": {
          "base_uri": "https://localhost:8080/"
        },
        "id": "0YG-6SA6Boxp",
        "outputId": "3c7afa96-b83d-4bcf-8377-942c0dac1424"
      },
      "execution_count": 73,
      "outputs": [
        {
          "output_type": "execute_result",
          "data": {
            "text/plain": [
              "8"
            ]
          },
          "metadata": {},
          "execution_count": 73
        }
      ]
    },
    {
      "cell_type": "code",
      "source": [
        "# The storage layer for the parent documents\n",
        "store = InMemoryByteStore()\n",
        "id_key = \"doc_id\"\n",
        "# The retriever (empty to start)\n",
        "retriever = MultiVectorRetriever(\n",
        "    vectorstore=vector_store,\n",
        "    byte_store=store,\n",
        "    id_key=id_key,\n",
        ")\n",
        "doc_ids = [str(uuid.uuid4()) for _ in docs]\n",
        "\n",
        "summary_docs = [\n",
        "    Document(page_content=s, metadata={id_key: doc_ids[i]})\n",
        "    for i, s in enumerate(summaries)\n",
        "]\n",
        "\n",
        "retriever.vectorstore.add_documents(summary_docs)\n",
        "retriever.docstore.mset(list(zip(doc_ids, docs)))"
      ],
      "metadata": {
        "id": "3vQ6HAl_phyN"
      },
      "execution_count": 56,
      "outputs": []
    },
    {
      "cell_type": "code",
      "source": [
        "doc_ids"
      ],
      "metadata": {
        "colab": {
          "base_uri": "https://localhost:8080/"
        },
        "id": "HHBQQEvYCGSB",
        "outputId": "e8a0e4bf-1e2b-459a-ed20-ff9ee5e131fe"
      },
      "execution_count": 74,
      "outputs": [
        {
          "output_type": "execute_result",
          "data": {
            "text/plain": [
              "['0b537407-338a-400c-9299-269dfeda113d',\n",
              " 'b512ab84-93b2-4ed0-8b72-9b1d9b252c60',\n",
              " '27e4d90a-f2aa-487c-bd6f-0f3ea264496b',\n",
              " 'be8df8be-440d-4dc2-a2cf-ef2fb6b85128',\n",
              " 'a751febb-7a85-4ca3-ab3d-d6aaaa293817',\n",
              " '09e20cd7-af95-4c56-b843-2eea046b4ad0',\n",
              " '674f3a5e-1bc5-47ad-913a-db9253d86f0d',\n",
              " '56b6c743-527f-4ce8-ac37-8e56edf3a539']"
            ]
          },
          "metadata": {},
          "execution_count": 74
        }
      ]
    },
    {
      "cell_type": "code",
      "source": [
        "summary_docs"
      ],
      "metadata": {
        "colab": {
          "base_uri": "https://localhost:8080/"
        },
        "id": "czfBQILvCZTX",
        "outputId": "60846819-4b1a-4355-bf33-9be5c736265c"
      },
      "execution_count": 75,
      "outputs": [
        {
          "output_type": "execute_result",
          "data": {
            "text/plain": [
              "[Document(metadata={'doc_id': '0b537407-338a-400c-9299-269dfeda113d', 'text': 'We Build Trades, founded in 2017, is a UK-based digital marketing and software agency specializing in providing comprehensive solutions for trade businesses in the UK, Ireland, the US, and Canada. They offer services like website design, copywriting, automated systems (including Trades Gang), data & tracking analytics, paid advertising, and SEO to help businesses manage sales, marketing, and operations effectively. Their focus is on creating custom, conversion-focused strategies to help trade businesses stand out and improve their overall performance.'}, page_content='We Build Trades, founded in 2017, is a UK-based digital marketing and software agency specializing in providing comprehensive solutions for trade businesses in the UK, Ireland, the US, and Canada. They offer services like website design, copywriting, automated systems (including Trades Gang), data & tracking analytics, paid advertising, and SEO to help businesses manage sales, marketing, and operations effectively. Their focus is on creating custom, conversion-focused strategies to help trade businesses stand out and improve their overall performance.'),\n",
              " Document(metadata={'doc_id': 'b512ab84-93b2-4ed0-8b72-9b1d9b252c60', 'text': 'We Build Trades, founded by former senior marketing consultant Daniel Brown, offers services aimed at helping trades businesses grow. These services include paid advertising on platforms like Google and Facebook, SEO services to improve organic search rankings, professional graphics and video creation, job management through CRM integration, and coaching & support resources. The company operates with core values of client obsession, full transparency, long-term thinking, and relentless ambition.'}, page_content='We Build Trades, founded by former senior marketing consultant Daniel Brown, offers services aimed at helping trades businesses grow. These services include paid advertising on platforms like Google and Facebook, SEO services to improve organic search rankings, professional graphics and video creation, job management through CRM integration, and coaching & support resources. The company operates with core values of client obsession, full transparency, long-term thinking, and relentless ambition.'),\n",
              " Document(metadata={'doc_id': '27e4d90a-f2aa-487c-bd6f-0f3ea264496b', 'text': 'This document describes We Build Trades, a marketing agency founded in 2017 by Daniel Brown, a former marketing consultant. Brown\\'s \"relentless ambition\" has driven the agency\\'s growth, serving over 60 clients and expanding internationally to the UK, Ireland, US, and Canada. We Build Trades differentiates itself through its exclusive focus on trade businesses, international reach, and proprietary tools like Trades Gang and advanced analytics. It targets trade business owners seeking centralized marketing and operations solutions, growth-focused entrepreneurs looking to expand and streamline, and those wanting to enhance their branding through professional design, SEO, and advertising.'}, page_content='This document describes We Build Trades, a marketing agency founded in 2017 by Daniel Brown, a former marketing consultant. Brown\\'s \"relentless ambition\" has driven the agency\\'s growth, serving over 60 clients and expanding internationally to the UK, Ireland, US, and Canada. We Build Trades differentiates itself through its exclusive focus on trade businesses, international reach, and proprietary tools like Trades Gang and advanced analytics. It targets trade business owners seeking centralized marketing and operations solutions, growth-focused entrepreneurs looking to expand and streamline, and those wanting to enhance their branding through professional design, SEO, and advertising.'),\n",
              " Document(metadata={'doc_id': 'be8df8be-440d-4dc2-a2cf-ef2fb6b85128', 'text': 'We Build Trades distinguishes itself from other digital marketing agencies by specializing in providing comprehensive, client-focused solutions tailored specifically for trade businesses. Their key differentiators include: a deep understanding of the trade sector leading to customized marketing strategies, a full range of services encompassing website design, SEO, paid advertising, copywriting, and automated lead management tools, and a commitment to client success through centralized management of sales, marketing, and operations. This allows trade business owners to focus on their core activities while We Build Trades enhances their branding and visibility.'}, page_content='We Build Trades distinguishes itself from other digital marketing agencies by specializing in providing comprehensive, client-focused solutions tailored specifically for trade businesses. Their key differentiators include: a deep understanding of the trade sector leading to customized marketing strategies, a full range of services encompassing website design, SEO, paid advertising, copywriting, and automated lead management tools, and a commitment to client success through centralized management of sales, marketing, and operations. This allows trade business owners to focus on their core activities while We Build Trades enhances their branding and visibility.'),\n",
              " Document(metadata={'doc_id': 'a751febb-7a85-4ca3-ab3d-d6aaaa293817', 'text': 'We Build Trades offers a centralized sales, marketing, and operations management system designed to help business owners focus on their core activities. They are committed to client success through transparent communication, ongoing support, and long-term partnerships. Utilizing a lean and agile methodology, they quickly adapt to market changes and client needs. With a proven track record of over 60 satisfied clients, they showcase numerous success stories and prioritize continuous improvement.'}, page_content='We Build Trades offers a centralized sales, marketing, and operations management system designed to help business owners focus on their core activities. They are committed to client success through transparent communication, ongoing support, and long-term partnerships. Utilizing a lean and agile methodology, they quickly adapt to market changes and client needs. With a proven track record of over 60 satisfied clients, they showcase numerous success stories and prioritize continuous improvement.'),\n",
              " Document(metadata={'doc_id': '09e20cd7-af95-4c56-b843-2eea046b4ad0', 'text': \"We Build Trades boasts a strong track record of client success in digital marketing, as evidenced by testimonials. Clients like Daniel Lambert achieved business transformation with high-performing websites. Ashley Hale sold 10 boilers in four days thanks to We Build Trades' professionalism. Alex Slater secured over 20 inquiries and five jobs in just 15 days, generating £13,800, attributing his success to the agency's user-friendly systems and support. The document emphasizes continuous self-improvement and maintaining high standards, likely within the context of the agency's service delivery.\"}, page_content=\"We Build Trades boasts a strong track record of client success in digital marketing, as evidenced by testimonials. Clients like Daniel Lambert achieved business transformation with high-performing websites. Ashley Hale sold 10 boilers in four days thanks to We Build Trades' professionalism. Alex Slater secured over 20 inquiries and five jobs in just 15 days, generating £13,800, attributing his success to the agency's user-friendly systems and support. The document emphasizes continuous self-improvement and maintaining high standards, likely within the context of the agency's service delivery.\"),\n",
              " Document(metadata={'doc_id': '674f3a5e-1bc5-47ad-913a-db9253d86f0d', 'text': 'This document highlights the positive experiences of several clients of \"We Build Trades.\" These clients attribute their business success and growth to the agency\\'s user-friendly systems, excellent support, newly designed website with instant quote functionality, integration of AI and the Trades Gang platform, knowledgeable team, and community aspect. Specific examples include generating £13,800 in 15 days, a substantial increase in leads, streamlined business operations, and increased confidence in business growth. Clients also emphasize the agency\\'s reliability, dedication, and ability to deliver on promises, helping them develop a clear business vision.'}, page_content='This document highlights the positive experiences of several clients of \"We Build Trades.\" These clients attribute their business success and growth to the agency\\'s user-friendly systems, excellent support, newly designed website with instant quote functionality, integration of AI and the Trades Gang platform, knowledgeable team, and community aspect. Specific examples include generating £13,800 in 15 days, a substantial increase in leads, streamlined business operations, and increased confidence in business growth. Clients also emphasize the agency\\'s reliability, dedication, and ability to deliver on promises, helping them develop a clear business vision.'),\n",
              " Document(metadata={'doc_id': '56b6c743-527f-4ce8-ac37-8e56edf3a539', 'text': 'The document highlights the positive impact of \"We Build Trades\" on businesses. Specifically, Nathaniel Smith reported significant business growth and an overwhelmingly positive experience as a result of collaborating with We Build Trades.'}, page_content='The document highlights the positive impact of \"We Build Trades\" on businesses. Specifically, Nathaniel Smith reported significant business growth and an overwhelmingly positive experience as a result of collaborating with We Build Trades.')]"
            ]
          },
          "metadata": {},
          "execution_count": 75
        }
      ]
    },
    {
      "cell_type": "code",
      "source": [
        "# # We can also add the original chunks to the vectorstore if we so want\n",
        "# for i, doc in enumerate(docs):\n",
        "#     doc.metadata[id_key] = doc_ids[i]\n",
        "# retriever.vectorstore.add_documents(docs)"
      ],
      "metadata": {
        "id": "6otAYrz3pzgG"
      },
      "execution_count": null,
      "outputs": []
    },
    {
      "cell_type": "code",
      "source": [
        "sub_docs = retriever.vectorstore.similarity_search(\"Founder of We Build Trade\")\n",
        "\n",
        "sub_docs[0]"
      ],
      "metadata": {
        "colab": {
          "base_uri": "https://localhost:8080/"
        },
        "id": "d9xTcFgZpj1f",
        "outputId": "1917ae04-8adf-41f2-cf11-c5061755c0c7"
      },
      "execution_count": 60,
      "outputs": [
        {
          "output_type": "execute_result",
          "data": {
            "text/plain": [
              "Document(id='516fb7e3-8392-48c1-a95c-d2bc01e5064f', metadata={'doc_id': '27e4d90a-f2aa-487c-bd6f-0f3ea264496b'}, page_content='This document describes We Build Trades, a marketing agency founded in 2017 by Daniel Brown, a former marketing consultant. Brown\\'s \"relentless ambition\" has driven the agency\\'s growth, serving over 60 clients and expanding internationally to the UK, Ireland, US, and Canada. We Build Trades differentiates itself through its exclusive focus on trade businesses, international reach, and proprietary tools like Trades Gang and advanced analytics. It targets trade business owners seeking centralized marketing and operations solutions, growth-focused entrepreneurs looking to expand and streamline, and those wanting to enhance their branding through professional design, SEO, and advertising.')"
            ]
          },
          "metadata": {},
          "execution_count": 60
        }
      ]
    },
    {
      "cell_type": "code",
      "source": [],
      "metadata": {
        "id": "9_a_akYdrYbW"
      },
      "execution_count": 58,
      "outputs": []
    },
    {
      "cell_type": "code",
      "source": [],
      "metadata": {
        "id": "3M44-g7MuzvX"
      },
      "execution_count": null,
      "outputs": []
    },
    {
      "cell_type": "code",
      "source": [],
      "metadata": {
        "id": "6t94-LSvuzs8"
      },
      "execution_count": null,
      "outputs": []
    },
    {
      "cell_type": "code",
      "source": [
        "from langchain_core.runnables import RunnablePassthrough\n",
        "\n",
        "# Prompt template\n",
        "template = \"\"\"Answer the question based only on the following context, which can include text and tables:\n",
        "{context}\n",
        "Question: {question}\n",
        "\"\"\"\n",
        "prompt = ChatPromptTemplate.from_template(template)\n",
        "\n",
        "\n",
        "# RAG pipeline\n",
        "chain = (\n",
        "    {\"context\": retriever, \"question\": RunnablePassthrough()}\n",
        "    | prompt\n",
        "    | model\n",
        "    | StrOutputParser()\n",
        ")"
      ],
      "metadata": {
        "id": "sigetmRxuzqM"
      },
      "execution_count": 62,
      "outputs": []
    },
    {
      "cell_type": "code",
      "source": [
        "retriever.invoke(\"Founder of We Build Trade\")"
      ],
      "metadata": {
        "colab": {
          "base_uri": "https://localhost:8080/"
        },
        "id": "RpPX6t6nu1s9",
        "outputId": "21a9e08a-fd9c-49f3-9fe3-9d12b9be0e27"
      },
      "execution_count": 63,
      "outputs": [
        {
          "output_type": "execute_result",
          "data": {
            "text/plain": [
              "[Document(metadata={'source': '/content/Bot Name Jasmine.txt'}, page_content='4. Relentless Ambition\\no Continuously striving for excellence and improvement.\\nFounder: Daniel Brown\\n• Role: Founder and CEO of We Build Trades.\\n• Career Start: Former senior marketing consultant.\\n• Journey: Founded We Build Trades in 2017 with limited resources but strong mentorship and a \\npassion for learning.\\n• Achievements: Under his leadership, the agency has served over 60 clients and expanded \\ninternationally.\\nKey Differentiators\\n1. Specialization: Exclusive focus on trade businesses.\\n2. International Reach: Services available across the UK, Ireland, the US, and Canada.\\n3. Proprietary Tools: Unique solutions like Trades Gang and advanced analytics.\\nUse Cases\\n• For Trade Business Owners: Looking for a centralized solution to manage marketing and \\noperations.\\n• For Growth-Focused Entrepreneurs: Seeking tools and strategies to expand and streamline their \\nbusinesses.\\n• For Branding Enhancement: Leveraging professional design, SEO, and advertising to boost \\nvisibility.'),\n",
              " Document(metadata={'source': '/content/Bot Name Jasmine.txt'}, page_content='We Build Trades is a UK-based digital marketing and software agency founded in 2017 by Daniel Brown. \\nIt specializes in comprehensive marketing solutions for trade businesses, helping clients manage sales, \\nmarketing, and operations effectively through innovative tools and strategies.\\nServices\\nWe Build Trades offers tailored solutions for ambitious trade business owners in the UK, Ireland, the US, \\nand Canada. Their key services include:\\n1. Website Design\\no Creation of custom, conversion-focused websites to help businesses stand out.\\n2. Copywriting\\no Professionally crafted copy showcasing industry expertise.\\n3. Automated Systems\\no Tools like Trades Gang to streamline lead follow-ups and operations.\\n4. Data & Tracking\\no Proprietary analytics systems to measure and report key business metrics.\\n5. Paid Advertising\\no Customized marketing campaigns on platforms such as Google and Facebook.\\n6. SEO Services\\no In-house strategies to improve organic search visibility and rankings.'),\n",
              " Document(metadata={'source': '/content/Bot Name Jasmine.txt'}, page_content='5. Paid Advertising\\no Customized marketing campaigns on platforms such as Google and Facebook.\\n6. SEO Services\\no In-house strategies to improve organic search visibility and rankings.\\n7. Graphics & Videos\\no Professional design and video creation to elevate brand presentation.\\n8. Job Management\\no Seamless integration with leading CRM systems for efficient operations.\\n9. Coaching & Support\\no Access to community resources, events, and ongoing support for continued growth.\\nCore Values\\nWe Build Trades operates with the following principles:\\n1. Client Obsession\\no Always prioritizing what is best for clients.\\n2. Full Transparency\\no Maintaining honesty and openness in all dealings.\\n3. Long-Term Thinking\\no Emphasizing sustainable growth over short-term gains.\\n4. Relentless Ambition\\no Continuously striving for excellence and improvement.\\nFounder: Daniel Brown\\n• Role: Founder and CEO of We Build Trades.\\n• Career Start: Former senior marketing consultant.'),\n",
              " Document(metadata={'source': '/content/Bot Name Jasmine.txt'}, page_content='vision for his business.\\n7. Nathaniel Smith\\no Reported significant business growth since collaborating with We Build Trades.\\no Described his overall experience as overwhelmingly positive.')]"
            ]
          },
          "metadata": {},
          "execution_count": 63
        }
      ]
    },
    {
      "cell_type": "code",
      "source": [
        "result = chain.invoke(\n",
        "    \"Founder of We Build Trade\"\n",
        ")"
      ],
      "metadata": {
        "id": "SuAnCYdzu7HE"
      },
      "execution_count": 64,
      "outputs": []
    },
    {
      "cell_type": "code",
      "source": [
        "import markdown\n",
        "from IPython.display import display, Markdown\n",
        "\n",
        "markdown_text = markdown.markdown(result)\n",
        "display(Markdown(markdown_text))"
      ],
      "metadata": {
        "colab": {
          "base_uri": "https://localhost:8080/",
          "height": 46
        },
        "id": "5xqw3jktu9FN",
        "outputId": "82513c3f-b376-49b4-8c05-bec6c94c6ced"
      },
      "execution_count": 65,
      "outputs": [
        {
          "output_type": "display_data",
          "data": {
            "text/plain": [
              "<IPython.core.display.Markdown object>"
            ],
            "text/markdown": "<p>Daniel Brown</p>"
          },
          "metadata": {}
        }
      ]
    },
    {
      "cell_type": "code",
      "source": [],
      "metadata": {
        "id": "vUJ3E5XAvGu8"
      },
      "execution_count": null,
      "outputs": []
    },
    {
      "cell_type": "code",
      "source": [
        "result = chain.invoke(\n",
        "    \"Give me success story of  Daniel Lambert\"\n",
        ")\n",
        "\n",
        "markdown_text = markdown.markdown(result)\n",
        "display(Markdown(markdown_text))"
      ],
      "metadata": {
        "colab": {
          "base_uri": "https://localhost:8080/",
          "height": 64
        },
        "id": "beyhR0ngwEqm",
        "outputId": "880c1e8d-a462-48f1-a810-1ffa67d6f343"
      },
      "execution_count": 66,
      "outputs": [
        {
          "output_type": "display_data",
          "data": {
            "text/plain": [
              "<IPython.core.display.Markdown object>"
            ],
            "text/markdown": "<p>Daniel Lambert achieved a business transformation, turning it into a \"lead-generating marketing machine\" and praised the agency for exceeding his expectations by creating a high-performing lead-generating website.</p>"
          },
          "metadata": {}
        }
      ]
    },
    {
      "cell_type": "code",
      "source": [
        "a = retriever.invoke(\"Give me success story of  Daniel Lambert\")"
      ],
      "metadata": {
        "id": "7Z-rZo1jwLcs"
      },
      "execution_count": 68,
      "outputs": []
    },
    {
      "cell_type": "code",
      "source": [
        "a"
      ],
      "metadata": {
        "colab": {
          "base_uri": "https://localhost:8080/"
        },
        "id": "DFw87sv4w_J1",
        "outputId": "d984eb17-4151-46fd-a454-e648dcdd07aa"
      },
      "execution_count": 70,
      "outputs": [
        {
          "output_type": "execute_result",
          "data": {
            "text/plain": [
              "[Document(metadata={'source': '/content/Bot Name Jasmine.txt'}, page_content='o Focus on continuous self-improvement and maintaining high standards.\\nClient Success Stories\\nWe Build Trades has a proven track record of helping clients achieve remarkable growth and business \\ntransformation. Below are some notable success stories from clients who have benefited from their \\ntailored digital marketing solutions and support.\\nClient Success Stories\\n1. Daniel Lambert\\no Achieved a business transformation, turning it into a \"lead-generating marketing \\nmachine.\"\\no Praised the agency for exceeding his expectations by creating a high-performing lead\\x02generating website.\\n2. Ashley Hale\\no Sold 10 boilers in just four days after partnering with We Build Trades.\\no Highlighted the team\\'s professionalism and support as key factors in achieving this rapid \\ngrowth.\\n3. Alex Slater\\no Secured over 20 inquiries and five jobs in just 15 days, generating £13,800.\\no Credited the agency\\'s user-friendly systems and excellent support for these quick results.\\n4. Tristan Spence'),\n",
              " Document(metadata={'source': '/content/Bot Name Jasmine.txt'}, page_content='vision for his business.\\n7. Nathaniel Smith\\no Reported significant business growth since collaborating with We Build Trades.\\no Described his overall experience as overwhelmingly positive.'),\n",
              " Document(metadata={'source': '/content/Bot Name Jasmine.txt'}, page_content='5. Paid Advertising\\no Customized marketing campaigns on platforms such as Google and Facebook.\\n6. SEO Services\\no In-house strategies to improve organic search visibility and rankings.\\n7. Graphics & Videos\\no Professional design and video creation to elevate brand presentation.\\n8. Job Management\\no Seamless integration with leading CRM systems for efficient operations.\\n9. Coaching & Support\\no Access to community resources, events, and ongoing support for continued growth.\\nCore Values\\nWe Build Trades operates with the following principles:\\n1. Client Obsession\\no Always prioritizing what is best for clients.\\n2. Full Transparency\\no Maintaining honesty and openness in all dealings.\\n3. Long-Term Thinking\\no Emphasizing sustainable growth over short-term gains.\\n4. Relentless Ambition\\no Continuously striving for excellence and improvement.\\nFounder: Daniel Brown\\n• Role: Founder and CEO of We Build Trades.\\n• Career Start: Former senior marketing consultant.'),\n",
              " Document(metadata={'source': '/content/Bot Name Jasmine.txt'}, page_content='4. Relentless Ambition\\no Continuously striving for excellence and improvement.\\nFounder: Daniel Brown\\n• Role: Founder and CEO of We Build Trades.\\n• Career Start: Former senior marketing consultant.\\n• Journey: Founded We Build Trades in 2017 with limited resources but strong mentorship and a \\npassion for learning.\\n• Achievements: Under his leadership, the agency has served over 60 clients and expanded \\ninternationally.\\nKey Differentiators\\n1. Specialization: Exclusive focus on trade businesses.\\n2. International Reach: Services available across the UK, Ireland, the US, and Canada.\\n3. Proprietary Tools: Unique solutions like Trades Gang and advanced analytics.\\nUse Cases\\n• For Trade Business Owners: Looking for a centralized solution to manage marketing and \\noperations.\\n• For Growth-Focused Entrepreneurs: Seeking tools and strategies to expand and streamline their \\nbusinesses.\\n• For Branding Enhancement: Leveraging professional design, SEO, and advertising to boost \\nvisibility.')]"
            ]
          },
          "metadata": {},
          "execution_count": 70
        }
      ]
    },
    {
      "cell_type": "code",
      "source": [
        "len(a)"
      ],
      "metadata": {
        "colab": {
          "base_uri": "https://localhost:8080/"
        },
        "id": "lR1nvhrewnHM",
        "outputId": "2467a500-7b1d-4a95-f8c8-115bd4b3c982"
      },
      "execution_count": 77,
      "outputs": [
        {
          "output_type": "execute_result",
          "data": {
            "text/plain": [
              "4"
            ]
          },
          "metadata": {},
          "execution_count": 77
        }
      ]
    },
    {
      "cell_type": "code",
      "source": [],
      "metadata": {
        "id": "bhIlZ-e5wxSc"
      },
      "execution_count": null,
      "outputs": []
    }
  ]
}